{
 "cells": [
  {
   "cell_type": "code",
   "execution_count": 1,
   "id": "600a8c38",
   "metadata": {
    "_cell_guid": "b1076dfc-b9ad-4769-8c92-a6c4dae69d19",
    "_uuid": "8f2839f25d086af736a60e9eeb907d3b93b6e0e5",
    "execution": {
     "iopub.execute_input": "2023-06-21T18:39:23.666526Z",
     "iopub.status.busy": "2023-06-21T18:39:23.666002Z",
     "iopub.status.idle": "2023-06-21T18:39:23.685449Z",
     "shell.execute_reply": "2023-06-21T18:39:23.684607Z"
    },
    "papermill": {
     "duration": 0.036496,
     "end_time": "2023-06-21T18:39:23.687618",
     "exception": false,
     "start_time": "2023-06-21T18:39:23.651122",
     "status": "completed"
    },
    "tags": []
   },
   "outputs": [
    {
     "name": "stdout",
     "output_type": "stream",
     "text": [
      "/kaggle/input/alphabet/train.csv\n",
      "/kaggle/input/alphabet/test.csv\n"
     ]
    }
   ],
   "source": [
    "# This Python 3 environment comes with many helpful analytics libraries installed\n",
    "# It is defined by the kaggle/python Docker image: https://github.com/kaggle/docker-python\n",
    "# For example, here's several helpful packages to load\n",
    "\n",
    "import numpy as np # linear algebra\n",
    "import pandas as pd # data processing, CSV file I/O (e.g. pd.read_csv)\n",
    "\n",
    "# Input data files are available in the read-only \"../input/\" directory\n",
    "# For example, running this (by clicking run or pressing Shift+Enter) will list all files under the input directory\n",
    "\n",
    "import os\n",
    "for dirname, _, filenames in os.walk('/kaggle/input'):\n",
    "    for filename in filenames:\n",
    "        print(os.path.join(dirname, filename))\n",
    "\n",
    "# You can write up to 20GB to the current directory (/kaggle/working/) that gets preserved as output when you create a version using \"Save & Run All\" \n",
    "# You can also write temporary files to /kaggle/temp/, but they won't be saved outside of the current session"
   ]
  },
  {
   "cell_type": "code",
   "execution_count": 2,
   "id": "d9778eaf",
   "metadata": {
    "execution": {
     "iopub.execute_input": "2023-06-21T18:39:23.715555Z",
     "iopub.status.busy": "2023-06-21T18:39:23.714870Z",
     "iopub.status.idle": "2023-06-21T18:39:34.779418Z",
     "shell.execute_reply": "2023-06-21T18:39:34.778285Z"
    },
    "papermill": {
     "duration": 11.081181,
     "end_time": "2023-06-21T18:39:34.782020",
     "exception": false,
     "start_time": "2023-06-21T18:39:23.700839",
     "status": "completed"
    },
    "tags": []
   },
   "outputs": [
    {
     "name": "stderr",
     "output_type": "stream",
     "text": [
      "/opt/conda/lib/python3.10/site-packages/tensorflow_io/python/ops/__init__.py:98: UserWarning: unable to load libtensorflow_io_plugins.so: unable to open file: libtensorflow_io_plugins.so, from paths: ['/opt/conda/lib/python3.10/site-packages/tensorflow_io/python/ops/libtensorflow_io_plugins.so']\n",
      "caused by: ['/opt/conda/lib/python3.10/site-packages/tensorflow_io/python/ops/libtensorflow_io_plugins.so: undefined symbol: _ZN3tsl6StatusC1EN10tensorflow5error4CodeESt17basic_string_viewIcSt11char_traitsIcEENS_14SourceLocationE']\n",
      "  warnings.warn(f\"unable to load libtensorflow_io_plugins.so: {e}\")\n",
      "/opt/conda/lib/python3.10/site-packages/tensorflow_io/python/ops/__init__.py:104: UserWarning: file system plugins are not loaded: unable to open file: libtensorflow_io.so, from paths: ['/opt/conda/lib/python3.10/site-packages/tensorflow_io/python/ops/libtensorflow_io.so']\n",
      "caused by: ['/opt/conda/lib/python3.10/site-packages/tensorflow_io/python/ops/libtensorflow_io.so: undefined symbol: _ZTVN10tensorflow13GcsFileSystemE']\n",
      "  warnings.warn(f\"file system plugins are not loaded: {e}\")\n"
     ]
    }
   ],
   "source": [
    "import numpy as np\n",
    "import pandas as pd\n",
    "import seaborn as sns\n",
    "import matplotlib.pyplot as plt\n",
    "\n",
    "# for handling imbalancing\n",
    "from imblearn.under_sampling import NearMiss\n",
    "from keras.utils import np_utils\n",
    "\n",
    "from sklearn.model_selection import train_test_split\n",
    "from sklearn.metrics import classification_report , confusion_matrix\n",
    "\n",
    "import tensorflow as tf\n",
    "import cv2\n",
    "from sklearn.model_selection import GridSearchCV\n",
    "from sklearn.model_selection import KFold\n",
    "\n",
    "\n",
    "import keras\n",
    "from keras.models import Sequential\n",
    "from keras.layers import Dense\n",
    "from keras.wrappers.scikit_learn import KerasClassifier\n",
    "from tensorflow.keras.optimizers import Adam\n",
    "from keras.layers import Dense, Conv2D, MaxPool2D, Flatten, Dropout, BatchNormalization\n",
    "from keras.layers import Dropout\n",
    "\n",
    "# for learning rate decay\n",
    "from keras.callbacks import ReduceLROnPlateau\n",
    "from tensorflow.keras.models import Sequential\n",
    "from tensorflow.keras.layers import Dense, Conv2D,MaxPooling2D, Flatten, Dropout, BatchNormalization\n",
    "from tensorflow.keras.optimizers import SGD\n",
    "\n",
    "import warnings\n",
    "warnings.filterwarnings('ignore')"
   ]
  },
  {
   "cell_type": "markdown",
   "id": "25ff7ff1",
   "metadata": {
    "papermill": {
     "duration": 0.012552,
     "end_time": "2023-06-21T18:39:34.807541",
     "exception": false,
     "start_time": "2023-06-21T18:39:34.794989",
     "status": "completed"
    },
    "tags": []
   },
   "source": [
    "# **Alphabet Recognizer**\n",
    "# Problem Statement\n",
    "The input training dataset contains 28x28 pixel 297960 sample handwritten alphabets. It is represented by 784 features(columns) in the input dataset. The input dataset as well contains the target alphabet value (as numbers from 0..25) as a separate column ( in addition to 784 features columns).\n",
    "\n",
    "The ask is to train a model and use it to predict handwritten alphabets for a test data set having 74490 sample images.\n",
    "An output csv file is generated for test data set predictions using the best configured model.\n",
    "\n"
   ]
  },
  {
   "cell_type": "markdown",
   "id": "e46f1a9f",
   "metadata": {
    "papermill": {
     "duration": 0.012654,
     "end_time": "2023-06-21T18:39:34.832824",
     "exception": false,
     "start_time": "2023-06-21T18:39:34.820170",
     "status": "completed"
    },
    "tags": []
   },
   "source": [
    "# Solution Steps\n",
    "This solution requires multi-class classification (26 alphabets). We have used a simple trial CNN to start with and we created a final CNN model after parameter tuning.\n",
    "1. Read Data set\n",
    "1. Examine Data set Properties\n",
    "1. Inspecting the Dataframe\n",
    "1. Data Preparation\n",
    "    1. Copy Target Column(Alphabet) values and Remove from Training Data set\n",
    "\t1. Validate Training Sample size per Alphabet \n",
    "    1. Under sampling of Training dataset to balance class distribution\n",
    "    1. Normalize Training dataset\n",
    "    1. Reshape Training dataset for CNN Model\n",
    "    1. Encode Target Variable\n",
    "1. Model Creation\n",
    "    1. Test-Train Split ( Training data set split into training, test(validation) dataset)\n",
    "    1. Trial CNN \n",
    "        1. Model Definition\n",
    "        1. Model Training / Fit\n",
    "        1. Model Evaluation againt Validation\n",
    "    1. Grid Search for Model Parameters\n",
    "        1. Fully connected - Dense Layers and Neurons\n",
    "        1. Batch size for training(fit)\n",
    "        1. Drop out ratio for training(fit)\n",
    "    1. Final Model\n",
    "    1. Making predictions on the test set and Evaluation\n",
    "    1. Saving the output prediction file\n"
   ]
  },
  {
   "cell_type": "markdown",
   "id": "45fdf929",
   "metadata": {
    "papermill": {
     "duration": 0.012404,
     "end_time": "2023-06-21T18:39:34.857967",
     "exception": false,
     "start_time": "2023-06-21T18:39:34.845563",
     "status": "completed"
    },
    "tags": []
   },
   "source": []
  },
  {
   "cell_type": "markdown",
   "id": "67bd851d",
   "metadata": {
    "papermill": {
     "duration": 0.012479,
     "end_time": "2023-06-21T18:39:34.883180",
     "exception": false,
     "start_time": "2023-06-21T18:39:34.870701",
     "status": "completed"
    },
    "tags": []
   },
   "source": [
    "# Read Training Data set"
   ]
  },
  {
   "cell_type": "code",
   "execution_count": 3,
   "id": "2cefefae",
   "metadata": {
    "execution": {
     "iopub.execute_input": "2023-06-21T18:39:34.910399Z",
     "iopub.status.busy": "2023-06-21T18:39:34.909670Z",
     "iopub.status.idle": "2023-06-21T18:39:58.816591Z",
     "shell.execute_reply": "2023-06-21T18:39:58.815668Z"
    },
    "papermill": {
     "duration": 23.923329,
     "end_time": "2023-06-21T18:39:58.819153",
     "exception": false,
     "start_time": "2023-06-21T18:39:34.895824",
     "status": "completed"
    },
    "tags": []
   },
   "outputs": [],
   "source": [
    "df_train = pd.read_csv('/kaggle/input/alphabet/train.csv')"
   ]
  },
  {
   "cell_type": "markdown",
   "id": "4f381299",
   "metadata": {
    "papermill": {
     "duration": 0.013184,
     "end_time": "2023-06-21T18:39:58.846356",
     "exception": false,
     "start_time": "2023-06-21T18:39:58.833172",
     "status": "completed"
    },
    "tags": []
   },
   "source": [
    "# Examine Training Dataset Properties"
   ]
  },
  {
   "cell_type": "code",
   "execution_count": 4,
   "id": "d21974bb",
   "metadata": {
    "execution": {
     "iopub.execute_input": "2023-06-21T18:39:58.874529Z",
     "iopub.status.busy": "2023-06-21T18:39:58.873903Z",
     "iopub.status.idle": "2023-06-21T18:39:58.881360Z",
     "shell.execute_reply": "2023-06-21T18:39:58.880422Z"
    },
    "papermill": {
     "duration": 0.024019,
     "end_time": "2023-06-21T18:39:58.883285",
     "exception": false,
     "start_time": "2023-06-21T18:39:58.859266",
     "status": "completed"
    },
    "tags": []
   },
   "outputs": [
    {
     "data": {
      "text/plain": [
       "(297960, 785)"
      ]
     },
     "execution_count": 4,
     "metadata": {},
     "output_type": "execute_result"
    }
   ],
   "source": [
    "#find the rows x columns\n",
    "df_train.shape"
   ]
  },
  {
   "cell_type": "markdown",
   "id": "662b1638",
   "metadata": {
    "papermill": {
     "duration": 0.01786,
     "end_time": "2023-06-21T18:39:58.914134",
     "exception": false,
     "start_time": "2023-06-21T18:39:58.896274",
     "status": "completed"
    },
    "tags": []
   },
   "source": [
    "# Inspecting the Dataframe\n"
   ]
  },
  {
   "cell_type": "code",
   "execution_count": 5,
   "id": "5f323a76",
   "metadata": {
    "execution": {
     "iopub.execute_input": "2023-06-21T18:39:58.944966Z",
     "iopub.status.busy": "2023-06-21T18:39:58.944598Z",
     "iopub.status.idle": "2023-06-21T18:39:58.983619Z",
     "shell.execute_reply": "2023-06-21T18:39:58.982873Z"
    },
    "papermill": {
     "duration": 0.055969,
     "end_time": "2023-06-21T18:39:58.985917",
     "exception": false,
     "start_time": "2023-06-21T18:39:58.929948",
     "status": "completed"
    },
    "tags": []
   },
   "outputs": [
    {
     "data": {
      "text/html": [
       "<div>\n",
       "<style scoped>\n",
       "    .dataframe tbody tr th:only-of-type {\n",
       "        vertical-align: middle;\n",
       "    }\n",
       "\n",
       "    .dataframe tbody tr th {\n",
       "        vertical-align: top;\n",
       "    }\n",
       "\n",
       "    .dataframe thead th {\n",
       "        text-align: right;\n",
       "    }\n",
       "</style>\n",
       "<table border=\"1\" class=\"dataframe\">\n",
       "  <thead>\n",
       "    <tr style=\"text-align: right;\">\n",
       "      <th></th>\n",
       "      <th>0</th>\n",
       "      <th>0.1</th>\n",
       "      <th>0.2</th>\n",
       "      <th>0.3</th>\n",
       "      <th>0.4</th>\n",
       "      <th>0.5</th>\n",
       "      <th>0.6</th>\n",
       "      <th>0.7</th>\n",
       "      <th>0.8</th>\n",
       "      <th>0.9</th>\n",
       "      <th>...</th>\n",
       "      <th>0.639</th>\n",
       "      <th>0.640</th>\n",
       "      <th>0.641</th>\n",
       "      <th>0.642</th>\n",
       "      <th>0.643</th>\n",
       "      <th>0.644</th>\n",
       "      <th>0.645</th>\n",
       "      <th>0.646</th>\n",
       "      <th>0.647</th>\n",
       "      <th>0.648</th>\n",
       "    </tr>\n",
       "  </thead>\n",
       "  <tbody>\n",
       "    <tr>\n",
       "      <th>0</th>\n",
       "      <td>1</td>\n",
       "      <td>0</td>\n",
       "      <td>0</td>\n",
       "      <td>0</td>\n",
       "      <td>0</td>\n",
       "      <td>0</td>\n",
       "      <td>0</td>\n",
       "      <td>0</td>\n",
       "      <td>0</td>\n",
       "      <td>0</td>\n",
       "      <td>...</td>\n",
       "      <td>0</td>\n",
       "      <td>0</td>\n",
       "      <td>0</td>\n",
       "      <td>0</td>\n",
       "      <td>0</td>\n",
       "      <td>0</td>\n",
       "      <td>0</td>\n",
       "      <td>0</td>\n",
       "      <td>0</td>\n",
       "      <td>0</td>\n",
       "    </tr>\n",
       "    <tr>\n",
       "      <th>1</th>\n",
       "      <td>18</td>\n",
       "      <td>0</td>\n",
       "      <td>0</td>\n",
       "      <td>0</td>\n",
       "      <td>0</td>\n",
       "      <td>0</td>\n",
       "      <td>0</td>\n",
       "      <td>0</td>\n",
       "      <td>0</td>\n",
       "      <td>0</td>\n",
       "      <td>...</td>\n",
       "      <td>0</td>\n",
       "      <td>0</td>\n",
       "      <td>0</td>\n",
       "      <td>0</td>\n",
       "      <td>0</td>\n",
       "      <td>0</td>\n",
       "      <td>0</td>\n",
       "      <td>0</td>\n",
       "      <td>0</td>\n",
       "      <td>0</td>\n",
       "    </tr>\n",
       "    <tr>\n",
       "      <th>2</th>\n",
       "      <td>1</td>\n",
       "      <td>0</td>\n",
       "      <td>0</td>\n",
       "      <td>0</td>\n",
       "      <td>0</td>\n",
       "      <td>0</td>\n",
       "      <td>0</td>\n",
       "      <td>0</td>\n",
       "      <td>0</td>\n",
       "      <td>0</td>\n",
       "      <td>...</td>\n",
       "      <td>0</td>\n",
       "      <td>0</td>\n",
       "      <td>0</td>\n",
       "      <td>0</td>\n",
       "      <td>0</td>\n",
       "      <td>0</td>\n",
       "      <td>0</td>\n",
       "      <td>0</td>\n",
       "      <td>0</td>\n",
       "      <td>0</td>\n",
       "    </tr>\n",
       "    <tr>\n",
       "      <th>3</th>\n",
       "      <td>18</td>\n",
       "      <td>0</td>\n",
       "      <td>0</td>\n",
       "      <td>0</td>\n",
       "      <td>0</td>\n",
       "      <td>0</td>\n",
       "      <td>0</td>\n",
       "      <td>0</td>\n",
       "      <td>0</td>\n",
       "      <td>0</td>\n",
       "      <td>...</td>\n",
       "      <td>0</td>\n",
       "      <td>0</td>\n",
       "      <td>0</td>\n",
       "      <td>0</td>\n",
       "      <td>0</td>\n",
       "      <td>0</td>\n",
       "      <td>0</td>\n",
       "      <td>0</td>\n",
       "      <td>0</td>\n",
       "      <td>0</td>\n",
       "    </tr>\n",
       "    <tr>\n",
       "      <th>4</th>\n",
       "      <td>18</td>\n",
       "      <td>0</td>\n",
       "      <td>0</td>\n",
       "      <td>0</td>\n",
       "      <td>0</td>\n",
       "      <td>0</td>\n",
       "      <td>0</td>\n",
       "      <td>0</td>\n",
       "      <td>0</td>\n",
       "      <td>0</td>\n",
       "      <td>...</td>\n",
       "      <td>0</td>\n",
       "      <td>0</td>\n",
       "      <td>0</td>\n",
       "      <td>0</td>\n",
       "      <td>0</td>\n",
       "      <td>0</td>\n",
       "      <td>0</td>\n",
       "      <td>0</td>\n",
       "      <td>0</td>\n",
       "      <td>0</td>\n",
       "    </tr>\n",
       "    <tr>\n",
       "      <th>5</th>\n",
       "      <td>25</td>\n",
       "      <td>0</td>\n",
       "      <td>0</td>\n",
       "      <td>0</td>\n",
       "      <td>0</td>\n",
       "      <td>0</td>\n",
       "      <td>0</td>\n",
       "      <td>0</td>\n",
       "      <td>0</td>\n",
       "      <td>0</td>\n",
       "      <td>...</td>\n",
       "      <td>0</td>\n",
       "      <td>0</td>\n",
       "      <td>0</td>\n",
       "      <td>0</td>\n",
       "      <td>0</td>\n",
       "      <td>0</td>\n",
       "      <td>0</td>\n",
       "      <td>0</td>\n",
       "      <td>0</td>\n",
       "      <td>0</td>\n",
       "    </tr>\n",
       "    <tr>\n",
       "      <th>6</th>\n",
       "      <td>3</td>\n",
       "      <td>0</td>\n",
       "      <td>0</td>\n",
       "      <td>0</td>\n",
       "      <td>0</td>\n",
       "      <td>0</td>\n",
       "      <td>0</td>\n",
       "      <td>0</td>\n",
       "      <td>0</td>\n",
       "      <td>0</td>\n",
       "      <td>...</td>\n",
       "      <td>0</td>\n",
       "      <td>0</td>\n",
       "      <td>0</td>\n",
       "      <td>0</td>\n",
       "      <td>0</td>\n",
       "      <td>0</td>\n",
       "      <td>0</td>\n",
       "      <td>0</td>\n",
       "      <td>0</td>\n",
       "      <td>0</td>\n",
       "    </tr>\n",
       "    <tr>\n",
       "      <th>7</th>\n",
       "      <td>18</td>\n",
       "      <td>0</td>\n",
       "      <td>0</td>\n",
       "      <td>0</td>\n",
       "      <td>0</td>\n",
       "      <td>0</td>\n",
       "      <td>0</td>\n",
       "      <td>0</td>\n",
       "      <td>0</td>\n",
       "      <td>0</td>\n",
       "      <td>...</td>\n",
       "      <td>0</td>\n",
       "      <td>0</td>\n",
       "      <td>0</td>\n",
       "      <td>0</td>\n",
       "      <td>0</td>\n",
       "      <td>0</td>\n",
       "      <td>0</td>\n",
       "      <td>0</td>\n",
       "      <td>0</td>\n",
       "      <td>0</td>\n",
       "    </tr>\n",
       "    <tr>\n",
       "      <th>8</th>\n",
       "      <td>18</td>\n",
       "      <td>0</td>\n",
       "      <td>0</td>\n",
       "      <td>0</td>\n",
       "      <td>0</td>\n",
       "      <td>0</td>\n",
       "      <td>0</td>\n",
       "      <td>0</td>\n",
       "      <td>0</td>\n",
       "      <td>0</td>\n",
       "      <td>...</td>\n",
       "      <td>0</td>\n",
       "      <td>0</td>\n",
       "      <td>0</td>\n",
       "      <td>0</td>\n",
       "      <td>0</td>\n",
       "      <td>0</td>\n",
       "      <td>0</td>\n",
       "      <td>0</td>\n",
       "      <td>0</td>\n",
       "      <td>0</td>\n",
       "    </tr>\n",
       "    <tr>\n",
       "      <th>9</th>\n",
       "      <td>13</td>\n",
       "      <td>0</td>\n",
       "      <td>0</td>\n",
       "      <td>0</td>\n",
       "      <td>0</td>\n",
       "      <td>0</td>\n",
       "      <td>0</td>\n",
       "      <td>0</td>\n",
       "      <td>0</td>\n",
       "      <td>0</td>\n",
       "      <td>...</td>\n",
       "      <td>0</td>\n",
       "      <td>0</td>\n",
       "      <td>0</td>\n",
       "      <td>0</td>\n",
       "      <td>0</td>\n",
       "      <td>0</td>\n",
       "      <td>0</td>\n",
       "      <td>0</td>\n",
       "      <td>0</td>\n",
       "      <td>0</td>\n",
       "    </tr>\n",
       "  </tbody>\n",
       "</table>\n",
       "<p>10 rows × 785 columns</p>\n",
       "</div>"
      ],
      "text/plain": [
       "    0  0.1  0.2  0.3  0.4  0.5  0.6  0.7  0.8  0.9  ...  0.639  0.640  0.641  \\\n",
       "0   1    0    0    0    0    0    0    0    0    0  ...      0      0      0   \n",
       "1  18    0    0    0    0    0    0    0    0    0  ...      0      0      0   \n",
       "2   1    0    0    0    0    0    0    0    0    0  ...      0      0      0   \n",
       "3  18    0    0    0    0    0    0    0    0    0  ...      0      0      0   \n",
       "4  18    0    0    0    0    0    0    0    0    0  ...      0      0      0   \n",
       "5  25    0    0    0    0    0    0    0    0    0  ...      0      0      0   \n",
       "6   3    0    0    0    0    0    0    0    0    0  ...      0      0      0   \n",
       "7  18    0    0    0    0    0    0    0    0    0  ...      0      0      0   \n",
       "8  18    0    0    0    0    0    0    0    0    0  ...      0      0      0   \n",
       "9  13    0    0    0    0    0    0    0    0    0  ...      0      0      0   \n",
       "\n",
       "   0.642  0.643  0.644  0.645  0.646  0.647  0.648  \n",
       "0      0      0      0      0      0      0      0  \n",
       "1      0      0      0      0      0      0      0  \n",
       "2      0      0      0      0      0      0      0  \n",
       "3      0      0      0      0      0      0      0  \n",
       "4      0      0      0      0      0      0      0  \n",
       "5      0      0      0      0      0      0      0  \n",
       "6      0      0      0      0      0      0      0  \n",
       "7      0      0      0      0      0      0      0  \n",
       "8      0      0      0      0      0      0      0  \n",
       "9      0      0      0      0      0      0      0  \n",
       "\n",
       "[10 rows x 785 columns]"
      ]
     },
     "execution_count": 5,
     "metadata": {},
     "output_type": "execute_result"
    }
   ],
   "source": [
    "#see the first 10 rows\n",
    "df_train.head(10)"
   ]
  },
  {
   "cell_type": "code",
   "execution_count": 6,
   "id": "b4ff9f8c",
   "metadata": {
    "execution": {
     "iopub.execute_input": "2023-06-21T18:39:59.019037Z",
     "iopub.status.busy": "2023-06-21T18:39:59.018248Z",
     "iopub.status.idle": "2023-06-21T18:39:59.034252Z",
     "shell.execute_reply": "2023-06-21T18:39:59.033273Z"
    },
    "papermill": {
     "duration": 0.037152,
     "end_time": "2023-06-21T18:39:59.036418",
     "exception": false,
     "start_time": "2023-06-21T18:39:58.999266",
     "status": "completed"
    },
    "tags": []
   },
   "outputs": [
    {
     "data": {
      "text/html": [
       "<div>\n",
       "<style scoped>\n",
       "    .dataframe tbody tr th:only-of-type {\n",
       "        vertical-align: middle;\n",
       "    }\n",
       "\n",
       "    .dataframe tbody tr th {\n",
       "        vertical-align: top;\n",
       "    }\n",
       "\n",
       "    .dataframe thead th {\n",
       "        text-align: right;\n",
       "    }\n",
       "</style>\n",
       "<table border=\"1\" class=\"dataframe\">\n",
       "  <thead>\n",
       "    <tr style=\"text-align: right;\">\n",
       "      <th></th>\n",
       "      <th>0</th>\n",
       "      <th>0.1</th>\n",
       "      <th>0.2</th>\n",
       "      <th>0.3</th>\n",
       "      <th>0.4</th>\n",
       "      <th>0.5</th>\n",
       "      <th>0.6</th>\n",
       "      <th>0.7</th>\n",
       "      <th>0.8</th>\n",
       "      <th>0.9</th>\n",
       "      <th>...</th>\n",
       "      <th>0.639</th>\n",
       "      <th>0.640</th>\n",
       "      <th>0.641</th>\n",
       "      <th>0.642</th>\n",
       "      <th>0.643</th>\n",
       "      <th>0.644</th>\n",
       "      <th>0.645</th>\n",
       "      <th>0.646</th>\n",
       "      <th>0.647</th>\n",
       "      <th>0.648</th>\n",
       "    </tr>\n",
       "  </thead>\n",
       "  <tbody>\n",
       "    <tr>\n",
       "      <th>297955</th>\n",
       "      <td>18</td>\n",
       "      <td>0</td>\n",
       "      <td>0</td>\n",
       "      <td>0</td>\n",
       "      <td>0</td>\n",
       "      <td>0</td>\n",
       "      <td>0</td>\n",
       "      <td>0</td>\n",
       "      <td>0</td>\n",
       "      <td>0</td>\n",
       "      <td>...</td>\n",
       "      <td>0</td>\n",
       "      <td>0</td>\n",
       "      <td>0</td>\n",
       "      <td>0</td>\n",
       "      <td>0</td>\n",
       "      <td>0</td>\n",
       "      <td>0</td>\n",
       "      <td>0</td>\n",
       "      <td>0</td>\n",
       "      <td>0</td>\n",
       "    </tr>\n",
       "    <tr>\n",
       "      <th>297956</th>\n",
       "      <td>24</td>\n",
       "      <td>0</td>\n",
       "      <td>0</td>\n",
       "      <td>0</td>\n",
       "      <td>0</td>\n",
       "      <td>0</td>\n",
       "      <td>0</td>\n",
       "      <td>0</td>\n",
       "      <td>0</td>\n",
       "      <td>0</td>\n",
       "      <td>...</td>\n",
       "      <td>0</td>\n",
       "      <td>0</td>\n",
       "      <td>0</td>\n",
       "      <td>0</td>\n",
       "      <td>0</td>\n",
       "      <td>0</td>\n",
       "      <td>0</td>\n",
       "      <td>0</td>\n",
       "      <td>0</td>\n",
       "      <td>0</td>\n",
       "    </tr>\n",
       "    <tr>\n",
       "      <th>297957</th>\n",
       "      <td>13</td>\n",
       "      <td>0</td>\n",
       "      <td>0</td>\n",
       "      <td>0</td>\n",
       "      <td>0</td>\n",
       "      <td>0</td>\n",
       "      <td>0</td>\n",
       "      <td>0</td>\n",
       "      <td>0</td>\n",
       "      <td>0</td>\n",
       "      <td>...</td>\n",
       "      <td>0</td>\n",
       "      <td>0</td>\n",
       "      <td>0</td>\n",
       "      <td>0</td>\n",
       "      <td>0</td>\n",
       "      <td>0</td>\n",
       "      <td>0</td>\n",
       "      <td>0</td>\n",
       "      <td>0</td>\n",
       "      <td>0</td>\n",
       "    </tr>\n",
       "    <tr>\n",
       "      <th>297958</th>\n",
       "      <td>14</td>\n",
       "      <td>0</td>\n",
       "      <td>0</td>\n",
       "      <td>0</td>\n",
       "      <td>0</td>\n",
       "      <td>0</td>\n",
       "      <td>0</td>\n",
       "      <td>0</td>\n",
       "      <td>0</td>\n",
       "      <td>0</td>\n",
       "      <td>...</td>\n",
       "      <td>0</td>\n",
       "      <td>0</td>\n",
       "      <td>0</td>\n",
       "      <td>0</td>\n",
       "      <td>0</td>\n",
       "      <td>0</td>\n",
       "      <td>0</td>\n",
       "      <td>0</td>\n",
       "      <td>0</td>\n",
       "      <td>0</td>\n",
       "    </tr>\n",
       "    <tr>\n",
       "      <th>297959</th>\n",
       "      <td>13</td>\n",
       "      <td>0</td>\n",
       "      <td>0</td>\n",
       "      <td>0</td>\n",
       "      <td>0</td>\n",
       "      <td>0</td>\n",
       "      <td>0</td>\n",
       "      <td>0</td>\n",
       "      <td>0</td>\n",
       "      <td>0</td>\n",
       "      <td>...</td>\n",
       "      <td>0</td>\n",
       "      <td>0</td>\n",
       "      <td>0</td>\n",
       "      <td>0</td>\n",
       "      <td>0</td>\n",
       "      <td>0</td>\n",
       "      <td>0</td>\n",
       "      <td>0</td>\n",
       "      <td>0</td>\n",
       "      <td>0</td>\n",
       "    </tr>\n",
       "  </tbody>\n",
       "</table>\n",
       "<p>5 rows × 785 columns</p>\n",
       "</div>"
      ],
      "text/plain": [
       "         0  0.1  0.2  0.3  0.4  0.5  0.6  0.7  0.8  0.9  ...  0.639  0.640  \\\n",
       "297955  18    0    0    0    0    0    0    0    0    0  ...      0      0   \n",
       "297956  24    0    0    0    0    0    0    0    0    0  ...      0      0   \n",
       "297957  13    0    0    0    0    0    0    0    0    0  ...      0      0   \n",
       "297958  14    0    0    0    0    0    0    0    0    0  ...      0      0   \n",
       "297959  13    0    0    0    0    0    0    0    0    0  ...      0      0   \n",
       "\n",
       "        0.641  0.642  0.643  0.644  0.645  0.646  0.647  0.648  \n",
       "297955      0      0      0      0      0      0      0      0  \n",
       "297956      0      0      0      0      0      0      0      0  \n",
       "297957      0      0      0      0      0      0      0      0  \n",
       "297958      0      0      0      0      0      0      0      0  \n",
       "297959      0      0      0      0      0      0      0      0  \n",
       "\n",
       "[5 rows x 785 columns]"
      ]
     },
     "execution_count": 6,
     "metadata": {},
     "output_type": "execute_result"
    }
   ],
   "source": [
    "#see the last 10 rows\n",
    "df_train.tail()"
   ]
  },
  {
   "cell_type": "markdown",
   "id": "3b470c1b",
   "metadata": {
    "papermill": {
     "duration": 0.013293,
     "end_time": "2023-06-21T18:39:59.063313",
     "exception": false,
     "start_time": "2023-06-21T18:39:59.050020",
     "status": "completed"
    },
    "tags": []
   },
   "source": [
    "# Data Preparation"
   ]
  },
  {
   "cell_type": "markdown",
   "id": "aacfc9ca",
   "metadata": {
    "papermill": {
     "duration": 0.013302,
     "end_time": "2023-06-21T18:39:59.090496",
     "exception": false,
     "start_time": "2023-06-21T18:39:59.077194",
     "status": "completed"
    },
    "tags": []
   },
   "source": [
    "  ### Copy Target Column(Alphabet) values and Remove from Training Data set\n"
   ]
  },
  {
   "cell_type": "code",
   "execution_count": 7,
   "id": "bde9db76",
   "metadata": {
    "execution": {
     "iopub.execute_input": "2023-06-21T18:39:59.119754Z",
     "iopub.status.busy": "2023-06-21T18:39:59.119043Z",
     "iopub.status.idle": "2023-06-21T18:39:59.127030Z",
     "shell.execute_reply": "2023-06-21T18:39:59.126284Z"
    },
    "papermill": {
     "duration": 0.025083,
     "end_time": "2023-06-21T18:39:59.129208",
     "exception": false,
     "start_time": "2023-06-21T18:39:59.104125",
     "status": "completed"
    },
    "tags": []
   },
   "outputs": [],
   "source": [
    "#create target variable y for the alphabet dataset\n",
    "y_train = df_train['0']\n",
    "\n",
    "#remove target column from the df_alpha\n",
    "del df_train['0']"
   ]
  },
  {
   "cell_type": "code",
   "execution_count": 8,
   "id": "9ebdede8",
   "metadata": {
    "execution": {
     "iopub.execute_input": "2023-06-21T18:39:59.165776Z",
     "iopub.status.busy": "2023-06-21T18:39:59.165073Z",
     "iopub.status.idle": "2023-06-21T18:39:59.267648Z",
     "shell.execute_reply": "2023-06-21T18:39:59.266573Z"
    },
    "papermill": {
     "duration": 0.125798,
     "end_time": "2023-06-21T18:39:59.270274",
     "exception": false,
     "start_time": "2023-06-21T18:39:59.144476",
     "status": "completed"
    },
    "tags": []
   },
   "outputs": [],
   "source": [
    "# Rename values\n",
    "alphabet_y_train = y_train.replace([0,1,2,3,4,5,6,7,8,9,10,11,12,13,14,15,16,17,18,19,20,21,22,23,24,25], ['A', 'B', 'C', 'D', 'E', 'F', 'G', 'H', 'I', 'J', 'K', 'L', 'M',\n",
    "'N', 'O', 'P', 'Q', 'R', 'S', 'T', 'U', 'V', 'W', 'X', 'Y', 'Z'])\n"
   ]
  },
  {
   "cell_type": "code",
   "execution_count": 9,
   "id": "7a9fecf6",
   "metadata": {
    "execution": {
     "iopub.execute_input": "2023-06-21T18:39:59.299756Z",
     "iopub.status.busy": "2023-06-21T18:39:59.299352Z",
     "iopub.status.idle": "2023-06-21T18:39:59.308277Z",
     "shell.execute_reply": "2023-06-21T18:39:59.307170Z"
    },
    "papermill": {
     "duration": 0.026237,
     "end_time": "2023-06-21T18:39:59.310344",
     "exception": false,
     "start_time": "2023-06-21T18:39:59.284107",
     "status": "completed"
    },
    "tags": []
   },
   "outputs": [
    {
     "data": {
      "text/plain": [
       "0         B\n",
       "1         S\n",
       "2         B\n",
       "3         S\n",
       "4         S\n",
       "         ..\n",
       "297955    S\n",
       "297956    Y\n",
       "297957    N\n",
       "297958    O\n",
       "297959    N\n",
       "Name: 0, Length: 297960, dtype: object"
      ]
     },
     "execution_count": 9,
     "metadata": {},
     "output_type": "execute_result"
    }
   ],
   "source": [
    "#view mapping \n",
    "alphabet_y_train"
   ]
  },
  {
   "cell_type": "markdown",
   "id": "5d83e0dd",
   "metadata": {
    "papermill": {
     "duration": 0.014401,
     "end_time": "2023-06-21T18:39:59.338914",
     "exception": false,
     "start_time": "2023-06-21T18:39:59.324513",
     "status": "completed"
    },
    "tags": []
   },
   "source": [
    " ### Validate Training Sample size per Alphabet "
   ]
  },
  {
   "cell_type": "code",
   "execution_count": 10,
   "id": "59657d11",
   "metadata": {
    "execution": {
     "iopub.execute_input": "2023-06-21T18:39:59.370136Z",
     "iopub.status.busy": "2023-06-21T18:39:59.369121Z",
     "iopub.status.idle": "2023-06-21T18:40:00.401744Z",
     "shell.execute_reply": "2023-06-21T18:40:00.400630Z"
    },
    "papermill": {
     "duration": 1.050091,
     "end_time": "2023-06-21T18:40:00.404386",
     "exception": false,
     "start_time": "2023-06-21T18:39:59.354295",
     "status": "completed"
    },
    "tags": []
   },
   "outputs": [
    {
     "data": {
      "text/plain": [
       "<seaborn.axisgrid.FacetGrid at 0x7a4022daa440>"
      ]
     },
     "execution_count": 10,
     "metadata": {},
     "output_type": "execute_result"
    },
    {
     "data": {
      "text/plain": [
       "<Figure size 1000x500 with 0 Axes>"
      ]
     },
     "metadata": {},
     "output_type": "display_data"
    },
    {
     "data": {
      "image/png": "[encoded data removed]",
      "text/plain": [
       "<Figure size 500x500 with 1 Axes>"
      ]
     },
     "metadata": {},
     "output_type": "display_data"
    }
   ],
   "source": [
    "# Looking for imbalances in data\n",
    "plt.figure(figsize = (10,5))\n",
    "sns.displot(alphabet_y_train)"
   ]
  },
  {
   "cell_type": "markdown",
   "id": "ba587fbd",
   "metadata": {
    "papermill": {
     "duration": 0.014292,
     "end_time": "2023-06-21T18:40:00.433135",
     "exception": false,
     "start_time": "2023-06-21T18:40:00.418843",
     "status": "completed"
    },
    "tags": []
   },
   "source": [
    "### Under sampling of Training dataset to balance class distribution"
   ]
  },
  {
   "cell_type": "code",
   "execution_count": 11,
   "id": "a7f86a96",
   "metadata": {
    "execution": {
     "iopub.execute_input": "2023-06-21T18:40:00.463833Z",
     "iopub.status.busy": "2023-06-21T18:40:00.463192Z",
     "iopub.status.idle": "2023-06-21T18:40:18.091154Z",
     "shell.execute_reply": "2023-06-21T18:40:18.090015Z"
    },
    "papermill": {
     "duration": 17.646364,
     "end_time": "2023-06-21T18:40:18.093812",
     "exception": false,
     "start_time": "2023-06-21T18:40:00.447448",
     "status": "completed"
    },
    "tags": []
   },
   "outputs": [],
   "source": [
    "#undersample and balance samples per alphabet equally (~883 images per alphabet as outcome)\n",
    "nM = NearMiss()\n",
    "X_train_data, y_train_data = nM.fit_resample(df_train, y_train)"
   ]
  },
  {
   "cell_type": "code",
   "execution_count": 12,
   "id": "fda93305",
   "metadata": {
    "execution": {
     "iopub.execute_input": "2023-06-21T18:40:18.124074Z",
     "iopub.status.busy": "2023-06-21T18:40:18.123708Z",
     "iopub.status.idle": "2023-06-21T18:40:18.467041Z",
     "shell.execute_reply": "2023-06-21T18:40:18.466006Z"
    },
    "papermill": {
     "duration": 0.361034,
     "end_time": "2023-06-21T18:40:18.469320",
     "exception": false,
     "start_time": "2023-06-21T18:40:18.108286",
     "status": "completed"
    },
    "tags": []
   },
   "outputs": [
    {
     "data": {
      "text/plain": [
       "<seaborn.axisgrid.FacetGrid at 0x7a401fc1ff70>"
      ]
     },
     "execution_count": 12,
     "metadata": {},
     "output_type": "execute_result"
    },
    {
     "data": {
      "text/plain": [
       "<Figure size 1000x500 with 0 Axes>"
      ]
     },
     "metadata": {},
     "output_type": "display_data"
    },
    {
     "data": {
      "image/png": "[encoded data removed]",
      "text/plain": [
       "<Figure size 500x500 with 1 Axes>"
      ]
     },
     "metadata": {},
     "output_type": "display_data"
    }
   ],
   "source": [
    "#visualize the distribution of the class after balancing\n",
    "plt.figure(figsize = (10,5))\n",
    "sns.displot(y_train_data)"
   ]
  },
  {
   "cell_type": "code",
   "execution_count": 13,
   "id": "b3990df0",
   "metadata": {
    "execution": {
     "iopub.execute_input": "2023-06-21T18:40:18.501280Z",
     "iopub.status.busy": "2023-06-21T18:40:18.500861Z",
     "iopub.status.idle": "2023-06-21T18:40:18.507501Z",
     "shell.execute_reply": "2023-06-21T18:40:18.506489Z"
    },
    "papermill": {
     "duration": 0.024966,
     "end_time": "2023-06-21T18:40:18.509748",
     "exception": false,
     "start_time": "2023-06-21T18:40:18.484782",
     "status": "completed"
    },
    "tags": []
   },
   "outputs": [
    {
     "data": {
      "text/plain": [
       "((22958,), (22958, 784))"
      ]
     },
     "execution_count": 13,
     "metadata": {},
     "output_type": "execute_result"
    }
   ],
   "source": [
    "#shape of the updated training dataset\n",
    "y_train_data.shape , X_train_data.shape"
   ]
  },
  {
   "cell_type": "markdown",
   "id": "945b6224",
   "metadata": {
    "papermill": {
     "duration": 0.014506,
     "end_time": "2023-06-21T18:40:18.539237",
     "exception": false,
     "start_time": "2023-06-21T18:40:18.524731",
     "status": "completed"
    },
    "tags": []
   },
   "source": [
    "###     Normalize Training dataset\n"
   ]
  },
  {
   "cell_type": "code",
   "execution_count": 14,
   "id": "34617b9d",
   "metadata": {
    "execution": {
     "iopub.execute_input": "2023-06-21T18:40:18.570805Z",
     "iopub.status.busy": "2023-06-21T18:40:18.570399Z",
     "iopub.status.idle": "2023-06-21T18:40:18.668629Z",
     "shell.execute_reply": "2023-06-21T18:40:18.667533Z"
    },
    "papermill": {
     "duration": 0.116725,
     "end_time": "2023-06-21T18:40:18.670973",
     "exception": false,
     "start_time": "2023-06-21T18:40:18.554248",
     "status": "completed"
    },
    "tags": []
   },
   "outputs": [
    {
     "data": {
      "text/html": [
       "<div>\n",
       "<style scoped>\n",
       "    .dataframe tbody tr th:only-of-type {\n",
       "        vertical-align: middle;\n",
       "    }\n",
       "\n",
       "    .dataframe tbody tr th {\n",
       "        vertical-align: top;\n",
       "    }\n",
       "\n",
       "    .dataframe thead th {\n",
       "        text-align: right;\n",
       "    }\n",
       "</style>\n",
       "<table border=\"1\" class=\"dataframe\">\n",
       "  <thead>\n",
       "    <tr style=\"text-align: right;\">\n",
       "      <th></th>\n",
       "      <th>0.1</th>\n",
       "      <th>0.2</th>\n",
       "      <th>0.3</th>\n",
       "      <th>0.4</th>\n",
       "      <th>0.5</th>\n",
       "      <th>0.6</th>\n",
       "      <th>0.7</th>\n",
       "      <th>0.8</th>\n",
       "      <th>0.9</th>\n",
       "      <th>0.10</th>\n",
       "      <th>...</th>\n",
       "      <th>0.639</th>\n",
       "      <th>0.640</th>\n",
       "      <th>0.641</th>\n",
       "      <th>0.642</th>\n",
       "      <th>0.643</th>\n",
       "      <th>0.644</th>\n",
       "      <th>0.645</th>\n",
       "      <th>0.646</th>\n",
       "      <th>0.647</th>\n",
       "      <th>0.648</th>\n",
       "    </tr>\n",
       "  </thead>\n",
       "  <tbody>\n",
       "    <tr>\n",
       "      <th>0</th>\n",
       "      <td>0.0</td>\n",
       "      <td>0.0</td>\n",
       "      <td>0.0</td>\n",
       "      <td>0.0</td>\n",
       "      <td>0.0</td>\n",
       "      <td>0.0</td>\n",
       "      <td>0.0</td>\n",
       "      <td>0.0</td>\n",
       "      <td>0.0</td>\n",
       "      <td>0.0</td>\n",
       "      <td>...</td>\n",
       "      <td>0.0</td>\n",
       "      <td>0.0</td>\n",
       "      <td>0.0</td>\n",
       "      <td>0.0</td>\n",
       "      <td>0.0</td>\n",
       "      <td>0.0</td>\n",
       "      <td>0.0</td>\n",
       "      <td>0.0</td>\n",
       "      <td>0.0</td>\n",
       "      <td>0.0</td>\n",
       "    </tr>\n",
       "    <tr>\n",
       "      <th>1</th>\n",
       "      <td>0.0</td>\n",
       "      <td>0.0</td>\n",
       "      <td>0.0</td>\n",
       "      <td>0.0</td>\n",
       "      <td>0.0</td>\n",
       "      <td>0.0</td>\n",
       "      <td>0.0</td>\n",
       "      <td>0.0</td>\n",
       "      <td>0.0</td>\n",
       "      <td>0.0</td>\n",
       "      <td>...</td>\n",
       "      <td>0.0</td>\n",
       "      <td>0.0</td>\n",
       "      <td>0.0</td>\n",
       "      <td>0.0</td>\n",
       "      <td>0.0</td>\n",
       "      <td>0.0</td>\n",
       "      <td>0.0</td>\n",
       "      <td>0.0</td>\n",
       "      <td>0.0</td>\n",
       "      <td>0.0</td>\n",
       "    </tr>\n",
       "    <tr>\n",
       "      <th>2</th>\n",
       "      <td>0.0</td>\n",
       "      <td>0.0</td>\n",
       "      <td>0.0</td>\n",
       "      <td>0.0</td>\n",
       "      <td>0.0</td>\n",
       "      <td>0.0</td>\n",
       "      <td>0.0</td>\n",
       "      <td>0.0</td>\n",
       "      <td>0.0</td>\n",
       "      <td>0.0</td>\n",
       "      <td>...</td>\n",
       "      <td>0.0</td>\n",
       "      <td>0.0</td>\n",
       "      <td>0.0</td>\n",
       "      <td>0.0</td>\n",
       "      <td>0.0</td>\n",
       "      <td>0.0</td>\n",
       "      <td>0.0</td>\n",
       "      <td>0.0</td>\n",
       "      <td>0.0</td>\n",
       "      <td>0.0</td>\n",
       "    </tr>\n",
       "    <tr>\n",
       "      <th>3</th>\n",
       "      <td>0.0</td>\n",
       "      <td>0.0</td>\n",
       "      <td>0.0</td>\n",
       "      <td>0.0</td>\n",
       "      <td>0.0</td>\n",
       "      <td>0.0</td>\n",
       "      <td>0.0</td>\n",
       "      <td>0.0</td>\n",
       "      <td>0.0</td>\n",
       "      <td>0.0</td>\n",
       "      <td>...</td>\n",
       "      <td>0.0</td>\n",
       "      <td>0.0</td>\n",
       "      <td>0.0</td>\n",
       "      <td>0.0</td>\n",
       "      <td>0.0</td>\n",
       "      <td>0.0</td>\n",
       "      <td>0.0</td>\n",
       "      <td>0.0</td>\n",
       "      <td>0.0</td>\n",
       "      <td>0.0</td>\n",
       "    </tr>\n",
       "    <tr>\n",
       "      <th>4</th>\n",
       "      <td>0.0</td>\n",
       "      <td>0.0</td>\n",
       "      <td>0.0</td>\n",
       "      <td>0.0</td>\n",
       "      <td>0.0</td>\n",
       "      <td>0.0</td>\n",
       "      <td>0.0</td>\n",
       "      <td>0.0</td>\n",
       "      <td>0.0</td>\n",
       "      <td>0.0</td>\n",
       "      <td>...</td>\n",
       "      <td>0.0</td>\n",
       "      <td>0.0</td>\n",
       "      <td>0.0</td>\n",
       "      <td>0.0</td>\n",
       "      <td>0.0</td>\n",
       "      <td>0.0</td>\n",
       "      <td>0.0</td>\n",
       "      <td>0.0</td>\n",
       "      <td>0.0</td>\n",
       "      <td>0.0</td>\n",
       "    </tr>\n",
       "    <tr>\n",
       "      <th>...</th>\n",
       "      <td>...</td>\n",
       "      <td>...</td>\n",
       "      <td>...</td>\n",
       "      <td>...</td>\n",
       "      <td>...</td>\n",
       "      <td>...</td>\n",
       "      <td>...</td>\n",
       "      <td>...</td>\n",
       "      <td>...</td>\n",
       "      <td>...</td>\n",
       "      <td>...</td>\n",
       "      <td>...</td>\n",
       "      <td>...</td>\n",
       "      <td>...</td>\n",
       "      <td>...</td>\n",
       "      <td>...</td>\n",
       "      <td>...</td>\n",
       "      <td>...</td>\n",
       "      <td>...</td>\n",
       "      <td>...</td>\n",
       "      <td>...</td>\n",
       "    </tr>\n",
       "    <tr>\n",
       "      <th>22953</th>\n",
       "      <td>0.0</td>\n",
       "      <td>0.0</td>\n",
       "      <td>0.0</td>\n",
       "      <td>0.0</td>\n",
       "      <td>0.0</td>\n",
       "      <td>0.0</td>\n",
       "      <td>0.0</td>\n",
       "      <td>0.0</td>\n",
       "      <td>0.0</td>\n",
       "      <td>0.0</td>\n",
       "      <td>...</td>\n",
       "      <td>0.0</td>\n",
       "      <td>0.0</td>\n",
       "      <td>0.0</td>\n",
       "      <td>0.0</td>\n",
       "      <td>0.0</td>\n",
       "      <td>0.0</td>\n",
       "      <td>0.0</td>\n",
       "      <td>0.0</td>\n",
       "      <td>0.0</td>\n",
       "      <td>0.0</td>\n",
       "    </tr>\n",
       "    <tr>\n",
       "      <th>22954</th>\n",
       "      <td>0.0</td>\n",
       "      <td>0.0</td>\n",
       "      <td>0.0</td>\n",
       "      <td>0.0</td>\n",
       "      <td>0.0</td>\n",
       "      <td>0.0</td>\n",
       "      <td>0.0</td>\n",
       "      <td>0.0</td>\n",
       "      <td>0.0</td>\n",
       "      <td>0.0</td>\n",
       "      <td>...</td>\n",
       "      <td>0.0</td>\n",
       "      <td>0.0</td>\n",
       "      <td>0.0</td>\n",
       "      <td>0.0</td>\n",
       "      <td>0.0</td>\n",
       "      <td>0.0</td>\n",
       "      <td>0.0</td>\n",
       "      <td>0.0</td>\n",
       "      <td>0.0</td>\n",
       "      <td>0.0</td>\n",
       "    </tr>\n",
       "    <tr>\n",
       "      <th>22955</th>\n",
       "      <td>0.0</td>\n",
       "      <td>0.0</td>\n",
       "      <td>0.0</td>\n",
       "      <td>0.0</td>\n",
       "      <td>0.0</td>\n",
       "      <td>0.0</td>\n",
       "      <td>0.0</td>\n",
       "      <td>0.0</td>\n",
       "      <td>0.0</td>\n",
       "      <td>0.0</td>\n",
       "      <td>...</td>\n",
       "      <td>0.0</td>\n",
       "      <td>0.0</td>\n",
       "      <td>0.0</td>\n",
       "      <td>0.0</td>\n",
       "      <td>0.0</td>\n",
       "      <td>0.0</td>\n",
       "      <td>0.0</td>\n",
       "      <td>0.0</td>\n",
       "      <td>0.0</td>\n",
       "      <td>0.0</td>\n",
       "    </tr>\n",
       "    <tr>\n",
       "      <th>22956</th>\n",
       "      <td>0.0</td>\n",
       "      <td>0.0</td>\n",
       "      <td>0.0</td>\n",
       "      <td>0.0</td>\n",
       "      <td>0.0</td>\n",
       "      <td>0.0</td>\n",
       "      <td>0.0</td>\n",
       "      <td>0.0</td>\n",
       "      <td>0.0</td>\n",
       "      <td>0.0</td>\n",
       "      <td>...</td>\n",
       "      <td>0.0</td>\n",
       "      <td>0.0</td>\n",
       "      <td>0.0</td>\n",
       "      <td>0.0</td>\n",
       "      <td>0.0</td>\n",
       "      <td>0.0</td>\n",
       "      <td>0.0</td>\n",
       "      <td>0.0</td>\n",
       "      <td>0.0</td>\n",
       "      <td>0.0</td>\n",
       "    </tr>\n",
       "    <tr>\n",
       "      <th>22957</th>\n",
       "      <td>0.0</td>\n",
       "      <td>0.0</td>\n",
       "      <td>0.0</td>\n",
       "      <td>0.0</td>\n",
       "      <td>0.0</td>\n",
       "      <td>0.0</td>\n",
       "      <td>0.0</td>\n",
       "      <td>0.0</td>\n",
       "      <td>0.0</td>\n",
       "      <td>0.0</td>\n",
       "      <td>...</td>\n",
       "      <td>0.0</td>\n",
       "      <td>0.0</td>\n",
       "      <td>0.0</td>\n",
       "      <td>0.0</td>\n",
       "      <td>0.0</td>\n",
       "      <td>0.0</td>\n",
       "      <td>0.0</td>\n",
       "      <td>0.0</td>\n",
       "      <td>0.0</td>\n",
       "      <td>0.0</td>\n",
       "    </tr>\n",
       "  </tbody>\n",
       "</table>\n",
       "<p>22958 rows × 784 columns</p>\n",
       "</div>"
      ],
      "text/plain": [
       "       0.1  0.2  0.3  0.4  0.5  0.6  0.7  0.8  0.9  0.10  ...  0.639  0.640  \\\n",
       "0      0.0  0.0  0.0  0.0  0.0  0.0  0.0  0.0  0.0   0.0  ...    0.0    0.0   \n",
       "1      0.0  0.0  0.0  0.0  0.0  0.0  0.0  0.0  0.0   0.0  ...    0.0    0.0   \n",
       "2      0.0  0.0  0.0  0.0  0.0  0.0  0.0  0.0  0.0   0.0  ...    0.0    0.0   \n",
       "3      0.0  0.0  0.0  0.0  0.0  0.0  0.0  0.0  0.0   0.0  ...    0.0    0.0   \n",
       "4      0.0  0.0  0.0  0.0  0.0  0.0  0.0  0.0  0.0   0.0  ...    0.0    0.0   \n",
       "...    ...  ...  ...  ...  ...  ...  ...  ...  ...   ...  ...    ...    ...   \n",
       "22953  0.0  0.0  0.0  0.0  0.0  0.0  0.0  0.0  0.0   0.0  ...    0.0    0.0   \n",
       "22954  0.0  0.0  0.0  0.0  0.0  0.0  0.0  0.0  0.0   0.0  ...    0.0    0.0   \n",
       "22955  0.0  0.0  0.0  0.0  0.0  0.0  0.0  0.0  0.0   0.0  ...    0.0    0.0   \n",
       "22956  0.0  0.0  0.0  0.0  0.0  0.0  0.0  0.0  0.0   0.0  ...    0.0    0.0   \n",
       "22957  0.0  0.0  0.0  0.0  0.0  0.0  0.0  0.0  0.0   0.0  ...    0.0    0.0   \n",
       "\n",
       "       0.641  0.642  0.643  0.644  0.645  0.646  0.647  0.648  \n",
       "0        0.0    0.0    0.0    0.0    0.0    0.0    0.0    0.0  \n",
       "1        0.0    0.0    0.0    0.0    0.0    0.0    0.0    0.0  \n",
       "2        0.0    0.0    0.0    0.0    0.0    0.0    0.0    0.0  \n",
       "3        0.0    0.0    0.0    0.0    0.0    0.0    0.0    0.0  \n",
       "4        0.0    0.0    0.0    0.0    0.0    0.0    0.0    0.0  \n",
       "...      ...    ...    ...    ...    ...    ...    ...    ...  \n",
       "22953    0.0    0.0    0.0    0.0    0.0    0.0    0.0    0.0  \n",
       "22954    0.0    0.0    0.0    0.0    0.0    0.0    0.0    0.0  \n",
       "22955    0.0    0.0    0.0    0.0    0.0    0.0    0.0    0.0  \n",
       "22956    0.0    0.0    0.0    0.0    0.0    0.0    0.0    0.0  \n",
       "22957    0.0    0.0    0.0    0.0    0.0    0.0    0.0    0.0  \n",
       "\n",
       "[22958 rows x 784 columns]"
      ]
     },
     "execution_count": 14,
     "metadata": {},
     "output_type": "execute_result"
    }
   ],
   "source": [
    "#normalize the training data set values\n",
    "X_train_data = X_train_data / 255\n",
    "X_train_data"
   ]
  },
  {
   "cell_type": "markdown",
   "id": "2a5f3ad5",
   "metadata": {
    "papermill": {
     "duration": 0.014851,
     "end_time": "2023-06-21T18:40:18.700981",
     "exception": false,
     "start_time": "2023-06-21T18:40:18.686130",
     "status": "completed"
    },
    "tags": []
   },
   "source": [
    "### Reshape Training dataset for CNN Model "
   ]
  },
  {
   "cell_type": "code",
   "execution_count": 15,
   "id": "e56aae9f",
   "metadata": {
    "execution": {
     "iopub.execute_input": "2023-06-21T18:40:18.733080Z",
     "iopub.status.busy": "2023-06-21T18:40:18.732705Z",
     "iopub.status.idle": "2023-06-21T18:40:18.835790Z",
     "shell.execute_reply": "2023-06-21T18:40:18.834723Z"
    },
    "papermill": {
     "duration": 0.122066,
     "end_time": "2023-06-21T18:40:18.838183",
     "exception": false,
     "start_time": "2023-06-21T18:40:18.716117",
     "status": "completed"
    },
    "tags": []
   },
   "outputs": [],
   "source": [
    "#reshape datset\n",
    "X_train_data = np.array(X_train_data)\n",
    "X_train_data = X_train_data.reshape(-1,28,28,1)\n"
   ]
  },
  {
   "cell_type": "code",
   "execution_count": 16,
   "id": "9509a2a8",
   "metadata": {
    "execution": {
     "iopub.execute_input": "2023-06-21T18:40:18.870531Z",
     "iopub.status.busy": "2023-06-21T18:40:18.870109Z",
     "iopub.status.idle": "2023-06-21T18:40:24.043688Z",
     "shell.execute_reply": "2023-06-21T18:40:24.042544Z"
    },
    "papermill": {
     "duration": 5.193261,
     "end_time": "2023-06-21T18:40:24.046901",
     "exception": false,
     "start_time": "2023-06-21T18:40:18.853640",
     "status": "completed"
    },
    "tags": []
   },
   "outputs": [
    {
     "data": {
      "image/png": "[encoded data removed]",
      "text/plain": [
       "<Figure size 1000x1000 with 25 Axes>"
      ]
     },
     "metadata": {},
     "output_type": "display_data"
    }
   ],
   "source": [
    "# view some of the handwritten alphabet images\n",
    "f, ax = plt.subplots(5,5)\n",
    "f.set_size_inches(10,10)\n",
    "k = 0\n",
    "for i in range(5):\n",
    "    for j in range(5):\n",
    "        ax[i,j].imshow(X_train_data[k].reshape(28,28), cmap='gray')\n",
    "        k += 1\n",
    "    plt.tight_layout()"
   ]
  },
  {
   "cell_type": "markdown",
   "id": "e7d126c6",
   "metadata": {
    "papermill": {
     "duration": 0.016309,
     "end_time": "2023-06-21T18:40:24.079924",
     "exception": false,
     "start_time": "2023-06-21T18:40:24.063615",
     "status": "completed"
    },
    "tags": []
   },
   "source": [
    "### Encode Target Variable"
   ]
  },
  {
   "cell_type": "code",
   "execution_count": 17,
   "id": "20ace1be",
   "metadata": {
    "execution": {
     "iopub.execute_input": "2023-06-21T18:40:24.113912Z",
     "iopub.status.busy": "2023-06-21T18:40:24.113528Z",
     "iopub.status.idle": "2023-06-21T18:40:24.120577Z",
     "shell.execute_reply": "2023-06-21T18:40:24.119643Z"
    },
    "papermill": {
     "duration": 0.026362,
     "end_time": "2023-06-21T18:40:24.122590",
     "exception": false,
     "start_time": "2023-06-21T18:40:24.096228",
     "status": "completed"
    },
    "tags": []
   },
   "outputs": [
    {
     "data": {
      "text/plain": [
       "26"
      ]
     },
     "execution_count": 17,
     "metadata": {},
     "output_type": "execute_result"
    }
   ],
   "source": [
    "#One-Hot-Encoding of the target.\n",
    "y = np_utils.to_categorical(y_train_data)\n",
    "# Define the classification of 26 alphabets.\n",
    "num_classes = y.shape[1]\n",
    "num_classes"
   ]
  },
  {
   "cell_type": "markdown",
   "id": "29268e1e",
   "metadata": {
    "papermill": {
     "duration": 0.015506,
     "end_time": "2023-06-21T18:40:24.154045",
     "exception": false,
     "start_time": "2023-06-21T18:40:24.138539",
     "status": "completed"
    },
    "tags": []
   },
   "source": [
    "### Test-Train Split ( Training data set split into training, test(validation) dataset)"
   ]
  },
  {
   "cell_type": "code",
   "execution_count": 18,
   "id": "92db27e0",
   "metadata": {
    "execution": {
     "iopub.execute_input": "2023-06-21T18:40:24.188009Z",
     "iopub.status.busy": "2023-06-21T18:40:24.187218Z",
     "iopub.status.idle": "2023-06-21T18:40:24.736081Z",
     "shell.execute_reply": "2023-06-21T18:40:24.734882Z"
    },
    "papermill": {
     "duration": 0.568759,
     "end_time": "2023-06-21T18:40:24.738693",
     "exception": false,
     "start_time": "2023-06-21T18:40:24.169934",
     "status": "completed"
    },
    "tags": []
   },
   "outputs": [],
   "source": [
    "X_train, X_test, y_train, y_test = train_test_split(X_train_data, y, test_size=0.2 ,random_state=102)\n"
   ]
  },
  {
   "cell_type": "code",
   "execution_count": 19,
   "id": "801db9ea",
   "metadata": {
    "execution": {
     "iopub.execute_input": "2023-06-21T18:40:24.772833Z",
     "iopub.status.busy": "2023-06-21T18:40:24.772440Z",
     "iopub.status.idle": "2023-06-21T18:40:24.778718Z",
     "shell.execute_reply": "2023-06-21T18:40:24.777783Z"
    },
    "papermill": {
     "duration": 0.02585,
     "end_time": "2023-06-21T18:40:24.780934",
     "exception": false,
     "start_time": "2023-06-21T18:40:24.755084",
     "status": "completed"
    },
    "tags": []
   },
   "outputs": [
    {
     "data": {
      "text/plain": [
       "((18366, 28, 28, 1), (4592, 28, 28, 1), (18366, 26), (4592, 26))"
      ]
     },
     "execution_count": 19,
     "metadata": {},
     "output_type": "execute_result"
    }
   ],
   "source": [
    "X_train.shape, X_test.shape, y_train.shape, y_test.shape"
   ]
  },
  {
   "cell_type": "markdown",
   "id": "106613c3",
   "metadata": {
    "papermill": {
     "duration": 0.015849,
     "end_time": "2023-06-21T18:40:24.813248",
     "exception": false,
     "start_time": "2023-06-21T18:40:24.797399",
     "status": "completed"
    },
    "tags": []
   },
   "source": [
    "### Trial CNN\n",
    "#### Model Definition"
   ]
  },
  {
   "cell_type": "code",
   "execution_count": 20,
   "id": "d8a0d7ed",
   "metadata": {
    "execution": {
     "iopub.execute_input": "2023-06-21T18:40:24.847435Z",
     "iopub.status.busy": "2023-06-21T18:40:24.847002Z",
     "iopub.status.idle": "2023-06-21T18:40:25.352766Z",
     "shell.execute_reply": "2023-06-21T18:40:25.351645Z"
    },
    "papermill": {
     "duration": 0.531747,
     "end_time": "2023-06-21T18:40:25.361230",
     "exception": false,
     "start_time": "2023-06-21T18:40:24.829483",
     "status": "completed"
    },
    "tags": []
   },
   "outputs": [
    {
     "name": "stdout",
     "output_type": "stream",
     "text": [
      "Model: \"sequential\"\n",
      "_________________________________________________________________\n",
      " Layer (type)                Output Shape              Param #   \n",
      "=================================================================\n",
      " conv2d (Conv2D)             (None, 24, 24, 32)        832       \n",
      "                                                                 \n",
      " max_pooling2d (MaxPooling2D  (None, 12, 12, 32)       0         \n",
      " )                                                               \n",
      "                                                                 \n",
      " flatten (Flatten)           (None, 4608)              0         \n",
      "                                                                 \n",
      " dense (Dense)               (None, 128)               589952    \n",
      "                                                                 \n",
      " dense_1 (Dense)             (None, 26)                3354      \n",
      "                                                                 \n",
      "=================================================================\n",
      "Total params: 594,138\n",
      "Trainable params: 594,138\n",
      "Non-trainable params: 0\n",
      "_________________________________________________________________\n",
      "None\n"
     ]
    }
   ],
   "source": [
    "#Build an ordinary trial CNN model\n",
    "model = Sequential()\n",
    "model.add(Conv2D(32, (5, 5), input_shape=(28, 28, 1), activation='relu'))\n",
    "model.add(MaxPooling2D(pool_size=(2, 2)))\n",
    "model.add(Flatten())\n",
    "model.add(Dense(128, activation='relu'))\n",
    "model.add(Dense(num_classes, activation='softmax'))\n",
    "#Choose an optimizer and compile the model.\n",
    "model.compile(optimizer = Adam(learning_rate = 0.01), loss = 'categorical_crossentropy', metrics = ['accuracy'])\n",
    "#And print the summary of the model.\n",
    "print(model.summary())"
   ]
  },
  {
   "cell_type": "code",
   "execution_count": 21,
   "id": "15f3139c",
   "metadata": {
    "execution": {
     "iopub.execute_input": "2023-06-21T18:40:25.397740Z",
     "iopub.status.busy": "2023-06-21T18:40:25.397350Z",
     "iopub.status.idle": "2023-06-21T18:40:25.404281Z",
     "shell.execute_reply": "2023-06-21T18:40:25.403163Z"
    },
    "papermill": {
     "duration": 0.027886,
     "end_time": "2023-06-21T18:40:25.406602",
     "exception": false,
     "start_time": "2023-06-21T18:40:25.378716",
     "status": "completed"
    },
    "tags": []
   },
   "outputs": [],
   "source": [
    "def model_fit_history_plot(history):\n",
    "    plt.figure(1)\n",
    "    plt.plot(history.history['loss'])\n",
    "    plt.plot(history.history['val_loss'])\n",
    "    plt.legend(['training','validation'])\n",
    "    plt.title('Loss')\n",
    "    plt.xlabel('epoch')\n",
    "    plt.figure(2)\n",
    "    plt.plot(history.history['accuracy'])\n",
    "    plt.plot(history.history['val_accuracy'])\n",
    "    plt.legend(['training','validation'])\n",
    "    plt.title('Accuracy')\n",
    "    plt.xlabel('epoch')\n",
    "    plt.show()\n",
    "    return None"
   ]
  },
  {
   "cell_type": "markdown",
   "id": "859bcb5c",
   "metadata": {
    "papermill": {
     "duration": 0.017614,
     "end_time": "2023-06-21T18:40:25.442286",
     "exception": false,
     "start_time": "2023-06-21T18:40:25.424672",
     "status": "completed"
    },
    "tags": []
   },
   "source": [
    "#### Model Training / Fit"
   ]
  },
  {
   "cell_type": "code",
   "execution_count": 22,
   "id": "1c205b6b",
   "metadata": {
    "execution": {
     "iopub.execute_input": "2023-06-21T18:40:25.480818Z",
     "iopub.status.busy": "2023-06-21T18:40:25.480411Z",
     "iopub.status.idle": "2023-06-21T18:41:48.379428Z",
     "shell.execute_reply": "2023-06-21T18:41:48.378356Z"
    },
    "papermill": {
     "duration": 82.922144,
     "end_time": "2023-06-21T18:41:48.382028",
     "exception": false,
     "start_time": "2023-06-21T18:40:25.459884",
     "status": "completed"
    },
    "tags": []
   },
   "outputs": [
    {
     "name": "stdout",
     "output_type": "stream",
     "text": [
      "Epoch 1/15\n",
      "144/144 [==============================] - 7s 41ms/step - loss: 0.4997 - accuracy: 0.8583 - val_loss: 0.1964 - val_accuracy: 0.9438\n",
      "Epoch 2/15\n",
      "144/144 [==============================] - 5s 36ms/step - loss: 0.1238 - accuracy: 0.9646 - val_loss: 0.1647 - val_accuracy: 0.9571\n",
      "Epoch 3/15\n",
      "144/144 [==============================] - 5s 36ms/step - loss: 0.0668 - accuracy: 0.9796 - val_loss: 0.1519 - val_accuracy: 0.9617\n",
      "Epoch 4/15\n",
      "144/144 [==============================] - 5s 35ms/step - loss: 0.0573 - accuracy: 0.9816 - val_loss: 0.1703 - val_accuracy: 0.9588\n",
      "Epoch 5/15\n",
      "144/144 [==============================] - 5s 35ms/step - loss: 0.0403 - accuracy: 0.9861 - val_loss: 0.1273 - val_accuracy: 0.9747\n",
      "Epoch 6/15\n",
      "144/144 [==============================] - 5s 35ms/step - loss: 0.0261 - accuracy: 0.9923 - val_loss: 0.1551 - val_accuracy: 0.9702\n",
      "Epoch 7/15\n",
      "144/144 [==============================] - 5s 37ms/step - loss: 0.0421 - accuracy: 0.9874 - val_loss: 0.1537 - val_accuracy: 0.9647\n",
      "Epoch 8/15\n",
      "144/144 [==============================] - 5s 36ms/step - loss: 0.0334 - accuracy: 0.9906 - val_loss: 0.1873 - val_accuracy: 0.9667\n",
      "Epoch 9/15\n",
      "144/144 [==============================] - 5s 35ms/step - loss: 0.0417 - accuracy: 0.9876 - val_loss: 0.1997 - val_accuracy: 0.9658\n",
      "Epoch 10/15\n",
      "144/144 [==============================] - 5s 35ms/step - loss: 0.0440 - accuracy: 0.9873 - val_loss: 0.2518 - val_accuracy: 0.9604\n",
      "Epoch 11/15\n",
      "144/144 [==============================] - 5s 35ms/step - loss: 0.0402 - accuracy: 0.9882 - val_loss: 0.2312 - val_accuracy: 0.9695\n",
      "Epoch 12/15\n",
      "144/144 [==============================] - 5s 35ms/step - loss: 0.0249 - accuracy: 0.9935 - val_loss: 0.2114 - val_accuracy: 0.9691\n",
      "Epoch 13/15\n",
      "144/144 [==============================] - 5s 36ms/step - loss: 0.0280 - accuracy: 0.9929 - val_loss: 0.2812 - val_accuracy: 0.9647\n",
      "Epoch 14/15\n",
      "144/144 [==============================] - 5s 38ms/step - loss: 0.0343 - accuracy: 0.9913 - val_loss: 0.2228 - val_accuracy: 0.9734\n",
      "Epoch 15/15\n",
      "144/144 [==============================] - 5s 35ms/step - loss: 0.0365 - accuracy: 0.9914 - val_loss: 0.2910 - val_accuracy: 0.9691\n"
     ]
    }
   ],
   "source": [
    "#train and fit the defined model for training / validation data sets\n",
    "history = model.fit(X_train,y_train,epochs=15, batch_size=128, validation_data=(X_test,y_test))\n",
    "\n"
   ]
  },
  {
   "cell_type": "markdown",
   "id": "d7678ab5",
   "metadata": {
    "papermill": {
     "duration": 0.083116,
     "end_time": "2023-06-21T18:41:48.550002",
     "exception": false,
     "start_time": "2023-06-21T18:41:48.466886",
     "status": "completed"
    },
    "tags": []
   },
   "source": [
    "#### Model Evaluation againt Validation"
   ]
  },
  {
   "cell_type": "code",
   "execution_count": 23,
   "id": "cc540bda",
   "metadata": {
    "execution": {
     "iopub.execute_input": "2023-06-21T18:41:48.719286Z",
     "iopub.status.busy": "2023-06-21T18:41:48.718908Z",
     "iopub.status.idle": "2023-06-21T18:41:49.774283Z",
     "shell.execute_reply": "2023-06-21T18:41:49.773173Z"
    },
    "papermill": {
     "duration": 1.142335,
     "end_time": "2023-06-21T18:41:49.776565",
     "exception": false,
     "start_time": "2023-06-21T18:41:48.634230",
     "status": "completed"
    },
    "tags": []
   },
   "outputs": [
    {
     "name": "stdout",
     "output_type": "stream",
     "text": [
      "CNN Error: 3.09%\n"
     ]
    },
    {
     "data": {
      "image/png": "[encoded data removed]",
      "text/plain": [
       "<Figure size 640x480 with 1 Axes>"
      ]
     },
     "metadata": {},
     "output_type": "display_data"
    },
    {
     "data": {
      "image/png": "[encoded data removed]",
      "text/plain": [
       "<Figure size 640x480 with 1 Axes>"
      ]
     },
     "metadata": {},
     "output_type": "display_data"
    }
   ],
   "source": [
    "# evaluation of the model\n",
    "scores = model.evaluate(X_test,y_test, verbose=0)\n",
    "print(\"CNN Error: %.2f%%\" % (100-scores[1]*100))\n",
    "\n",
    "#Plot fit history\n",
    "model_fit_history_plot(history)"
   ]
  },
  {
   "cell_type": "markdown",
   "id": "c663a745",
   "metadata": {
    "papermill": {
     "duration": 0.085451,
     "end_time": "2023-06-21T18:41:49.950303",
     "exception": false,
     "start_time": "2023-06-21T18:41:49.864852",
     "status": "completed"
    },
    "tags": []
   },
   "source": [
    "### Grid Search for Model Parameters"
   ]
  },
  {
   "cell_type": "markdown",
   "id": "389426ac",
   "metadata": {
    "papermill": {
     "duration": 0.085038,
     "end_time": "2023-06-21T18:41:50.120823",
     "exception": false,
     "start_time": "2023-06-21T18:41:50.035785",
     "status": "completed"
    },
    "tags": []
   },
   "source": [
    "#### Fully connected - Dense Layers and Neurons"
   ]
  },
  {
   "cell_type": "code",
   "execution_count": 24,
   "id": "e29a8261",
   "metadata": {
    "execution": {
     "iopub.execute_input": "2023-06-21T18:41:50.294070Z",
     "iopub.status.busy": "2023-06-21T18:41:50.293009Z",
     "iopub.status.idle": "2023-06-21T18:46:02.491682Z",
     "shell.execute_reply": "2023-06-21T18:46:02.490358Z"
    },
    "papermill": {
     "duration": 252.287582,
     "end_time": "2023-06-21T18:46:02.493953",
     "exception": false,
     "start_time": "2023-06-21T18:41:50.206371",
     "status": "completed"
    },
    "tags": []
   },
   "outputs": [
    {
     "name": "stdout",
     "output_type": "stream",
     "text": [
      "Fitting 5 folds for each of 4 candidates, totalling 20 fits\n",
      "460/460 [==============================] - 10s 19ms/step - loss: 0.0913 - accuracy: 0.6290 - val_loss: 0.0404 - val_accuracy: 0.8504\n",
      "115/115 [==============================] - 1s 6ms/step - loss: 0.0390 - accuracy: 0.8514\n",
      "460/460 [==============================] - 10s 20ms/step - loss: 0.0798 - accuracy: 0.6818 - val_loss: 0.0337 - val_accuracy: 0.8826\n",
      "115/115 [==============================] - 1s 6ms/step - loss: 0.0323 - accuracy: 0.8944\n",
      "460/460 [==============================] - 10s 19ms/step - loss: 0.0862 - accuracy: 0.6600 - val_loss: 0.0393 - val_accuracy: 0.8510\n",
      "115/115 [==============================] - 1s 6ms/step - loss: 0.0390 - accuracy: 0.8500\n",
      "460/460 [==============================] - 10s 20ms/step - loss: 0.0835 - accuracy: 0.6758 - val_loss: 0.0357 - val_accuracy: 0.8672\n",
      "115/115 [==============================] - 1s 6ms/step - loss: 0.0346 - accuracy: 0.8739\n",
      "460/460 [==============================] - 10s 20ms/step - loss: 0.0843 - accuracy: 0.6675 - val_loss: 0.0359 - val_accuracy: 0.8654\n",
      "115/115 [==============================] - 1s 6ms/step - loss: 0.0361 - accuracy: 0.8620\n",
      "460/460 [==============================] - 10s 19ms/step - loss: 0.0954 - accuracy: 0.6052 - val_loss: 0.0360 - val_accuracy: 0.8630\n",
      "115/115 [==============================] - 1s 6ms/step - loss: 0.0349 - accuracy: 0.8734\n",
      "460/460 [==============================] - 10s 20ms/step - loss: 0.1026 - accuracy: 0.5545 - val_loss: 0.0455 - val_accuracy: 0.8236\n",
      "115/115 [==============================] - 1s 6ms/step - loss: 0.0456 - accuracy: 0.8181\n",
      "460/460 [==============================] - 10s 20ms/step - loss: 0.0991 - accuracy: 0.5669 - val_loss: 0.0383 - val_accuracy: 0.8504\n",
      "115/115 [==============================] - 1s 6ms/step - loss: 0.0383 - accuracy: 0.8413\n",
      "460/460 [==============================] - 10s 20ms/step - loss: 0.0906 - accuracy: 0.6265 - val_loss: 0.0358 - val_accuracy: 0.8576\n",
      "115/115 [==============================] - 1s 6ms/step - loss: 0.0348 - accuracy: 0.8682\n",
      "460/460 [==============================] - 10s 20ms/step - loss: 0.0955 - accuracy: 0.5933 - val_loss: 0.0396 - val_accuracy: 0.8406\n",
      "115/115 [==============================] - 1s 6ms/step - loss: 0.0390 - accuracy: 0.8467\n",
      "460/460 [==============================] - 11s 21ms/step - loss: 0.0770 - accuracy: 0.6727 - val_loss: 0.0290 - val_accuracy: 0.8815\n",
      "115/115 [==============================] - 1s 6ms/step - loss: 0.0271 - accuracy: 0.8958\n",
      "460/460 [==============================] - 10s 20ms/step - loss: 0.0846 - accuracy: 0.6394 - val_loss: 0.0322 - val_accuracy: 0.8682\n",
      "115/115 [==============================] - 1s 6ms/step - loss: 0.0309 - accuracy: 0.8808\n",
      "460/460 [==============================] - 11s 21ms/step - loss: 0.0816 - accuracy: 0.6459 - val_loss: 0.0323 - val_accuracy: 0.8763\n",
      "115/115 [==============================] - 1s 6ms/step - loss: 0.0314 - accuracy: 0.8788\n",
      "460/460 [==============================] - 11s 22ms/step - loss: 0.0829 - accuracy: 0.6406 - val_loss: 0.0306 - val_accuracy: 0.8839\n",
      "115/115 [==============================] - 1s 6ms/step - loss: 0.0289 - accuracy: 0.8911\n",
      "460/460 [==============================] - 11s 21ms/step - loss: 0.0770 - accuracy: 0.6723 - val_loss: 0.0306 - val_accuracy: 0.8746\n",
      "115/115 [==============================] - 1s 6ms/step - loss: 0.0299 - accuracy: 0.8712\n",
      "460/460 [==============================] - 11s 21ms/step - loss: 0.0943 - accuracy: 0.5883 - val_loss: 0.0277 - val_accuracy: 0.8916\n",
      "115/115 [==============================] - 1s 6ms/step - loss: 0.0259 - accuracy: 0.9017\n",
      "460/460 [==============================] - 11s 21ms/step - loss: 0.0830 - accuracy: 0.6365 - val_loss: 0.0308 - val_accuracy: 0.8794\n",
      "115/115 [==============================] - 1s 6ms/step - loss: 0.0296 - accuracy: 0.8797\n",
      "460/460 [==============================] - 11s 22ms/step - loss: 0.1009 - accuracy: 0.5552 - val_loss: 0.0359 - val_accuracy: 0.8504\n",
      "115/115 [==============================] - 1s 6ms/step - loss: 0.0356 - accuracy: 0.8489\n",
      "460/460 [==============================] - 11s 21ms/step - loss: 0.0917 - accuracy: 0.5884 - val_loss: 0.0341 - val_accuracy: 0.8724\n",
      "115/115 [==============================] - 1s 6ms/step - loss: 0.0335 - accuracy: 0.8701\n",
      "460/460 [==============================] - 11s 20ms/step - loss: 0.0836 - accuracy: 0.6453 - val_loss: 0.0283 - val_accuracy: 0.8841\n",
      "115/115 [==============================] - 1s 6ms/step - loss: 0.0283 - accuracy: 0.8881\n",
      "574/574 [==============================] - 13s 20ms/step - loss: 0.0692 - accuracy: 0.7139 - val_loss: 0.0260 - val_accuracy: 0.9090\n",
      "Best: 0.8835341215133667, using {'layers': (256, 128)}\n",
      "0.8663299083709717 (0.01645192867392345) with: {'layers': [128]}\n",
      "0.8495576739311218 (0.019914395237431173) with: {'layers': (128, 64)}\n",
      "0.8835341215133667 (0.008807114635179365) with: {'layers': (256, 128)}\n",
      "0.8777074933052063 (0.01775907264282626) with: {'layers': (256, 128, 64)}\n"
     ]
    }
   ],
   "source": [
    "# Grid Search to determine the layers and neurons in each layer in the sequential model.\n",
    "def create_model(layers):\n",
    "    cnn_model = tf.keras.models.Sequential()\n",
    "    cnn_model.add(tf.keras.layers.Conv2D(filters=32, kernel_size=3, padding=\"same\", activation=\"relu\", input_shape=[28, 28, 1]))\n",
    "    cnn_model.add(tf.keras.layers.MaxPool2D(pool_size=2, strides=2, padding='valid'))\n",
    "    cnn_model.add(tf.keras.layers.Conv2D(filters=32, kernel_size=3, padding=\"same\", activation=\"relu\"))\n",
    "    cnn_model.add(tf.keras.layers.MaxPool2D(pool_size=2, strides=2, padding='valid'))\n",
    "    cnn_model.add(tf.keras.layers.Flatten())\n",
    "    \n",
    "    for i, nodes in enumerate(layers):\n",
    "        cnn_model.add(tf.keras.layers.Dense(units=nodes, activation='relu'))\n",
    "            \n",
    "    cnn_model.add(tf.keras.layers.Dense(units=26, activation='softmax'))\n",
    "    \n",
    "    cnn_model.compile(optimizer = 'Adam', loss = 'binary_crossentropy', metrics = ['accuracy'])\n",
    "    return cnn_model\n",
    "\n",
    "model = KerasClassifier(build_fn=create_model, verbose=1)\n",
    "layers = [[128],(128,64),(256, 128),(256, 128, 64)]\n",
    "param_grid = dict(layers=layers)\n",
    "grid = GridSearchCV(estimator=model, param_grid=param_grid, verbose=1)\n",
    "grid_results = grid.fit(X_train,y_train, validation_data=(X_test, y_test))\n",
    "print(\"Best: {0}, using {1}\".format(grid_results.best_score_, grid_results.best_params_))\n",
    "means = grid_results.cv_results_['mean_test_score']\n",
    "stds = grid_results.cv_results_['std_test_score']\n",
    "params = grid_results.cv_results_['params']\n",
    "for mean, stdev, param in zip(means, stds, params):\n",
    "    print('{0} ({1}) with: {2}'.format(mean, stdev, param))\n",
    "best_layer_size=grid_results.best_params_['layers']  \n",
    "    "
   ]
  },
  {
   "cell_type": "markdown",
   "id": "81bd1001",
   "metadata": {
    "papermill": {
     "duration": 0.302221,
     "end_time": "2023-06-21T18:46:03.094325",
     "exception": false,
     "start_time": "2023-06-21T18:46:02.792104",
     "status": "completed"
    },
    "tags": []
   },
   "source": [
    "#### Batch size for training(fit)"
   ]
  },
  {
   "cell_type": "code",
   "execution_count": 25,
   "id": "776138a2",
   "metadata": {
    "execution": {
     "iopub.execute_input": "2023-06-21T18:46:03.756070Z",
     "iopub.status.busy": "2023-06-21T18:46:03.755659Z",
     "iopub.status.idle": "2023-06-21T18:51:26.065206Z",
     "shell.execute_reply": "2023-06-21T18:51:26.062084Z"
    },
    "papermill": {
     "duration": 322.609291,
     "end_time": "2023-06-21T18:51:26.068144",
     "exception": false,
     "start_time": "2023-06-21T18:46:03.458853",
     "status": "completed"
    },
    "tags": []
   },
   "outputs": [
    {
     "name": "stdout",
     "output_type": "stream",
     "text": [
      "Fitting 5 folds for each of 4 candidates, totalling 20 fits\n",
      "980/980 [==============================] - 14s 14ms/step - loss: 0.0582 - accuracy: 0.7509 - val_loss: 0.0203 - val_accuracy: 0.9242\n",
      "245/245 [==============================] - 1s 4ms/step - loss: 0.0191 - accuracy: 0.9298\n",
      "980/980 [==============================] - 15s 14ms/step - loss: 0.0593 - accuracy: 0.7494 - val_loss: 0.0229 - val_accuracy: 0.9142\n",
      "245/245 [==============================] - 1s 4ms/step - loss: 0.0216 - accuracy: 0.9151\n",
      "980/980 [==============================] - 14s 14ms/step - loss: 0.0600 - accuracy: 0.7428 - val_loss: 0.0228 - val_accuracy: 0.9196\n",
      "245/245 [==============================] - 1s 4ms/step - loss: 0.0215 - accuracy: 0.9268\n",
      "980/980 [==============================] - 15s 14ms/step - loss: 0.0580 - accuracy: 0.7512 - val_loss: 0.0216 - val_accuracy: 0.9207\n",
      "245/245 [==============================] - 1s 4ms/step - loss: 0.0207 - accuracy: 0.9183\n",
      "980/980 [==============================] - 15s 14ms/step - loss: 0.0555 - accuracy: 0.7587 - val_loss: 0.0212 - val_accuracy: 0.9181\n",
      "245/245 [==============================] - 1s 4ms/step - loss: 0.0209 - accuracy: 0.9170\n",
      "735/735 [==============================] - 13s 16ms/step - loss: 0.0647 - accuracy: 0.7268 - val_loss: 0.0260 - val_accuracy: 0.8953\n",
      "184/184 [==============================] - 1s 5ms/step - loss: 0.0242 - accuracy: 0.9023\n",
      "735/735 [==============================] - 13s 16ms/step - loss: 0.0666 - accuracy: 0.7129 - val_loss: 0.0241 - val_accuracy: 0.9059\n",
      "184/184 [==============================] - 1s 5ms/step - loss: 0.0231 - accuracy: 0.9186\n",
      "735/735 [==============================] - 13s 16ms/step - loss: 0.0657 - accuracy: 0.7175 - val_loss: 0.0235 - val_accuracy: 0.9162\n",
      "184/184 [==============================] - 1s 4ms/step - loss: 0.0229 - accuracy: 0.9112\n",
      "735/735 [==============================] - 13s 16ms/step - loss: 0.0630 - accuracy: 0.7372 - val_loss: 0.0248 - val_accuracy: 0.9066\n",
      "184/184 [==============================] - 1s 5ms/step - loss: 0.0238 - accuracy: 0.9072\n",
      "735/735 [==============================] - 13s 16ms/step - loss: 0.0599 - accuracy: 0.7487 - val_loss: 0.0215 - val_accuracy: 0.9212\n",
      "184/184 [==============================] - 1s 5ms/step - loss: 0.0218 - accuracy: 0.9151\n",
      "368/368 [==============================] - 10s 24ms/step - loss: 0.0894 - accuracy: 0.6184 - val_loss: 0.0350 - val_accuracy: 0.8595\n",
      "92/92 [==============================] - 1s 8ms/step - loss: 0.0329 - accuracy: 0.8704\n",
      "368/368 [==============================] - 10s 24ms/step - loss: 0.0852 - accuracy: 0.6482 - val_loss: 0.0310 - val_accuracy: 0.8878\n",
      "92/92 [==============================] - 1s 7ms/step - loss: 0.0290 - accuracy: 0.8925\n",
      "368/368 [==============================] - 11s 25ms/step - loss: 0.0885 - accuracy: 0.6310 - val_loss: 0.0320 - val_accuracy: 0.8798\n",
      "92/92 [==============================] - 1s 7ms/step - loss: 0.0319 - accuracy: 0.8827\n",
      "368/368 [==============================] - 10s 25ms/step - loss: 0.0872 - accuracy: 0.6357 - val_loss: 0.0305 - val_accuracy: 0.8887\n",
      "92/92 [==============================] - 1s 7ms/step - loss: 0.0299 - accuracy: 0.8897\n",
      "368/368 [==============================] - 10s 25ms/step - loss: 0.0966 - accuracy: 0.5948 - val_loss: 0.0363 - val_accuracy: 0.8574\n",
      "92/92 [==============================] - 1s 7ms/step - loss: 0.0358 - accuracy: 0.8647\n",
      "294/294 [==============================] - 10s 29ms/step - loss: 0.1067 - accuracy: 0.5436 - val_loss: 0.0368 - val_accuracy: 0.8582\n",
      "74/74 [==============================] - 1s 9ms/step - loss: 0.0357 - accuracy: 0.8609\n",
      "294/294 [==============================] - 10s 29ms/step - loss: 0.0961 - accuracy: 0.6003 - val_loss: 0.0386 - val_accuracy: 0.8430\n",
      "74/74 [==============================] - 1s 8ms/step - loss: 0.0377 - accuracy: 0.8473\n",
      "294/294 [==============================] - 10s 30ms/step - loss: 0.1005 - accuracy: 0.5707 - val_loss: 0.0383 - val_accuracy: 0.8539\n",
      "74/74 [==============================] - 1s 8ms/step - loss: 0.0383 - accuracy: 0.8513\n",
      "294/294 [==============================] - 10s 30ms/step - loss: 0.1049 - accuracy: 0.5686 - val_loss: 0.0379 - val_accuracy: 0.8524\n",
      "74/74 [==============================] - 1s 8ms/step - loss: 0.0371 - accuracy: 0.8549\n",
      "294/294 [==============================] - 10s 29ms/step - loss: 0.0999 - accuracy: 0.5823 - val_loss: 0.0351 - val_accuracy: 0.8595\n",
      "74/74 [==============================] - 1s 10ms/step - loss: 0.0352 - accuracy: 0.8587\n",
      "1225/1225 [==============================] - 18s 14ms/step - loss: 0.0494 - accuracy: 0.7853 - val_loss: 0.0195 - val_accuracy: 0.9329\n",
      "Best: 0.9213760018348693, using {'batch_size': 15}\n",
      "0.9213760018348693 with: {'batch_size': 15}\n",
      "0.9108683705329895 with: {'batch_size': 20}\n",
      "0.8799961805343628 with: {'batch_size': 40}\n",
      "0.8546223282814026 with: {'batch_size': 50}\n"
     ]
    }
   ],
   "source": [
    "#Grid Search to determine the batch size\n",
    "def create_model1():\n",
    "    cnn_model = tf.keras.models.Sequential()\n",
    "    cnn_model.add(tf.keras.layers.Conv2D(filters=32, kernel_size=3, padding=\"same\", activation=\"relu\", input_shape=[28, 28, 1]))\n",
    "    cnn_model.add(tf.keras.layers.MaxPool2D(pool_size=2, strides=2, padding='valid'))\n",
    "    cnn_model.add(tf.keras.layers.Conv2D(filters=32, kernel_size=3, padding=\"same\", activation=\"relu\"))\n",
    "    cnn_model.add(tf.keras.layers.MaxPool2D(pool_size=2, strides=2, padding='valid'))\n",
    "    cnn_model.add(tf.keras.layers.Flatten())\n",
    "    cnn_model.add(tf.keras.layers.Dense(units=256, activation='relu'))\n",
    "    cnn_model.add(tf.keras.layers.Dense(units=128, activation='relu'))\n",
    "    cnn_model.add(tf.keras.layers.Dense(units=26, activation='softmax'))\n",
    "    \n",
    "    cnn_model.compile(optimizer = 'Adam', loss = 'binary_crossentropy', metrics = ['accuracy'])\n",
    "    return cnn_model\n",
    "\n",
    "model = KerasClassifier(build_fn = create_model1, verbose = 1)\n",
    "\n",
    "batch_size = [15,20,40,50]\n",
    "param_grid = dict(batch_size=batch_size)\n",
    "\n",
    "grid = GridSearchCV(estimator = model, param_grid = param_grid, verbose = 1)\n",
    "grid_results = grid.fit(X_train,y_train, validation_data=(X_test, y_test))\n",
    "\n",
    "print(\"Best: {0}, using {1}\".format(grid_results.best_score_, grid_results.best_params_))\n",
    "means = grid_results.cv_results_['mean_test_score']\n",
    "params = grid_results.cv_results_['params']\n",
    "for mean,param in zip(means,params):\n",
    "    print('{0} with: {1}'.format(mean,param))\n",
    "best_batch_size=grid_results.best_params_['batch_size']"
   ]
  },
  {
   "cell_type": "markdown",
   "id": "88888db9",
   "metadata": {
    "papermill": {
     "duration": 0.535613,
     "end_time": "2023-06-21T18:51:27.145445",
     "exception": false,
     "start_time": "2023-06-21T18:51:26.609832",
     "status": "completed"
    },
    "tags": []
   },
   "source": [
    "#### Drop out ratio for training(fit)"
   ]
  },
  {
   "cell_type": "code",
   "execution_count": 26,
   "id": "42b481b8",
   "metadata": {
    "execution": {
     "iopub.execute_input": "2023-06-21T18:51:28.291282Z",
     "iopub.status.busy": "2023-06-21T18:51:28.290372Z",
     "iopub.status.idle": "2023-06-21T18:56:14.641587Z",
     "shell.execute_reply": "2023-06-21T18:56:14.640295Z"
    },
    "papermill": {
     "duration": 286.956581,
     "end_time": "2023-06-21T18:56:14.643891",
     "exception": false,
     "start_time": "2023-06-21T18:51:27.687310",
     "status": "completed"
    },
    "tags": []
   },
   "outputs": [
    {
     "name": "stdout",
     "output_type": "stream",
     "text": [
      "Fitting 5 folds for each of 3 candidates, totalling 15 fits\n",
      "980/980 [==============================] - 15s 14ms/step - loss: 0.0587 - accuracy: 0.7469 - val_loss: 0.0222 - val_accuracy: 0.9157\n",
      "245/245 [==============================] - 1s 4ms/step - loss: 0.0207 - accuracy: 0.9200\n",
      "980/980 [==============================] - 15s 14ms/step - loss: 0.0559 - accuracy: 0.7668 - val_loss: 0.0193 - val_accuracy: 0.9244\n",
      "245/245 [==============================] - 1s 4ms/step - loss: 0.0180 - accuracy: 0.9349\n",
      "980/980 [==============================] - 15s 14ms/step - loss: 0.0545 - accuracy: 0.7696 - val_loss: 0.0204 - val_accuracy: 0.9229\n",
      "245/245 [==============================] - 1s 4ms/step - loss: 0.0204 - accuracy: 0.9208\n",
      "980/980 [==============================] - 14s 13ms/step - loss: 0.0584 - accuracy: 0.7523 - val_loss: 0.0222 - val_accuracy: 0.9170\n",
      "245/245 [==============================] - 1s 4ms/step - loss: 0.0199 - accuracy: 0.9254\n",
      "980/980 [==============================] - 15s 14ms/step - loss: 0.0583 - accuracy: 0.7510 - val_loss: 0.0220 - val_accuracy: 0.9175\n",
      "245/245 [==============================] - 1s 4ms/step - loss: 0.0223 - accuracy: 0.9159\n",
      "980/980 [==============================] - 15s 14ms/step - loss: 0.0615 - accuracy: 0.7236 - val_loss: 0.0200 - val_accuracy: 0.9260\n",
      "245/245 [==============================] - 1s 4ms/step - loss: 0.0177 - accuracy: 0.9360\n",
      "980/980 [==============================] - 15s 14ms/step - loss: 0.0599 - accuracy: 0.7337 - val_loss: 0.0195 - val_accuracy: 0.9223\n",
      "245/245 [==============================] - 1s 4ms/step - loss: 0.0187 - accuracy: 0.9249\n",
      "980/980 [==============================] - 15s 14ms/step - loss: 0.0643 - accuracy: 0.7140 - val_loss: 0.0171 - val_accuracy: 0.9371\n",
      "245/245 [==============================] - 1s 4ms/step - loss: 0.0164 - accuracy: 0.9390\n",
      "980/980 [==============================] - 15s 14ms/step - loss: 0.0640 - accuracy: 0.7097 - val_loss: 0.0186 - val_accuracy: 0.9305\n",
      "245/245 [==============================] - 1s 4ms/step - loss: 0.0173 - accuracy: 0.9355\n",
      "980/980 [==============================] - 15s 14ms/step - loss: 0.0632 - accuracy: 0.7193 - val_loss: 0.0207 - val_accuracy: 0.9205\n",
      "245/245 [==============================] - 1s 4ms/step - loss: 0.0209 - accuracy: 0.9172\n",
      "980/980 [==============================] - 15s 14ms/step - loss: 0.0688 - accuracy: 0.6886 - val_loss: 0.0205 - val_accuracy: 0.9172\n",
      "245/245 [==============================] - 1s 4ms/step - loss: 0.0190 - accuracy: 0.9260\n",
      "980/980 [==============================] - 15s 14ms/step - loss: 0.0714 - accuracy: 0.6754 - val_loss: 0.0212 - val_accuracy: 0.9157\n",
      "245/245 [==============================] - 1s 4ms/step - loss: 0.0198 - accuracy: 0.9197\n",
      "980/980 [==============================] - 15s 14ms/step - loss: 0.0686 - accuracy: 0.6903 - val_loss: 0.0193 - val_accuracy: 0.9244\n",
      "245/245 [==============================] - 1s 4ms/step - loss: 0.0185 - accuracy: 0.9254\n",
      "980/980 [==============================] - 15s 14ms/step - loss: 0.0696 - accuracy: 0.6867 - val_loss: 0.0206 - val_accuracy: 0.9146\n",
      "245/245 [==============================] - 1s 4ms/step - loss: 0.0189 - accuracy: 0.9197\n",
      "980/980 [==============================] - 15s 14ms/step - loss: 0.0718 - accuracy: 0.6697 - val_loss: 0.0204 - val_accuracy: 0.9151\n",
      "245/245 [==============================] - 1s 4ms/step - loss: 0.0213 - accuracy: 0.9118\n",
      "1225/1225 [==============================] - 18s 14ms/step - loss: 0.0568 - accuracy: 0.7534 - val_loss: 0.0180 - val_accuracy: 0.9297\n",
      "Best: 0.9305235028266907, using {'dropout': 0.1}\n",
      "0.9233912229537964 with: {'dropout': 0.0}\n",
      "0.9305235028266907 with: {'dropout': 0.1}\n",
      "0.9205049753189087 with: {'dropout': 0.2}\n"
     ]
    }
   ],
   "source": [
    "#Grid Search to determine the dropout rate\n",
    "\n",
    "def create_model2(dropout):\n",
    "    # create model\n",
    "    cnn_model = tf.keras.models.Sequential()\n",
    "    cnn_model.add(tf.keras.layers.Conv2D(filters=32, kernel_size=3, padding=\"same\", activation=\"relu\", input_shape=[28, 28, 1]))\n",
    "    cnn_model.add(tf.keras.layers.MaxPool2D(pool_size=2, strides=2, padding='valid'))\n",
    "    cnn_model.add(tf.keras.layers.Conv2D(filters=32, kernel_size=3, padding=\"same\", activation=\"relu\"))\n",
    "    cnn_model.add(tf.keras.layers.MaxPool2D(pool_size=2, strides=2, padding='valid'))\n",
    "    cnn_model.add(tf.keras.layers.Flatten())\n",
    "    cnn_model.add(tf.keras.layers.Dense(units=best_layer_size[0], activation='relu'))\n",
    "    cnn_model.add(Dropout(dropout))\n",
    "    cnn_model.add(tf.keras.layers.Dense(units=best_layer_size[1], activation='relu'))\n",
    "    cnn_model.add(Dropout(dropout))\n",
    "    cnn_model.add(tf.keras.layers.Dense(units=26, activation='softmax'))\n",
    "    \n",
    "    cnn_model.compile(optimizer = 'Adam', loss = 'binary_crossentropy', metrics = ['accuracy'])\n",
    "    return cnn_model\n",
    "\n",
    "model = KerasClassifier(build_fn = create_model2, verbose = 1, batch_size=best_batch_size)\n",
    "\n",
    "dropout = [0.0, 0.1, 0.2]\n",
    "param_grid = dict(dropout=dropout)\n",
    "\n",
    "grid = GridSearchCV(estimator = model, param_grid = param_grid, verbose = 1)\n",
    "grid_results = grid.fit(X_train,y_train, validation_data=(X_test, y_test))\n",
    "\n",
    "print(\"Best: {0}, using {1}\".format(grid_results.best_score_, grid_results.best_params_))\n",
    "means = grid_results.cv_results_['mean_test_score']\n",
    "params = grid_results.cv_results_['params']\n",
    "for mean,param in zip(means,params):\n",
    "    print('{0} with: {1}'.format(mean,param))\n",
    "best_dropout_rate=grid_results.best_params_['dropout']"
   ]
  },
  {
   "cell_type": "markdown",
   "id": "acbc0dfd",
   "metadata": {
    "papermill": {
     "duration": 0.848268,
     "end_time": "2023-06-21T18:56:16.271386",
     "exception": false,
     "start_time": "2023-06-21T18:56:15.423118",
     "status": "completed"
    },
    "tags": []
   },
   "source": [
    "### Final Model"
   ]
  },
  {
   "cell_type": "code",
   "execution_count": 27,
   "id": "574b7ddf",
   "metadata": {
    "execution": {
     "iopub.execute_input": "2023-06-21T18:56:17.897528Z",
     "iopub.status.busy": "2023-06-21T18:56:17.897086Z",
     "iopub.status.idle": "2023-06-21T19:01:51.012609Z",
     "shell.execute_reply": "2023-06-21T19:01:51.011708Z"
    },
    "papermill": {
     "duration": 333.969012,
     "end_time": "2023-06-21T19:01:51.014864",
     "exception": false,
     "start_time": "2023-06-21T18:56:17.045852",
     "status": "completed"
    },
    "tags": []
   },
   "outputs": [
    {
     "name": "stdout",
     "output_type": "stream",
     "text": [
      "Epoch 1/20\n",
      "1225/1225 [==============================] - 18s 14ms/step - loss: 0.0575 - accuracy: 0.7476 - val_loss: 0.0173 - val_accuracy: 0.9325\n",
      "Epoch 2/20\n",
      "1225/1225 [==============================] - 16s 13ms/step - loss: 0.0147 - accuracy: 0.9449 - val_loss: 0.0106 - val_accuracy: 0.9597\n",
      "Epoch 3/20\n",
      "1225/1225 [==============================] - 17s 13ms/step - loss: 0.0094 - accuracy: 0.9663 - val_loss: 0.0084 - val_accuracy: 0.9682\n",
      "Epoch 4/20\n",
      "1225/1225 [==============================] - 17s 14ms/step - loss: 0.0069 - accuracy: 0.9742 - val_loss: 0.0076 - val_accuracy: 0.9719\n",
      "Epoch 5/20\n",
      "1225/1225 [==============================] - 17s 14ms/step - loss: 0.0053 - accuracy: 0.9814 - val_loss: 0.0066 - val_accuracy: 0.9776\n",
      "Epoch 6/20\n",
      "1225/1225 [==============================] - 17s 14ms/step - loss: 0.0044 - accuracy: 0.9841 - val_loss: 0.0063 - val_accuracy: 0.9769\n",
      "Epoch 7/20\n",
      "1225/1225 [==============================] - 16s 13ms/step - loss: 0.0036 - accuracy: 0.9870 - val_loss: 0.0062 - val_accuracy: 0.9780\n",
      "Epoch 8/20\n",
      "1225/1225 [==============================] - 17s 14ms/step - loss: 0.0032 - accuracy: 0.9887 - val_loss: 0.0070 - val_accuracy: 0.9778\n",
      "Epoch 9/20\n",
      "1225/1225 [==============================] - 16s 13ms/step - loss: 0.0025 - accuracy: 0.9909 - val_loss: 0.0052 - val_accuracy: 0.9845\n",
      "Epoch 10/20\n",
      "1225/1225 [==============================] - 17s 14ms/step - loss: 0.0024 - accuracy: 0.9919 - val_loss: 0.0071 - val_accuracy: 0.9771\n",
      "Epoch 11/20\n",
      "1225/1225 [==============================] - 17s 13ms/step - loss: 0.0020 - accuracy: 0.9932 - val_loss: 0.0058 - val_accuracy: 0.9863\n",
      "Epoch 12/20\n",
      "1225/1225 [==============================] - 17s 14ms/step - loss: 0.0020 - accuracy: 0.9932 - val_loss: 0.0069 - val_accuracy: 0.9802\n",
      "Epoch 13/20\n",
      "1225/1225 [==============================] - 16s 13ms/step - loss: 0.0015 - accuracy: 0.9956 - val_loss: 0.0080 - val_accuracy: 0.9778\n",
      "Epoch 14/20\n",
      "1225/1225 [==============================] - 17s 14ms/step - loss: 0.0015 - accuracy: 0.9952 - val_loss: 0.0057 - val_accuracy: 0.9841\n",
      "Epoch 15/20\n",
      "1225/1225 [==============================] - 16s 13ms/step - loss: 0.0014 - accuracy: 0.9954 - val_loss: 0.0068 - val_accuracy: 0.9839\n",
      "Epoch 16/20\n",
      "1225/1225 [==============================] - 17s 14ms/step - loss: 0.0015 - accuracy: 0.9955 - val_loss: 0.0058 - val_accuracy: 0.9852\n",
      "Epoch 17/20\n",
      "1225/1225 [==============================] - 16s 13ms/step - loss: 9.6715e-04 - accuracy: 0.9974 - val_loss: 0.0074 - val_accuracy: 0.9837\n",
      "Epoch 18/20\n",
      "1225/1225 [==============================] - 16s 13ms/step - loss: 0.0013 - accuracy: 0.9965 - val_loss: 0.0078 - val_accuracy: 0.9837\n",
      "Epoch 19/20\n",
      "1225/1225 [==============================] - 16s 13ms/step - loss: 0.0012 - accuracy: 0.9966 - val_loss: 0.0069 - val_accuracy: 0.9843\n",
      "Epoch 20/20\n",
      "1225/1225 [==============================] - 17s 13ms/step - loss: 0.0011 - accuracy: 0.9968 - val_loss: 0.0069 - val_accuracy: 0.9848\n",
      "CNN Error: 1.52%\n"
     ]
    },
    {
     "data": {
      "image/png": "[encoded data removed]",
      "text/plain": [
       "<Figure size 640x480 with 1 Axes>"
      ]
     },
     "metadata": {},
     "output_type": "display_data"
    },
    {
     "data": {
      "image/png": "[encoded data removed]",
      "text/plain": [
       "<Figure size 640x480 with 1 Axes>"
      ]
     },
     "metadata": {},
     "output_type": "display_data"
    }
   ],
   "source": [
    "#Definition of the final CNN model\n",
    "\n",
    "cnn_model = tf.keras.models.Sequential()\n",
    "cnn_model.add(tf.keras.layers.Conv2D(filters=32, kernel_size=3, padding=\"same\", activation=\"relu\", input_shape=[28, 28, 1]))\n",
    "cnn_model.add(tf.keras.layers.MaxPool2D(pool_size=2, strides=2, padding='valid'))\n",
    "cnn_model.add(tf.keras.layers.Conv2D(filters=32, kernel_size=3, padding=\"same\", activation=\"relu\"))\n",
    "cnn_model.add(tf.keras.layers.MaxPool2D(pool_size=2, strides=2, padding='valid'))\n",
    "cnn_model.add(tf.keras.layers.Flatten())\n",
    "cnn_model.add(tf.keras.layers.Dense(units=best_layer_size[0], activation='relu'))\n",
    "cnn_model.add(Dropout(best_dropout_rate))\n",
    "cnn_model.add(tf.keras.layers.Dense(units=best_layer_size[1], activation='relu'))\n",
    "cnn_model.add(Dropout(best_dropout_rate))\n",
    "cnn_model.add(tf.keras.layers.Dense(units=26, activation='softmax'))\n",
    "\n",
    "# compile the model\n",
    "cnn_model.compile(optimizer = 'Adam', loss = 'binary_crossentropy', metrics = ['accuracy'])\n",
    "\n",
    "history = cnn_model.fit(X_train, y_train, batch_size=best_batch_size, epochs=20,validation_data=(X_test, y_test))\n",
    "\n",
    "\n",
    "# Final evaluation of the model\n",
    "scores = cnn_model.evaluate(X_test,y_test, verbose=0)\n",
    "print(\"CNN Error: %.2f%%\" % (100-scores[1]*100))\n",
    "\n",
    "#Plot fit history\n",
    "model_fit_history_plot(history)"
   ]
  },
  {
   "cell_type": "markdown",
   "id": "c66bd57a",
   "metadata": {
    "papermill": {
     "duration": 1.117986,
     "end_time": "2023-06-21T19:01:53.319666",
     "exception": false,
     "start_time": "2023-06-21T19:01:52.201680",
     "status": "completed"
    },
    "tags": []
   },
   "source": [
    "### Making predictions on the test set and Evaluation\n"
   ]
  },
  {
   "cell_type": "code",
   "execution_count": 28,
   "id": "a723a53a",
   "metadata": {
    "execution": {
     "iopub.execute_input": "2023-06-21T19:01:55.676488Z",
     "iopub.status.busy": "2023-06-21T19:01:55.675202Z",
     "iopub.status.idle": "2023-06-21T19:02:00.759807Z",
     "shell.execute_reply": "2023-06-21T19:02:00.758909Z"
    },
    "papermill": {
     "duration": 6.270674,
     "end_time": "2023-06-21T19:02:00.762141",
     "exception": false,
     "start_time": "2023-06-21T19:01:54.491467",
     "status": "completed"
    },
    "tags": []
   },
   "outputs": [],
   "source": [
    "# read test dataset\n",
    "df_test = pd.read_csv('/kaggle/input/alphabet/test.csv')"
   ]
  },
  {
   "cell_type": "code",
   "execution_count": 29,
   "id": "27df64f4",
   "metadata": {
    "execution": {
     "iopub.execute_input": "2023-06-21T19:02:03.078376Z",
     "iopub.status.busy": "2023-06-21T19:02:03.077215Z",
     "iopub.status.idle": "2023-06-21T19:02:03.083004Z",
     "shell.execute_reply": "2023-06-21T19:02:03.082292Z"
    },
    "papermill": {
     "duration": 1.139138,
     "end_time": "2023-06-21T19:02:03.084785",
     "exception": false,
     "start_time": "2023-06-21T19:02:01.945647",
     "status": "completed"
    },
    "tags": []
   },
   "outputs": [
    {
     "data": {
      "text/plain": [
       "(74490, 785)"
      ]
     },
     "execution_count": 29,
     "metadata": {},
     "output_type": "execute_result"
    }
   ],
   "source": [
    "# Test dataset properties\n",
    "df_test.shape"
   ]
  },
  {
   "cell_type": "code",
   "execution_count": 30,
   "id": "8f105a47",
   "metadata": {
    "execution": {
     "iopub.execute_input": "2023-06-21T19:02:05.370969Z",
     "iopub.status.busy": "2023-06-21T19:02:05.370596Z",
     "iopub.status.idle": "2023-06-21T19:02:05.387628Z",
     "shell.execute_reply": "2023-06-21T19:02:05.386856Z"
    },
    "papermill": {
     "duration": 1.128188,
     "end_time": "2023-06-21T19:02:05.389458",
     "exception": false,
     "start_time": "2023-06-21T19:02:04.261270",
     "status": "completed"
    },
    "tags": []
   },
   "outputs": [
    {
     "data": {
      "text/html": [
       "<div>\n",
       "<style scoped>\n",
       "    .dataframe tbody tr th:only-of-type {\n",
       "        vertical-align: middle;\n",
       "    }\n",
       "\n",
       "    .dataframe tbody tr th {\n",
       "        vertical-align: top;\n",
       "    }\n",
       "\n",
       "    .dataframe thead th {\n",
       "        text-align: right;\n",
       "    }\n",
       "</style>\n",
       "<table border=\"1\" class=\"dataframe\">\n",
       "  <thead>\n",
       "    <tr style=\"text-align: right;\">\n",
       "      <th></th>\n",
       "      <th>Unnamed: 0</th>\n",
       "      <th>0.1</th>\n",
       "      <th>0.2</th>\n",
       "      <th>0.3</th>\n",
       "      <th>0.4</th>\n",
       "      <th>0.5</th>\n",
       "      <th>0.6</th>\n",
       "      <th>0.7</th>\n",
       "      <th>0.8</th>\n",
       "      <th>0.9</th>\n",
       "      <th>...</th>\n",
       "      <th>0.639</th>\n",
       "      <th>0.640</th>\n",
       "      <th>0.641</th>\n",
       "      <th>0.642</th>\n",
       "      <th>0.643</th>\n",
       "      <th>0.644</th>\n",
       "      <th>0.645</th>\n",
       "      <th>0.646</th>\n",
       "      <th>0.647</th>\n",
       "      <th>0.648</th>\n",
       "    </tr>\n",
       "  </thead>\n",
       "  <tbody>\n",
       "    <tr>\n",
       "      <th>0</th>\n",
       "      <td>0</td>\n",
       "      <td>0</td>\n",
       "      <td>0</td>\n",
       "      <td>0</td>\n",
       "      <td>0</td>\n",
       "      <td>0</td>\n",
       "      <td>0</td>\n",
       "      <td>0</td>\n",
       "      <td>0</td>\n",
       "      <td>0</td>\n",
       "      <td>...</td>\n",
       "      <td>0</td>\n",
       "      <td>0</td>\n",
       "      <td>0</td>\n",
       "      <td>0</td>\n",
       "      <td>0</td>\n",
       "      <td>0</td>\n",
       "      <td>0</td>\n",
       "      <td>0</td>\n",
       "      <td>0</td>\n",
       "      <td>0</td>\n",
       "    </tr>\n",
       "    <tr>\n",
       "      <th>1</th>\n",
       "      <td>1</td>\n",
       "      <td>0</td>\n",
       "      <td>0</td>\n",
       "      <td>0</td>\n",
       "      <td>0</td>\n",
       "      <td>0</td>\n",
       "      <td>0</td>\n",
       "      <td>0</td>\n",
       "      <td>0</td>\n",
       "      <td>0</td>\n",
       "      <td>...</td>\n",
       "      <td>0</td>\n",
       "      <td>0</td>\n",
       "      <td>0</td>\n",
       "      <td>0</td>\n",
       "      <td>0</td>\n",
       "      <td>0</td>\n",
       "      <td>0</td>\n",
       "      <td>0</td>\n",
       "      <td>0</td>\n",
       "      <td>0</td>\n",
       "    </tr>\n",
       "    <tr>\n",
       "      <th>2</th>\n",
       "      <td>2</td>\n",
       "      <td>0</td>\n",
       "      <td>0</td>\n",
       "      <td>0</td>\n",
       "      <td>0</td>\n",
       "      <td>0</td>\n",
       "      <td>0</td>\n",
       "      <td>0</td>\n",
       "      <td>0</td>\n",
       "      <td>0</td>\n",
       "      <td>...</td>\n",
       "      <td>0</td>\n",
       "      <td>0</td>\n",
       "      <td>0</td>\n",
       "      <td>0</td>\n",
       "      <td>0</td>\n",
       "      <td>0</td>\n",
       "      <td>0</td>\n",
       "      <td>0</td>\n",
       "      <td>0</td>\n",
       "      <td>0</td>\n",
       "    </tr>\n",
       "    <tr>\n",
       "      <th>3</th>\n",
       "      <td>3</td>\n",
       "      <td>0</td>\n",
       "      <td>0</td>\n",
       "      <td>0</td>\n",
       "      <td>0</td>\n",
       "      <td>0</td>\n",
       "      <td>0</td>\n",
       "      <td>0</td>\n",
       "      <td>0</td>\n",
       "      <td>0</td>\n",
       "      <td>...</td>\n",
       "      <td>0</td>\n",
       "      <td>0</td>\n",
       "      <td>0</td>\n",
       "      <td>0</td>\n",
       "      <td>0</td>\n",
       "      <td>0</td>\n",
       "      <td>0</td>\n",
       "      <td>0</td>\n",
       "      <td>0</td>\n",
       "      <td>0</td>\n",
       "    </tr>\n",
       "    <tr>\n",
       "      <th>4</th>\n",
       "      <td>4</td>\n",
       "      <td>0</td>\n",
       "      <td>0</td>\n",
       "      <td>0</td>\n",
       "      <td>0</td>\n",
       "      <td>0</td>\n",
       "      <td>0</td>\n",
       "      <td>0</td>\n",
       "      <td>0</td>\n",
       "      <td>0</td>\n",
       "      <td>...</td>\n",
       "      <td>0</td>\n",
       "      <td>0</td>\n",
       "      <td>0</td>\n",
       "      <td>0</td>\n",
       "      <td>0</td>\n",
       "      <td>0</td>\n",
       "      <td>0</td>\n",
       "      <td>0</td>\n",
       "      <td>0</td>\n",
       "      <td>0</td>\n",
       "    </tr>\n",
       "    <tr>\n",
       "      <th>5</th>\n",
       "      <td>5</td>\n",
       "      <td>0</td>\n",
       "      <td>0</td>\n",
       "      <td>0</td>\n",
       "      <td>0</td>\n",
       "      <td>0</td>\n",
       "      <td>0</td>\n",
       "      <td>0</td>\n",
       "      <td>0</td>\n",
       "      <td>0</td>\n",
       "      <td>...</td>\n",
       "      <td>0</td>\n",
       "      <td>0</td>\n",
       "      <td>0</td>\n",
       "      <td>0</td>\n",
       "      <td>0</td>\n",
       "      <td>0</td>\n",
       "      <td>0</td>\n",
       "      <td>0</td>\n",
       "      <td>0</td>\n",
       "      <td>0</td>\n",
       "    </tr>\n",
       "    <tr>\n",
       "      <th>6</th>\n",
       "      <td>6</td>\n",
       "      <td>0</td>\n",
       "      <td>0</td>\n",
       "      <td>0</td>\n",
       "      <td>0</td>\n",
       "      <td>0</td>\n",
       "      <td>0</td>\n",
       "      <td>0</td>\n",
       "      <td>0</td>\n",
       "      <td>0</td>\n",
       "      <td>...</td>\n",
       "      <td>0</td>\n",
       "      <td>0</td>\n",
       "      <td>0</td>\n",
       "      <td>0</td>\n",
       "      <td>0</td>\n",
       "      <td>0</td>\n",
       "      <td>0</td>\n",
       "      <td>0</td>\n",
       "      <td>0</td>\n",
       "      <td>0</td>\n",
       "    </tr>\n",
       "    <tr>\n",
       "      <th>7</th>\n",
       "      <td>7</td>\n",
       "      <td>0</td>\n",
       "      <td>0</td>\n",
       "      <td>0</td>\n",
       "      <td>0</td>\n",
       "      <td>0</td>\n",
       "      <td>0</td>\n",
       "      <td>0</td>\n",
       "      <td>0</td>\n",
       "      <td>0</td>\n",
       "      <td>...</td>\n",
       "      <td>0</td>\n",
       "      <td>0</td>\n",
       "      <td>0</td>\n",
       "      <td>0</td>\n",
       "      <td>0</td>\n",
       "      <td>0</td>\n",
       "      <td>0</td>\n",
       "      <td>0</td>\n",
       "      <td>0</td>\n",
       "      <td>0</td>\n",
       "    </tr>\n",
       "    <tr>\n",
       "      <th>8</th>\n",
       "      <td>8</td>\n",
       "      <td>0</td>\n",
       "      <td>0</td>\n",
       "      <td>0</td>\n",
       "      <td>0</td>\n",
       "      <td>0</td>\n",
       "      <td>0</td>\n",
       "      <td>0</td>\n",
       "      <td>0</td>\n",
       "      <td>0</td>\n",
       "      <td>...</td>\n",
       "      <td>0</td>\n",
       "      <td>0</td>\n",
       "      <td>0</td>\n",
       "      <td>0</td>\n",
       "      <td>0</td>\n",
       "      <td>0</td>\n",
       "      <td>0</td>\n",
       "      <td>0</td>\n",
       "      <td>0</td>\n",
       "      <td>0</td>\n",
       "    </tr>\n",
       "    <tr>\n",
       "      <th>9</th>\n",
       "      <td>9</td>\n",
       "      <td>0</td>\n",
       "      <td>0</td>\n",
       "      <td>0</td>\n",
       "      <td>0</td>\n",
       "      <td>0</td>\n",
       "      <td>0</td>\n",
       "      <td>0</td>\n",
       "      <td>0</td>\n",
       "      <td>0</td>\n",
       "      <td>...</td>\n",
       "      <td>0</td>\n",
       "      <td>0</td>\n",
       "      <td>0</td>\n",
       "      <td>0</td>\n",
       "      <td>0</td>\n",
       "      <td>0</td>\n",
       "      <td>0</td>\n",
       "      <td>0</td>\n",
       "      <td>0</td>\n",
       "      <td>0</td>\n",
       "    </tr>\n",
       "  </tbody>\n",
       "</table>\n",
       "<p>10 rows × 785 columns</p>\n",
       "</div>"
      ],
      "text/plain": [
       "   Unnamed: 0  0.1  0.2  0.3  0.4  0.5  0.6  0.7  0.8  0.9  ...  0.639  0.640  \\\n",
       "0           0    0    0    0    0    0    0    0    0    0  ...      0      0   \n",
       "1           1    0    0    0    0    0    0    0    0    0  ...      0      0   \n",
       "2           2    0    0    0    0    0    0    0    0    0  ...      0      0   \n",
       "3           3    0    0    0    0    0    0    0    0    0  ...      0      0   \n",
       "4           4    0    0    0    0    0    0    0    0    0  ...      0      0   \n",
       "5           5    0    0    0    0    0    0    0    0    0  ...      0      0   \n",
       "6           6    0    0    0    0    0    0    0    0    0  ...      0      0   \n",
       "7           7    0    0    0    0    0    0    0    0    0  ...      0      0   \n",
       "8           8    0    0    0    0    0    0    0    0    0  ...      0      0   \n",
       "9           9    0    0    0    0    0    0    0    0    0  ...      0      0   \n",
       "\n",
       "   0.641  0.642  0.643  0.644  0.645  0.646  0.647  0.648  \n",
       "0      0      0      0      0      0      0      0      0  \n",
       "1      0      0      0      0      0      0      0      0  \n",
       "2      0      0      0      0      0      0      0      0  \n",
       "3      0      0      0      0      0      0      0      0  \n",
       "4      0      0      0      0      0      0      0      0  \n",
       "5      0      0      0      0      0      0      0      0  \n",
       "6      0      0      0      0      0      0      0      0  \n",
       "7      0      0      0      0      0      0      0      0  \n",
       "8      0      0      0      0      0      0      0      0  \n",
       "9      0      0      0      0      0      0      0      0  \n",
       "\n",
       "[10 rows x 785 columns]"
      ]
     },
     "execution_count": 30,
     "metadata": {},
     "output_type": "execute_result"
    }
   ],
   "source": [
    "# Explore test dataset\n",
    "df_test.head(10)"
   ]
  },
  {
   "cell_type": "code",
   "execution_count": 31,
   "id": "2fc0cdf1",
   "metadata": {
    "execution": {
     "iopub.execute_input": "2023-06-21T19:02:07.777557Z",
     "iopub.status.busy": "2023-06-21T19:02:07.777110Z",
     "iopub.status.idle": "2023-06-21T19:02:07.783511Z",
     "shell.execute_reply": "2023-06-21T19:02:07.782372Z"
    },
    "papermill": {
     "duration": 1.221556,
     "end_time": "2023-06-21T19:02:07.785706",
     "exception": false,
     "start_time": "2023-06-21T19:02:06.564150",
     "status": "completed"
    },
    "tags": []
   },
   "outputs": [
    {
     "data": {
      "text/plain": [
       "Index(['Unnamed: 0', '0.1', '0.2', '0.3', '0.4', '0.5', '0.6', '0.7', '0.8',\n",
       "       '0.9',\n",
       "       ...\n",
       "       '0.639', '0.640', '0.641', '0.642', '0.643', '0.644', '0.645', '0.646',\n",
       "       '0.647', '0.648'],\n",
       "      dtype='object', length=785)"
      ]
     },
     "execution_count": 31,
     "metadata": {},
     "output_type": "execute_result"
    }
   ],
   "source": [
    "#find the rows x columns\n",
    "df_test.columns"
   ]
  },
  {
   "cell_type": "code",
   "execution_count": 32,
   "id": "5b6f67c0",
   "metadata": {
    "execution": {
     "iopub.execute_input": "2023-06-21T19:02:10.076718Z",
     "iopub.status.busy": "2023-06-21T19:02:10.076348Z",
     "iopub.status.idle": "2023-06-21T19:02:10.080453Z",
     "shell.execute_reply": "2023-06-21T19:02:10.079623Z"
    },
    "papermill": {
     "duration": 1.107272,
     "end_time": "2023-06-21T19:02:10.082454",
     "exception": false,
     "start_time": "2023-06-21T19:02:08.975182",
     "status": "completed"
    },
    "tags": []
   },
   "outputs": [],
   "source": [
    "#check if the first column is target variable?\n",
    "y_test = df_test['Unnamed: 0']"
   ]
  },
  {
   "cell_type": "code",
   "execution_count": 33,
   "id": "b4411845",
   "metadata": {
    "execution": {
     "iopub.execute_input": "2023-06-21T19:02:12.468950Z",
     "iopub.status.busy": "2023-06-21T19:02:12.468583Z",
     "iopub.status.idle": "2023-06-21T19:02:12.479041Z",
     "shell.execute_reply": "2023-06-21T19:02:12.478056Z"
    },
    "papermill": {
     "duration": 1.223163,
     "end_time": "2023-06-21T19:02:12.480967",
     "exception": false,
     "start_time": "2023-06-21T19:02:11.257804",
     "status": "completed"
    },
    "tags": []
   },
   "outputs": [
    {
     "data": {
      "text/plain": [
       "array([    0,     1,     2, ..., 74487, 74488, 74489])"
      ]
     },
     "execution_count": 33,
     "metadata": {},
     "output_type": "execute_result"
    }
   ],
   "source": [
    "#first column is not representing the alphabet  and so in the test data set there is target variable column\n",
    "#we can safely ignore this variable!\n",
    "y_test.unique()"
   ]
  },
  {
   "cell_type": "code",
   "execution_count": 34,
   "id": "82981f2f",
   "metadata": {
    "execution": {
     "iopub.execute_input": "2023-06-21T19:02:14.764290Z",
     "iopub.status.busy": "2023-06-21T19:02:14.763588Z",
     "iopub.status.idle": "2023-06-21T19:02:14.770516Z",
     "shell.execute_reply": "2023-06-21T19:02:14.769728Z"
    },
    "papermill": {
     "duration": 1.111077,
     "end_time": "2023-06-21T19:02:14.772521",
     "exception": false,
     "start_time": "2023-06-21T19:02:13.661444",
     "status": "completed"
    },
    "tags": []
   },
   "outputs": [],
   "source": [
    "# Create the pandas DataFrame\n",
    "#df_result = pd.DataFrame(data, columns=['ID', 'Prediction'])\n",
    "#df_result['ID']= df_test['Unnamed: 0']\n",
    "\n",
    "#remove first column from df_test\n",
    "del df_test['Unnamed: 0'] "
   ]
  },
  {
   "cell_type": "code",
   "execution_count": 35,
   "id": "e1e8f815",
   "metadata": {
    "execution": {
     "iopub.execute_input": "2023-06-21T19:02:17.081765Z",
     "iopub.status.busy": "2023-06-21T19:02:17.080845Z",
     "iopub.status.idle": "2023-06-21T19:02:17.278864Z",
     "shell.execute_reply": "2023-06-21T19:02:17.277765Z"
    },
    "papermill": {
     "duration": 1.334142,
     "end_time": "2023-06-21T19:02:17.281607",
     "exception": false,
     "start_time": "2023-06-21T19:02:15.947465",
     "status": "completed"
    },
    "tags": []
   },
   "outputs": [
    {
     "data": {
      "text/html": [
       "<div>\n",
       "<style scoped>\n",
       "    .dataframe tbody tr th:only-of-type {\n",
       "        vertical-align: middle;\n",
       "    }\n",
       "\n",
       "    .dataframe tbody tr th {\n",
       "        vertical-align: top;\n",
       "    }\n",
       "\n",
       "    .dataframe thead th {\n",
       "        text-align: right;\n",
       "    }\n",
       "</style>\n",
       "<table border=\"1\" class=\"dataframe\">\n",
       "  <thead>\n",
       "    <tr style=\"text-align: right;\">\n",
       "      <th></th>\n",
       "      <th>0.1</th>\n",
       "      <th>0.2</th>\n",
       "      <th>0.3</th>\n",
       "      <th>0.4</th>\n",
       "      <th>0.5</th>\n",
       "      <th>0.6</th>\n",
       "      <th>0.7</th>\n",
       "      <th>0.8</th>\n",
       "      <th>0.9</th>\n",
       "      <th>0.10</th>\n",
       "      <th>...</th>\n",
       "      <th>0.639</th>\n",
       "      <th>0.640</th>\n",
       "      <th>0.641</th>\n",
       "      <th>0.642</th>\n",
       "      <th>0.643</th>\n",
       "      <th>0.644</th>\n",
       "      <th>0.645</th>\n",
       "      <th>0.646</th>\n",
       "      <th>0.647</th>\n",
       "      <th>0.648</th>\n",
       "    </tr>\n",
       "  </thead>\n",
       "  <tbody>\n",
       "    <tr>\n",
       "      <th>0</th>\n",
       "      <td>0.0</td>\n",
       "      <td>0.0</td>\n",
       "      <td>0.0</td>\n",
       "      <td>0.0</td>\n",
       "      <td>0.0</td>\n",
       "      <td>0.0</td>\n",
       "      <td>0.0</td>\n",
       "      <td>0.0</td>\n",
       "      <td>0.0</td>\n",
       "      <td>0.0</td>\n",
       "      <td>...</td>\n",
       "      <td>0.0</td>\n",
       "      <td>0.0</td>\n",
       "      <td>0.0</td>\n",
       "      <td>0.0</td>\n",
       "      <td>0.0</td>\n",
       "      <td>0.0</td>\n",
       "      <td>0.0</td>\n",
       "      <td>0.0</td>\n",
       "      <td>0.0</td>\n",
       "      <td>0.0</td>\n",
       "    </tr>\n",
       "    <tr>\n",
       "      <th>1</th>\n",
       "      <td>0.0</td>\n",
       "      <td>0.0</td>\n",
       "      <td>0.0</td>\n",
       "      <td>0.0</td>\n",
       "      <td>0.0</td>\n",
       "      <td>0.0</td>\n",
       "      <td>0.0</td>\n",
       "      <td>0.0</td>\n",
       "      <td>0.0</td>\n",
       "      <td>0.0</td>\n",
       "      <td>...</td>\n",
       "      <td>0.0</td>\n",
       "      <td>0.0</td>\n",
       "      <td>0.0</td>\n",
       "      <td>0.0</td>\n",
       "      <td>0.0</td>\n",
       "      <td>0.0</td>\n",
       "      <td>0.0</td>\n",
       "      <td>0.0</td>\n",
       "      <td>0.0</td>\n",
       "      <td>0.0</td>\n",
       "    </tr>\n",
       "    <tr>\n",
       "      <th>2</th>\n",
       "      <td>0.0</td>\n",
       "      <td>0.0</td>\n",
       "      <td>0.0</td>\n",
       "      <td>0.0</td>\n",
       "      <td>0.0</td>\n",
       "      <td>0.0</td>\n",
       "      <td>0.0</td>\n",
       "      <td>0.0</td>\n",
       "      <td>0.0</td>\n",
       "      <td>0.0</td>\n",
       "      <td>...</td>\n",
       "      <td>0.0</td>\n",
       "      <td>0.0</td>\n",
       "      <td>0.0</td>\n",
       "      <td>0.0</td>\n",
       "      <td>0.0</td>\n",
       "      <td>0.0</td>\n",
       "      <td>0.0</td>\n",
       "      <td>0.0</td>\n",
       "      <td>0.0</td>\n",
       "      <td>0.0</td>\n",
       "    </tr>\n",
       "    <tr>\n",
       "      <th>3</th>\n",
       "      <td>0.0</td>\n",
       "      <td>0.0</td>\n",
       "      <td>0.0</td>\n",
       "      <td>0.0</td>\n",
       "      <td>0.0</td>\n",
       "      <td>0.0</td>\n",
       "      <td>0.0</td>\n",
       "      <td>0.0</td>\n",
       "      <td>0.0</td>\n",
       "      <td>0.0</td>\n",
       "      <td>...</td>\n",
       "      <td>0.0</td>\n",
       "      <td>0.0</td>\n",
       "      <td>0.0</td>\n",
       "      <td>0.0</td>\n",
       "      <td>0.0</td>\n",
       "      <td>0.0</td>\n",
       "      <td>0.0</td>\n",
       "      <td>0.0</td>\n",
       "      <td>0.0</td>\n",
       "      <td>0.0</td>\n",
       "    </tr>\n",
       "    <tr>\n",
       "      <th>4</th>\n",
       "      <td>0.0</td>\n",
       "      <td>0.0</td>\n",
       "      <td>0.0</td>\n",
       "      <td>0.0</td>\n",
       "      <td>0.0</td>\n",
       "      <td>0.0</td>\n",
       "      <td>0.0</td>\n",
       "      <td>0.0</td>\n",
       "      <td>0.0</td>\n",
       "      <td>0.0</td>\n",
       "      <td>...</td>\n",
       "      <td>0.0</td>\n",
       "      <td>0.0</td>\n",
       "      <td>0.0</td>\n",
       "      <td>0.0</td>\n",
       "      <td>0.0</td>\n",
       "      <td>0.0</td>\n",
       "      <td>0.0</td>\n",
       "      <td>0.0</td>\n",
       "      <td>0.0</td>\n",
       "      <td>0.0</td>\n",
       "    </tr>\n",
       "    <tr>\n",
       "      <th>...</th>\n",
       "      <td>...</td>\n",
       "      <td>...</td>\n",
       "      <td>...</td>\n",
       "      <td>...</td>\n",
       "      <td>...</td>\n",
       "      <td>...</td>\n",
       "      <td>...</td>\n",
       "      <td>...</td>\n",
       "      <td>...</td>\n",
       "      <td>...</td>\n",
       "      <td>...</td>\n",
       "      <td>...</td>\n",
       "      <td>...</td>\n",
       "      <td>...</td>\n",
       "      <td>...</td>\n",
       "      <td>...</td>\n",
       "      <td>...</td>\n",
       "      <td>...</td>\n",
       "      <td>...</td>\n",
       "      <td>...</td>\n",
       "      <td>...</td>\n",
       "    </tr>\n",
       "    <tr>\n",
       "      <th>74485</th>\n",
       "      <td>0.0</td>\n",
       "      <td>0.0</td>\n",
       "      <td>0.0</td>\n",
       "      <td>0.0</td>\n",
       "      <td>0.0</td>\n",
       "      <td>0.0</td>\n",
       "      <td>0.0</td>\n",
       "      <td>0.0</td>\n",
       "      <td>0.0</td>\n",
       "      <td>0.0</td>\n",
       "      <td>...</td>\n",
       "      <td>0.0</td>\n",
       "      <td>0.0</td>\n",
       "      <td>0.0</td>\n",
       "      <td>0.0</td>\n",
       "      <td>0.0</td>\n",
       "      <td>0.0</td>\n",
       "      <td>0.0</td>\n",
       "      <td>0.0</td>\n",
       "      <td>0.0</td>\n",
       "      <td>0.0</td>\n",
       "    </tr>\n",
       "    <tr>\n",
       "      <th>74486</th>\n",
       "      <td>0.0</td>\n",
       "      <td>0.0</td>\n",
       "      <td>0.0</td>\n",
       "      <td>0.0</td>\n",
       "      <td>0.0</td>\n",
       "      <td>0.0</td>\n",
       "      <td>0.0</td>\n",
       "      <td>0.0</td>\n",
       "      <td>0.0</td>\n",
       "      <td>0.0</td>\n",
       "      <td>...</td>\n",
       "      <td>0.0</td>\n",
       "      <td>0.0</td>\n",
       "      <td>0.0</td>\n",
       "      <td>0.0</td>\n",
       "      <td>0.0</td>\n",
       "      <td>0.0</td>\n",
       "      <td>0.0</td>\n",
       "      <td>0.0</td>\n",
       "      <td>0.0</td>\n",
       "      <td>0.0</td>\n",
       "    </tr>\n",
       "    <tr>\n",
       "      <th>74487</th>\n",
       "      <td>0.0</td>\n",
       "      <td>0.0</td>\n",
       "      <td>0.0</td>\n",
       "      <td>0.0</td>\n",
       "      <td>0.0</td>\n",
       "      <td>0.0</td>\n",
       "      <td>0.0</td>\n",
       "      <td>0.0</td>\n",
       "      <td>0.0</td>\n",
       "      <td>0.0</td>\n",
       "      <td>...</td>\n",
       "      <td>0.0</td>\n",
       "      <td>0.0</td>\n",
       "      <td>0.0</td>\n",
       "      <td>0.0</td>\n",
       "      <td>0.0</td>\n",
       "      <td>0.0</td>\n",
       "      <td>0.0</td>\n",
       "      <td>0.0</td>\n",
       "      <td>0.0</td>\n",
       "      <td>0.0</td>\n",
       "    </tr>\n",
       "    <tr>\n",
       "      <th>74488</th>\n",
       "      <td>0.0</td>\n",
       "      <td>0.0</td>\n",
       "      <td>0.0</td>\n",
       "      <td>0.0</td>\n",
       "      <td>0.0</td>\n",
       "      <td>0.0</td>\n",
       "      <td>0.0</td>\n",
       "      <td>0.0</td>\n",
       "      <td>0.0</td>\n",
       "      <td>0.0</td>\n",
       "      <td>...</td>\n",
       "      <td>0.0</td>\n",
       "      <td>0.0</td>\n",
       "      <td>0.0</td>\n",
       "      <td>0.0</td>\n",
       "      <td>0.0</td>\n",
       "      <td>0.0</td>\n",
       "      <td>0.0</td>\n",
       "      <td>0.0</td>\n",
       "      <td>0.0</td>\n",
       "      <td>0.0</td>\n",
       "    </tr>\n",
       "    <tr>\n",
       "      <th>74489</th>\n",
       "      <td>0.0</td>\n",
       "      <td>0.0</td>\n",
       "      <td>0.0</td>\n",
       "      <td>0.0</td>\n",
       "      <td>0.0</td>\n",
       "      <td>0.0</td>\n",
       "      <td>0.0</td>\n",
       "      <td>0.0</td>\n",
       "      <td>0.0</td>\n",
       "      <td>0.0</td>\n",
       "      <td>...</td>\n",
       "      <td>0.0</td>\n",
       "      <td>0.0</td>\n",
       "      <td>0.0</td>\n",
       "      <td>0.0</td>\n",
       "      <td>0.0</td>\n",
       "      <td>0.0</td>\n",
       "      <td>0.0</td>\n",
       "      <td>0.0</td>\n",
       "      <td>0.0</td>\n",
       "      <td>0.0</td>\n",
       "    </tr>\n",
       "  </tbody>\n",
       "</table>\n",
       "<p>74490 rows × 784 columns</p>\n",
       "</div>"
      ],
      "text/plain": [
       "       0.1  0.2  0.3  0.4  0.5  0.6  0.7  0.8  0.9  0.10  ...  0.639  0.640  \\\n",
       "0      0.0  0.0  0.0  0.0  0.0  0.0  0.0  0.0  0.0   0.0  ...    0.0    0.0   \n",
       "1      0.0  0.0  0.0  0.0  0.0  0.0  0.0  0.0  0.0   0.0  ...    0.0    0.0   \n",
       "2      0.0  0.0  0.0  0.0  0.0  0.0  0.0  0.0  0.0   0.0  ...    0.0    0.0   \n",
       "3      0.0  0.0  0.0  0.0  0.0  0.0  0.0  0.0  0.0   0.0  ...    0.0    0.0   \n",
       "4      0.0  0.0  0.0  0.0  0.0  0.0  0.0  0.0  0.0   0.0  ...    0.0    0.0   \n",
       "...    ...  ...  ...  ...  ...  ...  ...  ...  ...   ...  ...    ...    ...   \n",
       "74485  0.0  0.0  0.0  0.0  0.0  0.0  0.0  0.0  0.0   0.0  ...    0.0    0.0   \n",
       "74486  0.0  0.0  0.0  0.0  0.0  0.0  0.0  0.0  0.0   0.0  ...    0.0    0.0   \n",
       "74487  0.0  0.0  0.0  0.0  0.0  0.0  0.0  0.0  0.0   0.0  ...    0.0    0.0   \n",
       "74488  0.0  0.0  0.0  0.0  0.0  0.0  0.0  0.0  0.0   0.0  ...    0.0    0.0   \n",
       "74489  0.0  0.0  0.0  0.0  0.0  0.0  0.0  0.0  0.0   0.0  ...    0.0    0.0   \n",
       "\n",
       "       0.641  0.642  0.643  0.644  0.645  0.646  0.647  0.648  \n",
       "0        0.0    0.0    0.0    0.0    0.0    0.0    0.0    0.0  \n",
       "1        0.0    0.0    0.0    0.0    0.0    0.0    0.0    0.0  \n",
       "2        0.0    0.0    0.0    0.0    0.0    0.0    0.0    0.0  \n",
       "3        0.0    0.0    0.0    0.0    0.0    0.0    0.0    0.0  \n",
       "4        0.0    0.0    0.0    0.0    0.0    0.0    0.0    0.0  \n",
       "...      ...    ...    ...    ...    ...    ...    ...    ...  \n",
       "74485    0.0    0.0    0.0    0.0    0.0    0.0    0.0    0.0  \n",
       "74486    0.0    0.0    0.0    0.0    0.0    0.0    0.0    0.0  \n",
       "74487    0.0    0.0    0.0    0.0    0.0    0.0    0.0    0.0  \n",
       "74488    0.0    0.0    0.0    0.0    0.0    0.0    0.0    0.0  \n",
       "74489    0.0    0.0    0.0    0.0    0.0    0.0    0.0    0.0  \n",
       "\n",
       "[74490 rows x 784 columns]"
      ]
     },
     "execution_count": 35,
     "metadata": {},
     "output_type": "execute_result"
    }
   ],
   "source": [
    "#normalization - ADHARSH to test different techniques\n",
    "X_test_data = df_test / 255\n",
    "X_test_data"
   ]
  },
  {
   "cell_type": "code",
   "execution_count": 36,
   "id": "9511e84f",
   "metadata": {
    "execution": {
     "iopub.execute_input": "2023-06-21T19:02:19.646028Z",
     "iopub.status.busy": "2023-06-21T19:02:19.645613Z",
     "iopub.status.idle": "2023-06-21T19:02:26.204124Z",
     "shell.execute_reply": "2023-06-21T19:02:26.203074Z"
    },
    "papermill": {
     "duration": 7.73955,
     "end_time": "2023-06-21T19:02:26.206500",
     "exception": false,
     "start_time": "2023-06-21T19:02:18.466950",
     "status": "completed"
    },
    "tags": []
   },
   "outputs": [
    {
     "data": {
      "image/png": "[encoded data removed]",
      "text/plain": [
       "<Figure size 1000x1000 with 25 Axes>"
      ]
     },
     "metadata": {},
     "output_type": "display_data"
    }
   ],
   "source": [
    "#convert to numpy array\n",
    "X_test_data = np.array(X_test_data)\n",
    "X_test_data = X_test_data.reshape(-1,28,28,1)\n",
    "# Showing few images\n",
    "f, ax = plt.subplots(5,5)\n",
    "f.set_size_inches(10,10)\n",
    "k = 0\n",
    "for i in range(5):\n",
    "    for j in range(5):\n",
    "        ax[i,j].imshow(X_test_data[k].reshape(28,28), cmap='gray')\n",
    "        k += 1\n",
    "    plt.tight_layout()"
   ]
  },
  {
   "cell_type": "code",
   "execution_count": 37,
   "id": "27c20235",
   "metadata": {
    "execution": {
     "iopub.execute_input": "2023-06-21T19:02:28.496726Z",
     "iopub.status.busy": "2023-06-21T19:02:28.496283Z",
     "iopub.status.idle": "2023-06-21T19:02:43.242834Z",
     "shell.execute_reply": "2023-06-21T19:02:43.241843Z"
    },
    "papermill": {
     "duration": 15.858429,
     "end_time": "2023-06-21T19:02:43.246082",
     "exception": false,
     "start_time": "2023-06-21T19:02:27.387653",
     "status": "completed"
    },
    "tags": []
   },
   "outputs": [
    {
     "name": "stdout",
     "output_type": "stream",
     "text": [
      "2328/2328 [==============================] - 13s 6ms/step\n"
     ]
    }
   ],
   "source": [
    "#predict target variable (alphabet) using the CNN model\n",
    "y_pred=cnn_model.predict(X_test_data)"
   ]
  },
  {
   "cell_type": "code",
   "execution_count": 38,
   "id": "7bb1ea34",
   "metadata": {
    "execution": {
     "iopub.execute_input": "2023-06-21T19:02:45.648995Z",
     "iopub.status.busy": "2023-06-21T19:02:45.648313Z",
     "iopub.status.idle": "2023-06-21T19:02:45.654504Z",
     "shell.execute_reply": "2023-06-21T19:02:45.653606Z"
    },
    "papermill": {
     "duration": 1.205378,
     "end_time": "2023-06-21T19:02:45.656666",
     "exception": false,
     "start_time": "2023-06-21T19:02:44.451288",
     "status": "completed"
    },
    "tags": []
   },
   "outputs": [
    {
     "data": {
      "text/plain": [
       "(74490, 26)"
      ]
     },
     "execution_count": 38,
     "metadata": {},
     "output_type": "execute_result"
    }
   ],
   "source": [
    "#check prediction shape\n",
    "y_pred.shape"
   ]
  },
  {
   "cell_type": "markdown",
   "id": "8fc64bfe",
   "metadata": {
    "papermill": {
     "duration": 1.21366,
     "end_time": "2023-06-21T19:02:48.073623",
     "exception": false,
     "start_time": "2023-06-21T19:02:46.859963",
     "status": "completed"
    },
    "tags": []
   },
   "source": [
    "y_pred has 26 columns for all the rows; each column represents the probability of a letter for that row. The next line of code find the the column that has the max value and then puts that column as  value into the predictions variable I think. Adharsh to validate!"
   ]
  },
  {
   "cell_type": "code",
   "execution_count": 39,
   "id": "838b29b7",
   "metadata": {
    "execution": {
     "iopub.execute_input": "2023-06-21T19:02:50.410879Z",
     "iopub.status.busy": "2023-06-21T19:02:50.410357Z",
     "iopub.status.idle": "2023-06-21T19:02:50.419894Z",
     "shell.execute_reply": "2023-06-21T19:02:50.419074Z"
    },
    "papermill": {
     "duration": 1.203554,
     "end_time": "2023-06-21T19:02:50.422343",
     "exception": false,
     "start_time": "2023-06-21T19:02:49.218789",
     "status": "completed"
    },
    "tags": []
   },
   "outputs": [],
   "source": [
    "#creating our predictions using the pixel values; #\n",
    "# taking the largest number column value as the result from\n",
    "predictions = np.argmax(y_pred,axis = 1)"
   ]
  },
  {
   "cell_type": "code",
   "execution_count": 40,
   "id": "26d2f515",
   "metadata": {
    "execution": {
     "iopub.execute_input": "2023-06-21T19:02:52.762580Z",
     "iopub.status.busy": "2023-06-21T19:02:52.761899Z",
     "iopub.status.idle": "2023-06-21T19:02:52.768134Z",
     "shell.execute_reply": "2023-06-21T19:02:52.767090Z"
    },
    "papermill": {
     "duration": 1.153688,
     "end_time": "2023-06-21T19:02:52.770346",
     "exception": false,
     "start_time": "2023-06-21T19:02:51.616658",
     "status": "completed"
    },
    "tags": []
   },
   "outputs": [
    {
     "data": {
      "text/plain": [
       "(74490,)"
      ]
     },
     "execution_count": 40,
     "metadata": {},
     "output_type": "execute_result"
    }
   ],
   "source": [
    "#validate the shape of the predictions\n",
    "predictions.shape"
   ]
  },
  {
   "cell_type": "code",
   "execution_count": 41,
   "id": "d1d871a6",
   "metadata": {
    "execution": {
     "iopub.execute_input": "2023-06-21T19:02:55.081264Z",
     "iopub.status.busy": "2023-06-21T19:02:55.080880Z",
     "iopub.status.idle": "2023-06-21T19:02:55.085975Z",
     "shell.execute_reply": "2023-06-21T19:02:55.084919Z"
    },
    "papermill": {
     "duration": 1.120393,
     "end_time": "2023-06-21T19:02:55.087928",
     "exception": false,
     "start_time": "2023-06-21T19:02:53.967535",
     "status": "completed"
    },
    "tags": []
   },
   "outputs": [],
   "source": [
    "#convert numpy array to dataframe\n",
    "df_predictions = pd.DataFrame(predictions, columns = ['alphabet'])"
   ]
  },
  {
   "cell_type": "code",
   "execution_count": 42,
   "id": "7e2c78b5",
   "metadata": {
    "execution": {
     "iopub.execute_input": "2023-06-21T19:02:57.509402Z",
     "iopub.status.busy": "2023-06-21T19:02:57.509010Z",
     "iopub.status.idle": "2023-06-21T19:02:57.539109Z",
     "shell.execute_reply": "2023-06-21T19:02:57.537906Z"
    },
    "papermill": {
     "duration": 1.2231,
     "end_time": "2023-06-21T19:02:57.541682",
     "exception": false,
     "start_time": "2023-06-21T19:02:56.318582",
     "status": "completed"
    },
    "tags": []
   },
   "outputs": [],
   "source": [
    "#replace numbers with alphabet\n",
    "alphabet_y_test = df_predictions.replace([0,1,2,3,4,5,6,7,8,9,10,11,12,13,14,15,16,17,18,19,20,21,22,23,24,25], ['A', 'B', 'C', 'D', 'E', 'F', 'G', 'H', 'I', 'J', 'K', 'L', 'M',\n",
    "'N', 'O', 'P', 'Q', 'R', 'S', 'T', 'U', 'V', 'W', 'X', 'Y', 'Z'])"
   ]
  },
  {
   "cell_type": "code",
   "execution_count": 43,
   "id": "417c5fa1",
   "metadata": {
    "execution": {
     "iopub.execute_input": "2023-06-21T19:02:59.854315Z",
     "iopub.status.busy": "2023-06-21T19:02:59.853911Z",
     "iopub.status.idle": "2023-06-21T19:02:59.865323Z",
     "shell.execute_reply": "2023-06-21T19:02:59.864248Z"
    },
    "papermill": {
     "duration": 1.127413,
     "end_time": "2023-06-21T19:02:59.867463",
     "exception": false,
     "start_time": "2023-06-21T19:02:58.740050",
     "status": "completed"
    },
    "tags": []
   },
   "outputs": [
    {
     "data": {
      "text/html": [
       "<div>\n",
       "<style scoped>\n",
       "    .dataframe tbody tr th:only-of-type {\n",
       "        vertical-align: middle;\n",
       "    }\n",
       "\n",
       "    .dataframe tbody tr th {\n",
       "        vertical-align: top;\n",
       "    }\n",
       "\n",
       "    .dataframe thead th {\n",
       "        text-align: right;\n",
       "    }\n",
       "</style>\n",
       "<table border=\"1\" class=\"dataframe\">\n",
       "  <thead>\n",
       "    <tr style=\"text-align: right;\">\n",
       "      <th></th>\n",
       "      <th>alphabet</th>\n",
       "    </tr>\n",
       "  </thead>\n",
       "  <tbody>\n",
       "    <tr>\n",
       "      <th>0</th>\n",
       "      <td>M</td>\n",
       "    </tr>\n",
       "    <tr>\n",
       "      <th>1</th>\n",
       "      <td>S</td>\n",
       "    </tr>\n",
       "    <tr>\n",
       "      <th>2</th>\n",
       "      <td>C</td>\n",
       "    </tr>\n",
       "    <tr>\n",
       "      <th>3</th>\n",
       "      <td>Q</td>\n",
       "    </tr>\n",
       "    <tr>\n",
       "      <th>4</th>\n",
       "      <td>A</td>\n",
       "    </tr>\n",
       "    <tr>\n",
       "      <th>...</th>\n",
       "      <td>...</td>\n",
       "    </tr>\n",
       "    <tr>\n",
       "      <th>74485</th>\n",
       "      <td>N</td>\n",
       "    </tr>\n",
       "    <tr>\n",
       "      <th>74486</th>\n",
       "      <td>G</td>\n",
       "    </tr>\n",
       "    <tr>\n",
       "      <th>74487</th>\n",
       "      <td>J</td>\n",
       "    </tr>\n",
       "    <tr>\n",
       "      <th>74488</th>\n",
       "      <td>M</td>\n",
       "    </tr>\n",
       "    <tr>\n",
       "      <th>74489</th>\n",
       "      <td>S</td>\n",
       "    </tr>\n",
       "  </tbody>\n",
       "</table>\n",
       "<p>74490 rows × 1 columns</p>\n",
       "</div>"
      ],
      "text/plain": [
       "      alphabet\n",
       "0            M\n",
       "1            S\n",
       "2            C\n",
       "3            Q\n",
       "4            A\n",
       "...        ...\n",
       "74485        N\n",
       "74486        G\n",
       "74487        J\n",
       "74488        M\n",
       "74489        S\n",
       "\n",
       "[74490 rows x 1 columns]"
      ]
     },
     "execution_count": 43,
     "metadata": {},
     "output_type": "execute_result"
    }
   ],
   "source": [
    "#view the predictions\n",
    "alphabet_y_test"
   ]
  },
  {
   "cell_type": "markdown",
   "id": "617374b0",
   "metadata": {
    "papermill": {
     "duration": 1.197443,
     "end_time": "2023-06-21T19:03:02.254056",
     "exception": false,
     "start_time": "2023-06-21T19:03:01.056613",
     "status": "completed"
    },
    "tags": []
   },
   "source": [
    "### Saving the output prediction file"
   ]
  },
  {
   "cell_type": "code",
   "execution_count": 44,
   "id": "da1f3394",
   "metadata": {
    "execution": {
     "iopub.execute_input": "2023-06-21T19:03:04.575418Z",
     "iopub.status.busy": "2023-06-21T19:03:04.574618Z",
     "iopub.status.idle": "2023-06-21T19:03:04.681176Z",
     "shell.execute_reply": "2023-06-21T19:03:04.680097Z"
    },
    "papermill": {
     "duration": 1.300683,
     "end_time": "2023-06-21T19:03:04.683806",
     "exception": false,
     "start_time": "2023-06-21T19:03:03.383123",
     "status": "completed"
    },
    "tags": []
   },
   "outputs": [],
   "source": [
    "#save to CSV Result\n",
    "alphabet_y_test.to_csv('TestDataset_Prediction.csv')"
   ]
  }
 ],
 "metadata": {
  "kernelspec": {
   "display_name": "Python 3",
   "language": "python",
   "name": "python3"
  },
  "language_info": {
   "codemirror_mode": {
    "name": "ipython",
    "version": 3
   },
   "file_extension": ".py",
   "mimetype": "text/x-python",
   "name": "python",
   "nbconvert_exporter": "python",
   "pygments_lexer": "ipython3",
   "version": "3.10.10"
  },
  "papermill": {
   "default_parameters": {},
   "duration": 1435.572539,
   "end_time": "2023-06-21T19:03:08.781166",
   "environment_variables": {},
   "exception": null,
   "input_path": "__notebook__.ipynb",
   "output_path": "__notebook__.ipynb",
   "parameters": {},
   "start_time": "2023-06-21T18:39:13.208627",
   "version": "2.4.0"
  }
 },
 "nbformat": 4,
 "nbformat_minor": 5
}
