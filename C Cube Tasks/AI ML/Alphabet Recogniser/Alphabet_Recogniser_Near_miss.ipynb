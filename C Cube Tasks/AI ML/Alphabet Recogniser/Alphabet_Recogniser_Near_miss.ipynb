{
 "cells": [
  {
   "cell_type": "code",
   "execution_count": 1,
   "id": "68ef0d06",
   "metadata": {
    "_cell_guid": "b1076dfc-b9ad-4769-8c92-a6c4dae69d19",
    "_uuid": "8f2839f25d086af736a60e9eeb907d3b93b6e0e5",
    "execution": {
     "iopub.execute_input": "2023-06-22T15:53:54.858758Z",
     "iopub.status.busy": "2023-06-22T15:53:54.858413Z",
     "iopub.status.idle": "2023-06-22T15:53:54.879199Z",
     "shell.execute_reply": "2023-06-22T15:53:54.878298Z"
    },
    "papermill": {
     "duration": 0.036719,
     "end_time": "2023-06-22T15:53:54.881153",
     "exception": false,
     "start_time": "2023-06-22T15:53:54.844434",
     "status": "completed"
    },
    "tags": []
   },
   "outputs": [
    {
     "name": "stdout",
     "output_type": "stream",
     "text": [
      "/kaggle/input/alphabet/train.csv\n",
      "/kaggle/input/alphabet/test.csv\n"
     ]
    }
   ],
   "source": [
    "# This Python 3 environment comes with many helpful analytics libraries installed\n",
    "# It is defined by the kaggle/python Docker image: https://github.com/kaggle/docker-python\n",
    "# For example, here's several helpful packages to load\n",
    "\n",
    "import numpy as np # linear algebra\n",
    "import pandas as pd # data processing, CSV file I/O (e.g. pd.read_csv)\n",
    "\n",
    "# Input data files are available in the read-only \"../input/\" directory\n",
    "# For example, running this (by clicking run or pressing Shift+Enter) will list all files under the input directory\n",
    "\n",
    "import os\n",
    "for dirname, _, filenames in os.walk('/kaggle/input'):\n",
    "    for filename in filenames:\n",
    "        print(os.path.join(dirname, filename))\n",
    "\n",
    "# You can write up to 20GB to the current directory (/kaggle/working/) that gets preserved as output when you create a version using \"Save & Run All\" \n",
    "# You can also write temporary files to /kaggle/temp/, but they won't be saved outside of the current session"
   ]
  },
  {
   "cell_type": "code",
   "execution_count": 2,
   "id": "737838cf",
   "metadata": {
    "execution": {
     "iopub.execute_input": "2023-06-22T15:53:54.907987Z",
     "iopub.status.busy": "2023-06-22T15:53:54.907262Z",
     "iopub.status.idle": "2023-06-22T15:54:04.341859Z",
     "shell.execute_reply": "2023-06-22T15:54:04.340831Z"
    },
    "papermill": {
     "duration": 9.450618,
     "end_time": "2023-06-22T15:54:04.344289",
     "exception": false,
     "start_time": "2023-06-22T15:53:54.893671",
     "status": "completed"
    },
    "tags": []
   },
   "outputs": [
    {
     "name": "stderr",
     "output_type": "stream",
     "text": [
      "/opt/conda/lib/python3.10/site-packages/tensorflow_io/python/ops/__init__.py:98: UserWarning: unable to load libtensorflow_io_plugins.so: unable to open file: libtensorflow_io_plugins.so, from paths: ['/opt/conda/lib/python3.10/site-packages/tensorflow_io/python/ops/libtensorflow_io_plugins.so']\n",
      "caused by: ['/opt/conda/lib/python3.10/site-packages/tensorflow_io/python/ops/libtensorflow_io_plugins.so: undefined symbol: _ZN3tsl6StatusC1EN10tensorflow5error4CodeESt17basic_string_viewIcSt11char_traitsIcEENS_14SourceLocationE']\n",
      "  warnings.warn(f\"unable to load libtensorflow_io_plugins.so: {e}\")\n",
      "/opt/conda/lib/python3.10/site-packages/tensorflow_io/python/ops/__init__.py:104: UserWarning: file system plugins are not loaded: unable to open file: libtensorflow_io.so, from paths: ['/opt/conda/lib/python3.10/site-packages/tensorflow_io/python/ops/libtensorflow_io.so']\n",
      "caused by: ['/opt/conda/lib/python3.10/site-packages/tensorflow_io/python/ops/libtensorflow_io.so: undefined symbol: _ZTVN10tensorflow13GcsFileSystemE']\n",
      "  warnings.warn(f\"file system plugins are not loaded: {e}\")\n"
     ]
    }
   ],
   "source": [
    "import numpy as np\n",
    "import pandas as pd\n",
    "import seaborn as sns\n",
    "import matplotlib.pyplot as plt\n",
    "\n",
    "# for handling balancing of output classes in training sample data\n",
    "from imblearn.under_sampling import NearMiss\n",
    "from keras.utils import np_utils\n",
    "\n",
    "from sklearn.model_selection import train_test_split\n",
    "from sklearn.metrics import classification_report , confusion_matrix\n",
    "\n",
    "import tensorflow as tf\n",
    "import cv2\n",
    "from sklearn.model_selection import GridSearchCV\n",
    "from sklearn.model_selection import KFold\n",
    "\n",
    "\n",
    "import keras\n",
    "from keras.models import Sequential\n",
    "from keras.layers import Dense\n",
    "from keras.wrappers.scikit_learn import KerasClassifier\n",
    "from tensorflow.keras.optimizers import Adam\n",
    "from keras.layers import Dense, Conv2D, MaxPool2D, Flatten, Dropout, BatchNormalization\n",
    "from keras.layers import Dropout\n",
    "\n",
    "# for learning rate decay\n",
    "from keras.callbacks import ReduceLROnPlateau\n",
    "from tensorflow.keras.models import Sequential\n",
    "from tensorflow.keras.layers import Dense, Conv2D,MaxPooling2D, Flatten, Dropout, BatchNormalization\n",
    "from tensorflow.keras.optimizers import SGD\n",
    "\n",
    "import warnings\n",
    "warnings.filterwarnings('ignore')"
   ]
  },
  {
   "cell_type": "markdown",
   "id": "9c3c352a",
   "metadata": {
    "papermill": {
     "duration": 0.012515,
     "end_time": "2023-06-22T15:54:04.370514",
     "exception": false,
     "start_time": "2023-06-22T15:54:04.357999",
     "status": "completed"
    },
    "tags": []
   },
   "source": [
    "# **Alphabet Recognizer**\n",
    "# Problem Statement\n",
    "The input training dataset contains 28x28 pixel 297960 sample handwritten alphabets. It is represented by 784 features(columns) in the input dataset. The input dataset as well contains the target alphabet value (as numbers from 0..25) as a separate column ( in addition to 784 features columns).\n",
    "\n",
    "The ask is to train a model and use it to predict handwritten alphabets for a test data set having 74490 sample images.\n",
    "An output csv file is generated for test data set predictions using the best configured model.\n",
    "\n"
   ]
  },
  {
   "cell_type": "markdown",
   "id": "f7ef4a0a",
   "metadata": {
    "papermill": {
     "duration": 0.014562,
     "end_time": "2023-06-22T15:54:04.397998",
     "exception": false,
     "start_time": "2023-06-22T15:54:04.383436",
     "status": "completed"
    },
    "tags": []
   },
   "source": [
    "# Solution Steps\n",
    "This solution requires multi-class classification (26 alphabets). We have used a simple trial CNN to start with and we created a final CNN model after parameter tuning.\n",
    "1. Read Data set\n",
    "1. Examine Data set Properties\n",
    "1. Inspecting the Dataframe\n",
    "1. Data Preparation\n",
    "    1. Copy Target Column(Alphabet) values and Remove from Training Data set\n",
    "\t1. Validate Training Sample size per Alphabet \n",
    "    1. Under sampling of Training dataset to balance class distribution\n",
    "    1. Normalize Training dataset\n",
    "    1. Reshape Training dataset for CNN Model\n",
    "    1. Encode Target Variable\n",
    "1. Model Creation\n",
    "    1. Test-Train Split ( Training data set split into training, test(validation) dataset)\n",
    "    1. Trial CNN \n",
    "        1. Model Definition\n",
    "        1. Model Training / Fit\n",
    "        1. Model Evaluation againt Validation\n",
    "    1. Grid Search for Model Parameters\n",
    "        1. Fully connected - Dense Layers and Neurons\n",
    "        1. Batch size for training(fit)\n",
    "        1. Drop out ratio for training(fit)\n",
    "    1. Final Model\n",
    "    1. Making predictions on the test set and Evaluation\n",
    "    1. Saving the output prediction file\n"
   ]
  },
  {
   "cell_type": "markdown",
   "id": "345814ca",
   "metadata": {
    "papermill": {
     "duration": 0.013801,
     "end_time": "2023-06-22T15:54:04.425442",
     "exception": false,
     "start_time": "2023-06-22T15:54:04.411641",
     "status": "completed"
    },
    "tags": []
   },
   "source": [
    "# Read Training Data set"
   ]
  },
  {
   "cell_type": "code",
   "execution_count": 3,
   "id": "053d1ad3",
   "metadata": {
    "execution": {
     "iopub.execute_input": "2023-06-22T15:54:04.453501Z",
     "iopub.status.busy": "2023-06-22T15:54:04.452756Z",
     "iopub.status.idle": "2023-06-22T15:54:29.218109Z",
     "shell.execute_reply": "2023-06-22T15:54:29.217072Z"
    },
    "papermill": {
     "duration": 24.781806,
     "end_time": "2023-06-22T15:54:29.220540",
     "exception": false,
     "start_time": "2023-06-22T15:54:04.438734",
     "status": "completed"
    },
    "tags": []
   },
   "outputs": [],
   "source": [
    "#read training dataset\n",
    "df_train = pd.read_csv('/kaggle/input/alphabet/train.csv')"
   ]
  },
  {
   "cell_type": "markdown",
   "id": "24445283",
   "metadata": {
    "papermill": {
     "duration": 0.012512,
     "end_time": "2023-06-22T15:54:29.246147",
     "exception": false,
     "start_time": "2023-06-22T15:54:29.233635",
     "status": "completed"
    },
    "tags": []
   },
   "source": [
    "# Examine Training Dataset Properties"
   ]
  },
  {
   "cell_type": "code",
   "execution_count": 4,
   "id": "af09d52b",
   "metadata": {
    "execution": {
     "iopub.execute_input": "2023-06-22T15:54:29.273688Z",
     "iopub.status.busy": "2023-06-22T15:54:29.272789Z",
     "iopub.status.idle": "2023-06-22T15:54:29.280360Z",
     "shell.execute_reply": "2023-06-22T15:54:29.279352Z"
    },
    "papermill": {
     "duration": 0.024211,
     "end_time": "2023-06-22T15:54:29.283082",
     "exception": false,
     "start_time": "2023-06-22T15:54:29.258871",
     "status": "completed"
    },
    "tags": []
   },
   "outputs": [
    {
     "data": {
      "text/plain": [
       "(297960, 785)"
      ]
     },
     "execution_count": 4,
     "metadata": {},
     "output_type": "execute_result"
    }
   ],
   "source": [
    "#find the rows x columns\n",
    "df_train.shape"
   ]
  },
  {
   "cell_type": "markdown",
   "id": "f0a63225",
   "metadata": {
    "papermill": {
     "duration": 0.01239,
     "end_time": "2023-06-22T15:54:29.308052",
     "exception": false,
     "start_time": "2023-06-22T15:54:29.295662",
     "status": "completed"
    },
    "tags": []
   },
   "source": [
    "# Inspecting the Dataframe\n"
   ]
  },
  {
   "cell_type": "code",
   "execution_count": 5,
   "id": "9b32c11e",
   "metadata": {
    "execution": {
     "iopub.execute_input": "2023-06-22T15:54:29.334684Z",
     "iopub.status.busy": "2023-06-22T15:54:29.334397Z",
     "iopub.status.idle": "2023-06-22T15:54:29.359716Z",
     "shell.execute_reply": "2023-06-22T15:54:29.358740Z"
    },
    "papermill": {
     "duration": 0.041291,
     "end_time": "2023-06-22T15:54:29.362036",
     "exception": false,
     "start_time": "2023-06-22T15:54:29.320745",
     "status": "completed"
    },
    "tags": []
   },
   "outputs": [
    {
     "data": {
      "text/html": [
       "<div>\n",
       "<style scoped>\n",
       "    .dataframe tbody tr th:only-of-type {\n",
       "        vertical-align: middle;\n",
       "    }\n",
       "\n",
       "    .dataframe tbody tr th {\n",
       "        vertical-align: top;\n",
       "    }\n",
       "\n",
       "    .dataframe thead th {\n",
       "        text-align: right;\n",
       "    }\n",
       "</style>\n",
       "<table border=\"1\" class=\"dataframe\">\n",
       "  <thead>\n",
       "    <tr style=\"text-align: right;\">\n",
       "      <th></th>\n",
       "      <th>0</th>\n",
       "      <th>0.1</th>\n",
       "      <th>0.2</th>\n",
       "      <th>0.3</th>\n",
       "      <th>0.4</th>\n",
       "      <th>0.5</th>\n",
       "      <th>0.6</th>\n",
       "      <th>0.7</th>\n",
       "      <th>0.8</th>\n",
       "      <th>0.9</th>\n",
       "      <th>...</th>\n",
       "      <th>0.639</th>\n",
       "      <th>0.640</th>\n",
       "      <th>0.641</th>\n",
       "      <th>0.642</th>\n",
       "      <th>0.643</th>\n",
       "      <th>0.644</th>\n",
       "      <th>0.645</th>\n",
       "      <th>0.646</th>\n",
       "      <th>0.647</th>\n",
       "      <th>0.648</th>\n",
       "    </tr>\n",
       "  </thead>\n",
       "  <tbody>\n",
       "    <tr>\n",
       "      <th>0</th>\n",
       "      <td>1</td>\n",
       "      <td>0</td>\n",
       "      <td>0</td>\n",
       "      <td>0</td>\n",
       "      <td>0</td>\n",
       "      <td>0</td>\n",
       "      <td>0</td>\n",
       "      <td>0</td>\n",
       "      <td>0</td>\n",
       "      <td>0</td>\n",
       "      <td>...</td>\n",
       "      <td>0</td>\n",
       "      <td>0</td>\n",
       "      <td>0</td>\n",
       "      <td>0</td>\n",
       "      <td>0</td>\n",
       "      <td>0</td>\n",
       "      <td>0</td>\n",
       "      <td>0</td>\n",
       "      <td>0</td>\n",
       "      <td>0</td>\n",
       "    </tr>\n",
       "    <tr>\n",
       "      <th>1</th>\n",
       "      <td>18</td>\n",
       "      <td>0</td>\n",
       "      <td>0</td>\n",
       "      <td>0</td>\n",
       "      <td>0</td>\n",
       "      <td>0</td>\n",
       "      <td>0</td>\n",
       "      <td>0</td>\n",
       "      <td>0</td>\n",
       "      <td>0</td>\n",
       "      <td>...</td>\n",
       "      <td>0</td>\n",
       "      <td>0</td>\n",
       "      <td>0</td>\n",
       "      <td>0</td>\n",
       "      <td>0</td>\n",
       "      <td>0</td>\n",
       "      <td>0</td>\n",
       "      <td>0</td>\n",
       "      <td>0</td>\n",
       "      <td>0</td>\n",
       "    </tr>\n",
       "    <tr>\n",
       "      <th>2</th>\n",
       "      <td>1</td>\n",
       "      <td>0</td>\n",
       "      <td>0</td>\n",
       "      <td>0</td>\n",
       "      <td>0</td>\n",
       "      <td>0</td>\n",
       "      <td>0</td>\n",
       "      <td>0</td>\n",
       "      <td>0</td>\n",
       "      <td>0</td>\n",
       "      <td>...</td>\n",
       "      <td>0</td>\n",
       "      <td>0</td>\n",
       "      <td>0</td>\n",
       "      <td>0</td>\n",
       "      <td>0</td>\n",
       "      <td>0</td>\n",
       "      <td>0</td>\n",
       "      <td>0</td>\n",
       "      <td>0</td>\n",
       "      <td>0</td>\n",
       "    </tr>\n",
       "    <tr>\n",
       "      <th>3</th>\n",
       "      <td>18</td>\n",
       "      <td>0</td>\n",
       "      <td>0</td>\n",
       "      <td>0</td>\n",
       "      <td>0</td>\n",
       "      <td>0</td>\n",
       "      <td>0</td>\n",
       "      <td>0</td>\n",
       "      <td>0</td>\n",
       "      <td>0</td>\n",
       "      <td>...</td>\n",
       "      <td>0</td>\n",
       "      <td>0</td>\n",
       "      <td>0</td>\n",
       "      <td>0</td>\n",
       "      <td>0</td>\n",
       "      <td>0</td>\n",
       "      <td>0</td>\n",
       "      <td>0</td>\n",
       "      <td>0</td>\n",
       "      <td>0</td>\n",
       "    </tr>\n",
       "    <tr>\n",
       "      <th>4</th>\n",
       "      <td>18</td>\n",
       "      <td>0</td>\n",
       "      <td>0</td>\n",
       "      <td>0</td>\n",
       "      <td>0</td>\n",
       "      <td>0</td>\n",
       "      <td>0</td>\n",
       "      <td>0</td>\n",
       "      <td>0</td>\n",
       "      <td>0</td>\n",
       "      <td>...</td>\n",
       "      <td>0</td>\n",
       "      <td>0</td>\n",
       "      <td>0</td>\n",
       "      <td>0</td>\n",
       "      <td>0</td>\n",
       "      <td>0</td>\n",
       "      <td>0</td>\n",
       "      <td>0</td>\n",
       "      <td>0</td>\n",
       "      <td>0</td>\n",
       "    </tr>\n",
       "    <tr>\n",
       "      <th>5</th>\n",
       "      <td>25</td>\n",
       "      <td>0</td>\n",
       "      <td>0</td>\n",
       "      <td>0</td>\n",
       "      <td>0</td>\n",
       "      <td>0</td>\n",
       "      <td>0</td>\n",
       "      <td>0</td>\n",
       "      <td>0</td>\n",
       "      <td>0</td>\n",
       "      <td>...</td>\n",
       "      <td>0</td>\n",
       "      <td>0</td>\n",
       "      <td>0</td>\n",
       "      <td>0</td>\n",
       "      <td>0</td>\n",
       "      <td>0</td>\n",
       "      <td>0</td>\n",
       "      <td>0</td>\n",
       "      <td>0</td>\n",
       "      <td>0</td>\n",
       "    </tr>\n",
       "    <tr>\n",
       "      <th>6</th>\n",
       "      <td>3</td>\n",
       "      <td>0</td>\n",
       "      <td>0</td>\n",
       "      <td>0</td>\n",
       "      <td>0</td>\n",
       "      <td>0</td>\n",
       "      <td>0</td>\n",
       "      <td>0</td>\n",
       "      <td>0</td>\n",
       "      <td>0</td>\n",
       "      <td>...</td>\n",
       "      <td>0</td>\n",
       "      <td>0</td>\n",
       "      <td>0</td>\n",
       "      <td>0</td>\n",
       "      <td>0</td>\n",
       "      <td>0</td>\n",
       "      <td>0</td>\n",
       "      <td>0</td>\n",
       "      <td>0</td>\n",
       "      <td>0</td>\n",
       "    </tr>\n",
       "    <tr>\n",
       "      <th>7</th>\n",
       "      <td>18</td>\n",
       "      <td>0</td>\n",
       "      <td>0</td>\n",
       "      <td>0</td>\n",
       "      <td>0</td>\n",
       "      <td>0</td>\n",
       "      <td>0</td>\n",
       "      <td>0</td>\n",
       "      <td>0</td>\n",
       "      <td>0</td>\n",
       "      <td>...</td>\n",
       "      <td>0</td>\n",
       "      <td>0</td>\n",
       "      <td>0</td>\n",
       "      <td>0</td>\n",
       "      <td>0</td>\n",
       "      <td>0</td>\n",
       "      <td>0</td>\n",
       "      <td>0</td>\n",
       "      <td>0</td>\n",
       "      <td>0</td>\n",
       "    </tr>\n",
       "    <tr>\n",
       "      <th>8</th>\n",
       "      <td>18</td>\n",
       "      <td>0</td>\n",
       "      <td>0</td>\n",
       "      <td>0</td>\n",
       "      <td>0</td>\n",
       "      <td>0</td>\n",
       "      <td>0</td>\n",
       "      <td>0</td>\n",
       "      <td>0</td>\n",
       "      <td>0</td>\n",
       "      <td>...</td>\n",
       "      <td>0</td>\n",
       "      <td>0</td>\n",
       "      <td>0</td>\n",
       "      <td>0</td>\n",
       "      <td>0</td>\n",
       "      <td>0</td>\n",
       "      <td>0</td>\n",
       "      <td>0</td>\n",
       "      <td>0</td>\n",
       "      <td>0</td>\n",
       "    </tr>\n",
       "    <tr>\n",
       "      <th>9</th>\n",
       "      <td>13</td>\n",
       "      <td>0</td>\n",
       "      <td>0</td>\n",
       "      <td>0</td>\n",
       "      <td>0</td>\n",
       "      <td>0</td>\n",
       "      <td>0</td>\n",
       "      <td>0</td>\n",
       "      <td>0</td>\n",
       "      <td>0</td>\n",
       "      <td>...</td>\n",
       "      <td>0</td>\n",
       "      <td>0</td>\n",
       "      <td>0</td>\n",
       "      <td>0</td>\n",
       "      <td>0</td>\n",
       "      <td>0</td>\n",
       "      <td>0</td>\n",
       "      <td>0</td>\n",
       "      <td>0</td>\n",
       "      <td>0</td>\n",
       "    </tr>\n",
       "  </tbody>\n",
       "</table>\n",
       "<p>10 rows × 785 columns</p>\n",
       "</div>"
      ],
      "text/plain": [
       "    0  0.1  0.2  0.3  0.4  0.5  0.6  0.7  0.8  0.9  ...  0.639  0.640  0.641  \\\n",
       "0   1    0    0    0    0    0    0    0    0    0  ...      0      0      0   \n",
       "1  18    0    0    0    0    0    0    0    0    0  ...      0      0      0   \n",
       "2   1    0    0    0    0    0    0    0    0    0  ...      0      0      0   \n",
       "3  18    0    0    0    0    0    0    0    0    0  ...      0      0      0   \n",
       "4  18    0    0    0    0    0    0    0    0    0  ...      0      0      0   \n",
       "5  25    0    0    0    0    0    0    0    0    0  ...      0      0      0   \n",
       "6   3    0    0    0    0    0    0    0    0    0  ...      0      0      0   \n",
       "7  18    0    0    0    0    0    0    0    0    0  ...      0      0      0   \n",
       "8  18    0    0    0    0    0    0    0    0    0  ...      0      0      0   \n",
       "9  13    0    0    0    0    0    0    0    0    0  ...      0      0      0   \n",
       "\n",
       "   0.642  0.643  0.644  0.645  0.646  0.647  0.648  \n",
       "0      0      0      0      0      0      0      0  \n",
       "1      0      0      0      0      0      0      0  \n",
       "2      0      0      0      0      0      0      0  \n",
       "3      0      0      0      0      0      0      0  \n",
       "4      0      0      0      0      0      0      0  \n",
       "5      0      0      0      0      0      0      0  \n",
       "6      0      0      0      0      0      0      0  \n",
       "7      0      0      0      0      0      0      0  \n",
       "8      0      0      0      0      0      0      0  \n",
       "9      0      0      0      0      0      0      0  \n",
       "\n",
       "[10 rows x 785 columns]"
      ]
     },
     "execution_count": 5,
     "metadata": {},
     "output_type": "execute_result"
    }
   ],
   "source": [
    "#see the first 10 rows\n",
    "df_train.head(10)"
   ]
  },
  {
   "cell_type": "code",
   "execution_count": 6,
   "id": "fe1e89ad",
   "metadata": {
    "execution": {
     "iopub.execute_input": "2023-06-22T15:54:29.390151Z",
     "iopub.status.busy": "2023-06-22T15:54:29.389838Z",
     "iopub.status.idle": "2023-06-22T15:54:29.404841Z",
     "shell.execute_reply": "2023-06-22T15:54:29.403849Z"
    },
    "papermill": {
     "duration": 0.032006,
     "end_time": "2023-06-22T15:54:29.407839",
     "exception": false,
     "start_time": "2023-06-22T15:54:29.375833",
     "status": "completed"
    },
    "tags": []
   },
   "outputs": [
    {
     "data": {
      "text/html": [
       "<div>\n",
       "<style scoped>\n",
       "    .dataframe tbody tr th:only-of-type {\n",
       "        vertical-align: middle;\n",
       "    }\n",
       "\n",
       "    .dataframe tbody tr th {\n",
       "        vertical-align: top;\n",
       "    }\n",
       "\n",
       "    .dataframe thead th {\n",
       "        text-align: right;\n",
       "    }\n",
       "</style>\n",
       "<table border=\"1\" class=\"dataframe\">\n",
       "  <thead>\n",
       "    <tr style=\"text-align: right;\">\n",
       "      <th></th>\n",
       "      <th>0</th>\n",
       "      <th>0.1</th>\n",
       "      <th>0.2</th>\n",
       "      <th>0.3</th>\n",
       "      <th>0.4</th>\n",
       "      <th>0.5</th>\n",
       "      <th>0.6</th>\n",
       "      <th>0.7</th>\n",
       "      <th>0.8</th>\n",
       "      <th>0.9</th>\n",
       "      <th>...</th>\n",
       "      <th>0.639</th>\n",
       "      <th>0.640</th>\n",
       "      <th>0.641</th>\n",
       "      <th>0.642</th>\n",
       "      <th>0.643</th>\n",
       "      <th>0.644</th>\n",
       "      <th>0.645</th>\n",
       "      <th>0.646</th>\n",
       "      <th>0.647</th>\n",
       "      <th>0.648</th>\n",
       "    </tr>\n",
       "  </thead>\n",
       "  <tbody>\n",
       "    <tr>\n",
       "      <th>297955</th>\n",
       "      <td>18</td>\n",
       "      <td>0</td>\n",
       "      <td>0</td>\n",
       "      <td>0</td>\n",
       "      <td>0</td>\n",
       "      <td>0</td>\n",
       "      <td>0</td>\n",
       "      <td>0</td>\n",
       "      <td>0</td>\n",
       "      <td>0</td>\n",
       "      <td>...</td>\n",
       "      <td>0</td>\n",
       "      <td>0</td>\n",
       "      <td>0</td>\n",
       "      <td>0</td>\n",
       "      <td>0</td>\n",
       "      <td>0</td>\n",
       "      <td>0</td>\n",
       "      <td>0</td>\n",
       "      <td>0</td>\n",
       "      <td>0</td>\n",
       "    </tr>\n",
       "    <tr>\n",
       "      <th>297956</th>\n",
       "      <td>24</td>\n",
       "      <td>0</td>\n",
       "      <td>0</td>\n",
       "      <td>0</td>\n",
       "      <td>0</td>\n",
       "      <td>0</td>\n",
       "      <td>0</td>\n",
       "      <td>0</td>\n",
       "      <td>0</td>\n",
       "      <td>0</td>\n",
       "      <td>...</td>\n",
       "      <td>0</td>\n",
       "      <td>0</td>\n",
       "      <td>0</td>\n",
       "      <td>0</td>\n",
       "      <td>0</td>\n",
       "      <td>0</td>\n",
       "      <td>0</td>\n",
       "      <td>0</td>\n",
       "      <td>0</td>\n",
       "      <td>0</td>\n",
       "    </tr>\n",
       "    <tr>\n",
       "      <th>297957</th>\n",
       "      <td>13</td>\n",
       "      <td>0</td>\n",
       "      <td>0</td>\n",
       "      <td>0</td>\n",
       "      <td>0</td>\n",
       "      <td>0</td>\n",
       "      <td>0</td>\n",
       "      <td>0</td>\n",
       "      <td>0</td>\n",
       "      <td>0</td>\n",
       "      <td>...</td>\n",
       "      <td>0</td>\n",
       "      <td>0</td>\n",
       "      <td>0</td>\n",
       "      <td>0</td>\n",
       "      <td>0</td>\n",
       "      <td>0</td>\n",
       "      <td>0</td>\n",
       "      <td>0</td>\n",
       "      <td>0</td>\n",
       "      <td>0</td>\n",
       "    </tr>\n",
       "    <tr>\n",
       "      <th>297958</th>\n",
       "      <td>14</td>\n",
       "      <td>0</td>\n",
       "      <td>0</td>\n",
       "      <td>0</td>\n",
       "      <td>0</td>\n",
       "      <td>0</td>\n",
       "      <td>0</td>\n",
       "      <td>0</td>\n",
       "      <td>0</td>\n",
       "      <td>0</td>\n",
       "      <td>...</td>\n",
       "      <td>0</td>\n",
       "      <td>0</td>\n",
       "      <td>0</td>\n",
       "      <td>0</td>\n",
       "      <td>0</td>\n",
       "      <td>0</td>\n",
       "      <td>0</td>\n",
       "      <td>0</td>\n",
       "      <td>0</td>\n",
       "      <td>0</td>\n",
       "    </tr>\n",
       "    <tr>\n",
       "      <th>297959</th>\n",
       "      <td>13</td>\n",
       "      <td>0</td>\n",
       "      <td>0</td>\n",
       "      <td>0</td>\n",
       "      <td>0</td>\n",
       "      <td>0</td>\n",
       "      <td>0</td>\n",
       "      <td>0</td>\n",
       "      <td>0</td>\n",
       "      <td>0</td>\n",
       "      <td>...</td>\n",
       "      <td>0</td>\n",
       "      <td>0</td>\n",
       "      <td>0</td>\n",
       "      <td>0</td>\n",
       "      <td>0</td>\n",
       "      <td>0</td>\n",
       "      <td>0</td>\n",
       "      <td>0</td>\n",
       "      <td>0</td>\n",
       "      <td>0</td>\n",
       "    </tr>\n",
       "  </tbody>\n",
       "</table>\n",
       "<p>5 rows × 785 columns</p>\n",
       "</div>"
      ],
      "text/plain": [
       "         0  0.1  0.2  0.3  0.4  0.5  0.6  0.7  0.8  0.9  ...  0.639  0.640  \\\n",
       "297955  18    0    0    0    0    0    0    0    0    0  ...      0      0   \n",
       "297956  24    0    0    0    0    0    0    0    0    0  ...      0      0   \n",
       "297957  13    0    0    0    0    0    0    0    0    0  ...      0      0   \n",
       "297958  14    0    0    0    0    0    0    0    0    0  ...      0      0   \n",
       "297959  13    0    0    0    0    0    0    0    0    0  ...      0      0   \n",
       "\n",
       "        0.641  0.642  0.643  0.644  0.645  0.646  0.647  0.648  \n",
       "297955      0      0      0      0      0      0      0      0  \n",
       "297956      0      0      0      0      0      0      0      0  \n",
       "297957      0      0      0      0      0      0      0      0  \n",
       "297958      0      0      0      0      0      0      0      0  \n",
       "297959      0      0      0      0      0      0      0      0  \n",
       "\n",
       "[5 rows x 785 columns]"
      ]
     },
     "execution_count": 6,
     "metadata": {},
     "output_type": "execute_result"
    }
   ],
   "source": [
    "#see the last 10 rows\n",
    "df_train.tail()"
   ]
  },
  {
   "cell_type": "markdown",
   "id": "3d9b53e8",
   "metadata": {
    "papermill": {
     "duration": 0.014776,
     "end_time": "2023-06-22T15:54:29.436178",
     "exception": false,
     "start_time": "2023-06-22T15:54:29.421402",
     "status": "completed"
    },
    "tags": []
   },
   "source": [
    "# Data Preparation"
   ]
  },
  {
   "cell_type": "markdown",
   "id": "473ba721",
   "metadata": {
    "papermill": {
     "duration": 0.013226,
     "end_time": "2023-06-22T15:54:29.462903",
     "exception": false,
     "start_time": "2023-06-22T15:54:29.449677",
     "status": "completed"
    },
    "tags": []
   },
   "source": [
    "  ### Copy Target Column(Alphabet) values and Remove from Training Data set\n"
   ]
  },
  {
   "cell_type": "code",
   "execution_count": 7,
   "id": "9f85c795",
   "metadata": {
    "execution": {
     "iopub.execute_input": "2023-06-22T15:54:29.491667Z",
     "iopub.status.busy": "2023-06-22T15:54:29.490828Z",
     "iopub.status.idle": "2023-06-22T15:54:29.498993Z",
     "shell.execute_reply": "2023-06-22T15:54:29.498156Z"
    },
    "papermill": {
     "duration": 0.024443,
     "end_time": "2023-06-22T15:54:29.500850",
     "exception": false,
     "start_time": "2023-06-22T15:54:29.476407",
     "status": "completed"
    },
    "tags": []
   },
   "outputs": [],
   "source": [
    "#create target variable y for the alphabet dataset\n",
    "y_train = df_train['0']\n",
    "\n",
    "#remove target column from the df_alpha\n",
    "del df_train['0']"
   ]
  },
  {
   "cell_type": "code",
   "execution_count": 8,
   "id": "63b7a946",
   "metadata": {
    "execution": {
     "iopub.execute_input": "2023-06-22T15:54:29.529595Z",
     "iopub.status.busy": "2023-06-22T15:54:29.528797Z",
     "iopub.status.idle": "2023-06-22T15:54:29.609049Z",
     "shell.execute_reply": "2023-06-22T15:54:29.608176Z"
    },
    "papermill": {
     "duration": 0.09689,
     "end_time": "2023-06-22T15:54:29.611223",
     "exception": false,
     "start_time": "2023-06-22T15:54:29.514333",
     "status": "completed"
    },
    "tags": []
   },
   "outputs": [],
   "source": [
    "# Rename values\n",
    "alphabet_y_train = y_train.replace([0,1,2,3,4,5,6,7,8,9,10,11,12,13,14,15,16,17,18,19,20,21,22,23,24,25], ['A', 'B', 'C', 'D', 'E', 'F', 'G', 'H', 'I', 'J', 'K', 'L', 'M',\n",
    "'N', 'O', 'P', 'Q', 'R', 'S', 'T', 'U', 'V', 'W', 'X', 'Y', 'Z'])\n"
   ]
  },
  {
   "cell_type": "code",
   "execution_count": 9,
   "id": "3850b2f8",
   "metadata": {
    "execution": {
     "iopub.execute_input": "2023-06-22T15:54:29.640505Z",
     "iopub.status.busy": "2023-06-22T15:54:29.640206Z",
     "iopub.status.idle": "2023-06-22T15:54:29.647219Z",
     "shell.execute_reply": "2023-06-22T15:54:29.646377Z"
    },
    "papermill": {
     "duration": 0.024042,
     "end_time": "2023-06-22T15:54:29.649086",
     "exception": false,
     "start_time": "2023-06-22T15:54:29.625044",
     "status": "completed"
    },
    "tags": []
   },
   "outputs": [
    {
     "data": {
      "text/plain": [
       "0         B\n",
       "1         S\n",
       "2         B\n",
       "3         S\n",
       "4         S\n",
       "         ..\n",
       "297955    S\n",
       "297956    Y\n",
       "297957    N\n",
       "297958    O\n",
       "297959    N\n",
       "Name: 0, Length: 297960, dtype: object"
      ]
     },
     "execution_count": 9,
     "metadata": {},
     "output_type": "execute_result"
    }
   ],
   "source": [
    "#view mapping \n",
    "alphabet_y_train"
   ]
  },
  {
   "cell_type": "markdown",
   "id": "f81fd056",
   "metadata": {
    "papermill": {
     "duration": 0.013548,
     "end_time": "2023-06-22T15:54:29.676409",
     "exception": false,
     "start_time": "2023-06-22T15:54:29.662861",
     "status": "completed"
    },
    "tags": []
   },
   "source": [
    " ### Validate Training Sample size per Alphabet "
   ]
  },
  {
   "cell_type": "code",
   "execution_count": 10,
   "id": "0ebdc6f9",
   "metadata": {
    "execution": {
     "iopub.execute_input": "2023-06-22T15:54:29.705687Z",
     "iopub.status.busy": "2023-06-22T15:54:29.704802Z",
     "iopub.status.idle": "2023-06-22T15:54:30.994760Z",
     "shell.execute_reply": "2023-06-22T15:54:30.993883Z"
    },
    "papermill": {
     "duration": 1.306626,
     "end_time": "2023-06-22T15:54:30.996876",
     "exception": false,
     "start_time": "2023-06-22T15:54:29.690250",
     "status": "completed"
    },
    "tags": []
   },
   "outputs": [
    {
     "data": {
      "text/plain": [
       "<seaborn.axisgrid.FacetGrid at 0x79a965ffb370>"
      ]
     },
     "execution_count": 10,
     "metadata": {},
     "output_type": "execute_result"
    },
    {
     "data": {
      "text/plain": [
       "<Figure size 1000x500 with 0 Axes>"
      ]
     },
     "metadata": {},
     "output_type": "display_data"
    },
    {
     "data": {
      "image/png": "[encoded data removed]",
      "text/plain": [
       "<Figure size 500x500 with 1 Axes>"
      ]
     },
     "metadata": {},
     "output_type": "display_data"
    }
   ],
   "source": [
    "# Looking for imbalances in data\n",
    "plt.figure(figsize = (10,5))\n",
    "sns.displot(alphabet_y_train)"
   ]
  },
  {
   "cell_type": "markdown",
   "id": "137e3336",
   "metadata": {
    "papermill": {
     "duration": 0.014288,
     "end_time": "2023-06-22T15:54:31.026061",
     "exception": false,
     "start_time": "2023-06-22T15:54:31.011773",
     "status": "completed"
    },
    "tags": []
   },
   "source": [
    "### Under sampling of Training dataset to balance class distribution"
   ]
  },
  {
   "cell_type": "code",
   "execution_count": 11,
   "id": "41804254",
   "metadata": {
    "execution": {
     "iopub.execute_input": "2023-06-22T15:54:31.057675Z",
     "iopub.status.busy": "2023-06-22T15:54:31.056004Z",
     "iopub.status.idle": "2023-06-22T15:54:48.934782Z",
     "shell.execute_reply": "2023-06-22T15:54:48.933807Z"
    },
    "papermill": {
     "duration": 17.896741,
     "end_time": "2023-06-22T15:54:48.937130",
     "exception": false,
     "start_time": "2023-06-22T15:54:31.040389",
     "status": "completed"
    },
    "tags": []
   },
   "outputs": [],
   "source": [
    "#undersample and balance samples per alphabet equally (~883 images per alphabet as outcome)\n",
    "nM = NearMiss()\n",
    "X_train_data, y_train_data = nM.fit_resample(df_train, y_train)"
   ]
  },
  {
   "cell_type": "code",
   "execution_count": 12,
   "id": "3601e601",
   "metadata": {
    "execution": {
     "iopub.execute_input": "2023-06-22T15:54:48.968031Z",
     "iopub.status.busy": "2023-06-22T15:54:48.967703Z",
     "iopub.status.idle": "2023-06-22T15:54:49.383322Z",
     "shell.execute_reply": "2023-06-22T15:54:49.382413Z"
    },
    "papermill": {
     "duration": 0.433143,
     "end_time": "2023-06-22T15:54:49.385356",
     "exception": false,
     "start_time": "2023-06-22T15:54:48.952213",
     "status": "completed"
    },
    "tags": []
   },
   "outputs": [
    {
     "data": {
      "text/plain": [
       "<seaborn.axisgrid.FacetGrid at 0x79aa46766ad0>"
      ]
     },
     "execution_count": 12,
     "metadata": {},
     "output_type": "execute_result"
    },
    {
     "data": {
      "text/plain": [
       "<Figure size 1000x500 with 0 Axes>"
      ]
     },
     "metadata": {},
     "output_type": "display_data"
    },
    {
     "data": {
      "image/png": "[encoded data removed]",
      "text/plain": [
       "<Figure size 500x500 with 1 Axes>"
      ]
     },
     "metadata": {},
     "output_type": "display_data"
    }
   ],
   "source": [
    "#visualize the distribution of the class after balancing\n",
    "plt.figure(figsize = (10,5))\n",
    "sns.displot(y_train_data)"
   ]
  },
  {
   "cell_type": "code",
   "execution_count": 13,
   "id": "6b71c8e2",
   "metadata": {
    "execution": {
     "iopub.execute_input": "2023-06-22T15:54:49.418403Z",
     "iopub.status.busy": "2023-06-22T15:54:49.417528Z",
     "iopub.status.idle": "2023-06-22T15:54:49.423848Z",
     "shell.execute_reply": "2023-06-22T15:54:49.422889Z"
    },
    "papermill": {
     "duration": 0.024289,
     "end_time": "2023-06-22T15:54:49.425792",
     "exception": false,
     "start_time": "2023-06-22T15:54:49.401503",
     "status": "completed"
    },
    "tags": []
   },
   "outputs": [
    {
     "data": {
      "text/plain": [
       "((22958,), (22958, 784))"
      ]
     },
     "execution_count": 13,
     "metadata": {},
     "output_type": "execute_result"
    }
   ],
   "source": [
    "#shape of the updated training dataset\n",
    "y_train_data.shape , X_train_data.shape"
   ]
  },
  {
   "cell_type": "markdown",
   "id": "fd9043cc",
   "metadata": {
    "papermill": {
     "duration": 0.015151,
     "end_time": "2023-06-22T15:54:49.456017",
     "exception": false,
     "start_time": "2023-06-22T15:54:49.440866",
     "status": "completed"
    },
    "tags": []
   },
   "source": [
    "###     Normalize Training dataset\n"
   ]
  },
  {
   "cell_type": "code",
   "execution_count": 14,
   "id": "e97a4412",
   "metadata": {
    "execution": {
     "iopub.execute_input": "2023-06-22T15:54:49.487245Z",
     "iopub.status.busy": "2023-06-22T15:54:49.486980Z",
     "iopub.status.idle": "2023-06-22T15:54:49.594899Z",
     "shell.execute_reply": "2023-06-22T15:54:49.593903Z"
    },
    "papermill": {
     "duration": 0.126438,
     "end_time": "2023-06-22T15:54:49.597518",
     "exception": false,
     "start_time": "2023-06-22T15:54:49.471080",
     "status": "completed"
    },
    "tags": []
   },
   "outputs": [
    {
     "data": {
      "text/html": [
       "<div>\n",
       "<style scoped>\n",
       "    .dataframe tbody tr th:only-of-type {\n",
       "        vertical-align: middle;\n",
       "    }\n",
       "\n",
       "    .dataframe tbody tr th {\n",
       "        vertical-align: top;\n",
       "    }\n",
       "\n",
       "    .dataframe thead th {\n",
       "        text-align: right;\n",
       "    }\n",
       "</style>\n",
       "<table border=\"1\" class=\"dataframe\">\n",
       "  <thead>\n",
       "    <tr style=\"text-align: right;\">\n",
       "      <th></th>\n",
       "      <th>0.1</th>\n",
       "      <th>0.2</th>\n",
       "      <th>0.3</th>\n",
       "      <th>0.4</th>\n",
       "      <th>0.5</th>\n",
       "      <th>0.6</th>\n",
       "      <th>0.7</th>\n",
       "      <th>0.8</th>\n",
       "      <th>0.9</th>\n",
       "      <th>0.10</th>\n",
       "      <th>...</th>\n",
       "      <th>0.639</th>\n",
       "      <th>0.640</th>\n",
       "      <th>0.641</th>\n",
       "      <th>0.642</th>\n",
       "      <th>0.643</th>\n",
       "      <th>0.644</th>\n",
       "      <th>0.645</th>\n",
       "      <th>0.646</th>\n",
       "      <th>0.647</th>\n",
       "      <th>0.648</th>\n",
       "    </tr>\n",
       "  </thead>\n",
       "  <tbody>\n",
       "    <tr>\n",
       "      <th>0</th>\n",
       "      <td>0.0</td>\n",
       "      <td>0.0</td>\n",
       "      <td>0.0</td>\n",
       "      <td>0.0</td>\n",
       "      <td>0.0</td>\n",
       "      <td>0.0</td>\n",
       "      <td>0.0</td>\n",
       "      <td>0.0</td>\n",
       "      <td>0.0</td>\n",
       "      <td>0.0</td>\n",
       "      <td>...</td>\n",
       "      <td>0.0</td>\n",
       "      <td>0.0</td>\n",
       "      <td>0.0</td>\n",
       "      <td>0.0</td>\n",
       "      <td>0.0</td>\n",
       "      <td>0.0</td>\n",
       "      <td>0.0</td>\n",
       "      <td>0.0</td>\n",
       "      <td>0.0</td>\n",
       "      <td>0.0</td>\n",
       "    </tr>\n",
       "    <tr>\n",
       "      <th>1</th>\n",
       "      <td>0.0</td>\n",
       "      <td>0.0</td>\n",
       "      <td>0.0</td>\n",
       "      <td>0.0</td>\n",
       "      <td>0.0</td>\n",
       "      <td>0.0</td>\n",
       "      <td>0.0</td>\n",
       "      <td>0.0</td>\n",
       "      <td>0.0</td>\n",
       "      <td>0.0</td>\n",
       "      <td>...</td>\n",
       "      <td>0.0</td>\n",
       "      <td>0.0</td>\n",
       "      <td>0.0</td>\n",
       "      <td>0.0</td>\n",
       "      <td>0.0</td>\n",
       "      <td>0.0</td>\n",
       "      <td>0.0</td>\n",
       "      <td>0.0</td>\n",
       "      <td>0.0</td>\n",
       "      <td>0.0</td>\n",
       "    </tr>\n",
       "    <tr>\n",
       "      <th>2</th>\n",
       "      <td>0.0</td>\n",
       "      <td>0.0</td>\n",
       "      <td>0.0</td>\n",
       "      <td>0.0</td>\n",
       "      <td>0.0</td>\n",
       "      <td>0.0</td>\n",
       "      <td>0.0</td>\n",
       "      <td>0.0</td>\n",
       "      <td>0.0</td>\n",
       "      <td>0.0</td>\n",
       "      <td>...</td>\n",
       "      <td>0.0</td>\n",
       "      <td>0.0</td>\n",
       "      <td>0.0</td>\n",
       "      <td>0.0</td>\n",
       "      <td>0.0</td>\n",
       "      <td>0.0</td>\n",
       "      <td>0.0</td>\n",
       "      <td>0.0</td>\n",
       "      <td>0.0</td>\n",
       "      <td>0.0</td>\n",
       "    </tr>\n",
       "    <tr>\n",
       "      <th>3</th>\n",
       "      <td>0.0</td>\n",
       "      <td>0.0</td>\n",
       "      <td>0.0</td>\n",
       "      <td>0.0</td>\n",
       "      <td>0.0</td>\n",
       "      <td>0.0</td>\n",
       "      <td>0.0</td>\n",
       "      <td>0.0</td>\n",
       "      <td>0.0</td>\n",
       "      <td>0.0</td>\n",
       "      <td>...</td>\n",
       "      <td>0.0</td>\n",
       "      <td>0.0</td>\n",
       "      <td>0.0</td>\n",
       "      <td>0.0</td>\n",
       "      <td>0.0</td>\n",
       "      <td>0.0</td>\n",
       "      <td>0.0</td>\n",
       "      <td>0.0</td>\n",
       "      <td>0.0</td>\n",
       "      <td>0.0</td>\n",
       "    </tr>\n",
       "    <tr>\n",
       "      <th>4</th>\n",
       "      <td>0.0</td>\n",
       "      <td>0.0</td>\n",
       "      <td>0.0</td>\n",
       "      <td>0.0</td>\n",
       "      <td>0.0</td>\n",
       "      <td>0.0</td>\n",
       "      <td>0.0</td>\n",
       "      <td>0.0</td>\n",
       "      <td>0.0</td>\n",
       "      <td>0.0</td>\n",
       "      <td>...</td>\n",
       "      <td>0.0</td>\n",
       "      <td>0.0</td>\n",
       "      <td>0.0</td>\n",
       "      <td>0.0</td>\n",
       "      <td>0.0</td>\n",
       "      <td>0.0</td>\n",
       "      <td>0.0</td>\n",
       "      <td>0.0</td>\n",
       "      <td>0.0</td>\n",
       "      <td>0.0</td>\n",
       "    </tr>\n",
       "    <tr>\n",
       "      <th>...</th>\n",
       "      <td>...</td>\n",
       "      <td>...</td>\n",
       "      <td>...</td>\n",
       "      <td>...</td>\n",
       "      <td>...</td>\n",
       "      <td>...</td>\n",
       "      <td>...</td>\n",
       "      <td>...</td>\n",
       "      <td>...</td>\n",
       "      <td>...</td>\n",
       "      <td>...</td>\n",
       "      <td>...</td>\n",
       "      <td>...</td>\n",
       "      <td>...</td>\n",
       "      <td>...</td>\n",
       "      <td>...</td>\n",
       "      <td>...</td>\n",
       "      <td>...</td>\n",
       "      <td>...</td>\n",
       "      <td>...</td>\n",
       "      <td>...</td>\n",
       "    </tr>\n",
       "    <tr>\n",
       "      <th>22953</th>\n",
       "      <td>0.0</td>\n",
       "      <td>0.0</td>\n",
       "      <td>0.0</td>\n",
       "      <td>0.0</td>\n",
       "      <td>0.0</td>\n",
       "      <td>0.0</td>\n",
       "      <td>0.0</td>\n",
       "      <td>0.0</td>\n",
       "      <td>0.0</td>\n",
       "      <td>0.0</td>\n",
       "      <td>...</td>\n",
       "      <td>0.0</td>\n",
       "      <td>0.0</td>\n",
       "      <td>0.0</td>\n",
       "      <td>0.0</td>\n",
       "      <td>0.0</td>\n",
       "      <td>0.0</td>\n",
       "      <td>0.0</td>\n",
       "      <td>0.0</td>\n",
       "      <td>0.0</td>\n",
       "      <td>0.0</td>\n",
       "    </tr>\n",
       "    <tr>\n",
       "      <th>22954</th>\n",
       "      <td>0.0</td>\n",
       "      <td>0.0</td>\n",
       "      <td>0.0</td>\n",
       "      <td>0.0</td>\n",
       "      <td>0.0</td>\n",
       "      <td>0.0</td>\n",
       "      <td>0.0</td>\n",
       "      <td>0.0</td>\n",
       "      <td>0.0</td>\n",
       "      <td>0.0</td>\n",
       "      <td>...</td>\n",
       "      <td>0.0</td>\n",
       "      <td>0.0</td>\n",
       "      <td>0.0</td>\n",
       "      <td>0.0</td>\n",
       "      <td>0.0</td>\n",
       "      <td>0.0</td>\n",
       "      <td>0.0</td>\n",
       "      <td>0.0</td>\n",
       "      <td>0.0</td>\n",
       "      <td>0.0</td>\n",
       "    </tr>\n",
       "    <tr>\n",
       "      <th>22955</th>\n",
       "      <td>0.0</td>\n",
       "      <td>0.0</td>\n",
       "      <td>0.0</td>\n",
       "      <td>0.0</td>\n",
       "      <td>0.0</td>\n",
       "      <td>0.0</td>\n",
       "      <td>0.0</td>\n",
       "      <td>0.0</td>\n",
       "      <td>0.0</td>\n",
       "      <td>0.0</td>\n",
       "      <td>...</td>\n",
       "      <td>0.0</td>\n",
       "      <td>0.0</td>\n",
       "      <td>0.0</td>\n",
       "      <td>0.0</td>\n",
       "      <td>0.0</td>\n",
       "      <td>0.0</td>\n",
       "      <td>0.0</td>\n",
       "      <td>0.0</td>\n",
       "      <td>0.0</td>\n",
       "      <td>0.0</td>\n",
       "    </tr>\n",
       "    <tr>\n",
       "      <th>22956</th>\n",
       "      <td>0.0</td>\n",
       "      <td>0.0</td>\n",
       "      <td>0.0</td>\n",
       "      <td>0.0</td>\n",
       "      <td>0.0</td>\n",
       "      <td>0.0</td>\n",
       "      <td>0.0</td>\n",
       "      <td>0.0</td>\n",
       "      <td>0.0</td>\n",
       "      <td>0.0</td>\n",
       "      <td>...</td>\n",
       "      <td>0.0</td>\n",
       "      <td>0.0</td>\n",
       "      <td>0.0</td>\n",
       "      <td>0.0</td>\n",
       "      <td>0.0</td>\n",
       "      <td>0.0</td>\n",
       "      <td>0.0</td>\n",
       "      <td>0.0</td>\n",
       "      <td>0.0</td>\n",
       "      <td>0.0</td>\n",
       "    </tr>\n",
       "    <tr>\n",
       "      <th>22957</th>\n",
       "      <td>0.0</td>\n",
       "      <td>0.0</td>\n",
       "      <td>0.0</td>\n",
       "      <td>0.0</td>\n",
       "      <td>0.0</td>\n",
       "      <td>0.0</td>\n",
       "      <td>0.0</td>\n",
       "      <td>0.0</td>\n",
       "      <td>0.0</td>\n",
       "      <td>0.0</td>\n",
       "      <td>...</td>\n",
       "      <td>0.0</td>\n",
       "      <td>0.0</td>\n",
       "      <td>0.0</td>\n",
       "      <td>0.0</td>\n",
       "      <td>0.0</td>\n",
       "      <td>0.0</td>\n",
       "      <td>0.0</td>\n",
       "      <td>0.0</td>\n",
       "      <td>0.0</td>\n",
       "      <td>0.0</td>\n",
       "    </tr>\n",
       "  </tbody>\n",
       "</table>\n",
       "<p>22958 rows × 784 columns</p>\n",
       "</div>"
      ],
      "text/plain": [
       "       0.1  0.2  0.3  0.4  0.5  0.6  0.7  0.8  0.9  0.10  ...  0.639  0.640  \\\n",
       "0      0.0  0.0  0.0  0.0  0.0  0.0  0.0  0.0  0.0   0.0  ...    0.0    0.0   \n",
       "1      0.0  0.0  0.0  0.0  0.0  0.0  0.0  0.0  0.0   0.0  ...    0.0    0.0   \n",
       "2      0.0  0.0  0.0  0.0  0.0  0.0  0.0  0.0  0.0   0.0  ...    0.0    0.0   \n",
       "3      0.0  0.0  0.0  0.0  0.0  0.0  0.0  0.0  0.0   0.0  ...    0.0    0.0   \n",
       "4      0.0  0.0  0.0  0.0  0.0  0.0  0.0  0.0  0.0   0.0  ...    0.0    0.0   \n",
       "...    ...  ...  ...  ...  ...  ...  ...  ...  ...   ...  ...    ...    ...   \n",
       "22953  0.0  0.0  0.0  0.0  0.0  0.0  0.0  0.0  0.0   0.0  ...    0.0    0.0   \n",
       "22954  0.0  0.0  0.0  0.0  0.0  0.0  0.0  0.0  0.0   0.0  ...    0.0    0.0   \n",
       "22955  0.0  0.0  0.0  0.0  0.0  0.0  0.0  0.0  0.0   0.0  ...    0.0    0.0   \n",
       "22956  0.0  0.0  0.0  0.0  0.0  0.0  0.0  0.0  0.0   0.0  ...    0.0    0.0   \n",
       "22957  0.0  0.0  0.0  0.0  0.0  0.0  0.0  0.0  0.0   0.0  ...    0.0    0.0   \n",
       "\n",
       "       0.641  0.642  0.643  0.644  0.645  0.646  0.647  0.648  \n",
       "0        0.0    0.0    0.0    0.0    0.0    0.0    0.0    0.0  \n",
       "1        0.0    0.0    0.0    0.0    0.0    0.0    0.0    0.0  \n",
       "2        0.0    0.0    0.0    0.0    0.0    0.0    0.0    0.0  \n",
       "3        0.0    0.0    0.0    0.0    0.0    0.0    0.0    0.0  \n",
       "4        0.0    0.0    0.0    0.0    0.0    0.0    0.0    0.0  \n",
       "...      ...    ...    ...    ...    ...    ...    ...    ...  \n",
       "22953    0.0    0.0    0.0    0.0    0.0    0.0    0.0    0.0  \n",
       "22954    0.0    0.0    0.0    0.0    0.0    0.0    0.0    0.0  \n",
       "22955    0.0    0.0    0.0    0.0    0.0    0.0    0.0    0.0  \n",
       "22956    0.0    0.0    0.0    0.0    0.0    0.0    0.0    0.0  \n",
       "22957    0.0    0.0    0.0    0.0    0.0    0.0    0.0    0.0  \n",
       "\n",
       "[22958 rows x 784 columns]"
      ]
     },
     "execution_count": 14,
     "metadata": {},
     "output_type": "execute_result"
    }
   ],
   "source": [
    "#normalize the training data set values\n",
    "X_train_data = X_train_data / 255\n",
    "X_train_data"
   ]
  },
  {
   "cell_type": "markdown",
   "id": "73112d70",
   "metadata": {
    "papermill": {
     "duration": 0.015482,
     "end_time": "2023-06-22T15:54:49.628822",
     "exception": false,
     "start_time": "2023-06-22T15:54:49.613340",
     "status": "completed"
    },
    "tags": []
   },
   "source": [
    "### Reshape Training dataset for CNN Model "
   ]
  },
  {
   "cell_type": "code",
   "execution_count": 15,
   "id": "aa802437",
   "metadata": {
    "execution": {
     "iopub.execute_input": "2023-06-22T15:54:49.661474Z",
     "iopub.status.busy": "2023-06-22T15:54:49.661184Z",
     "iopub.status.idle": "2023-06-22T15:54:49.759726Z",
     "shell.execute_reply": "2023-06-22T15:54:49.758764Z"
    },
    "papermill": {
     "duration": 0.117576,
     "end_time": "2023-06-22T15:54:49.762118",
     "exception": false,
     "start_time": "2023-06-22T15:54:49.644542",
     "status": "completed"
    },
    "tags": []
   },
   "outputs": [],
   "source": [
    "#reshape datset\n",
    "X_train_data = np.array(X_train_data)\n",
    "X_train_data = X_train_data.reshape(-1,28,28,1)\n"
   ]
  },
  {
   "cell_type": "code",
   "execution_count": 16,
   "id": "c348c403",
   "metadata": {
    "execution": {
     "iopub.execute_input": "2023-06-22T15:54:49.795576Z",
     "iopub.status.busy": "2023-06-22T15:54:49.795260Z",
     "iopub.status.idle": "2023-06-22T15:54:55.202769Z",
     "shell.execute_reply": "2023-06-22T15:54:55.201828Z"
    },
    "papermill": {
     "duration": 5.426463,
     "end_time": "2023-06-22T15:54:55.204814",
     "exception": false,
     "start_time": "2023-06-22T15:54:49.778351",
     "status": "completed"
    },
    "tags": []
   },
   "outputs": [
    {
     "data": {
      "image/png": "[encoded data removed]",
      "text/plain": [
       "<Figure size 1000x1000 with 25 Axes>"
      ]
     },
     "metadata": {},
     "output_type": "display_data"
    }
   ],
   "source": [
    "# view some of the handwritten alphabet images\n",
    "f, ax = plt.subplots(5,5)\n",
    "f.set_size_inches(10,10)\n",
    "k = 0\n",
    "for i in range(5):\n",
    "    for j in range(5):\n",
    "        ax[i,j].imshow(X_train_data[k].reshape(28,28), cmap='gray')\n",
    "        k += 1\n",
    "    plt.tight_layout()"
   ]
  },
  {
   "cell_type": "markdown",
   "id": "296dafd0",
   "metadata": {
    "papermill": {
     "duration": 0.016282,
     "end_time": "2023-06-22T15:54:55.237714",
     "exception": false,
     "start_time": "2023-06-22T15:54:55.221432",
     "status": "completed"
    },
    "tags": []
   },
   "source": [
    "### Encode Target Variable"
   ]
  },
  {
   "cell_type": "code",
   "execution_count": 17,
   "id": "7a786670",
   "metadata": {
    "execution": {
     "iopub.execute_input": "2023-06-22T15:54:55.272383Z",
     "iopub.status.busy": "2023-06-22T15:54:55.271541Z",
     "iopub.status.idle": "2023-06-22T15:54:55.279127Z",
     "shell.execute_reply": "2023-06-22T15:54:55.278154Z"
    },
    "papermill": {
     "duration": 0.026837,
     "end_time": "2023-06-22T15:54:55.281116",
     "exception": false,
     "start_time": "2023-06-22T15:54:55.254279",
     "status": "completed"
    },
    "tags": []
   },
   "outputs": [
    {
     "data": {
      "text/plain": [
       "26"
      ]
     },
     "execution_count": 17,
     "metadata": {},
     "output_type": "execute_result"
    }
   ],
   "source": [
    "#One-Hot-Encoding of the target.\n",
    "y = np_utils.to_categorical(y_train_data)\n",
    "# Define the classification of 26 alphabets.\n",
    "num_classes = y.shape[1]\n",
    "num_classes"
   ]
  },
  {
   "cell_type": "markdown",
   "id": "0ef8f71b",
   "metadata": {
    "papermill": {
     "duration": 0.01618,
     "end_time": "2023-06-22T15:54:55.313719",
     "exception": false,
     "start_time": "2023-06-22T15:54:55.297539",
     "status": "completed"
    },
    "tags": []
   },
   "source": [
    "### Test-Train Split ( Training data set split into training, test(validation) dataset)"
   ]
  },
  {
   "cell_type": "code",
   "execution_count": 18,
   "id": "05d1d2d9",
   "metadata": {
    "execution": {
     "iopub.execute_input": "2023-06-22T15:54:55.348244Z",
     "iopub.status.busy": "2023-06-22T15:54:55.347566Z",
     "iopub.status.idle": "2023-06-22T15:54:55.839048Z",
     "shell.execute_reply": "2023-06-22T15:54:55.838103Z"
    },
    "papermill": {
     "duration": 0.511451,
     "end_time": "2023-06-22T15:54:55.841677",
     "exception": false,
     "start_time": "2023-06-22T15:54:55.330226",
     "status": "completed"
    },
    "tags": []
   },
   "outputs": [],
   "source": [
    "#train, test(validation) split\n",
    "X_train, X_test, y_train, y_test = train_test_split(X_train_data, y, test_size=0.2 ,random_state=102)\n"
   ]
  },
  {
   "cell_type": "code",
   "execution_count": 19,
   "id": "02f77b09",
   "metadata": {
    "execution": {
     "iopub.execute_input": "2023-06-22T15:54:55.877071Z",
     "iopub.status.busy": "2023-06-22T15:54:55.876248Z",
     "iopub.status.idle": "2023-06-22T15:54:55.883111Z",
     "shell.execute_reply": "2023-06-22T15:54:55.882144Z"
    },
    "papermill": {
     "duration": 0.026321,
     "end_time": "2023-06-22T15:54:55.885012",
     "exception": false,
     "start_time": "2023-06-22T15:54:55.858691",
     "status": "completed"
    },
    "tags": []
   },
   "outputs": [
    {
     "data": {
      "text/plain": [
       "((18366, 28, 28, 1), (4592, 28, 28, 1), (18366, 26), (4592, 26))"
      ]
     },
     "execution_count": 19,
     "metadata": {},
     "output_type": "execute_result"
    }
   ],
   "source": [
    "# explore properties \n",
    "X_train.shape, X_test.shape, y_train.shape, y_test.shape"
   ]
  },
  {
   "cell_type": "markdown",
   "id": "76999c2d",
   "metadata": {
    "papermill": {
     "duration": 0.016544,
     "end_time": "2023-06-22T15:54:55.918352",
     "exception": false,
     "start_time": "2023-06-22T15:54:55.901808",
     "status": "completed"
    },
    "tags": []
   },
   "source": [
    "### Trial CNN\n",
    "#### Model Definition"
   ]
  },
  {
   "cell_type": "code",
   "execution_count": 20,
   "id": "0b01168f",
   "metadata": {
    "execution": {
     "iopub.execute_input": "2023-06-22T15:54:55.953950Z",
     "iopub.status.busy": "2023-06-22T15:54:55.953184Z",
     "iopub.status.idle": "2023-06-22T15:54:58.834075Z",
     "shell.execute_reply": "2023-06-22T15:54:58.833191Z"
    },
    "papermill": {
     "duration": 2.907208,
     "end_time": "2023-06-22T15:54:58.842499",
     "exception": false,
     "start_time": "2023-06-22T15:54:55.935291",
     "status": "completed"
    },
    "tags": []
   },
   "outputs": [
    {
     "name": "stdout",
     "output_type": "stream",
     "text": [
      "Model: \"sequential\"\n",
      "_________________________________________________________________\n",
      " Layer (type)                Output Shape              Param #   \n",
      "=================================================================\n",
      " conv2d (Conv2D)             (None, 24, 24, 32)        832       \n",
      "                                                                 \n",
      " max_pooling2d (MaxPooling2D  (None, 12, 12, 32)       0         \n",
      " )                                                               \n",
      "                                                                 \n",
      " flatten (Flatten)           (None, 4608)              0         \n",
      "                                                                 \n",
      " dense (Dense)               (None, 128)               589952    \n",
      "                                                                 \n",
      " dense_1 (Dense)             (None, 26)                3354      \n",
      "                                                                 \n",
      "=================================================================\n",
      "Total params: 594,138\n",
      "Trainable params: 594,138\n",
      "Non-trainable params: 0\n",
      "_________________________________________________________________\n",
      "None\n"
     ]
    }
   ],
   "source": [
    "#Build an ordinary trial CNN model\n",
    "model = Sequential()\n",
    "model.add(Conv2D(32, (5, 5), input_shape=(28, 28, 1), activation='relu'))\n",
    "model.add(MaxPooling2D(pool_size=(2, 2)))\n",
    "model.add(Flatten())\n",
    "model.add(Dense(128, activation='relu'))\n",
    "model.add(Dense(num_classes, activation='softmax'))\n",
    "#Choose an optimizer and compile the model.\n",
    "model.compile(optimizer = Adam(learning_rate = 0.01), loss = 'categorical_crossentropy', metrics = ['accuracy'])\n",
    "#And print the summary of the model.\n",
    "print(model.summary())"
   ]
  },
  {
   "cell_type": "code",
   "execution_count": 21,
   "id": "024fa01d",
   "metadata": {
    "execution": {
     "iopub.execute_input": "2023-06-22T15:54:58.881393Z",
     "iopub.status.busy": "2023-06-22T15:54:58.881111Z",
     "iopub.status.idle": "2023-06-22T15:54:58.887577Z",
     "shell.execute_reply": "2023-06-22T15:54:58.886580Z"
    },
    "papermill": {
     "duration": 0.028277,
     "end_time": "2023-06-22T15:54:58.889591",
     "exception": false,
     "start_time": "2023-06-22T15:54:58.861314",
     "status": "completed"
    },
    "tags": []
   },
   "outputs": [],
   "source": [
    "# function to plot the model training, validation results\n",
    "def model_fit_history_plot(history):\n",
    "    plt.figure(1)\n",
    "    plt.plot(history.history['loss'])\n",
    "    plt.plot(history.history['val_loss'])\n",
    "    plt.legend(['training','validation'])\n",
    "    plt.title('Loss')\n",
    "    plt.xlabel('epoch')\n",
    "    plt.figure(2)\n",
    "    plt.plot(history.history['accuracy'])\n",
    "    plt.plot(history.history['val_accuracy'])\n",
    "    plt.legend(['training','validation'])\n",
    "    plt.title('Accuracy')\n",
    "    plt.xlabel('epoch')\n",
    "    plt.show()\n",
    "    return None"
   ]
  },
  {
   "cell_type": "markdown",
   "id": "f56c316b",
   "metadata": {
    "papermill": {
     "duration": 0.018484,
     "end_time": "2023-06-22T15:54:58.927185",
     "exception": false,
     "start_time": "2023-06-22T15:54:58.908701",
     "status": "completed"
    },
    "tags": []
   },
   "source": [
    "#### Model Training / Fit"
   ]
  },
  {
   "cell_type": "code",
   "execution_count": 22,
   "id": "0eda98bc",
   "metadata": {
    "execution": {
     "iopub.execute_input": "2023-06-22T15:54:58.965980Z",
     "iopub.status.busy": "2023-06-22T15:54:58.965677Z",
     "iopub.status.idle": "2023-06-22T15:55:20.261119Z",
     "shell.execute_reply": "2023-06-22T15:55:20.260134Z"
    },
    "papermill": {
     "duration": 21.317327,
     "end_time": "2023-06-22T15:55:20.263517",
     "exception": false,
     "start_time": "2023-06-22T15:54:58.946190",
     "status": "completed"
    },
    "tags": []
   },
   "outputs": [
    {
     "name": "stdout",
     "output_type": "stream",
     "text": [
      "Epoch 1/15\n",
      "144/144 [==============================] - 9s 6ms/step - loss: 0.4939 - accuracy: 0.8602 - val_loss: 0.2276 - val_accuracy: 0.9351\n",
      "Epoch 2/15\n",
      "144/144 [==============================] - 1s 4ms/step - loss: 0.1347 - accuracy: 0.9598 - val_loss: 0.1678 - val_accuracy: 0.9551\n",
      "Epoch 3/15\n",
      "144/144 [==============================] - 1s 5ms/step - loss: 0.0770 - accuracy: 0.9762 - val_loss: 0.1227 - val_accuracy: 0.9691\n",
      "Epoch 4/15\n",
      "144/144 [==============================] - 1s 5ms/step - loss: 0.0454 - accuracy: 0.9857 - val_loss: 0.1558 - val_accuracy: 0.9680\n",
      "Epoch 5/15\n",
      "144/144 [==============================] - 1s 5ms/step - loss: 0.0506 - accuracy: 0.9836 - val_loss: 0.1570 - val_accuracy: 0.9647\n",
      "Epoch 6/15\n",
      "144/144 [==============================] - 1s 4ms/step - loss: 0.0449 - accuracy: 0.9858 - val_loss: 0.2301 - val_accuracy: 0.9499\n",
      "Epoch 7/15\n",
      "144/144 [==============================] - 1s 5ms/step - loss: 0.0346 - accuracy: 0.9889 - val_loss: 0.2031 - val_accuracy: 0.9680\n",
      "Epoch 8/15\n",
      "144/144 [==============================] - 1s 5ms/step - loss: 0.0408 - accuracy: 0.9876 - val_loss: 0.2143 - val_accuracy: 0.9639\n",
      "Epoch 9/15\n",
      "144/144 [==============================] - 1s 4ms/step - loss: 0.0423 - accuracy: 0.9869 - val_loss: 0.1884 - val_accuracy: 0.9710\n",
      "Epoch 10/15\n",
      "144/144 [==============================] - 1s 4ms/step - loss: 0.0335 - accuracy: 0.9903 - val_loss: 0.2069 - val_accuracy: 0.9676\n",
      "Epoch 11/15\n",
      "144/144 [==============================] - 1s 4ms/step - loss: 0.0419 - accuracy: 0.9888 - val_loss: 0.2241 - val_accuracy: 0.9671\n",
      "Epoch 12/15\n",
      "144/144 [==============================] - 1s 5ms/step - loss: 0.0418 - accuracy: 0.9880 - val_loss: 0.2869 - val_accuracy: 0.9636\n",
      "Epoch 13/15\n",
      "144/144 [==============================] - 1s 4ms/step - loss: 0.0403 - accuracy: 0.9899 - val_loss: 0.2780 - val_accuracy: 0.9660\n",
      "Epoch 14/15\n",
      "144/144 [==============================] - 1s 4ms/step - loss: 0.0241 - accuracy: 0.9944 - val_loss: 0.2292 - val_accuracy: 0.9752\n",
      "Epoch 15/15\n",
      "144/144 [==============================] - 1s 5ms/step - loss: 0.0138 - accuracy: 0.9967 - val_loss: 0.2317 - val_accuracy: 0.9715\n"
     ]
    }
   ],
   "source": [
    "#train and fit the defined model for training / validation data sets\n",
    "history = model.fit(X_train,y_train,epochs=15, batch_size=128, validation_data=(X_test,y_test))\n",
    "\n"
   ]
  },
  {
   "cell_type": "markdown",
   "id": "faf0b928",
   "metadata": {
    "papermill": {
     "duration": 0.031217,
     "end_time": "2023-06-22T15:55:20.327491",
     "exception": false,
     "start_time": "2023-06-22T15:55:20.296274",
     "status": "completed"
    },
    "tags": []
   },
   "source": [
    "#### Model Evaluation againt Validation"
   ]
  },
  {
   "cell_type": "code",
   "execution_count": 23,
   "id": "e69202fc",
   "metadata": {
    "execution": {
     "iopub.execute_input": "2023-06-22T15:55:20.392837Z",
     "iopub.status.busy": "2023-06-22T15:55:20.392198Z",
     "iopub.status.idle": "2023-06-22T15:55:21.670523Z",
     "shell.execute_reply": "2023-06-22T15:55:21.669612Z"
    },
    "papermill": {
     "duration": 1.313656,
     "end_time": "2023-06-22T15:55:21.672645",
     "exception": false,
     "start_time": "2023-06-22T15:55:20.358989",
     "status": "completed"
    },
    "tags": []
   },
   "outputs": [
    {
     "name": "stdout",
     "output_type": "stream",
     "text": [
      "CNN Error: 2.85%\n"
     ]
    },
    {
     "data": {
      "image/png": "[encoded data removed]",
      "text/plain": [
       "<Figure size 640x480 with 1 Axes>"
      ]
     },
     "metadata": {},
     "output_type": "display_data"
    },
    {
     "data": {
      "image/png": "[encoded data removed]",
      "text/plain": [
       "<Figure size 640x480 with 1 Axes>"
      ]
     },
     "metadata": {},
     "output_type": "display_data"
    }
   ],
   "source": [
    "# evaluation of the model\n",
    "scores = model.evaluate(X_test,y_test, verbose=0)\n",
    "print(\"CNN Error: %.2f%%\" % (100-scores[1]*100))\n",
    "\n",
    "#Plot fit history\n",
    "model_fit_history_plot(history)"
   ]
  },
  {
   "cell_type": "markdown",
   "id": "1da51eba",
   "metadata": {
    "papermill": {
     "duration": 0.032327,
     "end_time": "2023-06-22T15:55:21.740967",
     "exception": false,
     "start_time": "2023-06-22T15:55:21.708640",
     "status": "completed"
    },
    "tags": []
   },
   "source": [
    "### Grid Search for Model Parameters"
   ]
  },
  {
   "cell_type": "markdown",
   "id": "c644074a",
   "metadata": {
    "papermill": {
     "duration": 0.032404,
     "end_time": "2023-06-22T15:55:21.806099",
     "exception": false,
     "start_time": "2023-06-22T15:55:21.773695",
     "status": "completed"
    },
    "tags": []
   },
   "source": [
    "#### Fully connected - Dense Layers and Neurons"
   ]
  },
  {
   "cell_type": "code",
   "execution_count": 24,
   "id": "b1975661",
   "metadata": {
    "execution": {
     "iopub.execute_input": "2023-06-22T15:55:21.872592Z",
     "iopub.status.busy": "2023-06-22T15:55:21.872273Z",
     "iopub.status.idle": "2023-06-22T15:57:31.317716Z",
     "shell.execute_reply": "2023-06-22T15:57:31.316691Z"
    },
    "papermill": {
     "duration": 129.481462,
     "end_time": "2023-06-22T15:57:31.319950",
     "exception": false,
     "start_time": "2023-06-22T15:55:21.838488",
     "status": "completed"
    },
    "tags": []
   },
   "outputs": [
    {
     "name": "stdout",
     "output_type": "stream",
     "text": [
      "Fitting 5 folds for each of 4 candidates, totalling 20 fits\n",
      "460/460 [==============================] - 4s 6ms/step - loss: 0.0868 - accuracy: 0.6537 - val_loss: 0.0397 - val_accuracy: 0.8500\n",
      "115/115 [==============================] - 0s 3ms/step - loss: 0.0373 - accuracy: 0.8612\n",
      "460/460 [==============================] - 4s 5ms/step - loss: 0.0838 - accuracy: 0.6657 - val_loss: 0.0350 - val_accuracy: 0.8717\n",
      "115/115 [==============================] - 0s 3ms/step - loss: 0.0337 - accuracy: 0.8810\n",
      "460/460 [==============================] - 4s 5ms/step - loss: 0.0903 - accuracy: 0.6316 - val_loss: 0.0412 - val_accuracy: 0.8537\n",
      "115/115 [==============================] - 0s 2ms/step - loss: 0.0399 - accuracy: 0.8590\n",
      "460/460 [==============================] - 4s 5ms/step - loss: 0.0822 - accuracy: 0.6743 - val_loss: 0.0361 - val_accuracy: 0.8743\n",
      "115/115 [==============================] - 0s 2ms/step - loss: 0.0361 - accuracy: 0.8660\n",
      "460/460 [==============================] - 4s 5ms/step - loss: 0.0839 - accuracy: 0.6645 - val_loss: 0.0361 - val_accuracy: 0.8639\n",
      "115/115 [==============================] - 0s 3ms/step - loss: 0.0349 - accuracy: 0.8677\n",
      "460/460 [==============================] - 5s 6ms/step - loss: 0.1024 - accuracy: 0.5498 - val_loss: 0.0423 - val_accuracy: 0.8304\n",
      "115/115 [==============================] - 0s 2ms/step - loss: 0.0400 - accuracy: 0.8424\n",
      "460/460 [==============================] - 4s 5ms/step - loss: 0.1054 - accuracy: 0.5352 - val_loss: 0.0411 - val_accuracy: 0.8519\n",
      "115/115 [==============================] - 0s 2ms/step - loss: 0.0403 - accuracy: 0.8489\n",
      "460/460 [==============================] - 4s 5ms/step - loss: 0.0987 - accuracy: 0.5963 - val_loss: 0.0392 - val_accuracy: 0.8454\n",
      "115/115 [==============================] - 0s 2ms/step - loss: 0.0402 - accuracy: 0.8345\n",
      "460/460 [==============================] - 5s 5ms/step - loss: 0.0966 - accuracy: 0.5852 - val_loss: 0.0376 - val_accuracy: 0.8558\n",
      "115/115 [==============================] - 0s 2ms/step - loss: 0.0362 - accuracy: 0.8680\n",
      "460/460 [==============================] - 4s 5ms/step - loss: 0.0919 - accuracy: 0.5981 - val_loss: 0.0343 - val_accuracy: 0.8696\n",
      "115/115 [==============================] - 0s 2ms/step - loss: 0.0350 - accuracy: 0.8658\n",
      "460/460 [==============================] - 4s 5ms/step - loss: 0.0790 - accuracy: 0.6688 - val_loss: 0.0299 - val_accuracy: 0.8848\n",
      "115/115 [==============================] - 0s 2ms/step - loss: 0.0278 - accuracy: 0.8936\n",
      "460/460 [==============================] - 4s 5ms/step - loss: 0.0796 - accuracy: 0.6549 - val_loss: 0.0300 - val_accuracy: 0.8911\n",
      "115/115 [==============================] - 0s 2ms/step - loss: 0.0287 - accuracy: 0.9044\n",
      "460/460 [==============================] - 4s 5ms/step - loss: 0.0811 - accuracy: 0.6544 - val_loss: 0.0282 - val_accuracy: 0.8896\n",
      "115/115 [==============================] - 0s 3ms/step - loss: 0.0283 - accuracy: 0.8886\n",
      "460/460 [==============================] - 4s 5ms/step - loss: 0.0798 - accuracy: 0.6557 - val_loss: 0.0326 - val_accuracy: 0.8676\n",
      "115/115 [==============================] - 0s 2ms/step - loss: 0.0318 - accuracy: 0.8669\n",
      "460/460 [==============================] - 4s 5ms/step - loss: 0.0797 - accuracy: 0.6585 - val_loss: 0.0310 - val_accuracy: 0.8883\n",
      "115/115 [==============================] - 0s 2ms/step - loss: 0.0307 - accuracy: 0.8873\n",
      "460/460 [==============================] - 5s 5ms/step - loss: 0.0882 - accuracy: 0.6062 - val_loss: 0.0305 - val_accuracy: 0.8818\n",
      "115/115 [==============================] - 1s 4ms/step - loss: 0.0301 - accuracy: 0.8797\n",
      "460/460 [==============================] - 5s 5ms/step - loss: 0.1057 - accuracy: 0.5317 - val_loss: 0.0334 - val_accuracy: 0.8678\n",
      "115/115 [==============================] - 0s 2ms/step - loss: 0.0331 - accuracy: 0.8688\n",
      "460/460 [==============================] - 5s 5ms/step - loss: 0.0880 - accuracy: 0.6188 - val_loss: 0.0310 - val_accuracy: 0.8785\n",
      "115/115 [==============================] - 0s 2ms/step - loss: 0.0297 - accuracy: 0.8848\n",
      "460/460 [==============================] - 4s 5ms/step - loss: 0.1047 - accuracy: 0.5409 - val_loss: 0.0355 - val_accuracy: 0.8619\n",
      "115/115 [==============================] - 0s 2ms/step - loss: 0.0334 - accuracy: 0.8685\n",
      "460/460 [==============================] - 5s 5ms/step - loss: 0.0925 - accuracy: 0.5953 - val_loss: 0.0324 - val_accuracy: 0.8674\n",
      "115/115 [==============================] - 0s 3ms/step - loss: 0.0330 - accuracy: 0.8620\n",
      "574/574 [==============================] - 6s 5ms/step - loss: 0.0686 - accuracy: 0.7042 - val_loss: 0.0244 - val_accuracy: 0.9016\n",
      "Best: 0.888162624835968, using {'layers': (256, 128)}\n",
      "0.8669827938079834 (0.0076979683131365665) with: {'layers': [128]}\n",
      "0.8519007563591003 (0.01306436646520979) with: {'layers': (128, 64)}\n",
      "0.888162624835968 (0.012237040409754676) with: {'layers': (256, 128)}\n",
      "0.872753643989563 (0.00830033260101076) with: {'layers': (256, 128, 64)}\n"
     ]
    }
   ],
   "source": [
    "# Grid Search to determine the layers and neurons in each layer in the sequential model.\n",
    "def create_model(layers):\n",
    "    cnn_model = tf.keras.models.Sequential()\n",
    "    cnn_model.add(tf.keras.layers.Conv2D(filters=32, kernel_size=3, padding=\"same\", activation=\"relu\", input_shape=[28, 28, 1]))\n",
    "    cnn_model.add(tf.keras.layers.MaxPool2D(pool_size=2, strides=2, padding='valid'))\n",
    "    cnn_model.add(tf.keras.layers.Conv2D(filters=32, kernel_size=3, padding=\"same\", activation=\"relu\"))\n",
    "    cnn_model.add(tf.keras.layers.MaxPool2D(pool_size=2, strides=2, padding='valid'))\n",
    "    cnn_model.add(tf.keras.layers.Flatten())\n",
    "    \n",
    "    for i, nodes in enumerate(layers):\n",
    "        cnn_model.add(tf.keras.layers.Dense(units=nodes, activation='relu'))\n",
    "            \n",
    "    cnn_model.add(tf.keras.layers.Dense(units=26, activation='softmax'))\n",
    "    \n",
    "    cnn_model.compile(optimizer = 'Adam', loss = 'binary_crossentropy', metrics = ['accuracy'])\n",
    "    return cnn_model\n",
    "\n",
    "model = KerasClassifier(build_fn=create_model, verbose=1)\n",
    "layers = [[128],(128,64),(256, 128),(256, 128, 64)]\n",
    "param_grid = dict(layers=layers)\n",
    "grid = GridSearchCV(estimator=model, param_grid=param_grid, verbose=1)\n",
    "grid_results = grid.fit(X_train,y_train, validation_data=(X_test, y_test))\n",
    "print(\"Best: {0}, using {1}\".format(grid_results.best_score_, grid_results.best_params_))\n",
    "means = grid_results.cv_results_['mean_test_score']\n",
    "stds = grid_results.cv_results_['std_test_score']\n",
    "params = grid_results.cv_results_['params']\n",
    "for mean, stdev, param in zip(means, stds, params):\n",
    "    print('{0} ({1}) with: {2}'.format(mean, stdev, param))\n",
    "best_layer_size=grid_results.best_params_['layers']  \n",
    "    "
   ]
  },
  {
   "cell_type": "markdown",
   "id": "0eec01ce",
   "metadata": {
    "papermill": {
     "duration": 0.123113,
     "end_time": "2023-06-22T15:57:31.567273",
     "exception": false,
     "start_time": "2023-06-22T15:57:31.444160",
     "status": "completed"
    },
    "tags": []
   },
   "source": [
    "#### Batch size for training(fit)"
   ]
  },
  {
   "cell_type": "code",
   "execution_count": 25,
   "id": "c6aec2bf",
   "metadata": {
    "execution": {
     "iopub.execute_input": "2023-06-22T15:57:31.777433Z",
     "iopub.status.busy": "2023-06-22T15:57:31.777071Z",
     "iopub.status.idle": "2023-06-22T15:59:59.754071Z",
     "shell.execute_reply": "2023-06-22T15:59:59.752027Z"
    },
    "papermill": {
     "duration": 148.083385,
     "end_time": "2023-06-22T15:59:59.756824",
     "exception": false,
     "start_time": "2023-06-22T15:57:31.673439",
     "status": "completed"
    },
    "tags": []
   },
   "outputs": [
    {
     "name": "stdout",
     "output_type": "stream",
     "text": [
      "Fitting 5 folds for each of 4 candidates, totalling 20 fits\n",
      "980/980 [==============================] - 7s 5ms/step - loss: 0.0598 - accuracy: 0.7427 - val_loss: 0.0204 - val_accuracy: 0.9249\n",
      "245/245 [==============================] - 1s 2ms/step - loss: 0.0190 - accuracy: 0.9311\n",
      "980/980 [==============================] - 7s 5ms/step - loss: 0.0576 - accuracy: 0.7527 - val_loss: 0.0246 - val_accuracy: 0.9029\n",
      "245/245 [==============================] - 1s 3ms/step - loss: 0.0234 - accuracy: 0.9102\n",
      "980/980 [==============================] - 7s 5ms/step - loss: 0.0567 - accuracy: 0.7581 - val_loss: 0.0208 - val_accuracy: 0.9199\n",
      "245/245 [==============================] - 1s 2ms/step - loss: 0.0204 - accuracy: 0.9210\n",
      "980/980 [==============================] - 7s 5ms/step - loss: 0.0569 - accuracy: 0.7587 - val_loss: 0.0215 - val_accuracy: 0.9209\n",
      "245/245 [==============================] - 1s 2ms/step - loss: 0.0193 - accuracy: 0.9344\n",
      "980/980 [==============================] - 7s 5ms/step - loss: 0.0576 - accuracy: 0.7525 - val_loss: 0.0228 - val_accuracy: 0.9144\n",
      "245/245 [==============================] - 1s 2ms/step - loss: 0.0234 - accuracy: 0.9028\n",
      "735/735 [==============================] - 6s 5ms/step - loss: 0.0613 - accuracy: 0.7425 - val_loss: 0.0228 - val_accuracy: 0.9181\n",
      "184/184 [==============================] - 1s 2ms/step - loss: 0.0211 - accuracy: 0.9208\n",
      "735/735 [==============================] - 6s 5ms/step - loss: 0.0642 - accuracy: 0.7273 - val_loss: 0.0225 - val_accuracy: 0.9188\n",
      "184/184 [==============================] - 1s 3ms/step - loss: 0.0222 - accuracy: 0.9194\n",
      "735/735 [==============================] - 6s 5ms/step - loss: 0.0640 - accuracy: 0.7217 - val_loss: 0.0244 - val_accuracy: 0.9051\n",
      "184/184 [==============================] - 1s 2ms/step - loss: 0.0242 - accuracy: 0.9093\n",
      "735/735 [==============================] - 6s 5ms/step - loss: 0.0665 - accuracy: 0.7161 - val_loss: 0.0245 - val_accuracy: 0.9066\n",
      "184/184 [==============================] - 1s 2ms/step - loss: 0.0228 - accuracy: 0.9137\n",
      "735/735 [==============================] - 6s 5ms/step - loss: 0.0679 - accuracy: 0.7143 - val_loss: 0.0258 - val_accuracy: 0.8990\n",
      "184/184 [==============================] - 1s 3ms/step - loss: 0.0261 - accuracy: 0.9004\n",
      "368/368 [==============================] - 4s 5ms/step - loss: 0.0941 - accuracy: 0.6034 - val_loss: 0.0337 - val_accuracy: 0.8709\n",
      "92/92 [==============================] - 0s 3ms/step - loss: 0.0316 - accuracy: 0.8832\n",
      "368/368 [==============================] - 4s 6ms/step - loss: 0.0913 - accuracy: 0.6090 - val_loss: 0.0339 - val_accuracy: 0.8774\n",
      "92/92 [==============================] - 0s 3ms/step - loss: 0.0327 - accuracy: 0.8783\n",
      "368/368 [==============================] - 4s 5ms/step - loss: 0.0919 - accuracy: 0.6234 - val_loss: 0.0307 - val_accuracy: 0.8848\n",
      "92/92 [==============================] - 0s 2ms/step - loss: 0.0306 - accuracy: 0.8802\n",
      "368/368 [==============================] - 4s 5ms/step - loss: 0.0900 - accuracy: 0.6207 - val_loss: 0.0332 - val_accuracy: 0.8757\n",
      "92/92 [==============================] - 0s 2ms/step - loss: 0.0319 - accuracy: 0.8737\n",
      "368/368 [==============================] - 4s 5ms/step - loss: 0.0915 - accuracy: 0.6171 - val_loss: 0.0310 - val_accuracy: 0.8748\n",
      "92/92 [==============================] - 0s 3ms/step - loss: 0.0303 - accuracy: 0.8827\n",
      "294/294 [==============================] - 3s 5ms/step - loss: 0.1019 - accuracy: 0.5590 - val_loss: 0.0371 - val_accuracy: 0.8593\n",
      "74/74 [==============================] - 0s 3ms/step - loss: 0.0357 - accuracy: 0.8574\n",
      "294/294 [==============================] - 3s 6ms/step - loss: 0.0979 - accuracy: 0.5746 - val_loss: 0.0341 - val_accuracy: 0.8665\n",
      "74/74 [==============================] - 0s 3ms/step - loss: 0.0329 - accuracy: 0.8720\n",
      "294/294 [==============================] - 4s 6ms/step - loss: 0.1031 - accuracy: 0.5549 - val_loss: 0.0380 - val_accuracy: 0.8495\n",
      "74/74 [==============================] - 0s 3ms/step - loss: 0.0381 - accuracy: 0.8445\n",
      "294/294 [==============================] - 4s 6ms/step - loss: 0.0995 - accuracy: 0.5865 - val_loss: 0.0356 - val_accuracy: 0.8615\n",
      "74/74 [==============================] - 0s 2ms/step - loss: 0.0347 - accuracy: 0.8641\n",
      "294/294 [==============================] - 3s 6ms/step - loss: 0.0942 - accuracy: 0.6047 - val_loss: 0.0341 - val_accuracy: 0.8757\n",
      "74/74 [==============================] - 0s 2ms/step - loss: 0.0349 - accuracy: 0.8650\n",
      "1225/1225 [==============================] - 7s 5ms/step - loss: 0.0481 - accuracy: 0.7952 - val_loss: 0.0217 - val_accuracy: 0.9201\n",
      "Best: 0.9199057459831238, using {'batch_size': 15}\n",
      "0.9199057459831238 with: {'batch_size': 15}\n",
      "0.9127187013626099 with: {'batch_size': 20}\n",
      "0.8796143174171448 with: {'batch_size': 40}\n",
      "0.8606121778488159 with: {'batch_size': 50}\n"
     ]
    }
   ],
   "source": [
    "#Grid Search to determine the batch size\n",
    "def create_model1():\n",
    "    cnn_model = tf.keras.models.Sequential()\n",
    "    cnn_model.add(tf.keras.layers.Conv2D(filters=32, kernel_size=3, padding=\"same\", activation=\"relu\", input_shape=[28, 28, 1]))\n",
    "    cnn_model.add(tf.keras.layers.MaxPool2D(pool_size=2, strides=2, padding='valid'))\n",
    "    cnn_model.add(tf.keras.layers.Conv2D(filters=32, kernel_size=3, padding=\"same\", activation=\"relu\"))\n",
    "    cnn_model.add(tf.keras.layers.MaxPool2D(pool_size=2, strides=2, padding='valid'))\n",
    "    cnn_model.add(tf.keras.layers.Flatten())\n",
    "    cnn_model.add(tf.keras.layers.Dense(units=256, activation='relu'))\n",
    "    cnn_model.add(tf.keras.layers.Dense(units=128, activation='relu'))\n",
    "    cnn_model.add(tf.keras.layers.Dense(units=26, activation='softmax'))\n",
    "    \n",
    "    cnn_model.compile(optimizer = 'Adam', loss = 'binary_crossentropy', metrics = ['accuracy'])\n",
    "    return cnn_model\n",
    "\n",
    "model = KerasClassifier(build_fn = create_model1, verbose = 1)\n",
    "\n",
    "batch_size = [15,20,40,50]\n",
    "param_grid = dict(batch_size=batch_size)\n",
    "\n",
    "grid = GridSearchCV(estimator = model, param_grid = param_grid, verbose = 1)\n",
    "grid_results = grid.fit(X_train,y_train, validation_data=(X_test, y_test))\n",
    "\n",
    "print(\"Best: {0}, using {1}\".format(grid_results.best_score_, grid_results.best_params_))\n",
    "means = grid_results.cv_results_['mean_test_score']\n",
    "params = grid_results.cv_results_['params']\n",
    "for mean,param in zip(means,params):\n",
    "    print('{0} with: {1}'.format(mean,param))\n",
    "best_batch_size=grid_results.best_params_['batch_size']"
   ]
  },
  {
   "cell_type": "markdown",
   "id": "4f21c53f",
   "metadata": {
    "papermill": {
     "duration": 0.244878,
     "end_time": "2023-06-22T16:00:00.208605",
     "exception": false,
     "start_time": "2023-06-22T15:59:59.963727",
     "status": "completed"
    },
    "tags": []
   },
   "source": [
    "#### Drop out ratio for training(fit)"
   ]
  },
  {
   "cell_type": "code",
   "execution_count": 26,
   "id": "f1034e31",
   "metadata": {
    "execution": {
     "iopub.execute_input": "2023-06-22T16:00:00.606196Z",
     "iopub.status.busy": "2023-06-22T16:00:00.605775Z",
     "iopub.status.idle": "2023-06-22T16:02:38.262078Z",
     "shell.execute_reply": "2023-06-22T16:02:38.260885Z"
    },
    "papermill": {
     "duration": 157.862013,
     "end_time": "2023-06-22T16:02:38.265505",
     "exception": false,
     "start_time": "2023-06-22T16:00:00.403492",
     "status": "completed"
    },
    "tags": []
   },
   "outputs": [
    {
     "name": "stdout",
     "output_type": "stream",
     "text": [
      "Fitting 5 folds for each of 3 candidates, totalling 15 fits\n",
      "980/980 [==============================] - 7s 6ms/step - loss: 0.0581 - accuracy: 0.7464 - val_loss: 0.0208 - val_accuracy: 0.9238\n",
      "245/245 [==============================] - 1s 2ms/step - loss: 0.0191 - accuracy: 0.9298\n",
      "980/980 [==============================] - 6s 5ms/step - loss: 0.0542 - accuracy: 0.7759 - val_loss: 0.0219 - val_accuracy: 0.9162\n",
      "245/245 [==============================] - 1s 2ms/step - loss: 0.0206 - accuracy: 0.9221\n",
      "980/980 [==============================] - 7s 6ms/step - loss: 0.0579 - accuracy: 0.7544 - val_loss: 0.0211 - val_accuracy: 0.9218\n",
      "245/245 [==============================] - 1s 2ms/step - loss: 0.0213 - accuracy: 0.9129\n",
      "980/980 [==============================] - 7s 5ms/step - loss: 0.0544 - accuracy: 0.7690 - val_loss: 0.0195 - val_accuracy: 0.9273\n",
      "245/245 [==============================] - 1s 2ms/step - loss: 0.0181 - accuracy: 0.9319\n",
      "980/980 [==============================] - 6s 5ms/step - loss: 0.0529 - accuracy: 0.7779 - val_loss: 0.0204 - val_accuracy: 0.9262\n",
      "245/245 [==============================] - 1s 2ms/step - loss: 0.0208 - accuracy: 0.9186\n",
      "980/980 [==============================] - 7s 5ms/step - loss: 0.0650 - accuracy: 0.7108 - val_loss: 0.0212 - val_accuracy: 0.9162\n",
      "245/245 [==============================] - 1s 2ms/step - loss: 0.0199 - accuracy: 0.9211\n",
      "980/980 [==============================] - 7s 5ms/step - loss: 0.0665 - accuracy: 0.7014 - val_loss: 0.0203 - val_accuracy: 0.9229\n",
      "245/245 [==============================] - 1s 2ms/step - loss: 0.0196 - accuracy: 0.9265\n",
      "980/980 [==============================] - 8s 6ms/step - loss: 0.0686 - accuracy: 0.6888 - val_loss: 0.0213 - val_accuracy: 0.9133\n",
      "245/245 [==============================] - 1s 2ms/step - loss: 0.0216 - accuracy: 0.9153\n",
      "980/980 [==============================] - 7s 5ms/step - loss: 0.0618 - accuracy: 0.7274 - val_loss: 0.0194 - val_accuracy: 0.9275\n",
      "245/245 [==============================] - 1s 3ms/step - loss: 0.0183 - accuracy: 0.9254\n",
      "980/980 [==============================] - 7s 5ms/step - loss: 0.0637 - accuracy: 0.7131 - val_loss: 0.0199 - val_accuracy: 0.9181\n",
      "245/245 [==============================] - 1s 3ms/step - loss: 0.0202 - accuracy: 0.9126\n",
      "980/980 [==============================] - 7s 5ms/step - loss: 0.0710 - accuracy: 0.6768 - val_loss: 0.0202 - val_accuracy: 0.9192\n",
      "245/245 [==============================] - 1s 2ms/step - loss: 0.0183 - accuracy: 0.9271\n",
      "980/980 [==============================] - 7s 5ms/step - loss: 0.0721 - accuracy: 0.6750 - val_loss: 0.0205 - val_accuracy: 0.9164\n",
      "245/245 [==============================] - 1s 2ms/step - loss: 0.0199 - accuracy: 0.9178\n",
      "980/980 [==============================] - 7s 5ms/step - loss: 0.0718 - accuracy: 0.6680 - val_loss: 0.0187 - val_accuracy: 0.9244\n",
      "245/245 [==============================] - 1s 2ms/step - loss: 0.0182 - accuracy: 0.9308\n",
      "980/980 [==============================] - 7s 5ms/step - loss: 0.0682 - accuracy: 0.6977 - val_loss: 0.0187 - val_accuracy: 0.9297\n",
      "245/245 [==============================] - 1s 2ms/step - loss: 0.0177 - accuracy: 0.9303\n",
      "980/980 [==============================] - 7s 5ms/step - loss: 0.0702 - accuracy: 0.6845 - val_loss: 0.0190 - val_accuracy: 0.9231\n",
      "245/245 [==============================] - 1s 2ms/step - loss: 0.0190 - accuracy: 0.9197\n",
      "1225/1225 [==============================] - 8s 5ms/step - loss: 0.0587 - accuracy: 0.7375 - val_loss: 0.0161 - val_accuracy: 0.9379\n",
      "Best: 0.9251332879066467, using {'dropout': 0.2}\n",
      "0.9230639815330506 with: {'dropout': 0.0}\n",
      "0.9201785445213317 with: {'dropout': 0.1}\n",
      "0.9251332879066467 with: {'dropout': 0.2}\n"
     ]
    }
   ],
   "source": [
    "#Grid Search to determine the dropout rate\n",
    "\n",
    "def create_model2(dropout):\n",
    "    # create model\n",
    "    cnn_model = tf.keras.models.Sequential()\n",
    "    cnn_model.add(tf.keras.layers.Conv2D(filters=32, kernel_size=3, padding=\"same\", activation=\"relu\", input_shape=[28, 28, 1]))\n",
    "    cnn_model.add(tf.keras.layers.MaxPool2D(pool_size=2, strides=2, padding='valid'))\n",
    "    cnn_model.add(tf.keras.layers.Conv2D(filters=32, kernel_size=3, padding=\"same\", activation=\"relu\"))\n",
    "    cnn_model.add(tf.keras.layers.MaxPool2D(pool_size=2, strides=2, padding='valid'))\n",
    "    cnn_model.add(tf.keras.layers.Flatten())\n",
    "    cnn_model.add(tf.keras.layers.Dense(units=best_layer_size[0], activation='relu'))\n",
    "    cnn_model.add(Dropout(dropout))\n",
    "    cnn_model.add(tf.keras.layers.Dense(units=best_layer_size[1], activation='relu'))\n",
    "    cnn_model.add(Dropout(dropout))\n",
    "    cnn_model.add(tf.keras.layers.Dense(units=26, activation='softmax'))\n",
    "    \n",
    "    cnn_model.compile(optimizer = 'Adam', loss = 'binary_crossentropy', metrics = ['accuracy'])\n",
    "    return cnn_model\n",
    "\n",
    "model = KerasClassifier(build_fn = create_model2, verbose = 1, batch_size=best_batch_size)\n",
    "\n",
    "dropout = [0.0, 0.1, 0.2]\n",
    "param_grid = dict(dropout=dropout)\n",
    "\n",
    "grid = GridSearchCV(estimator = model, param_grid = param_grid, verbose = 1)\n",
    "grid_results = grid.fit(X_train,y_train, validation_data=(X_test, y_test))\n",
    "\n",
    "print(\"Best: {0}, using {1}\".format(grid_results.best_score_, grid_results.best_params_))\n",
    "means = grid_results.cv_results_['mean_test_score']\n",
    "params = grid_results.cv_results_['params']\n",
    "for mean,param in zip(means,params):\n",
    "    print('{0} with: {1}'.format(mean,param))\n",
    "best_dropout_rate=grid_results.best_params_['dropout']"
   ]
  },
  {
   "cell_type": "markdown",
   "id": "f3ea1f14",
   "metadata": {
    "papermill": {
     "duration": 0.314539,
     "end_time": "2023-06-22T16:02:38.889422",
     "exception": false,
     "start_time": "2023-06-22T16:02:38.574883",
     "status": "completed"
    },
    "tags": []
   },
   "source": [
    "### Final Model"
   ]
  },
  {
   "cell_type": "code",
   "execution_count": 27,
   "id": "f27ee49d",
   "metadata": {
    "execution": {
     "iopub.execute_input": "2023-06-22T16:02:39.548563Z",
     "iopub.status.busy": "2023-06-22T16:02:39.548202Z",
     "iopub.status.idle": "2023-06-22T16:05:03.613385Z",
     "shell.execute_reply": "2023-06-22T16:05:03.612396Z"
    },
    "papermill": {
     "duration": 144.590464,
     "end_time": "2023-06-22T16:05:03.832790",
     "exception": false,
     "start_time": "2023-06-22T16:02:39.242326",
     "status": "completed"
    },
    "tags": []
   },
   "outputs": [
    {
     "name": "stdout",
     "output_type": "stream",
     "text": [
      "Epoch 1/20\n",
      "1225/1225 [==============================] - 8s 5ms/step - loss: 0.0603 - accuracy: 0.7291 - val_loss: 0.0167 - val_accuracy: 0.9336\n",
      "Epoch 2/20\n",
      "1225/1225 [==============================] - 6s 5ms/step - loss: 0.0168 - accuracy: 0.9367 - val_loss: 0.0118 - val_accuracy: 0.9541\n",
      "Epoch 3/20\n",
      "1225/1225 [==============================] - 6s 5ms/step - loss: 0.0112 - accuracy: 0.9569 - val_loss: 0.0078 - val_accuracy: 0.9691\n",
      "Epoch 4/20\n",
      "1225/1225 [==============================] - 6s 5ms/step - loss: 0.0081 - accuracy: 0.9707 - val_loss: 0.0067 - val_accuracy: 0.9710\n",
      "Epoch 5/20\n",
      "1225/1225 [==============================] - 6s 5ms/step - loss: 0.0062 - accuracy: 0.9776 - val_loss: 0.0073 - val_accuracy: 0.9730\n",
      "Epoch 6/20\n",
      "1225/1225 [==============================] - 6s 5ms/step - loss: 0.0051 - accuracy: 0.9808 - val_loss: 0.0072 - val_accuracy: 0.9741\n",
      "Epoch 7/20\n",
      "1225/1225 [==============================] - 6s 5ms/step - loss: 0.0043 - accuracy: 0.9844 - val_loss: 0.0068 - val_accuracy: 0.9760\n",
      "Epoch 8/20\n",
      "1225/1225 [==============================] - 6s 5ms/step - loss: 0.0040 - accuracy: 0.9854 - val_loss: 0.0064 - val_accuracy: 0.9778\n",
      "Epoch 9/20\n",
      "1225/1225 [==============================] - 6s 5ms/step - loss: 0.0033 - accuracy: 0.9887 - val_loss: 0.0075 - val_accuracy: 0.9765\n",
      "Epoch 10/20\n",
      "1225/1225 [==============================] - 6s 5ms/step - loss: 0.0028 - accuracy: 0.9907 - val_loss: 0.0073 - val_accuracy: 0.9782\n",
      "Epoch 11/20\n",
      "1225/1225 [==============================] - 6s 5ms/step - loss: 0.0024 - accuracy: 0.9923 - val_loss: 0.0055 - val_accuracy: 0.9837\n",
      "Epoch 12/20\n",
      "1225/1225 [==============================] - 7s 6ms/step - loss: 0.0026 - accuracy: 0.9916 - val_loss: 0.0060 - val_accuracy: 0.9802\n",
      "Epoch 13/20\n",
      "1225/1225 [==============================] - 6s 5ms/step - loss: 0.0022 - accuracy: 0.9922 - val_loss: 0.0065 - val_accuracy: 0.9817\n",
      "Epoch 14/20\n",
      "1225/1225 [==============================] - 6s 5ms/step - loss: 0.0022 - accuracy: 0.9927 - val_loss: 0.0075 - val_accuracy: 0.9797\n",
      "Epoch 15/20\n",
      "1225/1225 [==============================] - 6s 5ms/step - loss: 0.0018 - accuracy: 0.9938 - val_loss: 0.0060 - val_accuracy: 0.9848\n",
      "Epoch 16/20\n",
      "1225/1225 [==============================] - 6s 5ms/step - loss: 0.0020 - accuracy: 0.9935 - val_loss: 0.0067 - val_accuracy: 0.9834\n",
      "Epoch 17/20\n",
      "1225/1225 [==============================] - 6s 5ms/step - loss: 0.0016 - accuracy: 0.9950 - val_loss: 0.0058 - val_accuracy: 0.9848\n",
      "Epoch 18/20\n",
      "1225/1225 [==============================] - 6s 5ms/step - loss: 0.0016 - accuracy: 0.9949 - val_loss: 0.0079 - val_accuracy: 0.9795\n",
      "Epoch 19/20\n",
      "1225/1225 [==============================] - 6s 5ms/step - loss: 0.0016 - accuracy: 0.9949 - val_loss: 0.0052 - val_accuracy: 0.9865\n",
      "Epoch 20/20\n",
      "1225/1225 [==============================] - 6s 5ms/step - loss: 0.0015 - accuracy: 0.9955 - val_loss: 0.0058 - val_accuracy: 0.9850\n",
      "CNN Error: 1.50%\n"
     ]
    },
    {
     "data": {
      "image/png": "[encoded data removed]",
      "text/plain": [
       "<Figure size 640x480 with 1 Axes>"
      ]
     },
     "metadata": {},
     "output_type": "display_data"
    },
    {
     "data": {
      "image/png": "[encoded data removed]",
      "text/plain": [
       "<Figure size 640x480 with 1 Axes>"
      ]
     },
     "metadata": {},
     "output_type": "display_data"
    }
   ],
   "source": [
    "#Definition of the final CNN model\n",
    "\n",
    "cnn_model = tf.keras.models.Sequential()\n",
    "cnn_model.add(tf.keras.layers.Conv2D(filters=32, kernel_size=3, padding=\"same\", activation=\"relu\", input_shape=[28, 28, 1]))\n",
    "cnn_model.add(tf.keras.layers.MaxPool2D(pool_size=2, strides=2, padding='valid'))\n",
    "cnn_model.add(tf.keras.layers.Conv2D(filters=32, kernel_size=3, padding=\"same\", activation=\"relu\"))\n",
    "cnn_model.add(tf.keras.layers.MaxPool2D(pool_size=2, strides=2, padding='valid'))\n",
    "cnn_model.add(tf.keras.layers.Flatten())\n",
    "cnn_model.add(tf.keras.layers.Dense(units=best_layer_size[0], activation='relu'))\n",
    "cnn_model.add(Dropout(best_dropout_rate))\n",
    "cnn_model.add(tf.keras.layers.Dense(units=best_layer_size[1], activation='relu'))\n",
    "cnn_model.add(Dropout(best_dropout_rate))\n",
    "cnn_model.add(tf.keras.layers.Dense(units=26, activation='softmax'))\n",
    "\n",
    "# compile the model\n",
    "cnn_model.compile(optimizer = 'Adam', loss = 'binary_crossentropy', metrics = ['accuracy'])\n",
    "\n",
    "history = cnn_model.fit(X_train, y_train, batch_size=best_batch_size, epochs=20,validation_data=(X_test, y_test))\n",
    "\n",
    "\n",
    "# Final evaluation of the model\n",
    "scores = cnn_model.evaluate(X_test,y_test, verbose=0)\n",
    "print(\"CNN Error: %.2f%%\" % (100-scores[1]*100))\n",
    "\n",
    "#Plot fit history\n",
    "model_fit_history_plot(history)"
   ]
  },
  {
   "cell_type": "markdown",
   "id": "fdb52cb3",
   "metadata": {
    "papermill": {
     "duration": 0.460204,
     "end_time": "2023-06-22T16:05:04.750357",
     "exception": false,
     "start_time": "2023-06-22T16:05:04.290153",
     "status": "completed"
    },
    "tags": []
   },
   "source": [
    "### Making predictions on the test set and Evaluation\n"
   ]
  },
  {
   "cell_type": "code",
   "execution_count": 28,
   "id": "f4aded86",
   "metadata": {
    "execution": {
     "iopub.execute_input": "2023-06-22T16:05:05.724438Z",
     "iopub.status.busy": "2023-06-22T16:05:05.724074Z",
     "iopub.status.idle": "2023-06-22T16:05:11.592851Z",
     "shell.execute_reply": "2023-06-22T16:05:11.591817Z"
    },
    "papermill": {
     "duration": 6.38703,
     "end_time": "2023-06-22T16:05:11.595379",
     "exception": false,
     "start_time": "2023-06-22T16:05:05.208349",
     "status": "completed"
    },
    "tags": []
   },
   "outputs": [],
   "source": [
    "# read test dataset\n",
    "df_test = pd.read_csv('/kaggle/input/alphabet/test.csv')"
   ]
  },
  {
   "cell_type": "code",
   "execution_count": 29,
   "id": "c21a488a",
   "metadata": {
    "execution": {
     "iopub.execute_input": "2023-06-22T16:05:12.520723Z",
     "iopub.status.busy": "2023-06-22T16:05:12.519684Z",
     "iopub.status.idle": "2023-06-22T16:05:12.526674Z",
     "shell.execute_reply": "2023-06-22T16:05:12.525633Z"
    },
    "papermill": {
     "duration": 0.476703,
     "end_time": "2023-06-22T16:05:12.529110",
     "exception": false,
     "start_time": "2023-06-22T16:05:12.052407",
     "status": "completed"
    },
    "tags": []
   },
   "outputs": [
    {
     "data": {
      "text/plain": [
       "(74490, 785)"
      ]
     },
     "execution_count": 29,
     "metadata": {},
     "output_type": "execute_result"
    }
   ],
   "source": [
    "# Test dataset properties\n",
    "df_test.shape"
   ]
  },
  {
   "cell_type": "code",
   "execution_count": 30,
   "id": "d28edf9f",
   "metadata": {
    "execution": {
     "iopub.execute_input": "2023-06-22T16:05:13.485601Z",
     "iopub.status.busy": "2023-06-22T16:05:13.485235Z",
     "iopub.status.idle": "2023-06-22T16:05:13.508568Z",
     "shell.execute_reply": "2023-06-22T16:05:13.506593Z"
    },
    "papermill": {
     "duration": 0.526674,
     "end_time": "2023-06-22T16:05:13.510607",
     "exception": false,
     "start_time": "2023-06-22T16:05:12.983933",
     "status": "completed"
    },
    "tags": []
   },
   "outputs": [
    {
     "data": {
      "text/html": [
       "<div>\n",
       "<style scoped>\n",
       "    .dataframe tbody tr th:only-of-type {\n",
       "        vertical-align: middle;\n",
       "    }\n",
       "\n",
       "    .dataframe tbody tr th {\n",
       "        vertical-align: top;\n",
       "    }\n",
       "\n",
       "    .dataframe thead th {\n",
       "        text-align: right;\n",
       "    }\n",
       "</style>\n",
       "<table border=\"1\" class=\"dataframe\">\n",
       "  <thead>\n",
       "    <tr style=\"text-align: right;\">\n",
       "      <th></th>\n",
       "      <th>Unnamed: 0</th>\n",
       "      <th>0.1</th>\n",
       "      <th>0.2</th>\n",
       "      <th>0.3</th>\n",
       "      <th>0.4</th>\n",
       "      <th>0.5</th>\n",
       "      <th>0.6</th>\n",
       "      <th>0.7</th>\n",
       "      <th>0.8</th>\n",
       "      <th>0.9</th>\n",
       "      <th>...</th>\n",
       "      <th>0.639</th>\n",
       "      <th>0.640</th>\n",
       "      <th>0.641</th>\n",
       "      <th>0.642</th>\n",
       "      <th>0.643</th>\n",
       "      <th>0.644</th>\n",
       "      <th>0.645</th>\n",
       "      <th>0.646</th>\n",
       "      <th>0.647</th>\n",
       "      <th>0.648</th>\n",
       "    </tr>\n",
       "  </thead>\n",
       "  <tbody>\n",
       "    <tr>\n",
       "      <th>0</th>\n",
       "      <td>0</td>\n",
       "      <td>0</td>\n",
       "      <td>0</td>\n",
       "      <td>0</td>\n",
       "      <td>0</td>\n",
       "      <td>0</td>\n",
       "      <td>0</td>\n",
       "      <td>0</td>\n",
       "      <td>0</td>\n",
       "      <td>0</td>\n",
       "      <td>...</td>\n",
       "      <td>0</td>\n",
       "      <td>0</td>\n",
       "      <td>0</td>\n",
       "      <td>0</td>\n",
       "      <td>0</td>\n",
       "      <td>0</td>\n",
       "      <td>0</td>\n",
       "      <td>0</td>\n",
       "      <td>0</td>\n",
       "      <td>0</td>\n",
       "    </tr>\n",
       "    <tr>\n",
       "      <th>1</th>\n",
       "      <td>1</td>\n",
       "      <td>0</td>\n",
       "      <td>0</td>\n",
       "      <td>0</td>\n",
       "      <td>0</td>\n",
       "      <td>0</td>\n",
       "      <td>0</td>\n",
       "      <td>0</td>\n",
       "      <td>0</td>\n",
       "      <td>0</td>\n",
       "      <td>...</td>\n",
       "      <td>0</td>\n",
       "      <td>0</td>\n",
       "      <td>0</td>\n",
       "      <td>0</td>\n",
       "      <td>0</td>\n",
       "      <td>0</td>\n",
       "      <td>0</td>\n",
       "      <td>0</td>\n",
       "      <td>0</td>\n",
       "      <td>0</td>\n",
       "    </tr>\n",
       "    <tr>\n",
       "      <th>2</th>\n",
       "      <td>2</td>\n",
       "      <td>0</td>\n",
       "      <td>0</td>\n",
       "      <td>0</td>\n",
       "      <td>0</td>\n",
       "      <td>0</td>\n",
       "      <td>0</td>\n",
       "      <td>0</td>\n",
       "      <td>0</td>\n",
       "      <td>0</td>\n",
       "      <td>...</td>\n",
       "      <td>0</td>\n",
       "      <td>0</td>\n",
       "      <td>0</td>\n",
       "      <td>0</td>\n",
       "      <td>0</td>\n",
       "      <td>0</td>\n",
       "      <td>0</td>\n",
       "      <td>0</td>\n",
       "      <td>0</td>\n",
       "      <td>0</td>\n",
       "    </tr>\n",
       "    <tr>\n",
       "      <th>3</th>\n",
       "      <td>3</td>\n",
       "      <td>0</td>\n",
       "      <td>0</td>\n",
       "      <td>0</td>\n",
       "      <td>0</td>\n",
       "      <td>0</td>\n",
       "      <td>0</td>\n",
       "      <td>0</td>\n",
       "      <td>0</td>\n",
       "      <td>0</td>\n",
       "      <td>...</td>\n",
       "      <td>0</td>\n",
       "      <td>0</td>\n",
       "      <td>0</td>\n",
       "      <td>0</td>\n",
       "      <td>0</td>\n",
       "      <td>0</td>\n",
       "      <td>0</td>\n",
       "      <td>0</td>\n",
       "      <td>0</td>\n",
       "      <td>0</td>\n",
       "    </tr>\n",
       "    <tr>\n",
       "      <th>4</th>\n",
       "      <td>4</td>\n",
       "      <td>0</td>\n",
       "      <td>0</td>\n",
       "      <td>0</td>\n",
       "      <td>0</td>\n",
       "      <td>0</td>\n",
       "      <td>0</td>\n",
       "      <td>0</td>\n",
       "      <td>0</td>\n",
       "      <td>0</td>\n",
       "      <td>...</td>\n",
       "      <td>0</td>\n",
       "      <td>0</td>\n",
       "      <td>0</td>\n",
       "      <td>0</td>\n",
       "      <td>0</td>\n",
       "      <td>0</td>\n",
       "      <td>0</td>\n",
       "      <td>0</td>\n",
       "      <td>0</td>\n",
       "      <td>0</td>\n",
       "    </tr>\n",
       "    <tr>\n",
       "      <th>5</th>\n",
       "      <td>5</td>\n",
       "      <td>0</td>\n",
       "      <td>0</td>\n",
       "      <td>0</td>\n",
       "      <td>0</td>\n",
       "      <td>0</td>\n",
       "      <td>0</td>\n",
       "      <td>0</td>\n",
       "      <td>0</td>\n",
       "      <td>0</td>\n",
       "      <td>...</td>\n",
       "      <td>0</td>\n",
       "      <td>0</td>\n",
       "      <td>0</td>\n",
       "      <td>0</td>\n",
       "      <td>0</td>\n",
       "      <td>0</td>\n",
       "      <td>0</td>\n",
       "      <td>0</td>\n",
       "      <td>0</td>\n",
       "      <td>0</td>\n",
       "    </tr>\n",
       "    <tr>\n",
       "      <th>6</th>\n",
       "      <td>6</td>\n",
       "      <td>0</td>\n",
       "      <td>0</td>\n",
       "      <td>0</td>\n",
       "      <td>0</td>\n",
       "      <td>0</td>\n",
       "      <td>0</td>\n",
       "      <td>0</td>\n",
       "      <td>0</td>\n",
       "      <td>0</td>\n",
       "      <td>...</td>\n",
       "      <td>0</td>\n",
       "      <td>0</td>\n",
       "      <td>0</td>\n",
       "      <td>0</td>\n",
       "      <td>0</td>\n",
       "      <td>0</td>\n",
       "      <td>0</td>\n",
       "      <td>0</td>\n",
       "      <td>0</td>\n",
       "      <td>0</td>\n",
       "    </tr>\n",
       "    <tr>\n",
       "      <th>7</th>\n",
       "      <td>7</td>\n",
       "      <td>0</td>\n",
       "      <td>0</td>\n",
       "      <td>0</td>\n",
       "      <td>0</td>\n",
       "      <td>0</td>\n",
       "      <td>0</td>\n",
       "      <td>0</td>\n",
       "      <td>0</td>\n",
       "      <td>0</td>\n",
       "      <td>...</td>\n",
       "      <td>0</td>\n",
       "      <td>0</td>\n",
       "      <td>0</td>\n",
       "      <td>0</td>\n",
       "      <td>0</td>\n",
       "      <td>0</td>\n",
       "      <td>0</td>\n",
       "      <td>0</td>\n",
       "      <td>0</td>\n",
       "      <td>0</td>\n",
       "    </tr>\n",
       "    <tr>\n",
       "      <th>8</th>\n",
       "      <td>8</td>\n",
       "      <td>0</td>\n",
       "      <td>0</td>\n",
       "      <td>0</td>\n",
       "      <td>0</td>\n",
       "      <td>0</td>\n",
       "      <td>0</td>\n",
       "      <td>0</td>\n",
       "      <td>0</td>\n",
       "      <td>0</td>\n",
       "      <td>...</td>\n",
       "      <td>0</td>\n",
       "      <td>0</td>\n",
       "      <td>0</td>\n",
       "      <td>0</td>\n",
       "      <td>0</td>\n",
       "      <td>0</td>\n",
       "      <td>0</td>\n",
       "      <td>0</td>\n",
       "      <td>0</td>\n",
       "      <td>0</td>\n",
       "    </tr>\n",
       "    <tr>\n",
       "      <th>9</th>\n",
       "      <td>9</td>\n",
       "      <td>0</td>\n",
       "      <td>0</td>\n",
       "      <td>0</td>\n",
       "      <td>0</td>\n",
       "      <td>0</td>\n",
       "      <td>0</td>\n",
       "      <td>0</td>\n",
       "      <td>0</td>\n",
       "      <td>0</td>\n",
       "      <td>...</td>\n",
       "      <td>0</td>\n",
       "      <td>0</td>\n",
       "      <td>0</td>\n",
       "      <td>0</td>\n",
       "      <td>0</td>\n",
       "      <td>0</td>\n",
       "      <td>0</td>\n",
       "      <td>0</td>\n",
       "      <td>0</td>\n",
       "      <td>0</td>\n",
       "    </tr>\n",
       "  </tbody>\n",
       "</table>\n",
       "<p>10 rows × 785 columns</p>\n",
       "</div>"
      ],
      "text/plain": [
       "   Unnamed: 0  0.1  0.2  0.3  0.4  0.5  0.6  0.7  0.8  0.9  ...  0.639  0.640  \\\n",
       "0           0    0    0    0    0    0    0    0    0    0  ...      0      0   \n",
       "1           1    0    0    0    0    0    0    0    0    0  ...      0      0   \n",
       "2           2    0    0    0    0    0    0    0    0    0  ...      0      0   \n",
       "3           3    0    0    0    0    0    0    0    0    0  ...      0      0   \n",
       "4           4    0    0    0    0    0    0    0    0    0  ...      0      0   \n",
       "5           5    0    0    0    0    0    0    0    0    0  ...      0      0   \n",
       "6           6    0    0    0    0    0    0    0    0    0  ...      0      0   \n",
       "7           7    0    0    0    0    0    0    0    0    0  ...      0      0   \n",
       "8           8    0    0    0    0    0    0    0    0    0  ...      0      0   \n",
       "9           9    0    0    0    0    0    0    0    0    0  ...      0      0   \n",
       "\n",
       "   0.641  0.642  0.643  0.644  0.645  0.646  0.647  0.648  \n",
       "0      0      0      0      0      0      0      0      0  \n",
       "1      0      0      0      0      0      0      0      0  \n",
       "2      0      0      0      0      0      0      0      0  \n",
       "3      0      0      0      0      0      0      0      0  \n",
       "4      0      0      0      0      0      0      0      0  \n",
       "5      0      0      0      0      0      0      0      0  \n",
       "6      0      0      0      0      0      0      0      0  \n",
       "7      0      0      0      0      0      0      0      0  \n",
       "8      0      0      0      0      0      0      0      0  \n",
       "9      0      0      0      0      0      0      0      0  \n",
       "\n",
       "[10 rows x 785 columns]"
      ]
     },
     "execution_count": 30,
     "metadata": {},
     "output_type": "execute_result"
    }
   ],
   "source": [
    "# Explore test dataset\n",
    "df_test.head(10)"
   ]
  },
  {
   "cell_type": "code",
   "execution_count": 31,
   "id": "8970da19",
   "metadata": {
    "execution": {
     "iopub.execute_input": "2023-06-22T16:05:14.426342Z",
     "iopub.status.busy": "2023-06-22T16:05:14.425985Z",
     "iopub.status.idle": "2023-06-22T16:05:14.433485Z",
     "shell.execute_reply": "2023-06-22T16:05:14.432600Z"
    },
    "papermill": {
     "duration": 0.466858,
     "end_time": "2023-06-22T16:05:14.435653",
     "exception": false,
     "start_time": "2023-06-22T16:05:13.968795",
     "status": "completed"
    },
    "tags": []
   },
   "outputs": [
    {
     "data": {
      "text/plain": [
       "Index(['Unnamed: 0', '0.1', '0.2', '0.3', '0.4', '0.5', '0.6', '0.7', '0.8',\n",
       "       '0.9',\n",
       "       ...\n",
       "       '0.639', '0.640', '0.641', '0.642', '0.643', '0.644', '0.645', '0.646',\n",
       "       '0.647', '0.648'],\n",
       "      dtype='object', length=785)"
      ]
     },
     "execution_count": 31,
     "metadata": {},
     "output_type": "execute_result"
    }
   ],
   "source": [
    "#find the rows x columns\n",
    "df_test.columns"
   ]
  },
  {
   "cell_type": "code",
   "execution_count": 32,
   "id": "3b2d73e9",
   "metadata": {
    "execution": {
     "iopub.execute_input": "2023-06-22T16:05:15.349049Z",
     "iopub.status.busy": "2023-06-22T16:05:15.348677Z",
     "iopub.status.idle": "2023-06-22T16:05:15.353311Z",
     "shell.execute_reply": "2023-06-22T16:05:15.352351Z"
    },
    "papermill": {
     "duration": 0.464783,
     "end_time": "2023-06-22T16:05:15.355374",
     "exception": false,
     "start_time": "2023-06-22T16:05:14.890591",
     "status": "completed"
    },
    "tags": []
   },
   "outputs": [],
   "source": [
    "#check if the first column is target variable?\n",
    "y_test = df_test['Unnamed: 0']"
   ]
  },
  {
   "cell_type": "code",
   "execution_count": 33,
   "id": "e71d8f89",
   "metadata": {
    "execution": {
     "iopub.execute_input": "2023-06-22T16:05:16.317669Z",
     "iopub.status.busy": "2023-06-22T16:05:16.317217Z",
     "iopub.status.idle": "2023-06-22T16:05:16.327518Z",
     "shell.execute_reply": "2023-06-22T16:05:16.326524Z"
    },
    "papermill": {
     "duration": 0.471712,
     "end_time": "2023-06-22T16:05:16.329538",
     "exception": false,
     "start_time": "2023-06-22T16:05:15.857826",
     "status": "completed"
    },
    "tags": []
   },
   "outputs": [
    {
     "data": {
      "text/plain": [
       "array([    0,     1,     2, ..., 74487, 74488, 74489])"
      ]
     },
     "execution_count": 33,
     "metadata": {},
     "output_type": "execute_result"
    }
   ],
   "source": [
    "#first column is not representing the alphabet  and so in the test data set there is target variable column\n",
    "#we can safely ignore this variable!\n",
    "y_test.unique()"
   ]
  },
  {
   "cell_type": "code",
   "execution_count": 34,
   "id": "167a098a",
   "metadata": {
    "execution": {
     "iopub.execute_input": "2023-06-22T16:05:17.250413Z",
     "iopub.status.busy": "2023-06-22T16:05:17.249842Z",
     "iopub.status.idle": "2023-06-22T16:05:17.259284Z",
     "shell.execute_reply": "2023-06-22T16:05:17.258082Z"
    },
    "papermill": {
     "duration": 0.473941,
     "end_time": "2023-06-22T16:05:17.261481",
     "exception": false,
     "start_time": "2023-06-22T16:05:16.787540",
     "status": "completed"
    },
    "tags": []
   },
   "outputs": [],
   "source": [
    "# Create the pandas DataFrame\n",
    "#df_result = pd.DataFrame(data, columns=['ID', 'Prediction'])\n",
    "#df_result['ID']= df_test['Unnamed: 0']\n",
    "\n",
    "#remove first column from df_test\n",
    "del df_test['Unnamed: 0'] "
   ]
  },
  {
   "cell_type": "code",
   "execution_count": 35,
   "id": "c4d64c1f",
   "metadata": {
    "execution": {
     "iopub.execute_input": "2023-06-22T16:05:18.226432Z",
     "iopub.status.busy": "2023-06-22T16:05:18.226074Z",
     "iopub.status.idle": "2023-06-22T16:05:18.428520Z",
     "shell.execute_reply": "2023-06-22T16:05:18.427394Z"
    },
    "papermill": {
     "duration": 0.710501,
     "end_time": "2023-06-22T16:05:18.431382",
     "exception": false,
     "start_time": "2023-06-22T16:05:17.720881",
     "status": "completed"
    },
    "tags": []
   },
   "outputs": [
    {
     "data": {
      "text/html": [
       "<div>\n",
       "<style scoped>\n",
       "    .dataframe tbody tr th:only-of-type {\n",
       "        vertical-align: middle;\n",
       "    }\n",
       "\n",
       "    .dataframe tbody tr th {\n",
       "        vertical-align: top;\n",
       "    }\n",
       "\n",
       "    .dataframe thead th {\n",
       "        text-align: right;\n",
       "    }\n",
       "</style>\n",
       "<table border=\"1\" class=\"dataframe\">\n",
       "  <thead>\n",
       "    <tr style=\"text-align: right;\">\n",
       "      <th></th>\n",
       "      <th>0.1</th>\n",
       "      <th>0.2</th>\n",
       "      <th>0.3</th>\n",
       "      <th>0.4</th>\n",
       "      <th>0.5</th>\n",
       "      <th>0.6</th>\n",
       "      <th>0.7</th>\n",
       "      <th>0.8</th>\n",
       "      <th>0.9</th>\n",
       "      <th>0.10</th>\n",
       "      <th>...</th>\n",
       "      <th>0.639</th>\n",
       "      <th>0.640</th>\n",
       "      <th>0.641</th>\n",
       "      <th>0.642</th>\n",
       "      <th>0.643</th>\n",
       "      <th>0.644</th>\n",
       "      <th>0.645</th>\n",
       "      <th>0.646</th>\n",
       "      <th>0.647</th>\n",
       "      <th>0.648</th>\n",
       "    </tr>\n",
       "  </thead>\n",
       "  <tbody>\n",
       "    <tr>\n",
       "      <th>0</th>\n",
       "      <td>0.0</td>\n",
       "      <td>0.0</td>\n",
       "      <td>0.0</td>\n",
       "      <td>0.0</td>\n",
       "      <td>0.0</td>\n",
       "      <td>0.0</td>\n",
       "      <td>0.0</td>\n",
       "      <td>0.0</td>\n",
       "      <td>0.0</td>\n",
       "      <td>0.0</td>\n",
       "      <td>...</td>\n",
       "      <td>0.0</td>\n",
       "      <td>0.0</td>\n",
       "      <td>0.0</td>\n",
       "      <td>0.0</td>\n",
       "      <td>0.0</td>\n",
       "      <td>0.0</td>\n",
       "      <td>0.0</td>\n",
       "      <td>0.0</td>\n",
       "      <td>0.0</td>\n",
       "      <td>0.0</td>\n",
       "    </tr>\n",
       "    <tr>\n",
       "      <th>1</th>\n",
       "      <td>0.0</td>\n",
       "      <td>0.0</td>\n",
       "      <td>0.0</td>\n",
       "      <td>0.0</td>\n",
       "      <td>0.0</td>\n",
       "      <td>0.0</td>\n",
       "      <td>0.0</td>\n",
       "      <td>0.0</td>\n",
       "      <td>0.0</td>\n",
       "      <td>0.0</td>\n",
       "      <td>...</td>\n",
       "      <td>0.0</td>\n",
       "      <td>0.0</td>\n",
       "      <td>0.0</td>\n",
       "      <td>0.0</td>\n",
       "      <td>0.0</td>\n",
       "      <td>0.0</td>\n",
       "      <td>0.0</td>\n",
       "      <td>0.0</td>\n",
       "      <td>0.0</td>\n",
       "      <td>0.0</td>\n",
       "    </tr>\n",
       "    <tr>\n",
       "      <th>2</th>\n",
       "      <td>0.0</td>\n",
       "      <td>0.0</td>\n",
       "      <td>0.0</td>\n",
       "      <td>0.0</td>\n",
       "      <td>0.0</td>\n",
       "      <td>0.0</td>\n",
       "      <td>0.0</td>\n",
       "      <td>0.0</td>\n",
       "      <td>0.0</td>\n",
       "      <td>0.0</td>\n",
       "      <td>...</td>\n",
       "      <td>0.0</td>\n",
       "      <td>0.0</td>\n",
       "      <td>0.0</td>\n",
       "      <td>0.0</td>\n",
       "      <td>0.0</td>\n",
       "      <td>0.0</td>\n",
       "      <td>0.0</td>\n",
       "      <td>0.0</td>\n",
       "      <td>0.0</td>\n",
       "      <td>0.0</td>\n",
       "    </tr>\n",
       "    <tr>\n",
       "      <th>3</th>\n",
       "      <td>0.0</td>\n",
       "      <td>0.0</td>\n",
       "      <td>0.0</td>\n",
       "      <td>0.0</td>\n",
       "      <td>0.0</td>\n",
       "      <td>0.0</td>\n",
       "      <td>0.0</td>\n",
       "      <td>0.0</td>\n",
       "      <td>0.0</td>\n",
       "      <td>0.0</td>\n",
       "      <td>...</td>\n",
       "      <td>0.0</td>\n",
       "      <td>0.0</td>\n",
       "      <td>0.0</td>\n",
       "      <td>0.0</td>\n",
       "      <td>0.0</td>\n",
       "      <td>0.0</td>\n",
       "      <td>0.0</td>\n",
       "      <td>0.0</td>\n",
       "      <td>0.0</td>\n",
       "      <td>0.0</td>\n",
       "    </tr>\n",
       "    <tr>\n",
       "      <th>4</th>\n",
       "      <td>0.0</td>\n",
       "      <td>0.0</td>\n",
       "      <td>0.0</td>\n",
       "      <td>0.0</td>\n",
       "      <td>0.0</td>\n",
       "      <td>0.0</td>\n",
       "      <td>0.0</td>\n",
       "      <td>0.0</td>\n",
       "      <td>0.0</td>\n",
       "      <td>0.0</td>\n",
       "      <td>...</td>\n",
       "      <td>0.0</td>\n",
       "      <td>0.0</td>\n",
       "      <td>0.0</td>\n",
       "      <td>0.0</td>\n",
       "      <td>0.0</td>\n",
       "      <td>0.0</td>\n",
       "      <td>0.0</td>\n",
       "      <td>0.0</td>\n",
       "      <td>0.0</td>\n",
       "      <td>0.0</td>\n",
       "    </tr>\n",
       "    <tr>\n",
       "      <th>...</th>\n",
       "      <td>...</td>\n",
       "      <td>...</td>\n",
       "      <td>...</td>\n",
       "      <td>...</td>\n",
       "      <td>...</td>\n",
       "      <td>...</td>\n",
       "      <td>...</td>\n",
       "      <td>...</td>\n",
       "      <td>...</td>\n",
       "      <td>...</td>\n",
       "      <td>...</td>\n",
       "      <td>...</td>\n",
       "      <td>...</td>\n",
       "      <td>...</td>\n",
       "      <td>...</td>\n",
       "      <td>...</td>\n",
       "      <td>...</td>\n",
       "      <td>...</td>\n",
       "      <td>...</td>\n",
       "      <td>...</td>\n",
       "      <td>...</td>\n",
       "    </tr>\n",
       "    <tr>\n",
       "      <th>74485</th>\n",
       "      <td>0.0</td>\n",
       "      <td>0.0</td>\n",
       "      <td>0.0</td>\n",
       "      <td>0.0</td>\n",
       "      <td>0.0</td>\n",
       "      <td>0.0</td>\n",
       "      <td>0.0</td>\n",
       "      <td>0.0</td>\n",
       "      <td>0.0</td>\n",
       "      <td>0.0</td>\n",
       "      <td>...</td>\n",
       "      <td>0.0</td>\n",
       "      <td>0.0</td>\n",
       "      <td>0.0</td>\n",
       "      <td>0.0</td>\n",
       "      <td>0.0</td>\n",
       "      <td>0.0</td>\n",
       "      <td>0.0</td>\n",
       "      <td>0.0</td>\n",
       "      <td>0.0</td>\n",
       "      <td>0.0</td>\n",
       "    </tr>\n",
       "    <tr>\n",
       "      <th>74486</th>\n",
       "      <td>0.0</td>\n",
       "      <td>0.0</td>\n",
       "      <td>0.0</td>\n",
       "      <td>0.0</td>\n",
       "      <td>0.0</td>\n",
       "      <td>0.0</td>\n",
       "      <td>0.0</td>\n",
       "      <td>0.0</td>\n",
       "      <td>0.0</td>\n",
       "      <td>0.0</td>\n",
       "      <td>...</td>\n",
       "      <td>0.0</td>\n",
       "      <td>0.0</td>\n",
       "      <td>0.0</td>\n",
       "      <td>0.0</td>\n",
       "      <td>0.0</td>\n",
       "      <td>0.0</td>\n",
       "      <td>0.0</td>\n",
       "      <td>0.0</td>\n",
       "      <td>0.0</td>\n",
       "      <td>0.0</td>\n",
       "    </tr>\n",
       "    <tr>\n",
       "      <th>74487</th>\n",
       "      <td>0.0</td>\n",
       "      <td>0.0</td>\n",
       "      <td>0.0</td>\n",
       "      <td>0.0</td>\n",
       "      <td>0.0</td>\n",
       "      <td>0.0</td>\n",
       "      <td>0.0</td>\n",
       "      <td>0.0</td>\n",
       "      <td>0.0</td>\n",
       "      <td>0.0</td>\n",
       "      <td>...</td>\n",
       "      <td>0.0</td>\n",
       "      <td>0.0</td>\n",
       "      <td>0.0</td>\n",
       "      <td>0.0</td>\n",
       "      <td>0.0</td>\n",
       "      <td>0.0</td>\n",
       "      <td>0.0</td>\n",
       "      <td>0.0</td>\n",
       "      <td>0.0</td>\n",
       "      <td>0.0</td>\n",
       "    </tr>\n",
       "    <tr>\n",
       "      <th>74488</th>\n",
       "      <td>0.0</td>\n",
       "      <td>0.0</td>\n",
       "      <td>0.0</td>\n",
       "      <td>0.0</td>\n",
       "      <td>0.0</td>\n",
       "      <td>0.0</td>\n",
       "      <td>0.0</td>\n",
       "      <td>0.0</td>\n",
       "      <td>0.0</td>\n",
       "      <td>0.0</td>\n",
       "      <td>...</td>\n",
       "      <td>0.0</td>\n",
       "      <td>0.0</td>\n",
       "      <td>0.0</td>\n",
       "      <td>0.0</td>\n",
       "      <td>0.0</td>\n",
       "      <td>0.0</td>\n",
       "      <td>0.0</td>\n",
       "      <td>0.0</td>\n",
       "      <td>0.0</td>\n",
       "      <td>0.0</td>\n",
       "    </tr>\n",
       "    <tr>\n",
       "      <th>74489</th>\n",
       "      <td>0.0</td>\n",
       "      <td>0.0</td>\n",
       "      <td>0.0</td>\n",
       "      <td>0.0</td>\n",
       "      <td>0.0</td>\n",
       "      <td>0.0</td>\n",
       "      <td>0.0</td>\n",
       "      <td>0.0</td>\n",
       "      <td>0.0</td>\n",
       "      <td>0.0</td>\n",
       "      <td>...</td>\n",
       "      <td>0.0</td>\n",
       "      <td>0.0</td>\n",
       "      <td>0.0</td>\n",
       "      <td>0.0</td>\n",
       "      <td>0.0</td>\n",
       "      <td>0.0</td>\n",
       "      <td>0.0</td>\n",
       "      <td>0.0</td>\n",
       "      <td>0.0</td>\n",
       "      <td>0.0</td>\n",
       "    </tr>\n",
       "  </tbody>\n",
       "</table>\n",
       "<p>74490 rows × 784 columns</p>\n",
       "</div>"
      ],
      "text/plain": [
       "       0.1  0.2  0.3  0.4  0.5  0.6  0.7  0.8  0.9  0.10  ...  0.639  0.640  \\\n",
       "0      0.0  0.0  0.0  0.0  0.0  0.0  0.0  0.0  0.0   0.0  ...    0.0    0.0   \n",
       "1      0.0  0.0  0.0  0.0  0.0  0.0  0.0  0.0  0.0   0.0  ...    0.0    0.0   \n",
       "2      0.0  0.0  0.0  0.0  0.0  0.0  0.0  0.0  0.0   0.0  ...    0.0    0.0   \n",
       "3      0.0  0.0  0.0  0.0  0.0  0.0  0.0  0.0  0.0   0.0  ...    0.0    0.0   \n",
       "4      0.0  0.0  0.0  0.0  0.0  0.0  0.0  0.0  0.0   0.0  ...    0.0    0.0   \n",
       "...    ...  ...  ...  ...  ...  ...  ...  ...  ...   ...  ...    ...    ...   \n",
       "74485  0.0  0.0  0.0  0.0  0.0  0.0  0.0  0.0  0.0   0.0  ...    0.0    0.0   \n",
       "74486  0.0  0.0  0.0  0.0  0.0  0.0  0.0  0.0  0.0   0.0  ...    0.0    0.0   \n",
       "74487  0.0  0.0  0.0  0.0  0.0  0.0  0.0  0.0  0.0   0.0  ...    0.0    0.0   \n",
       "74488  0.0  0.0  0.0  0.0  0.0  0.0  0.0  0.0  0.0   0.0  ...    0.0    0.0   \n",
       "74489  0.0  0.0  0.0  0.0  0.0  0.0  0.0  0.0  0.0   0.0  ...    0.0    0.0   \n",
       "\n",
       "       0.641  0.642  0.643  0.644  0.645  0.646  0.647  0.648  \n",
       "0        0.0    0.0    0.0    0.0    0.0    0.0    0.0    0.0  \n",
       "1        0.0    0.0    0.0    0.0    0.0    0.0    0.0    0.0  \n",
       "2        0.0    0.0    0.0    0.0    0.0    0.0    0.0    0.0  \n",
       "3        0.0    0.0    0.0    0.0    0.0    0.0    0.0    0.0  \n",
       "4        0.0    0.0    0.0    0.0    0.0    0.0    0.0    0.0  \n",
       "...      ...    ...    ...    ...    ...    ...    ...    ...  \n",
       "74485    0.0    0.0    0.0    0.0    0.0    0.0    0.0    0.0  \n",
       "74486    0.0    0.0    0.0    0.0    0.0    0.0    0.0    0.0  \n",
       "74487    0.0    0.0    0.0    0.0    0.0    0.0    0.0    0.0  \n",
       "74488    0.0    0.0    0.0    0.0    0.0    0.0    0.0    0.0  \n",
       "74489    0.0    0.0    0.0    0.0    0.0    0.0    0.0    0.0  \n",
       "\n",
       "[74490 rows x 784 columns]"
      ]
     },
     "execution_count": 35,
     "metadata": {},
     "output_type": "execute_result"
    }
   ],
   "source": [
    "#normalization - ADHARSH to test different techniques\n",
    "X_test_data = df_test / 255\n",
    "X_test_data"
   ]
  },
  {
   "cell_type": "code",
   "execution_count": 36,
   "id": "4b5c2786",
   "metadata": {
    "execution": {
     "iopub.execute_input": "2023-06-22T16:05:19.355270Z",
     "iopub.status.busy": "2023-06-22T16:05:19.354823Z",
     "iopub.status.idle": "2023-06-22T16:05:27.212845Z",
     "shell.execute_reply": "2023-06-22T16:05:27.211892Z"
    },
    "papermill": {
     "duration": 8.319899,
     "end_time": "2023-06-22T16:05:27.215034",
     "exception": false,
     "start_time": "2023-06-22T16:05:18.895135",
     "status": "completed"
    },
    "tags": []
   },
   "outputs": [
    {
     "data": {
      "image/png": "[encoded data removed]",
      "text/plain": [
       "<Figure size 1000x1000 with 25 Axes>"
      ]
     },
     "metadata": {},
     "output_type": "display_data"
    }
   ],
   "source": [
    "#convert to numpy array\n",
    "X_test_data = np.array(X_test_data)\n",
    "X_test_data = X_test_data.reshape(-1,28,28,1)\n",
    "# Showing few images\n",
    "f, ax = plt.subplots(5,5)\n",
    "f.set_size_inches(10,10)\n",
    "k = 0\n",
    "for i in range(5):\n",
    "    for j in range(5):\n",
    "        ax[i,j].imshow(X_test_data[k].reshape(28,28), cmap='gray')\n",
    "        k += 1\n",
    "    plt.tight_layout()"
   ]
  },
  {
   "cell_type": "code",
   "execution_count": 37,
   "id": "5bacaab2",
   "metadata": {
    "execution": {
     "iopub.execute_input": "2023-06-22T16:05:28.193023Z",
     "iopub.status.busy": "2023-06-22T16:05:28.192618Z",
     "iopub.status.idle": "2023-06-22T16:05:34.788187Z",
     "shell.execute_reply": "2023-06-22T16:05:34.786825Z"
    },
    "papermill": {
     "duration": 7.113829,
     "end_time": "2023-06-22T16:05:34.790683",
     "exception": false,
     "start_time": "2023-06-22T16:05:27.676854",
     "status": "completed"
    },
    "tags": []
   },
   "outputs": [
    {
     "name": "stdout",
     "output_type": "stream",
     "text": [
      "2328/2328 [==============================] - 4s 2ms/step\n"
     ]
    }
   ],
   "source": [
    "#predict target variable (alphabet) using the CNN model\n",
    "y_pred=cnn_model.predict(X_test_data)"
   ]
  },
  {
   "cell_type": "code",
   "execution_count": 38,
   "id": "ff5201ad",
   "metadata": {
    "execution": {
     "iopub.execute_input": "2023-06-22T16:05:35.724355Z",
     "iopub.status.busy": "2023-06-22T16:05:35.723976Z",
     "iopub.status.idle": "2023-06-22T16:05:35.730302Z",
     "shell.execute_reply": "2023-06-22T16:05:35.729378Z"
    },
    "papermill": {
     "duration": 0.476846,
     "end_time": "2023-06-22T16:05:35.732726",
     "exception": false,
     "start_time": "2023-06-22T16:05:35.255880",
     "status": "completed"
    },
    "tags": []
   },
   "outputs": [
    {
     "data": {
      "text/plain": [
       "(74490, 26)"
      ]
     },
     "execution_count": 38,
     "metadata": {},
     "output_type": "execute_result"
    }
   ],
   "source": [
    "#check prediction shape\n",
    "y_pred.shape"
   ]
  },
  {
   "cell_type": "markdown",
   "id": "b421d3a4",
   "metadata": {
    "papermill": {
     "duration": 0.471034,
     "end_time": "2023-06-22T16:05:36.669674",
     "exception": false,
     "start_time": "2023-06-22T16:05:36.198640",
     "status": "completed"
    },
    "tags": []
   },
   "source": [
    "y_pred has 26 columns for all the rows; each column represents the probability of a letter for that row. The next line of code find the the column that has the max value and then puts that column as  value into the predictions variable"
   ]
  },
  {
   "cell_type": "code",
   "execution_count": 39,
   "id": "cd74aa70",
   "metadata": {
    "execution": {
     "iopub.execute_input": "2023-06-22T16:05:37.655916Z",
     "iopub.status.busy": "2023-06-22T16:05:37.655522Z",
     "iopub.status.idle": "2023-06-22T16:05:37.665684Z",
     "shell.execute_reply": "2023-06-22T16:05:37.664742Z"
    },
    "papermill": {
     "duration": 0.481064,
     "end_time": "2023-06-22T16:05:37.667678",
     "exception": false,
     "start_time": "2023-06-22T16:05:37.186614",
     "status": "completed"
    },
    "tags": []
   },
   "outputs": [],
   "source": [
    "#creating our predictions using the pixel values; #\n",
    "# taking the largest number column value as the result from\n",
    "predictions = np.argmax(y_pred,axis = 1)"
   ]
  },
  {
   "cell_type": "code",
   "execution_count": 40,
   "id": "6e37fc3e",
   "metadata": {
    "execution": {
     "iopub.execute_input": "2023-06-22T16:05:38.600670Z",
     "iopub.status.busy": "2023-06-22T16:05:38.600305Z",
     "iopub.status.idle": "2023-06-22T16:05:38.606504Z",
     "shell.execute_reply": "2023-06-22T16:05:38.605496Z"
    },
    "papermill": {
     "duration": 0.478968,
     "end_time": "2023-06-22T16:05:38.610768",
     "exception": false,
     "start_time": "2023-06-22T16:05:38.131800",
     "status": "completed"
    },
    "tags": []
   },
   "outputs": [
    {
     "data": {
      "text/plain": [
       "(74490,)"
      ]
     },
     "execution_count": 40,
     "metadata": {},
     "output_type": "execute_result"
    }
   ],
   "source": [
    "#validate the shape of the predictions\n",
    "predictions.shape"
   ]
  },
  {
   "cell_type": "code",
   "execution_count": 41,
   "id": "5298abd0",
   "metadata": {
    "execution": {
     "iopub.execute_input": "2023-06-22T16:05:39.600539Z",
     "iopub.status.busy": "2023-06-22T16:05:39.600137Z",
     "iopub.status.idle": "2023-06-22T16:05:39.606590Z",
     "shell.execute_reply": "2023-06-22T16:05:39.605701Z"
    },
    "papermill": {
     "duration": 0.475891,
     "end_time": "2023-06-22T16:05:39.608553",
     "exception": false,
     "start_time": "2023-06-22T16:05:39.132662",
     "status": "completed"
    },
    "tags": []
   },
   "outputs": [],
   "source": [
    "#convert numpy array to dataframe\n",
    "df_predictions = pd.DataFrame(predictions, columns = ['alphabet'])"
   ]
  },
  {
   "cell_type": "code",
   "execution_count": 42,
   "id": "c521a4b3",
   "metadata": {
    "execution": {
     "iopub.execute_input": "2023-06-22T16:05:40.549169Z",
     "iopub.status.busy": "2023-06-22T16:05:40.548724Z",
     "iopub.status.idle": "2023-06-22T16:05:40.580942Z",
     "shell.execute_reply": "2023-06-22T16:05:40.580029Z"
    },
    "papermill": {
     "duration": 0.506981,
     "end_time": "2023-06-22T16:05:40.582992",
     "exception": false,
     "start_time": "2023-06-22T16:05:40.076011",
     "status": "completed"
    },
    "tags": []
   },
   "outputs": [],
   "source": [
    "#replace numbers with alphabet\n",
    "alphabet_y_test = df_predictions.replace([0,1,2,3,4,5,6,7,8,9,10,11,12,13,14,15,16,17,18,19,20,21,22,23,24,25], ['A', 'B', 'C', 'D', 'E', 'F', 'G', 'H', 'I', 'J', 'K', 'L', 'M',\n",
    "'N', 'O', 'P', 'Q', 'R', 'S', 'T', 'U', 'V', 'W', 'X', 'Y', 'Z'])"
   ]
  },
  {
   "cell_type": "code",
   "execution_count": 43,
   "id": "a8faef44",
   "metadata": {
    "execution": {
     "iopub.execute_input": "2023-06-22T16:05:41.587245Z",
     "iopub.status.busy": "2023-06-22T16:05:41.586860Z",
     "iopub.status.idle": "2023-06-22T16:05:41.598313Z",
     "shell.execute_reply": "2023-06-22T16:05:41.597301Z"
    },
    "papermill": {
     "duration": 0.551107,
     "end_time": "2023-06-22T16:05:41.600560",
     "exception": false,
     "start_time": "2023-06-22T16:05:41.049453",
     "status": "completed"
    },
    "tags": []
   },
   "outputs": [
    {
     "data": {
      "text/html": [
       "<div>\n",
       "<style scoped>\n",
       "    .dataframe tbody tr th:only-of-type {\n",
       "        vertical-align: middle;\n",
       "    }\n",
       "\n",
       "    .dataframe tbody tr th {\n",
       "        vertical-align: top;\n",
       "    }\n",
       "\n",
       "    .dataframe thead th {\n",
       "        text-align: right;\n",
       "    }\n",
       "</style>\n",
       "<table border=\"1\" class=\"dataframe\">\n",
       "  <thead>\n",
       "    <tr style=\"text-align: right;\">\n",
       "      <th></th>\n",
       "      <th>alphabet</th>\n",
       "    </tr>\n",
       "  </thead>\n",
       "  <tbody>\n",
       "    <tr>\n",
       "      <th>0</th>\n",
       "      <td>M</td>\n",
       "    </tr>\n",
       "    <tr>\n",
       "      <th>1</th>\n",
       "      <td>S</td>\n",
       "    </tr>\n",
       "    <tr>\n",
       "      <th>2</th>\n",
       "      <td>C</td>\n",
       "    </tr>\n",
       "    <tr>\n",
       "      <th>3</th>\n",
       "      <td>O</td>\n",
       "    </tr>\n",
       "    <tr>\n",
       "      <th>4</th>\n",
       "      <td>A</td>\n",
       "    </tr>\n",
       "    <tr>\n",
       "      <th>...</th>\n",
       "      <td>...</td>\n",
       "    </tr>\n",
       "    <tr>\n",
       "      <th>74485</th>\n",
       "      <td>N</td>\n",
       "    </tr>\n",
       "    <tr>\n",
       "      <th>74486</th>\n",
       "      <td>O</td>\n",
       "    </tr>\n",
       "    <tr>\n",
       "      <th>74487</th>\n",
       "      <td>J</td>\n",
       "    </tr>\n",
       "    <tr>\n",
       "      <th>74488</th>\n",
       "      <td>M</td>\n",
       "    </tr>\n",
       "    <tr>\n",
       "      <th>74489</th>\n",
       "      <td>S</td>\n",
       "    </tr>\n",
       "  </tbody>\n",
       "</table>\n",
       "<p>74490 rows × 1 columns</p>\n",
       "</div>"
      ],
      "text/plain": [
       "      alphabet\n",
       "0            M\n",
       "1            S\n",
       "2            C\n",
       "3            O\n",
       "4            A\n",
       "...        ...\n",
       "74485        N\n",
       "74486        O\n",
       "74487        J\n",
       "74488        M\n",
       "74489        S\n",
       "\n",
       "[74490 rows x 1 columns]"
      ]
     },
     "execution_count": 43,
     "metadata": {},
     "output_type": "execute_result"
    }
   ],
   "source": [
    "#view the predictions\n",
    "alphabet_y_test"
   ]
  },
  {
   "cell_type": "markdown",
   "id": "dcac04c6",
   "metadata": {
    "papermill": {
     "duration": 0.465345,
     "end_time": "2023-06-22T16:05:42.584093",
     "exception": false,
     "start_time": "2023-06-22T16:05:42.118748",
     "status": "completed"
    },
    "tags": []
   },
   "source": [
    "### Saving the output prediction file"
   ]
  },
  {
   "cell_type": "code",
   "execution_count": 44,
   "id": "9488a687",
   "metadata": {
    "execution": {
     "iopub.execute_input": "2023-06-22T16:05:43.528396Z",
     "iopub.status.busy": "2023-06-22T16:05:43.528038Z",
     "iopub.status.idle": "2023-06-22T16:05:43.700431Z",
     "shell.execute_reply": "2023-06-22T16:05:43.699497Z"
    },
    "papermill": {
     "duration": 0.650964,
     "end_time": "2023-06-22T16:05:43.702700",
     "exception": false,
     "start_time": "2023-06-22T16:05:43.051736",
     "status": "completed"
    },
    "tags": []
   },
   "outputs": [],
   "source": [
    "#save to CSV Result\n",
    "alphabet_y_test.to_csv('TestDataset_Prediction.csv')"
   ]
  }
 ],
 "metadata": {
  "kernelspec": {
   "display_name": "Python 3",
   "language": "python",
   "name": "python3"
  },
  "language_info": {
   "codemirror_mode": {
    "name": "ipython",
    "version": 3
   },
   "file_extension": ".py",
   "mimetype": "text/x-python",
   "name": "python",
   "nbconvert_exporter": "python",
   "pygments_lexer": "ipython3",
   "version": "3.10.10"
  },
  "papermill": {
   "default_parameters": {},
   "duration": 723.351592,
   "end_time": "2023-06-22T16:05:47.522896",
   "environment_variables": {},
   "exception": null,
   "input_path": "__notebook__.ipynb",
   "output_path": "__notebook__.ipynb",
   "parameters": {},
   "start_time": "2023-06-22T15:53:44.171304",
   "version": "2.4.0"
  }
 },
 "nbformat": 4,
 "nbformat_minor": 5
}
