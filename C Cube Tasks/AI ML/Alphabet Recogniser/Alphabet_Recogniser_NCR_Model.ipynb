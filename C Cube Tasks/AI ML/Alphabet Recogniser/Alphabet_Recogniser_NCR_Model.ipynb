{
 "cells": [
  {
   "cell_type": "code",
   "execution_count": 1,
   "id": "57f253bf",
   "metadata": {
    "_cell_guid": "b1076dfc-b9ad-4769-8c92-a6c4dae69d19",
    "_uuid": "8f2839f25d086af736a60e9eeb907d3b93b6e0e5",
    "execution": {
     "iopub.execute_input": "2023-06-23T13:28:50.900351Z",
     "iopub.status.busy": "2023-06-23T13:28:50.899535Z",
     "iopub.status.idle": "2023-06-23T13:28:50.926659Z",
     "shell.execute_reply": "2023-06-23T13:28:50.925831Z"
    },
    "papermill": {
     "duration": 0.044916,
     "end_time": "2023-06-23T13:28:50.928782",
     "exception": false,
     "start_time": "2023-06-23T13:28:50.883866",
     "status": "completed"
    },
    "tags": []
   },
   "outputs": [
    {
     "name": "stdout",
     "output_type": "stream",
     "text": [
      "/kaggle/input/ncrundersampled/y_train_data.csv\n",
      "/kaggle/input/ncrundersampled/X_train_data.csv\n",
      "/kaggle/input/alphabet/train.csv\n",
      "/kaggle/input/alphabet/test.csv\n"
     ]
    }
   ],
   "source": [
    "# This Python 3 environment comes with many helpful analytics libraries installed\n",
    "# It is defined by the kaggle/python Docker image: https://github.com/kaggle/docker-python\n",
    "# For example, here's several helpful packages to load\n",
    "\n",
    "import numpy as np # linear algebra\n",
    "import pandas as pd # data processing, CSV file I/O (e.g. pd.read_csv)\n",
    "\n",
    "# Input data files are available in the read-only \"../input/\" directory\n",
    "# For example, running this (by clicking run or pressing Shift+Enter) will list all files under the input directory\n",
    "\n",
    "import os\n",
    "for dirname, _, filenames in os.walk('/kaggle/input'):\n",
    "    for filename in filenames:\n",
    "        print(os.path.join(dirname, filename))\n",
    "\n",
    "# You can write up to 20GB to the current directory (/kaggle/working/) that gets preserved as output when you create a version using \"Save & Run All\" \n",
    "# You can also write temporary files to /kaggle/temp/, but they won't be saved outside of the current session"
   ]
  },
  {
   "cell_type": "code",
   "execution_count": 2,
   "id": "cfcba9f8",
   "metadata": {
    "execution": {
     "iopub.execute_input": "2023-06-23T13:28:50.957043Z",
     "iopub.status.busy": "2023-06-23T13:28:50.956777Z",
     "iopub.status.idle": "2023-06-23T13:29:00.706647Z",
     "shell.execute_reply": "2023-06-23T13:29:00.705685Z"
    },
    "papermill": {
     "duration": 9.766361,
     "end_time": "2023-06-23T13:29:00.708976",
     "exception": false,
     "start_time": "2023-06-23T13:28:50.942615",
     "status": "completed"
    },
    "tags": []
   },
   "outputs": [
    {
     "name": "stderr",
     "output_type": "stream",
     "text": [
      "/opt/conda/lib/python3.10/site-packages/tensorflow_io/python/ops/__init__.py:98: UserWarning: unable to load libtensorflow_io_plugins.so: unable to open file: libtensorflow_io_plugins.so, from paths: ['/opt/conda/lib/python3.10/site-packages/tensorflow_io/python/ops/libtensorflow_io_plugins.so']\n",
      "caused by: ['/opt/conda/lib/python3.10/site-packages/tensorflow_io/python/ops/libtensorflow_io_plugins.so: undefined symbol: _ZN3tsl6StatusC1EN10tensorflow5error4CodeESt17basic_string_viewIcSt11char_traitsIcEENS_14SourceLocationE']\n",
      "  warnings.warn(f\"unable to load libtensorflow_io_plugins.so: {e}\")\n",
      "/opt/conda/lib/python3.10/site-packages/tensorflow_io/python/ops/__init__.py:104: UserWarning: file system plugins are not loaded: unable to open file: libtensorflow_io.so, from paths: ['/opt/conda/lib/python3.10/site-packages/tensorflow_io/python/ops/libtensorflow_io.so']\n",
      "caused by: ['/opt/conda/lib/python3.10/site-packages/tensorflow_io/python/ops/libtensorflow_io.so: undefined symbol: _ZTVN10tensorflow13GcsFileSystemE']\n",
      "  warnings.warn(f\"file system plugins are not loaded: {e}\")\n"
     ]
    }
   ],
   "source": [
    "import numpy as np\n",
    "import pandas as pd\n",
    "import seaborn as sns\n",
    "import matplotlib.pyplot as plt\n",
    "\n",
    "# for handling balancing of output classes in training sample data\n",
    "from imblearn.under_sampling import NearMiss\n",
    "from imblearn.under_sampling import NeighbourhoodCleaningRule\n",
    "from keras.utils import np_utils\n",
    "\n",
    "from sklearn.model_selection import train_test_split\n",
    "from sklearn.metrics import classification_report , confusion_matrix\n",
    "\n",
    "import tensorflow as tf\n",
    "import cv2\n",
    "from sklearn.model_selection import GridSearchCV\n",
    "from sklearn.model_selection import KFold\n",
    "\n",
    "\n",
    "import keras\n",
    "from keras.models import Sequential\n",
    "from keras.layers import Dense\n",
    "from keras.wrappers.scikit_learn import KerasClassifier\n",
    "from tensorflow.keras.optimizers import Adam\n",
    "from keras.layers import Dense, Conv2D, MaxPool2D, Flatten, Dropout, BatchNormalization\n",
    "from keras.layers import Dropout\n",
    "\n",
    "# for learning rate decay\n",
    "from keras.callbacks import ReduceLROnPlateau\n",
    "from tensorflow.keras.models import Sequential\n",
    "from tensorflow.keras.layers import Dense, Conv2D,MaxPooling2D, Flatten, Dropout, BatchNormalization\n",
    "from tensorflow.keras.optimizers import SGD\n",
    "\n",
    "import warnings\n",
    "warnings.filterwarnings('ignore')\n",
    "\n",
    "# loading gc for removing unused variables and clearing memory\n",
    "import gc"
   ]
  },
  {
   "cell_type": "markdown",
   "id": "e8027094",
   "metadata": {
    "papermill": {
     "duration": 0.013266,
     "end_time": "2023-06-23T13:29:00.736199",
     "exception": false,
     "start_time": "2023-06-23T13:29:00.722933",
     "status": "completed"
    },
    "tags": []
   },
   "source": [
    "# **Alphabet Recognizer**\n",
    "# Problem Statement\n",
    "The input training dataset contains 28x28 pixel 297960 sample handwritten alphabets. It is represented by 784 features(columns) in the input dataset. The input dataset as well contains the target alphabet value (as numbers from 0..25) as a separate column ( in addition to 784 features columns).\n",
    "\n",
    "The ask is to train a model and use it to predict handwritten alphabets for a test data set having 74490 sample images.\n",
    "An output csv file is generated for test data set predictions using the best configured model.\n",
    "\n"
   ]
  },
  {
   "cell_type": "markdown",
   "id": "c0b01f77",
   "metadata": {
    "papermill": {
     "duration": 0.013204,
     "end_time": "2023-06-23T13:29:00.762722",
     "exception": false,
     "start_time": "2023-06-23T13:29:00.749518",
     "status": "completed"
    },
    "tags": []
   },
   "source": [
    "# Solution Steps\n",
    "This solution requires multi-class classification (26 alphabets). We have used a simple trial CNN to start with and we created a final CNN model after parameter tuning.\n",
    "1. Read NeighbourhoodCleaningRule training datasets\n",
    "1. Examine Data set Properties\n",
    "1. Inspecting the Dataframe\n",
    "1. Data Preparation\n",
    "     1. Normalize Training dataset\n",
    "    1. Reshape Training dataset for CNN Model\n",
    "    1. Encode Target Variable\n",
    "1. Model Creation\n",
    "    1. Test-Train Split ( Training data set split into training, test(validation) dataset)\n",
    "    1. Trial CNN \n",
    "        1. Model Definition\n",
    "        1. Model Training / Fit\n",
    "        1. Model Evaluation againt Validation\n",
    "    1. Grid Search for Model Parameters\n",
    "        1. Fully connected - Dense Layers and Neurons\n",
    "        1. Batch size for training(fit)\n",
    "        1. Drop out ratio for training(fit)\n",
    "    1. Final Model\n",
    "    1. Making predictions on the test set and Evaluation\n",
    "    1. Saving the output prediction file\n"
   ]
  },
  {
   "cell_type": "markdown",
   "id": "6d8650b7",
   "metadata": {
    "papermill": {
     "duration": 0.013138,
     "end_time": "2023-06-23T13:29:00.789936",
     "exception": false,
     "start_time": "2023-06-23T13:29:00.776798",
     "status": "completed"
    },
    "tags": []
   },
   "source": [
    "# Read Training Data set"
   ]
  },
  {
   "cell_type": "code",
   "execution_count": 3,
   "id": "ada5ab79",
   "metadata": {
    "execution": {
     "iopub.execute_input": "2023-06-23T13:29:00.819159Z",
     "iopub.status.busy": "2023-06-23T13:29:00.817795Z",
     "iopub.status.idle": "2023-06-23T13:29:26.581201Z",
     "shell.execute_reply": "2023-06-23T13:29:26.580288Z"
    },
    "papermill": {
     "duration": 25.780445,
     "end_time": "2023-06-23T13:29:26.583725",
     "exception": false,
     "start_time": "2023-06-23T13:29:00.803280",
     "status": "completed"
    },
    "tags": []
   },
   "outputs": [],
   "source": [
    "#read under sampled training dataset\n",
    "X_train_data = pd.read_csv('/kaggle/input/ncrundersampled/X_train_data.csv')\n",
    "y_train_data = pd.read_csv('/kaggle/input/ncrundersampled/y_train_data.csv')"
   ]
  },
  {
   "cell_type": "markdown",
   "id": "41a8e9ef",
   "metadata": {
    "papermill": {
     "duration": 0.013337,
     "end_time": "2023-06-23T13:29:26.611215",
     "exception": false,
     "start_time": "2023-06-23T13:29:26.597878",
     "status": "completed"
    },
    "tags": []
   },
   "source": [
    "# Examine Training Dataset Properties"
   ]
  },
  {
   "cell_type": "code",
   "execution_count": 4,
   "id": "9cf36ef9",
   "metadata": {
    "execution": {
     "iopub.execute_input": "2023-06-23T13:29:26.641715Z",
     "iopub.status.busy": "2023-06-23T13:29:26.640004Z",
     "iopub.status.idle": "2023-06-23T13:29:26.647754Z",
     "shell.execute_reply": "2023-06-23T13:29:26.646782Z"
    },
    "papermill": {
     "duration": 0.025233,
     "end_time": "2023-06-23T13:29:26.650451",
     "exception": false,
     "start_time": "2023-06-23T13:29:26.625218",
     "status": "completed"
    },
    "tags": []
   },
   "outputs": [
    {
     "data": {
      "text/plain": [
       "((284935, 785), (284935, 2))"
      ]
     },
     "execution_count": 4,
     "metadata": {},
     "output_type": "execute_result"
    }
   ],
   "source": [
    "#shape of the updated training dataset\n",
    "X_train_data.shape,y_train_data.shape "
   ]
  },
  {
   "cell_type": "markdown",
   "id": "715ea2c4",
   "metadata": {
    "papermill": {
     "duration": 0.013397,
     "end_time": "2023-06-23T13:29:26.677599",
     "exception": false,
     "start_time": "2023-06-23T13:29:26.664202",
     "status": "completed"
    },
    "tags": []
   },
   "source": [
    "# Inspecting the Dataframe\n"
   ]
  },
  {
   "cell_type": "code",
   "execution_count": 5,
   "id": "4ade3ba6",
   "metadata": {
    "execution": {
     "iopub.execute_input": "2023-06-23T13:29:26.705769Z",
     "iopub.status.busy": "2023-06-23T13:29:26.705499Z",
     "iopub.status.idle": "2023-06-23T13:29:26.728751Z",
     "shell.execute_reply": "2023-06-23T13:29:26.727801Z"
    },
    "papermill": {
     "duration": 0.040099,
     "end_time": "2023-06-23T13:29:26.731138",
     "exception": false,
     "start_time": "2023-06-23T13:29:26.691039",
     "status": "completed"
    },
    "tags": []
   },
   "outputs": [
    {
     "data": {
      "text/html": [
       "<div>\n",
       "<style scoped>\n",
       "    .dataframe tbody tr th:only-of-type {\n",
       "        vertical-align: middle;\n",
       "    }\n",
       "\n",
       "    .dataframe tbody tr th {\n",
       "        vertical-align: top;\n",
       "    }\n",
       "\n",
       "    .dataframe thead th {\n",
       "        text-align: right;\n",
       "    }\n",
       "</style>\n",
       "<table border=\"1\" class=\"dataframe\">\n",
       "  <thead>\n",
       "    <tr style=\"text-align: right;\">\n",
       "      <th></th>\n",
       "      <th>Unnamed: 0</th>\n",
       "      <th>0.1</th>\n",
       "      <th>0.2</th>\n",
       "      <th>0.3</th>\n",
       "      <th>0.4</th>\n",
       "      <th>0.5</th>\n",
       "      <th>0.6</th>\n",
       "      <th>0.7</th>\n",
       "      <th>0.8</th>\n",
       "      <th>0.9</th>\n",
       "      <th>...</th>\n",
       "      <th>0.639</th>\n",
       "      <th>0.640</th>\n",
       "      <th>0.641</th>\n",
       "      <th>0.642</th>\n",
       "      <th>0.643</th>\n",
       "      <th>0.644</th>\n",
       "      <th>0.645</th>\n",
       "      <th>0.646</th>\n",
       "      <th>0.647</th>\n",
       "      <th>0.648</th>\n",
       "    </tr>\n",
       "  </thead>\n",
       "  <tbody>\n",
       "    <tr>\n",
       "      <th>0</th>\n",
       "      <td>0</td>\n",
       "      <td>0</td>\n",
       "      <td>0</td>\n",
       "      <td>0</td>\n",
       "      <td>0</td>\n",
       "      <td>0</td>\n",
       "      <td>0</td>\n",
       "      <td>0</td>\n",
       "      <td>0</td>\n",
       "      <td>0</td>\n",
       "      <td>...</td>\n",
       "      <td>0</td>\n",
       "      <td>0</td>\n",
       "      <td>0</td>\n",
       "      <td>0</td>\n",
       "      <td>0</td>\n",
       "      <td>0</td>\n",
       "      <td>0</td>\n",
       "      <td>0</td>\n",
       "      <td>0</td>\n",
       "      <td>0</td>\n",
       "    </tr>\n",
       "    <tr>\n",
       "      <th>1</th>\n",
       "      <td>1</td>\n",
       "      <td>0</td>\n",
       "      <td>0</td>\n",
       "      <td>0</td>\n",
       "      <td>0</td>\n",
       "      <td>0</td>\n",
       "      <td>0</td>\n",
       "      <td>0</td>\n",
       "      <td>0</td>\n",
       "      <td>0</td>\n",
       "      <td>...</td>\n",
       "      <td>0</td>\n",
       "      <td>0</td>\n",
       "      <td>0</td>\n",
       "      <td>0</td>\n",
       "      <td>0</td>\n",
       "      <td>0</td>\n",
       "      <td>0</td>\n",
       "      <td>0</td>\n",
       "      <td>0</td>\n",
       "      <td>0</td>\n",
       "    </tr>\n",
       "    <tr>\n",
       "      <th>2</th>\n",
       "      <td>2</td>\n",
       "      <td>0</td>\n",
       "      <td>0</td>\n",
       "      <td>0</td>\n",
       "      <td>0</td>\n",
       "      <td>0</td>\n",
       "      <td>0</td>\n",
       "      <td>0</td>\n",
       "      <td>0</td>\n",
       "      <td>0</td>\n",
       "      <td>...</td>\n",
       "      <td>0</td>\n",
       "      <td>0</td>\n",
       "      <td>0</td>\n",
       "      <td>0</td>\n",
       "      <td>0</td>\n",
       "      <td>0</td>\n",
       "      <td>0</td>\n",
       "      <td>0</td>\n",
       "      <td>0</td>\n",
       "      <td>0</td>\n",
       "    </tr>\n",
       "    <tr>\n",
       "      <th>3</th>\n",
       "      <td>3</td>\n",
       "      <td>0</td>\n",
       "      <td>0</td>\n",
       "      <td>0</td>\n",
       "      <td>0</td>\n",
       "      <td>0</td>\n",
       "      <td>0</td>\n",
       "      <td>0</td>\n",
       "      <td>0</td>\n",
       "      <td>0</td>\n",
       "      <td>...</td>\n",
       "      <td>0</td>\n",
       "      <td>0</td>\n",
       "      <td>0</td>\n",
       "      <td>0</td>\n",
       "      <td>0</td>\n",
       "      <td>0</td>\n",
       "      <td>0</td>\n",
       "      <td>0</td>\n",
       "      <td>0</td>\n",
       "      <td>0</td>\n",
       "    </tr>\n",
       "    <tr>\n",
       "      <th>4</th>\n",
       "      <td>4</td>\n",
       "      <td>0</td>\n",
       "      <td>0</td>\n",
       "      <td>0</td>\n",
       "      <td>0</td>\n",
       "      <td>0</td>\n",
       "      <td>0</td>\n",
       "      <td>0</td>\n",
       "      <td>0</td>\n",
       "      <td>0</td>\n",
       "      <td>...</td>\n",
       "      <td>0</td>\n",
       "      <td>0</td>\n",
       "      <td>0</td>\n",
       "      <td>0</td>\n",
       "      <td>0</td>\n",
       "      <td>0</td>\n",
       "      <td>0</td>\n",
       "      <td>0</td>\n",
       "      <td>0</td>\n",
       "      <td>0</td>\n",
       "    </tr>\n",
       "    <tr>\n",
       "      <th>5</th>\n",
       "      <td>5</td>\n",
       "      <td>0</td>\n",
       "      <td>0</td>\n",
       "      <td>0</td>\n",
       "      <td>0</td>\n",
       "      <td>0</td>\n",
       "      <td>0</td>\n",
       "      <td>0</td>\n",
       "      <td>0</td>\n",
       "      <td>0</td>\n",
       "      <td>...</td>\n",
       "      <td>0</td>\n",
       "      <td>0</td>\n",
       "      <td>0</td>\n",
       "      <td>0</td>\n",
       "      <td>0</td>\n",
       "      <td>0</td>\n",
       "      <td>0</td>\n",
       "      <td>0</td>\n",
       "      <td>0</td>\n",
       "      <td>0</td>\n",
       "    </tr>\n",
       "    <tr>\n",
       "      <th>6</th>\n",
       "      <td>6</td>\n",
       "      <td>0</td>\n",
       "      <td>0</td>\n",
       "      <td>0</td>\n",
       "      <td>0</td>\n",
       "      <td>0</td>\n",
       "      <td>0</td>\n",
       "      <td>0</td>\n",
       "      <td>0</td>\n",
       "      <td>0</td>\n",
       "      <td>...</td>\n",
       "      <td>0</td>\n",
       "      <td>0</td>\n",
       "      <td>0</td>\n",
       "      <td>0</td>\n",
       "      <td>0</td>\n",
       "      <td>0</td>\n",
       "      <td>0</td>\n",
       "      <td>0</td>\n",
       "      <td>0</td>\n",
       "      <td>0</td>\n",
       "    </tr>\n",
       "    <tr>\n",
       "      <th>7</th>\n",
       "      <td>7</td>\n",
       "      <td>0</td>\n",
       "      <td>0</td>\n",
       "      <td>0</td>\n",
       "      <td>0</td>\n",
       "      <td>0</td>\n",
       "      <td>0</td>\n",
       "      <td>0</td>\n",
       "      <td>0</td>\n",
       "      <td>0</td>\n",
       "      <td>...</td>\n",
       "      <td>0</td>\n",
       "      <td>0</td>\n",
       "      <td>0</td>\n",
       "      <td>0</td>\n",
       "      <td>0</td>\n",
       "      <td>0</td>\n",
       "      <td>0</td>\n",
       "      <td>0</td>\n",
       "      <td>0</td>\n",
       "      <td>0</td>\n",
       "    </tr>\n",
       "    <tr>\n",
       "      <th>8</th>\n",
       "      <td>8</td>\n",
       "      <td>0</td>\n",
       "      <td>0</td>\n",
       "      <td>0</td>\n",
       "      <td>0</td>\n",
       "      <td>0</td>\n",
       "      <td>0</td>\n",
       "      <td>0</td>\n",
       "      <td>0</td>\n",
       "      <td>0</td>\n",
       "      <td>...</td>\n",
       "      <td>0</td>\n",
       "      <td>0</td>\n",
       "      <td>0</td>\n",
       "      <td>0</td>\n",
       "      <td>0</td>\n",
       "      <td>0</td>\n",
       "      <td>0</td>\n",
       "      <td>0</td>\n",
       "      <td>0</td>\n",
       "      <td>0</td>\n",
       "    </tr>\n",
       "    <tr>\n",
       "      <th>9</th>\n",
       "      <td>9</td>\n",
       "      <td>0</td>\n",
       "      <td>0</td>\n",
       "      <td>0</td>\n",
       "      <td>0</td>\n",
       "      <td>0</td>\n",
       "      <td>0</td>\n",
       "      <td>0</td>\n",
       "      <td>0</td>\n",
       "      <td>0</td>\n",
       "      <td>...</td>\n",
       "      <td>0</td>\n",
       "      <td>0</td>\n",
       "      <td>0</td>\n",
       "      <td>0</td>\n",
       "      <td>0</td>\n",
       "      <td>0</td>\n",
       "      <td>0</td>\n",
       "      <td>0</td>\n",
       "      <td>0</td>\n",
       "      <td>0</td>\n",
       "    </tr>\n",
       "  </tbody>\n",
       "</table>\n",
       "<p>10 rows × 785 columns</p>\n",
       "</div>"
      ],
      "text/plain": [
       "   Unnamed: 0  0.1  0.2  0.3  0.4  0.5  0.6  0.7  0.8  0.9  ...  0.639  0.640  \\\n",
       "0           0    0    0    0    0    0    0    0    0    0  ...      0      0   \n",
       "1           1    0    0    0    0    0    0    0    0    0  ...      0      0   \n",
       "2           2    0    0    0    0    0    0    0    0    0  ...      0      0   \n",
       "3           3    0    0    0    0    0    0    0    0    0  ...      0      0   \n",
       "4           4    0    0    0    0    0    0    0    0    0  ...      0      0   \n",
       "5           5    0    0    0    0    0    0    0    0    0  ...      0      0   \n",
       "6           6    0    0    0    0    0    0    0    0    0  ...      0      0   \n",
       "7           7    0    0    0    0    0    0    0    0    0  ...      0      0   \n",
       "8           8    0    0    0    0    0    0    0    0    0  ...      0      0   \n",
       "9           9    0    0    0    0    0    0    0    0    0  ...      0      0   \n",
       "\n",
       "   0.641  0.642  0.643  0.644  0.645  0.646  0.647  0.648  \n",
       "0      0      0      0      0      0      0      0      0  \n",
       "1      0      0      0      0      0      0      0      0  \n",
       "2      0      0      0      0      0      0      0      0  \n",
       "3      0      0      0      0      0      0      0      0  \n",
       "4      0      0      0      0      0      0      0      0  \n",
       "5      0      0      0      0      0      0      0      0  \n",
       "6      0      0      0      0      0      0      0      0  \n",
       "7      0      0      0      0      0      0      0      0  \n",
       "8      0      0      0      0      0      0      0      0  \n",
       "9      0      0      0      0      0      0      0      0  \n",
       "\n",
       "[10 rows x 785 columns]"
      ]
     },
     "execution_count": 5,
     "metadata": {},
     "output_type": "execute_result"
    }
   ],
   "source": [
    "#see the first 10 rows\n",
    "X_train_data.head(10)"
   ]
  },
  {
   "cell_type": "code",
   "execution_count": 6,
   "id": "66a786fb",
   "metadata": {
    "execution": {
     "iopub.execute_input": "2023-06-23T13:29:26.767483Z",
     "iopub.status.busy": "2023-06-23T13:29:26.767191Z",
     "iopub.status.idle": "2023-06-23T13:29:26.782218Z",
     "shell.execute_reply": "2023-06-23T13:29:26.781431Z"
    },
    "papermill": {
     "duration": 0.038593,
     "end_time": "2023-06-23T13:29:26.784253",
     "exception": false,
     "start_time": "2023-06-23T13:29:26.745660",
     "status": "completed"
    },
    "tags": []
   },
   "outputs": [
    {
     "data": {
      "text/html": [
       "<div>\n",
       "<style scoped>\n",
       "    .dataframe tbody tr th:only-of-type {\n",
       "        vertical-align: middle;\n",
       "    }\n",
       "\n",
       "    .dataframe tbody tr th {\n",
       "        vertical-align: top;\n",
       "    }\n",
       "\n",
       "    .dataframe thead th {\n",
       "        text-align: right;\n",
       "    }\n",
       "</style>\n",
       "<table border=\"1\" class=\"dataframe\">\n",
       "  <thead>\n",
       "    <tr style=\"text-align: right;\">\n",
       "      <th></th>\n",
       "      <th>Unnamed: 0</th>\n",
       "      <th>0.1</th>\n",
       "      <th>0.2</th>\n",
       "      <th>0.3</th>\n",
       "      <th>0.4</th>\n",
       "      <th>0.5</th>\n",
       "      <th>0.6</th>\n",
       "      <th>0.7</th>\n",
       "      <th>0.8</th>\n",
       "      <th>0.9</th>\n",
       "      <th>...</th>\n",
       "      <th>0.639</th>\n",
       "      <th>0.640</th>\n",
       "      <th>0.641</th>\n",
       "      <th>0.642</th>\n",
       "      <th>0.643</th>\n",
       "      <th>0.644</th>\n",
       "      <th>0.645</th>\n",
       "      <th>0.646</th>\n",
       "      <th>0.647</th>\n",
       "      <th>0.648</th>\n",
       "    </tr>\n",
       "  </thead>\n",
       "  <tbody>\n",
       "    <tr>\n",
       "      <th>284930</th>\n",
       "      <td>284930</td>\n",
       "      <td>0</td>\n",
       "      <td>0</td>\n",
       "      <td>0</td>\n",
       "      <td>0</td>\n",
       "      <td>0</td>\n",
       "      <td>0</td>\n",
       "      <td>0</td>\n",
       "      <td>0</td>\n",
       "      <td>0</td>\n",
       "      <td>...</td>\n",
       "      <td>0</td>\n",
       "      <td>0</td>\n",
       "      <td>0</td>\n",
       "      <td>0</td>\n",
       "      <td>0</td>\n",
       "      <td>0</td>\n",
       "      <td>0</td>\n",
       "      <td>0</td>\n",
       "      <td>0</td>\n",
       "      <td>0</td>\n",
       "    </tr>\n",
       "    <tr>\n",
       "      <th>284931</th>\n",
       "      <td>284931</td>\n",
       "      <td>0</td>\n",
       "      <td>0</td>\n",
       "      <td>0</td>\n",
       "      <td>0</td>\n",
       "      <td>0</td>\n",
       "      <td>0</td>\n",
       "      <td>0</td>\n",
       "      <td>0</td>\n",
       "      <td>0</td>\n",
       "      <td>...</td>\n",
       "      <td>0</td>\n",
       "      <td>0</td>\n",
       "      <td>0</td>\n",
       "      <td>0</td>\n",
       "      <td>0</td>\n",
       "      <td>0</td>\n",
       "      <td>0</td>\n",
       "      <td>0</td>\n",
       "      <td>0</td>\n",
       "      <td>0</td>\n",
       "    </tr>\n",
       "    <tr>\n",
       "      <th>284932</th>\n",
       "      <td>284932</td>\n",
       "      <td>0</td>\n",
       "      <td>0</td>\n",
       "      <td>0</td>\n",
       "      <td>0</td>\n",
       "      <td>0</td>\n",
       "      <td>0</td>\n",
       "      <td>0</td>\n",
       "      <td>0</td>\n",
       "      <td>0</td>\n",
       "      <td>...</td>\n",
       "      <td>0</td>\n",
       "      <td>0</td>\n",
       "      <td>0</td>\n",
       "      <td>0</td>\n",
       "      <td>0</td>\n",
       "      <td>0</td>\n",
       "      <td>0</td>\n",
       "      <td>0</td>\n",
       "      <td>0</td>\n",
       "      <td>0</td>\n",
       "    </tr>\n",
       "    <tr>\n",
       "      <th>284933</th>\n",
       "      <td>284933</td>\n",
       "      <td>0</td>\n",
       "      <td>0</td>\n",
       "      <td>0</td>\n",
       "      <td>0</td>\n",
       "      <td>0</td>\n",
       "      <td>0</td>\n",
       "      <td>0</td>\n",
       "      <td>0</td>\n",
       "      <td>0</td>\n",
       "      <td>...</td>\n",
       "      <td>0</td>\n",
       "      <td>0</td>\n",
       "      <td>0</td>\n",
       "      <td>0</td>\n",
       "      <td>0</td>\n",
       "      <td>0</td>\n",
       "      <td>0</td>\n",
       "      <td>0</td>\n",
       "      <td>0</td>\n",
       "      <td>0</td>\n",
       "    </tr>\n",
       "    <tr>\n",
       "      <th>284934</th>\n",
       "      <td>284934</td>\n",
       "      <td>0</td>\n",
       "      <td>0</td>\n",
       "      <td>0</td>\n",
       "      <td>0</td>\n",
       "      <td>0</td>\n",
       "      <td>0</td>\n",
       "      <td>0</td>\n",
       "      <td>0</td>\n",
       "      <td>0</td>\n",
       "      <td>...</td>\n",
       "      <td>0</td>\n",
       "      <td>0</td>\n",
       "      <td>0</td>\n",
       "      <td>0</td>\n",
       "      <td>0</td>\n",
       "      <td>0</td>\n",
       "      <td>0</td>\n",
       "      <td>0</td>\n",
       "      <td>0</td>\n",
       "      <td>0</td>\n",
       "    </tr>\n",
       "  </tbody>\n",
       "</table>\n",
       "<p>5 rows × 785 columns</p>\n",
       "</div>"
      ],
      "text/plain": [
       "        Unnamed: 0  0.1  0.2  0.3  0.4  0.5  0.6  0.7  0.8  0.9  ...  0.639  \\\n",
       "284930      284930    0    0    0    0    0    0    0    0    0  ...      0   \n",
       "284931      284931    0    0    0    0    0    0    0    0    0  ...      0   \n",
       "284932      284932    0    0    0    0    0    0    0    0    0  ...      0   \n",
       "284933      284933    0    0    0    0    0    0    0    0    0  ...      0   \n",
       "284934      284934    0    0    0    0    0    0    0    0    0  ...      0   \n",
       "\n",
       "        0.640  0.641  0.642  0.643  0.644  0.645  0.646  0.647  0.648  \n",
       "284930      0      0      0      0      0      0      0      0      0  \n",
       "284931      0      0      0      0      0      0      0      0      0  \n",
       "284932      0      0      0      0      0      0      0      0      0  \n",
       "284933      0      0      0      0      0      0      0      0      0  \n",
       "284934      0      0      0      0      0      0      0      0      0  \n",
       "\n",
       "[5 rows x 785 columns]"
      ]
     },
     "execution_count": 6,
     "metadata": {},
     "output_type": "execute_result"
    }
   ],
   "source": [
    "#see the last 5 rows\n",
    "X_train_data.tail()"
   ]
  },
  {
   "cell_type": "code",
   "execution_count": 7,
   "id": "dd43b353",
   "metadata": {
    "execution": {
     "iopub.execute_input": "2023-06-23T13:29:26.814343Z",
     "iopub.status.busy": "2023-06-23T13:29:26.813639Z",
     "iopub.status.idle": "2023-06-23T13:29:26.821941Z",
     "shell.execute_reply": "2023-06-23T13:29:26.821003Z"
    },
    "papermill": {
     "duration": 0.025608,
     "end_time": "2023-06-23T13:29:26.824350",
     "exception": false,
     "start_time": "2023-06-23T13:29:26.798742",
     "status": "completed"
    },
    "tags": []
   },
   "outputs": [
    {
     "data": {
      "text/html": [
       "<div>\n",
       "<style scoped>\n",
       "    .dataframe tbody tr th:only-of-type {\n",
       "        vertical-align: middle;\n",
       "    }\n",
       "\n",
       "    .dataframe tbody tr th {\n",
       "        vertical-align: top;\n",
       "    }\n",
       "\n",
       "    .dataframe thead th {\n",
       "        text-align: right;\n",
       "    }\n",
       "</style>\n",
       "<table border=\"1\" class=\"dataframe\">\n",
       "  <thead>\n",
       "    <tr style=\"text-align: right;\">\n",
       "      <th></th>\n",
       "      <th>Unnamed: 0</th>\n",
       "      <th>0</th>\n",
       "    </tr>\n",
       "  </thead>\n",
       "  <tbody>\n",
       "    <tr>\n",
       "      <th>0</th>\n",
       "      <td>0</td>\n",
       "      <td>1</td>\n",
       "    </tr>\n",
       "    <tr>\n",
       "      <th>1</th>\n",
       "      <td>1</td>\n",
       "      <td>18</td>\n",
       "    </tr>\n",
       "    <tr>\n",
       "      <th>2</th>\n",
       "      <td>2</td>\n",
       "      <td>1</td>\n",
       "    </tr>\n",
       "    <tr>\n",
       "      <th>3</th>\n",
       "      <td>3</td>\n",
       "      <td>18</td>\n",
       "    </tr>\n",
       "    <tr>\n",
       "      <th>4</th>\n",
       "      <td>4</td>\n",
       "      <td>18</td>\n",
       "    </tr>\n",
       "  </tbody>\n",
       "</table>\n",
       "</div>"
      ],
      "text/plain": [
       "   Unnamed: 0   0\n",
       "0           0   1\n",
       "1           1  18\n",
       "2           2   1\n",
       "3           3  18\n",
       "4           4  18"
      ]
     },
     "execution_count": 7,
     "metadata": {},
     "output_type": "execute_result"
    }
   ],
   "source": [
    "#see the first 5 rows of y_train\n",
    "y_train_data.head()"
   ]
  },
  {
   "cell_type": "markdown",
   "id": "871d3f28",
   "metadata": {
    "papermill": {
     "duration": 0.014305,
     "end_time": "2023-06-23T13:29:26.853295",
     "exception": false,
     "start_time": "2023-06-23T13:29:26.838990",
     "status": "completed"
    },
    "tags": []
   },
   "source": [
    "# Data Preparation"
   ]
  },
  {
   "cell_type": "code",
   "execution_count": 8,
   "id": "6da8dac9",
   "metadata": {
    "execution": {
     "iopub.execute_input": "2023-06-23T13:29:26.883350Z",
     "iopub.status.busy": "2023-06-23T13:29:26.883085Z",
     "iopub.status.idle": "2023-06-23T13:29:28.473310Z",
     "shell.execute_reply": "2023-06-23T13:29:28.472384Z"
    },
    "papermill": {
     "duration": 1.607593,
     "end_time": "2023-06-23T13:29:28.475436",
     "exception": false,
     "start_time": "2023-06-23T13:29:26.867843",
     "status": "completed"
    },
    "tags": []
   },
   "outputs": [
    {
     "data": {
      "text/plain": [
       "<seaborn.axisgrid.FacetGrid at 0x7af389e358d0>"
      ]
     },
     "execution_count": 8,
     "metadata": {},
     "output_type": "execute_result"
    },
    {
     "data": {
      "text/plain": [
       "<Figure size 1000x500 with 0 Axes>"
      ]
     },
     "metadata": {},
     "output_type": "display_data"
    },
    {
     "data": {
      "image/png": "[encoded data removed]",
      "text/plain": [
       "<Figure size 558.875x500 with 1 Axes>"
      ]
     },
     "metadata": {},
     "output_type": "display_data"
    }
   ],
   "source": [
    "#remove first column from df_test\n",
    "del X_train_data['Unnamed: 0']\n",
    "del y_train_data['Unnamed: 0']\n",
    "\n",
    "#visualize the distribution of the class after balancing\n",
    "plt.figure(figsize = (10,5))\n",
    "sns.displot(y_train_data)"
   ]
  },
  {
   "cell_type": "markdown",
   "id": "7dee8317",
   "metadata": {
    "papermill": {
     "duration": 0.014955,
     "end_time": "2023-06-23T13:29:28.505980",
     "exception": false,
     "start_time": "2023-06-23T13:29:28.491025",
     "status": "completed"
    },
    "tags": []
   },
   "source": [
    "###     Normalize Training dataset\n"
   ]
  },
  {
   "cell_type": "code",
   "execution_count": 9,
   "id": "c6bb75a1",
   "metadata": {
    "execution": {
     "iopub.execute_input": "2023-06-23T13:29:28.537481Z",
     "iopub.status.busy": "2023-06-23T13:29:28.537158Z",
     "iopub.status.idle": "2023-06-23T13:29:29.252502Z",
     "shell.execute_reply": "2023-06-23T13:29:29.251491Z"
    },
    "papermill": {
     "duration": 0.733835,
     "end_time": "2023-06-23T13:29:29.254857",
     "exception": false,
     "start_time": "2023-06-23T13:29:28.521022",
     "status": "completed"
    },
    "tags": []
   },
   "outputs": [
    {
     "data": {
      "text/html": [
       "<div>\n",
       "<style scoped>\n",
       "    .dataframe tbody tr th:only-of-type {\n",
       "        vertical-align: middle;\n",
       "    }\n",
       "\n",
       "    .dataframe tbody tr th {\n",
       "        vertical-align: top;\n",
       "    }\n",
       "\n",
       "    .dataframe thead th {\n",
       "        text-align: right;\n",
       "    }\n",
       "</style>\n",
       "<table border=\"1\" class=\"dataframe\">\n",
       "  <thead>\n",
       "    <tr style=\"text-align: right;\">\n",
       "      <th></th>\n",
       "      <th>0.1</th>\n",
       "      <th>0.2</th>\n",
       "      <th>0.3</th>\n",
       "      <th>0.4</th>\n",
       "      <th>0.5</th>\n",
       "      <th>0.6</th>\n",
       "      <th>0.7</th>\n",
       "      <th>0.8</th>\n",
       "      <th>0.9</th>\n",
       "      <th>0.10</th>\n",
       "      <th>...</th>\n",
       "      <th>0.639</th>\n",
       "      <th>0.640</th>\n",
       "      <th>0.641</th>\n",
       "      <th>0.642</th>\n",
       "      <th>0.643</th>\n",
       "      <th>0.644</th>\n",
       "      <th>0.645</th>\n",
       "      <th>0.646</th>\n",
       "      <th>0.647</th>\n",
       "      <th>0.648</th>\n",
       "    </tr>\n",
       "  </thead>\n",
       "  <tbody>\n",
       "    <tr>\n",
       "      <th>0</th>\n",
       "      <td>0.0</td>\n",
       "      <td>0.0</td>\n",
       "      <td>0.0</td>\n",
       "      <td>0.0</td>\n",
       "      <td>0.0</td>\n",
       "      <td>0.0</td>\n",
       "      <td>0.0</td>\n",
       "      <td>0.0</td>\n",
       "      <td>0.0</td>\n",
       "      <td>0.0</td>\n",
       "      <td>...</td>\n",
       "      <td>0.0</td>\n",
       "      <td>0.0</td>\n",
       "      <td>0.0</td>\n",
       "      <td>0.0</td>\n",
       "      <td>0.0</td>\n",
       "      <td>0.0</td>\n",
       "      <td>0.0</td>\n",
       "      <td>0.0</td>\n",
       "      <td>0.0</td>\n",
       "      <td>0.0</td>\n",
       "    </tr>\n",
       "    <tr>\n",
       "      <th>1</th>\n",
       "      <td>0.0</td>\n",
       "      <td>0.0</td>\n",
       "      <td>0.0</td>\n",
       "      <td>0.0</td>\n",
       "      <td>0.0</td>\n",
       "      <td>0.0</td>\n",
       "      <td>0.0</td>\n",
       "      <td>0.0</td>\n",
       "      <td>0.0</td>\n",
       "      <td>0.0</td>\n",
       "      <td>...</td>\n",
       "      <td>0.0</td>\n",
       "      <td>0.0</td>\n",
       "      <td>0.0</td>\n",
       "      <td>0.0</td>\n",
       "      <td>0.0</td>\n",
       "      <td>0.0</td>\n",
       "      <td>0.0</td>\n",
       "      <td>0.0</td>\n",
       "      <td>0.0</td>\n",
       "      <td>0.0</td>\n",
       "    </tr>\n",
       "    <tr>\n",
       "      <th>2</th>\n",
       "      <td>0.0</td>\n",
       "      <td>0.0</td>\n",
       "      <td>0.0</td>\n",
       "      <td>0.0</td>\n",
       "      <td>0.0</td>\n",
       "      <td>0.0</td>\n",
       "      <td>0.0</td>\n",
       "      <td>0.0</td>\n",
       "      <td>0.0</td>\n",
       "      <td>0.0</td>\n",
       "      <td>...</td>\n",
       "      <td>0.0</td>\n",
       "      <td>0.0</td>\n",
       "      <td>0.0</td>\n",
       "      <td>0.0</td>\n",
       "      <td>0.0</td>\n",
       "      <td>0.0</td>\n",
       "      <td>0.0</td>\n",
       "      <td>0.0</td>\n",
       "      <td>0.0</td>\n",
       "      <td>0.0</td>\n",
       "    </tr>\n",
       "    <tr>\n",
       "      <th>3</th>\n",
       "      <td>0.0</td>\n",
       "      <td>0.0</td>\n",
       "      <td>0.0</td>\n",
       "      <td>0.0</td>\n",
       "      <td>0.0</td>\n",
       "      <td>0.0</td>\n",
       "      <td>0.0</td>\n",
       "      <td>0.0</td>\n",
       "      <td>0.0</td>\n",
       "      <td>0.0</td>\n",
       "      <td>...</td>\n",
       "      <td>0.0</td>\n",
       "      <td>0.0</td>\n",
       "      <td>0.0</td>\n",
       "      <td>0.0</td>\n",
       "      <td>0.0</td>\n",
       "      <td>0.0</td>\n",
       "      <td>0.0</td>\n",
       "      <td>0.0</td>\n",
       "      <td>0.0</td>\n",
       "      <td>0.0</td>\n",
       "    </tr>\n",
       "    <tr>\n",
       "      <th>4</th>\n",
       "      <td>0.0</td>\n",
       "      <td>0.0</td>\n",
       "      <td>0.0</td>\n",
       "      <td>0.0</td>\n",
       "      <td>0.0</td>\n",
       "      <td>0.0</td>\n",
       "      <td>0.0</td>\n",
       "      <td>0.0</td>\n",
       "      <td>0.0</td>\n",
       "      <td>0.0</td>\n",
       "      <td>...</td>\n",
       "      <td>0.0</td>\n",
       "      <td>0.0</td>\n",
       "      <td>0.0</td>\n",
       "      <td>0.0</td>\n",
       "      <td>0.0</td>\n",
       "      <td>0.0</td>\n",
       "      <td>0.0</td>\n",
       "      <td>0.0</td>\n",
       "      <td>0.0</td>\n",
       "      <td>0.0</td>\n",
       "    </tr>\n",
       "    <tr>\n",
       "      <th>...</th>\n",
       "      <td>...</td>\n",
       "      <td>...</td>\n",
       "      <td>...</td>\n",
       "      <td>...</td>\n",
       "      <td>...</td>\n",
       "      <td>...</td>\n",
       "      <td>...</td>\n",
       "      <td>...</td>\n",
       "      <td>...</td>\n",
       "      <td>...</td>\n",
       "      <td>...</td>\n",
       "      <td>...</td>\n",
       "      <td>...</td>\n",
       "      <td>...</td>\n",
       "      <td>...</td>\n",
       "      <td>...</td>\n",
       "      <td>...</td>\n",
       "      <td>...</td>\n",
       "      <td>...</td>\n",
       "      <td>...</td>\n",
       "      <td>...</td>\n",
       "    </tr>\n",
       "    <tr>\n",
       "      <th>284930</th>\n",
       "      <td>0.0</td>\n",
       "      <td>0.0</td>\n",
       "      <td>0.0</td>\n",
       "      <td>0.0</td>\n",
       "      <td>0.0</td>\n",
       "      <td>0.0</td>\n",
       "      <td>0.0</td>\n",
       "      <td>0.0</td>\n",
       "      <td>0.0</td>\n",
       "      <td>0.0</td>\n",
       "      <td>...</td>\n",
       "      <td>0.0</td>\n",
       "      <td>0.0</td>\n",
       "      <td>0.0</td>\n",
       "      <td>0.0</td>\n",
       "      <td>0.0</td>\n",
       "      <td>0.0</td>\n",
       "      <td>0.0</td>\n",
       "      <td>0.0</td>\n",
       "      <td>0.0</td>\n",
       "      <td>0.0</td>\n",
       "    </tr>\n",
       "    <tr>\n",
       "      <th>284931</th>\n",
       "      <td>0.0</td>\n",
       "      <td>0.0</td>\n",
       "      <td>0.0</td>\n",
       "      <td>0.0</td>\n",
       "      <td>0.0</td>\n",
       "      <td>0.0</td>\n",
       "      <td>0.0</td>\n",
       "      <td>0.0</td>\n",
       "      <td>0.0</td>\n",
       "      <td>0.0</td>\n",
       "      <td>...</td>\n",
       "      <td>0.0</td>\n",
       "      <td>0.0</td>\n",
       "      <td>0.0</td>\n",
       "      <td>0.0</td>\n",
       "      <td>0.0</td>\n",
       "      <td>0.0</td>\n",
       "      <td>0.0</td>\n",
       "      <td>0.0</td>\n",
       "      <td>0.0</td>\n",
       "      <td>0.0</td>\n",
       "    </tr>\n",
       "    <tr>\n",
       "      <th>284932</th>\n",
       "      <td>0.0</td>\n",
       "      <td>0.0</td>\n",
       "      <td>0.0</td>\n",
       "      <td>0.0</td>\n",
       "      <td>0.0</td>\n",
       "      <td>0.0</td>\n",
       "      <td>0.0</td>\n",
       "      <td>0.0</td>\n",
       "      <td>0.0</td>\n",
       "      <td>0.0</td>\n",
       "      <td>...</td>\n",
       "      <td>0.0</td>\n",
       "      <td>0.0</td>\n",
       "      <td>0.0</td>\n",
       "      <td>0.0</td>\n",
       "      <td>0.0</td>\n",
       "      <td>0.0</td>\n",
       "      <td>0.0</td>\n",
       "      <td>0.0</td>\n",
       "      <td>0.0</td>\n",
       "      <td>0.0</td>\n",
       "    </tr>\n",
       "    <tr>\n",
       "      <th>284933</th>\n",
       "      <td>0.0</td>\n",
       "      <td>0.0</td>\n",
       "      <td>0.0</td>\n",
       "      <td>0.0</td>\n",
       "      <td>0.0</td>\n",
       "      <td>0.0</td>\n",
       "      <td>0.0</td>\n",
       "      <td>0.0</td>\n",
       "      <td>0.0</td>\n",
       "      <td>0.0</td>\n",
       "      <td>...</td>\n",
       "      <td>0.0</td>\n",
       "      <td>0.0</td>\n",
       "      <td>0.0</td>\n",
       "      <td>0.0</td>\n",
       "      <td>0.0</td>\n",
       "      <td>0.0</td>\n",
       "      <td>0.0</td>\n",
       "      <td>0.0</td>\n",
       "      <td>0.0</td>\n",
       "      <td>0.0</td>\n",
       "    </tr>\n",
       "    <tr>\n",
       "      <th>284934</th>\n",
       "      <td>0.0</td>\n",
       "      <td>0.0</td>\n",
       "      <td>0.0</td>\n",
       "      <td>0.0</td>\n",
       "      <td>0.0</td>\n",
       "      <td>0.0</td>\n",
       "      <td>0.0</td>\n",
       "      <td>0.0</td>\n",
       "      <td>0.0</td>\n",
       "      <td>0.0</td>\n",
       "      <td>...</td>\n",
       "      <td>0.0</td>\n",
       "      <td>0.0</td>\n",
       "      <td>0.0</td>\n",
       "      <td>0.0</td>\n",
       "      <td>0.0</td>\n",
       "      <td>0.0</td>\n",
       "      <td>0.0</td>\n",
       "      <td>0.0</td>\n",
       "      <td>0.0</td>\n",
       "      <td>0.0</td>\n",
       "    </tr>\n",
       "  </tbody>\n",
       "</table>\n",
       "<p>284935 rows × 784 columns</p>\n",
       "</div>"
      ],
      "text/plain": [
       "        0.1  0.2  0.3  0.4  0.5  0.6  0.7  0.8  0.9  0.10  ...  0.639  0.640  \\\n",
       "0       0.0  0.0  0.0  0.0  0.0  0.0  0.0  0.0  0.0   0.0  ...    0.0    0.0   \n",
       "1       0.0  0.0  0.0  0.0  0.0  0.0  0.0  0.0  0.0   0.0  ...    0.0    0.0   \n",
       "2       0.0  0.0  0.0  0.0  0.0  0.0  0.0  0.0  0.0   0.0  ...    0.0    0.0   \n",
       "3       0.0  0.0  0.0  0.0  0.0  0.0  0.0  0.0  0.0   0.0  ...    0.0    0.0   \n",
       "4       0.0  0.0  0.0  0.0  0.0  0.0  0.0  0.0  0.0   0.0  ...    0.0    0.0   \n",
       "...     ...  ...  ...  ...  ...  ...  ...  ...  ...   ...  ...    ...    ...   \n",
       "284930  0.0  0.0  0.0  0.0  0.0  0.0  0.0  0.0  0.0   0.0  ...    0.0    0.0   \n",
       "284931  0.0  0.0  0.0  0.0  0.0  0.0  0.0  0.0  0.0   0.0  ...    0.0    0.0   \n",
       "284932  0.0  0.0  0.0  0.0  0.0  0.0  0.0  0.0  0.0   0.0  ...    0.0    0.0   \n",
       "284933  0.0  0.0  0.0  0.0  0.0  0.0  0.0  0.0  0.0   0.0  ...    0.0    0.0   \n",
       "284934  0.0  0.0  0.0  0.0  0.0  0.0  0.0  0.0  0.0   0.0  ...    0.0    0.0   \n",
       "\n",
       "        0.641  0.642  0.643  0.644  0.645  0.646  0.647  0.648  \n",
       "0         0.0    0.0    0.0    0.0    0.0    0.0    0.0    0.0  \n",
       "1         0.0    0.0    0.0    0.0    0.0    0.0    0.0    0.0  \n",
       "2         0.0    0.0    0.0    0.0    0.0    0.0    0.0    0.0  \n",
       "3         0.0    0.0    0.0    0.0    0.0    0.0    0.0    0.0  \n",
       "4         0.0    0.0    0.0    0.0    0.0    0.0    0.0    0.0  \n",
       "...       ...    ...    ...    ...    ...    ...    ...    ...  \n",
       "284930    0.0    0.0    0.0    0.0    0.0    0.0    0.0    0.0  \n",
       "284931    0.0    0.0    0.0    0.0    0.0    0.0    0.0    0.0  \n",
       "284932    0.0    0.0    0.0    0.0    0.0    0.0    0.0    0.0  \n",
       "284933    0.0    0.0    0.0    0.0    0.0    0.0    0.0    0.0  \n",
       "284934    0.0    0.0    0.0    0.0    0.0    0.0    0.0    0.0  \n",
       "\n",
       "[284935 rows x 784 columns]"
      ]
     },
     "execution_count": 9,
     "metadata": {},
     "output_type": "execute_result"
    }
   ],
   "source": [
    "#normalize the training data set values\n",
    "X_train_data = X_train_data / 255\n",
    "X_train_data"
   ]
  },
  {
   "cell_type": "markdown",
   "id": "50235b6b",
   "metadata": {
    "papermill": {
     "duration": 0.015226,
     "end_time": "2023-06-23T13:29:29.286813",
     "exception": false,
     "start_time": "2023-06-23T13:29:29.271587",
     "status": "completed"
    },
    "tags": []
   },
   "source": [
    "### Reshape Training dataset for CNN Model "
   ]
  },
  {
   "cell_type": "code",
   "execution_count": 10,
   "id": "a8fd1271",
   "metadata": {
    "execution": {
     "iopub.execute_input": "2023-06-23T13:29:29.318585Z",
     "iopub.status.busy": "2023-06-23T13:29:29.318258Z",
     "iopub.status.idle": "2023-06-23T13:29:30.956717Z",
     "shell.execute_reply": "2023-06-23T13:29:30.955613Z"
    },
    "papermill": {
     "duration": 1.656883,
     "end_time": "2023-06-23T13:29:30.959021",
     "exception": false,
     "start_time": "2023-06-23T13:29:29.302138",
     "status": "completed"
    },
    "tags": []
   },
   "outputs": [],
   "source": [
    "#reshape datset\n",
    "X_train_data = np.array(X_train_data)\n",
    "X_train_data = X_train_data.reshape(-1,28,28,1)"
   ]
  },
  {
   "cell_type": "code",
   "execution_count": 11,
   "id": "cf71b161",
   "metadata": {
    "execution": {
     "iopub.execute_input": "2023-06-23T13:29:30.992986Z",
     "iopub.status.busy": "2023-06-23T13:29:30.991548Z",
     "iopub.status.idle": "2023-06-23T13:29:36.049952Z",
     "shell.execute_reply": "2023-06-23T13:29:36.049050Z"
    },
    "papermill": {
     "duration": 5.077367,
     "end_time": "2023-06-23T13:29:36.052236",
     "exception": false,
     "start_time": "2023-06-23T13:29:30.974869",
     "status": "completed"
    },
    "tags": []
   },
   "outputs": [
    {
     "data": {
      "image/png": "[encoded data removed]",
      "text/plain": [
       "<Figure size 1000x1000 with 25 Axes>"
      ]
     },
     "metadata": {},
     "output_type": "display_data"
    }
   ],
   "source": [
    "# view some of the handwritten alphabet images\n",
    "f, ax = plt.subplots(5,5)\n",
    "f.set_size_inches(10,10)\n",
    "k = 0\n",
    "for i in range(5):\n",
    "    for j in range(5):\n",
    "        ax[i,j].imshow(X_train_data[k].reshape(28,28), cmap='gray')\n",
    "        k += 1\n",
    "    plt.tight_layout()"
   ]
  },
  {
   "cell_type": "markdown",
   "id": "138ad75c",
   "metadata": {
    "papermill": {
     "duration": 0.016436,
     "end_time": "2023-06-23T13:29:36.086804",
     "exception": false,
     "start_time": "2023-06-23T13:29:36.070368",
     "status": "completed"
    },
    "tags": []
   },
   "source": [
    "### Encode Target Variable"
   ]
  },
  {
   "cell_type": "code",
   "execution_count": 12,
   "id": "edb90071",
   "metadata": {
    "execution": {
     "iopub.execute_input": "2023-06-23T13:29:36.120052Z",
     "iopub.status.busy": "2023-06-23T13:29:36.119728Z",
     "iopub.status.idle": "2023-06-23T13:29:36.134771Z",
     "shell.execute_reply": "2023-06-23T13:29:36.133715Z"
    },
    "papermill": {
     "duration": 0.034224,
     "end_time": "2023-06-23T13:29:36.136993",
     "exception": false,
     "start_time": "2023-06-23T13:29:36.102769",
     "status": "completed"
    },
    "tags": []
   },
   "outputs": [
    {
     "data": {
      "text/plain": [
       "26"
      ]
     },
     "execution_count": 12,
     "metadata": {},
     "output_type": "execute_result"
    }
   ],
   "source": [
    "#One-Hot-Encoding of the target.\n",
    "y = np_utils.to_categorical(y_train_data)\n",
    "# Define the classification of 26 alphabets.\n",
    "num_classes = y.shape[1]\n",
    "num_classes"
   ]
  },
  {
   "cell_type": "markdown",
   "id": "0fecc7e8",
   "metadata": {
    "papermill": {
     "duration": 0.016651,
     "end_time": "2023-06-23T13:29:36.169978",
     "exception": false,
     "start_time": "2023-06-23T13:29:36.153327",
     "status": "completed"
    },
    "tags": []
   },
   "source": [
    "### Test-Train Split ( Training data set split into training, test(validation) dataset)"
   ]
  },
  {
   "cell_type": "code",
   "execution_count": 13,
   "id": "9080a417",
   "metadata": {
    "execution": {
     "iopub.execute_input": "2023-06-23T13:29:36.204408Z",
     "iopub.status.busy": "2023-06-23T13:29:36.203564Z",
     "iopub.status.idle": "2023-06-23T13:29:39.014253Z",
     "shell.execute_reply": "2023-06-23T13:29:39.013340Z"
    },
    "papermill": {
     "duration": 2.830083,
     "end_time": "2023-06-23T13:29:39.016409",
     "exception": false,
     "start_time": "2023-06-23T13:29:36.186326",
     "status": "completed"
    },
    "tags": []
   },
   "outputs": [
    {
     "data": {
      "text/plain": [
       "374"
      ]
     },
     "execution_count": 13,
     "metadata": {},
     "output_type": "execute_result"
    }
   ],
   "source": [
    "#train, test(validation) split\n",
    "X_train, X_test, y_train, y_test = train_test_split(X_train_data, y, test_size=0.2 ,random_state=102)\n",
    "\n",
    "#del X_train_data to save memory\n",
    "del X_train_data\n",
    "del y\n",
    "gc.collect()\n"
   ]
  },
  {
   "cell_type": "code",
   "execution_count": 14,
   "id": "fadc8abc",
   "metadata": {
    "execution": {
     "iopub.execute_input": "2023-06-23T13:29:39.051101Z",
     "iopub.status.busy": "2023-06-23T13:29:39.050786Z",
     "iopub.status.idle": "2023-06-23T13:29:39.056743Z",
     "shell.execute_reply": "2023-06-23T13:29:39.055925Z"
    },
    "papermill": {
     "duration": 0.025496,
     "end_time": "2023-06-23T13:29:39.058723",
     "exception": false,
     "start_time": "2023-06-23T13:29:39.033227",
     "status": "completed"
    },
    "tags": []
   },
   "outputs": [
    {
     "data": {
      "text/plain": [
       "((227948, 28, 28, 1), (56987, 28, 28, 1), (227948, 26), (56987, 26))"
      ]
     },
     "execution_count": 14,
     "metadata": {},
     "output_type": "execute_result"
    }
   ],
   "source": [
    "# explore properties \n",
    "X_train.shape, X_test.shape, y_train.shape, y_test.shape"
   ]
  },
  {
   "cell_type": "markdown",
   "id": "caf53c8e",
   "metadata": {
    "papermill": {
     "duration": 0.018874,
     "end_time": "2023-06-23T13:29:39.093906",
     "exception": false,
     "start_time": "2023-06-23T13:29:39.075032",
     "status": "completed"
    },
    "tags": []
   },
   "source": [
    "### Trial CNN\n",
    "#### Model Definition\n",
    "Not run for the final time,so code commented"
   ]
  },
  {
   "cell_type": "code",
   "execution_count": 15,
   "id": "08c18777",
   "metadata": {
    "execution": {
     "iopub.execute_input": "2023-06-23T13:29:39.128337Z",
     "iopub.status.busy": "2023-06-23T13:29:39.127603Z",
     "iopub.status.idle": "2023-06-23T13:29:39.134610Z",
     "shell.execute_reply": "2023-06-23T13:29:39.133666Z"
    },
    "papermill": {
     "duration": 0.02645,
     "end_time": "2023-06-23T13:29:39.136807",
     "exception": false,
     "start_time": "2023-06-23T13:29:39.110357",
     "status": "completed"
    },
    "tags": []
   },
   "outputs": [
    {
     "data": {
      "text/plain": [
       "\"\\n#Build an ordinary trial CNN model\\nmodel = Sequential()\\nmodel.add(Conv2D(32, (5, 5), input_shape=(28, 28, 1), activation='relu'))\\nmodel.add(MaxPooling2D(pool_size=(2, 2)))\\nmodel.add(Flatten())\\nmodel.add(Dense(128, activation='relu'))\\nmodel.add(Dense(num_classes, activation='softmax'))\\n#Choose an optimizer and compile the model.\\nmodel.compile(optimizer = Adam(learning_rate = 0.01), loss = 'categorical_crossentropy', metrics = ['accuracy'])\\n#And print the summary of the model.\\nprint(model.summary())\\n\""
      ]
     },
     "execution_count": 15,
     "metadata": {},
     "output_type": "execute_result"
    }
   ],
   "source": [
    "'''\n",
    "#Build an ordinary trial CNN model\n",
    "model = Sequential()\n",
    "model.add(Conv2D(32, (5, 5), input_shape=(28, 28, 1), activation='relu'))\n",
    "model.add(MaxPooling2D(pool_size=(2, 2)))\n",
    "model.add(Flatten())\n",
    "model.add(Dense(128, activation='relu'))\n",
    "model.add(Dense(num_classes, activation='softmax'))\n",
    "#Choose an optimizer and compile the model.\n",
    "model.compile(optimizer = Adam(learning_rate = 0.01), loss = 'categorical_crossentropy', metrics = ['accuracy'])\n",
    "#And print the summary of the model.\n",
    "print(model.summary())\n",
    "'''"
   ]
  },
  {
   "cell_type": "code",
   "execution_count": 16,
   "id": "0dd05241",
   "metadata": {
    "execution": {
     "iopub.execute_input": "2023-06-23T13:29:39.170758Z",
     "iopub.status.busy": "2023-06-23T13:29:39.170490Z",
     "iopub.status.idle": "2023-06-23T13:29:39.176845Z",
     "shell.execute_reply": "2023-06-23T13:29:39.175876Z"
    },
    "papermill": {
     "duration": 0.025858,
     "end_time": "2023-06-23T13:29:39.179022",
     "exception": false,
     "start_time": "2023-06-23T13:29:39.153164",
     "status": "completed"
    },
    "tags": []
   },
   "outputs": [],
   "source": [
    "# function to plot the model training, validation results\n",
    "def model_fit_history_plot(history):\n",
    "    plt.figure(1)\n",
    "    plt.plot(history.history['loss'])\n",
    "    plt.plot(history.history['val_loss'])\n",
    "    plt.legend(['training','validation'])\n",
    "    plt.title('Loss')\n",
    "    plt.xlabel('epoch')\n",
    "    plt.figure(2)\n",
    "    plt.plot(history.history['accuracy'])\n",
    "    plt.plot(history.history['val_accuracy'])\n",
    "    plt.legend(['training','validation'])\n",
    "    plt.title('Accuracy')\n",
    "    plt.xlabel('epoch')\n",
    "    plt.show()\n",
    "    return None"
   ]
  },
  {
   "cell_type": "markdown",
   "id": "a53564de",
   "metadata": {
    "papermill": {
     "duration": 0.016282,
     "end_time": "2023-06-23T13:29:39.211989",
     "exception": false,
     "start_time": "2023-06-23T13:29:39.195707",
     "status": "completed"
    },
    "tags": []
   },
   "source": [
    "#### Model Training / Fit"
   ]
  },
  {
   "cell_type": "code",
   "execution_count": 17,
   "id": "b48be868",
   "metadata": {
    "execution": {
     "iopub.execute_input": "2023-06-23T13:29:39.246824Z",
     "iopub.status.busy": "2023-06-23T13:29:39.246563Z",
     "iopub.status.idle": "2023-06-23T13:29:39.254156Z",
     "shell.execute_reply": "2023-06-23T13:29:39.253380Z"
    },
    "papermill": {
     "duration": 0.027304,
     "end_time": "2023-06-23T13:29:39.256222",
     "exception": false,
     "start_time": "2023-06-23T13:29:39.228918",
     "status": "completed"
    },
    "tags": []
   },
   "outputs": [
    {
     "data": {
      "text/plain": [
       "'\\n#train and fit the defined model for training / validation data sets\\nhistory = model.fit(X_train,y_train,epochs=15, batch_size=128, validation_data=(X_test,y_test))\\n'"
      ]
     },
     "execution_count": 17,
     "metadata": {},
     "output_type": "execute_result"
    }
   ],
   "source": [
    "'''\n",
    "#train and fit the defined model for training / validation data sets\n",
    "history = model.fit(X_train,y_train,epochs=15, batch_size=128, validation_data=(X_test,y_test))\n",
    "'''\n"
   ]
  },
  {
   "cell_type": "markdown",
   "id": "008361f1",
   "metadata": {
    "papermill": {
     "duration": 0.016323,
     "end_time": "2023-06-23T13:29:39.289398",
     "exception": false,
     "start_time": "2023-06-23T13:29:39.273075",
     "status": "completed"
    },
    "tags": []
   },
   "source": [
    "#### Model Evaluation againt Validation"
   ]
  },
  {
   "cell_type": "code",
   "execution_count": 18,
   "id": "a8034fbe",
   "metadata": {
    "execution": {
     "iopub.execute_input": "2023-06-23T13:29:39.323821Z",
     "iopub.status.busy": "2023-06-23T13:29:39.323558Z",
     "iopub.status.idle": "2023-06-23T13:29:39.328918Z",
     "shell.execute_reply": "2023-06-23T13:29:39.328087Z"
    },
    "papermill": {
     "duration": 0.024544,
     "end_time": "2023-06-23T13:29:39.330803",
     "exception": false,
     "start_time": "2023-06-23T13:29:39.306259",
     "status": "completed"
    },
    "tags": []
   },
   "outputs": [
    {
     "data": {
      "text/plain": [
       "'\\n# evaluation of the model\\nscores = model.evaluate(X_test,y_test, verbose=0)\\nprint(\"CNN Error: %.2f%%\" % (100-scores[1]*100))\\n\\n#Plot fit history\\nmodel_fit_history_plot(history)\\n'"
      ]
     },
     "execution_count": 18,
     "metadata": {},
     "output_type": "execute_result"
    }
   ],
   "source": [
    "'''\n",
    "# evaluation of the model\n",
    "scores = model.evaluate(X_test,y_test, verbose=0)\n",
    "print(\"CNN Error: %.2f%%\" % (100-scores[1]*100))\n",
    "\n",
    "#Plot fit history\n",
    "model_fit_history_plot(history)\n",
    "'''"
   ]
  },
  {
   "cell_type": "code",
   "execution_count": 19,
   "id": "5b025a35",
   "metadata": {
    "execution": {
     "iopub.execute_input": "2023-06-23T13:29:39.365801Z",
     "iopub.status.busy": "2023-06-23T13:29:39.365025Z",
     "iopub.status.idle": "2023-06-23T13:29:39.370701Z",
     "shell.execute_reply": "2023-06-23T13:29:39.369815Z"
    },
    "papermill": {
     "duration": 0.025208,
     "end_time": "2023-06-23T13:29:39.372608",
     "exception": false,
     "start_time": "2023-06-23T13:29:39.347400",
     "status": "completed"
    },
    "tags": []
   },
   "outputs": [
    {
     "data": {
      "text/plain": [
       "'\\n#del  to save memory\\ndel history\\ndel model\\ngc.collect()\\n'"
      ]
     },
     "execution_count": 19,
     "metadata": {},
     "output_type": "execute_result"
    }
   ],
   "source": [
    "'''\n",
    "#del  to save memory\n",
    "del history\n",
    "del model\n",
    "gc.collect()\n",
    "'''"
   ]
  },
  {
   "cell_type": "markdown",
   "id": "bc4acae3",
   "metadata": {
    "papermill": {
     "duration": 0.016695,
     "end_time": "2023-06-23T13:29:39.406312",
     "exception": false,
     "start_time": "2023-06-23T13:29:39.389617",
     "status": "completed"
    },
    "tags": []
   },
   "source": [
    "### Grid Search for Model Parameters"
   ]
  },
  {
   "cell_type": "markdown",
   "id": "d0023a81",
   "metadata": {
    "papermill": {
     "duration": 0.016643,
     "end_time": "2023-06-23T13:29:39.439645",
     "exception": false,
     "start_time": "2023-06-23T13:29:39.423002",
     "status": "completed"
    },
    "tags": []
   },
   "source": [
    "#### Fully connected - Dense Layers and Neurons\n",
    "best layers 256,128"
   ]
  },
  {
   "cell_type": "code",
   "execution_count": 20,
   "id": "7c5ec99f",
   "metadata": {
    "execution": {
     "iopub.execute_input": "2023-06-23T13:29:39.474941Z",
     "iopub.status.busy": "2023-06-23T13:29:39.474172Z",
     "iopub.status.idle": "2023-06-23T13:29:39.481951Z",
     "shell.execute_reply": "2023-06-23T13:29:39.480983Z"
    },
    "papermill": {
     "duration": 0.027402,
     "end_time": "2023-06-23T13:29:39.483872",
     "exception": false,
     "start_time": "2023-06-23T13:29:39.456470",
     "status": "completed"
    },
    "tags": []
   },
   "outputs": [
    {
     "data": {
      "text/plain": [
       "'\\ndef create_model(layers):\\n    cnn_model = tf.keras.models.Sequential()\\n    cnn_model.add(tf.keras.layers.Conv2D(filters=32, kernel_size=3, padding=\"same\", activation=\"relu\", input_shape=[28, 28, 1]))\\n    cnn_model.add(tf.keras.layers.MaxPool2D(pool_size=2, strides=2, padding=\\'valid\\'))\\n    cnn_model.add(tf.keras.layers.Conv2D(filters=32, kernel_size=3, padding=\"same\", activation=\"relu\"))\\n    cnn_model.add(tf.keras.layers.MaxPool2D(pool_size=2, strides=2, padding=\\'valid\\'))\\n    cnn_model.add(tf.keras.layers.Flatten())\\n    \\n    for i, nodes in enumerate(layers):\\n        cnn_model.add(tf.keras.layers.Dense(units=nodes, activation=\\'relu\\'))\\n            \\n    cnn_model.add(tf.keras.layers.Dense(units=26, activation=\\'softmax\\'))\\n    \\n    cnn_model.compile(optimizer = \\'Adam\\', loss = \\'binary_crossentropy\\', metrics = [\\'accuracy\\'])\\n    return cnn_model\\n\\nmodel = KerasClassifier(build_fn=create_model, verbose=1)\\nlayers = [[128],(128,64),(256, 128),(256, 128, 64)]\\nparam_grid = dict(layers=layers)\\ngrid = GridSearchCV(estimator=model, param_grid=param_grid, verbose=1)\\ngrid_results = grid.fit(X_train,y_train, validation_data=(X_test, y_test))\\nprint(\"Best: {0}, using {1}\".format(grid_results.best_score_, grid_results.best_params_))\\nmeans = grid_results.cv_results_[\\'mean_test_score\\']\\nstds = grid_results.cv_results_[\\'std_test_score\\']\\nparams = grid_results.cv_results_[\\'params\\']\\nfor mean, stdev, param in zip(means, stds, params):\\n    print(\\'{0} ({1}) with: {2}\\'.format(mean, stdev, param))\\nbest_layer_size=grid_results.best_params_[\\'layers\\']  \\n\\n#del  to save memory\\ndel history\\ndel model\\ngc.collect()\\n'"
      ]
     },
     "execution_count": 20,
     "metadata": {},
     "output_type": "execute_result"
    }
   ],
   "source": [
    "# Grid Search to determine the layers and neurons in each layer in the sequential model.\n",
    "'''\n",
    "def create_model(layers):\n",
    "    cnn_model = tf.keras.models.Sequential()\n",
    "    cnn_model.add(tf.keras.layers.Conv2D(filters=32, kernel_size=3, padding=\"same\", activation=\"relu\", input_shape=[28, 28, 1]))\n",
    "    cnn_model.add(tf.keras.layers.MaxPool2D(pool_size=2, strides=2, padding='valid'))\n",
    "    cnn_model.add(tf.keras.layers.Conv2D(filters=32, kernel_size=3, padding=\"same\", activation=\"relu\"))\n",
    "    cnn_model.add(tf.keras.layers.MaxPool2D(pool_size=2, strides=2, padding='valid'))\n",
    "    cnn_model.add(tf.keras.layers.Flatten())\n",
    "    \n",
    "    for i, nodes in enumerate(layers):\n",
    "        cnn_model.add(tf.keras.layers.Dense(units=nodes, activation='relu'))\n",
    "            \n",
    "    cnn_model.add(tf.keras.layers.Dense(units=26, activation='softmax'))\n",
    "    \n",
    "    cnn_model.compile(optimizer = 'Adam', loss = 'binary_crossentropy', metrics = ['accuracy'])\n",
    "    return cnn_model\n",
    "\n",
    "model = KerasClassifier(build_fn=create_model, verbose=1)\n",
    "layers = [[128],(128,64),(256, 128),(256, 128, 64)]\n",
    "param_grid = dict(layers=layers)\n",
    "grid = GridSearchCV(estimator=model, param_grid=param_grid, verbose=1)\n",
    "grid_results = grid.fit(X_train,y_train, validation_data=(X_test, y_test))\n",
    "print(\"Best: {0}, using {1}\".format(grid_results.best_score_, grid_results.best_params_))\n",
    "means = grid_results.cv_results_['mean_test_score']\n",
    "stds = grid_results.cv_results_['std_test_score']\n",
    "params = grid_results.cv_results_['params']\n",
    "for mean, stdev, param in zip(means, stds, params):\n",
    "    print('{0} ({1}) with: {2}'.format(mean, stdev, param))\n",
    "best_layer_size=grid_results.best_params_['layers']  \n",
    "\n",
    "#del  to save memory\n",
    "del history\n",
    "del model\n",
    "gc.collect()\n",
    "'''"
   ]
  },
  {
   "cell_type": "markdown",
   "id": "d8327d78",
   "metadata": {
    "papermill": {
     "duration": 0.016769,
     "end_time": "2023-06-23T13:29:39.517623",
     "exception": false,
     "start_time": "2023-06-23T13:29:39.500854",
     "status": "completed"
    },
    "tags": []
   },
   "source": [
    "#### Batch size for training(fit)\n",
    "#best batch size 15 "
   ]
  },
  {
   "cell_type": "code",
   "execution_count": 21,
   "id": "6b6ca00d",
   "metadata": {
    "execution": {
     "iopub.execute_input": "2023-06-23T13:29:39.552851Z",
     "iopub.status.busy": "2023-06-23T13:29:39.552578Z",
     "iopub.status.idle": "2023-06-23T13:29:39.559799Z",
     "shell.execute_reply": "2023-06-23T13:29:39.558967Z"
    },
    "papermill": {
     "duration": 0.02701,
     "end_time": "2023-06-23T13:29:39.561695",
     "exception": false,
     "start_time": "2023-06-23T13:29:39.534685",
     "status": "completed"
    },
    "tags": []
   },
   "outputs": [
    {
     "data": {
      "text/plain": [
       "'\\ndef create_model1():\\n    cnn_model = tf.keras.models.Sequential()\\n    cnn_model.add(tf.keras.layers.Conv2D(filters=32, kernel_size=3, padding=\"same\", activation=\"relu\", input_shape=[28, 28, 1]))\\n    cnn_model.add(tf.keras.layers.MaxPool2D(pool_size=2, strides=2, padding=\\'valid\\'))\\n    cnn_model.add(tf.keras.layers.Conv2D(filters=32, kernel_size=3, padding=\"same\", activation=\"relu\"))\\n    cnn_model.add(tf.keras.layers.MaxPool2D(pool_size=2, strides=2, padding=\\'valid\\'))\\n    cnn_model.add(tf.keras.layers.Flatten())\\n    cnn_model.add(tf.keras.layers.Dense(units=256, activation=\\'relu\\'))\\n    cnn_model.add(tf.keras.layers.Dense(units=128, activation=\\'relu\\'))\\n    cnn_model.add(tf.keras.layers.Dense(units=26, activation=\\'softmax\\'))\\n    \\n    cnn_model.compile(optimizer = \\'Adam\\', loss = \\'binary_crossentropy\\', metrics = [\\'accuracy\\'])\\n    return cnn_model\\n\\nmodel = KerasClassifier(build_fn = create_model1, verbose = 1)\\n\\nbatch_size = [10,15]\\nparam_grid = dict(batch_size=batch_size)\\n\\ngrid = GridSearchCV(estimator = model, param_grid = param_grid, verbose = 1)\\ngrid_results = grid.fit(X_train,y_train, validation_data=(X_test, y_test))\\n\\nprint(\"Best: {0}, using {1}\".format(grid_results.best_score_, grid_results.best_params_))\\nmeans = grid_results.cv_results_[\\'mean_test_score\\']\\nparams = grid_results.cv_results_[\\'params\\']\\nfor mean,param in zip(means,params):\\n    print(\\'{0} with: {1}\\'.format(mean,param))\\nbest_batch_size=grid_results.best_params_[\\'batch_size\\']\\n\\n#del  to save memory\\ndel history\\ndel model\\ngc.collect()\\n'"
      ]
     },
     "execution_count": 21,
     "metadata": {},
     "output_type": "execute_result"
    }
   ],
   "source": [
    "#Grid Search to determine the batch size\n",
    "'''\n",
    "def create_model1():\n",
    "    cnn_model = tf.keras.models.Sequential()\n",
    "    cnn_model.add(tf.keras.layers.Conv2D(filters=32, kernel_size=3, padding=\"same\", activation=\"relu\", input_shape=[28, 28, 1]))\n",
    "    cnn_model.add(tf.keras.layers.MaxPool2D(pool_size=2, strides=2, padding='valid'))\n",
    "    cnn_model.add(tf.keras.layers.Conv2D(filters=32, kernel_size=3, padding=\"same\", activation=\"relu\"))\n",
    "    cnn_model.add(tf.keras.layers.MaxPool2D(pool_size=2, strides=2, padding='valid'))\n",
    "    cnn_model.add(tf.keras.layers.Flatten())\n",
    "    cnn_model.add(tf.keras.layers.Dense(units=256, activation='relu'))\n",
    "    cnn_model.add(tf.keras.layers.Dense(units=128, activation='relu'))\n",
    "    cnn_model.add(tf.keras.layers.Dense(units=26, activation='softmax'))\n",
    "    \n",
    "    cnn_model.compile(optimizer = 'Adam', loss = 'binary_crossentropy', metrics = ['accuracy'])\n",
    "    return cnn_model\n",
    "\n",
    "model = KerasClassifier(build_fn = create_model1, verbose = 1)\n",
    "\n",
    "batch_size = [10,15]\n",
    "param_grid = dict(batch_size=batch_size)\n",
    "\n",
    "grid = GridSearchCV(estimator = model, param_grid = param_grid, verbose = 1)\n",
    "grid_results = grid.fit(X_train,y_train, validation_data=(X_test, y_test))\n",
    "\n",
    "print(\"Best: {0}, using {1}\".format(grid_results.best_score_, grid_results.best_params_))\n",
    "means = grid_results.cv_results_['mean_test_score']\n",
    "params = grid_results.cv_results_['params']\n",
    "for mean,param in zip(means,params):\n",
    "    print('{0} with: {1}'.format(mean,param))\n",
    "best_batch_size=grid_results.best_params_['batch_size']\n",
    "\n",
    "#del  to save memory\n",
    "del history\n",
    "del model\n",
    "gc.collect()\n",
    "'''"
   ]
  },
  {
   "cell_type": "markdown",
   "id": "2ffb4406",
   "metadata": {
    "papermill": {
     "duration": 0.017136,
     "end_time": "2023-06-23T13:29:39.595917",
     "exception": false,
     "start_time": "2023-06-23T13:29:39.578781",
     "status": "completed"
    },
    "tags": []
   },
   "source": [
    "#### Drop out ratio for training(fit)\n",
    "best drop out varies between 0.1 or 0.2; going with 0.2"
   ]
  },
  {
   "cell_type": "code",
   "execution_count": 22,
   "id": "43fa7e63",
   "metadata": {
    "execution": {
     "iopub.execute_input": "2023-06-23T13:29:39.631585Z",
     "iopub.status.busy": "2023-06-23T13:29:39.631253Z",
     "iopub.status.idle": "2023-06-23T13:29:39.638385Z",
     "shell.execute_reply": "2023-06-23T13:29:39.637577Z"
    },
    "papermill": {
     "duration": 0.027281,
     "end_time": "2023-06-23T13:29:39.640264",
     "exception": false,
     "start_time": "2023-06-23T13:29:39.612983",
     "status": "completed"
    },
    "tags": []
   },
   "outputs": [
    {
     "data": {
      "text/plain": [
       "'\\ndef create_model2(dropout):\\n    # create model\\n    cnn_model = tf.keras.models.Sequential()\\n    cnn_model.add(tf.keras.layers.Conv2D(filters=32, kernel_size=3, padding=\"same\", activation=\"relu\", input_shape=[28, 28, 1]))\\n    cnn_model.add(tf.keras.layers.MaxPool2D(pool_size=2, strides=2, padding=\\'valid\\'))\\n    cnn_model.add(tf.keras.layers.Conv2D(filters=32, kernel_size=3, padding=\"same\", activation=\"relu\"))\\n    cnn_model.add(tf.keras.layers.MaxPool2D(pool_size=2, strides=2, padding=\\'valid\\'))\\n    cnn_model.add(tf.keras.layers.Flatten())\\n    cnn_model.add(tf.keras.layers.Dense(units=best_layer_size[0], activation=\\'relu\\'))\\n    cnn_model.add(Dropout(dropout))\\n    cnn_model.add(tf.keras.layers.Dense(units=best_layer_size[1], activation=\\'relu\\'))\\n    cnn_model.add(Dropout(dropout))\\n    cnn_model.add(tf.keras.layers.Dense(units=26, activation=\\'softmax\\'))\\n    \\n    cnn_model.compile(optimizer = \\'Adam\\', loss = \\'binary_crossentropy\\', metrics = [\\'accuracy\\'])\\n    return cnn_model\\n\\nmodel = KerasClassifier(build_fn = create_model2, verbose = 1, batch_size=5)\\n\\ndropout = [0.0, 0.1, 0.2]\\nparam_grid = dict(dropout=dropout)\\n\\ngrid = GridSearchCV(estimator = model, param_grid = param_grid, verbose = 1)\\ngrid_results = grid.fit(X_train,y_train, validation_data=(X_test, y_test))\\n\\nprint(\"Best: {0}, using {1}\".format(grid_results.best_score_, grid_results.best_params_))\\nmeans = grid_results.cv_results_[\\'mean_test_score\\']\\nparams = grid_results.cv_results_[\\'params\\']\\nfor mean,param in zip(means,params):\\n    print(\\'{0} with: {1}\\'.format(mean,param))\\nbest_dropout_rate=grid_results.best_params_[\\'dropout\\']\\n\\n#del  to save memory\\ndel history\\ndel model\\ngc.collect()\\n'"
      ]
     },
     "execution_count": 22,
     "metadata": {},
     "output_type": "execute_result"
    }
   ],
   "source": [
    "#Grid Search to determine the dropout rate\n",
    "'''\n",
    "def create_model2(dropout):\n",
    "    # create model\n",
    "    cnn_model = tf.keras.models.Sequential()\n",
    "    cnn_model.add(tf.keras.layers.Conv2D(filters=32, kernel_size=3, padding=\"same\", activation=\"relu\", input_shape=[28, 28, 1]))\n",
    "    cnn_model.add(tf.keras.layers.MaxPool2D(pool_size=2, strides=2, padding='valid'))\n",
    "    cnn_model.add(tf.keras.layers.Conv2D(filters=32, kernel_size=3, padding=\"same\", activation=\"relu\"))\n",
    "    cnn_model.add(tf.keras.layers.MaxPool2D(pool_size=2, strides=2, padding='valid'))\n",
    "    cnn_model.add(tf.keras.layers.Flatten())\n",
    "    cnn_model.add(tf.keras.layers.Dense(units=best_layer_size[0], activation='relu'))\n",
    "    cnn_model.add(Dropout(dropout))\n",
    "    cnn_model.add(tf.keras.layers.Dense(units=best_layer_size[1], activation='relu'))\n",
    "    cnn_model.add(Dropout(dropout))\n",
    "    cnn_model.add(tf.keras.layers.Dense(units=26, activation='softmax'))\n",
    "    \n",
    "    cnn_model.compile(optimizer = 'Adam', loss = 'binary_crossentropy', metrics = ['accuracy'])\n",
    "    return cnn_model\n",
    "\n",
    "model = KerasClassifier(build_fn = create_model2, verbose = 1, batch_size=5)\n",
    "\n",
    "dropout = [0.0, 0.1, 0.2]\n",
    "param_grid = dict(dropout=dropout)\n",
    "\n",
    "grid = GridSearchCV(estimator = model, param_grid = param_grid, verbose = 1)\n",
    "grid_results = grid.fit(X_train,y_train, validation_data=(X_test, y_test))\n",
    "\n",
    "print(\"Best: {0}, using {1}\".format(grid_results.best_score_, grid_results.best_params_))\n",
    "means = grid_results.cv_results_['mean_test_score']\n",
    "params = grid_results.cv_results_['params']\n",
    "for mean,param in zip(means,params):\n",
    "    print('{0} with: {1}'.format(mean,param))\n",
    "best_dropout_rate=grid_results.best_params_['dropout']\n",
    "\n",
    "#del  to save memory\n",
    "del history\n",
    "del model\n",
    "gc.collect()\n",
    "'''"
   ]
  },
  {
   "cell_type": "markdown",
   "id": "53190fb2",
   "metadata": {
    "papermill": {
     "duration": 0.017813,
     "end_time": "2023-06-23T13:29:39.675165",
     "exception": false,
     "start_time": "2023-06-23T13:29:39.657352",
     "status": "completed"
    },
    "tags": []
   },
   "source": [
    "### Final Model"
   ]
  },
  {
   "cell_type": "code",
   "execution_count": 23,
   "id": "db13b8f0",
   "metadata": {
    "execution": {
     "iopub.execute_input": "2023-06-23T13:29:39.712039Z",
     "iopub.status.busy": "2023-06-23T13:29:39.711306Z",
     "iopub.status.idle": "2023-06-23T13:54:19.533398Z",
     "shell.execute_reply": "2023-06-23T13:54:19.532368Z"
    },
    "papermill": {
     "duration": 1479.84255,
     "end_time": "2023-06-23T13:54:19.535479",
     "exception": false,
     "start_time": "2023-06-23T13:29:39.692929",
     "status": "completed"
    },
    "tags": []
   },
   "outputs": [
    {
     "name": "stdout",
     "output_type": "stream",
     "text": [
      "Epoch 1/20\n",
      "15197/15197 [==============================] - 79s 5ms/step - loss: 0.0099 - accuracy: 0.9607 - val_loss: 0.0028 - val_accuracy: 0.9887\n",
      "Epoch 2/20\n",
      "15197/15197 [==============================] - 74s 5ms/step - loss: 0.0030 - accuracy: 0.9889 - val_loss: 0.0016 - val_accuracy: 0.9935\n",
      "Epoch 3/20\n",
      "15197/15197 [==============================] - 72s 5ms/step - loss: 0.0023 - accuracy: 0.9915 - val_loss: 0.0015 - val_accuracy: 0.9945\n",
      "Epoch 4/20\n",
      "15197/15197 [==============================] - 72s 5ms/step - loss: 0.0019 - accuracy: 0.9933 - val_loss: 0.0016 - val_accuracy: 0.9942\n",
      "Epoch 5/20\n",
      "15197/15197 [==============================] - 72s 5ms/step - loss: 0.0016 - accuracy: 0.9943 - val_loss: 0.0012 - val_accuracy: 0.9956\n",
      "Epoch 6/20\n",
      "15197/15197 [==============================] - 72s 5ms/step - loss: 0.0017 - accuracy: 0.9943 - val_loss: 0.0011 - val_accuracy: 0.9963\n",
      "Epoch 7/20\n",
      "15197/15197 [==============================] - 73s 5ms/step - loss: 0.0015 - accuracy: 0.9949 - val_loss: 0.0012 - val_accuracy: 0.9966\n",
      "Epoch 8/20\n",
      "15197/15197 [==============================] - 76s 5ms/step - loss: 0.0014 - accuracy: 0.9955 - val_loss: 0.0017 - val_accuracy: 0.9947\n",
      "Epoch 9/20\n",
      "15197/15197 [==============================] - 76s 5ms/step - loss: 0.0014 - accuracy: 0.9956 - val_loss: 0.0014 - val_accuracy: 0.9959\n",
      "Epoch 10/20\n",
      "15197/15197 [==============================] - 70s 5ms/step - loss: 0.0014 - accuracy: 0.9958 - val_loss: 0.0020 - val_accuracy: 0.9943\n",
      "Epoch 11/20\n",
      "15197/15197 [==============================] - 74s 5ms/step - loss: 0.0013 - accuracy: 0.9961 - val_loss: 0.0015 - val_accuracy: 0.9964\n",
      "Epoch 12/20\n",
      "15197/15197 [==============================] - 71s 5ms/step - loss: 0.0014 - accuracy: 0.9958 - val_loss: 0.0014 - val_accuracy: 0.9959\n",
      "Epoch 13/20\n",
      "15197/15197 [==============================] - 72s 5ms/step - loss: 0.0013 - accuracy: 0.9959 - val_loss: 0.0016 - val_accuracy: 0.9958\n",
      "Epoch 14/20\n",
      "15197/15197 [==============================] - 74s 5ms/step - loss: 0.0012 - accuracy: 0.9963 - val_loss: 0.0015 - val_accuracy: 0.9967\n",
      "Epoch 15/20\n",
      "15197/15197 [==============================] - 74s 5ms/step - loss: 0.0013 - accuracy: 0.9965 - val_loss: 0.0016 - val_accuracy: 0.9964\n",
      "Epoch 16/20\n",
      "15197/15197 [==============================] - 72s 5ms/step - loss: 0.0013 - accuracy: 0.9963 - val_loss: 0.0020 - val_accuracy: 0.9949\n",
      "Epoch 17/20\n",
      "15197/15197 [==============================] - 75s 5ms/step - loss: 0.0013 - accuracy: 0.9963 - val_loss: 0.0019 - val_accuracy: 0.9974\n",
      "Epoch 18/20\n",
      "15197/15197 [==============================] - 73s 5ms/step - loss: 0.0014 - accuracy: 0.9966 - val_loss: 0.0016 - val_accuracy: 0.9964\n",
      "Epoch 19/20\n",
      "15197/15197 [==============================] - 73s 5ms/step - loss: 0.0014 - accuracy: 0.9964 - val_loss: 0.0018 - val_accuracy: 0.9963\n",
      "Epoch 20/20\n",
      "15197/15197 [==============================] - 73s 5ms/step - loss: 0.0013 - accuracy: 0.9967 - val_loss: 0.0015 - val_accuracy: 0.9968\n",
      "CNN Error: 0.32%\n"
     ]
    },
    {
     "data": {
      "image/png": "[encoded data removed]",
      "text/plain": [
       "<Figure size 640x480 with 1 Axes>"
      ]
     },
     "metadata": {},
     "output_type": "display_data"
    },
    {
     "data": {
      "image/png": "[encoded data removed]",
      "text/plain": [
       "<Figure size 640x480 with 1 Axes>"
      ]
     },
     "metadata": {},
     "output_type": "display_data"
    },
    {
     "data": {
      "text/plain": [
       "9581"
      ]
     },
     "execution_count": 23,
     "metadata": {},
     "output_type": "execute_result"
    }
   ],
   "source": [
    "#Definition of the final CNN model\n",
    "\n",
    "cnn_model = tf.keras.models.Sequential()\n",
    "cnn_model.add(tf.keras.layers.Conv2D(filters=32, kernel_size=3, padding=\"same\", activation=\"relu\", input_shape=[28, 28, 1]))\n",
    "cnn_model.add(tf.keras.layers.MaxPool2D(pool_size=2, strides=2, padding='valid'))\n",
    "cnn_model.add(tf.keras.layers.Conv2D(filters=32, kernel_size=3, padding=\"same\", activation=\"relu\"))\n",
    "cnn_model.add(tf.keras.layers.MaxPool2D(pool_size=2, strides=2, padding='valid'))\n",
    "cnn_model.add(tf.keras.layers.Flatten())\n",
    "cnn_model.add(tf.keras.layers.Dense(units=256, activation='relu'))\n",
    "cnn_model.add(Dropout(0.2))\n",
    "cnn_model.add(tf.keras.layers.Dense(units=128, activation='relu'))\n",
    "cnn_model.add(Dropout(0.2))\n",
    "cnn_model.add(tf.keras.layers.Dense(units=26, activation='softmax'))\n",
    "\n",
    "# compile the model\n",
    "cnn_model.compile(optimizer = 'Adam', loss = 'binary_crossentropy', metrics = ['accuracy'])\n",
    "\n",
    "history = cnn_model.fit(X_train, y_train, batch_size=15, epochs=20,validation_data=(X_test, y_test))\n",
    "\n",
    "\n",
    "# Final evaluation of the model\n",
    "scores = cnn_model.evaluate(X_test,y_test, verbose=0)\n",
    "print(\"CNN Error: %.2f%%\" % (100-scores[1]*100))\n",
    "\n",
    "#Plot fit history\n",
    "model_fit_history_plot(history)\n",
    "\n",
    "#del X_train_data to save memory\n",
    "del X_train\n",
    "del y_train\n",
    "del X_test\n",
    "del y_test\n",
    "# del grid_results\n",
    "del history\n",
    "gc.collect()"
   ]
  },
  {
   "cell_type": "markdown",
   "id": "105a0213",
   "metadata": {
    "papermill": {
     "duration": 1.957576,
     "end_time": "2023-06-23T13:54:23.470047",
     "exception": false,
     "start_time": "2023-06-23T13:54:21.512471",
     "status": "completed"
    },
    "tags": []
   },
   "source": [
    "### Making predictions on the test set and Evaluation\n"
   ]
  },
  {
   "cell_type": "code",
   "execution_count": 24,
   "id": "c897a263",
   "metadata": {
    "execution": {
     "iopub.execute_input": "2023-06-23T13:54:27.426311Z",
     "iopub.status.busy": "2023-06-23T13:54:27.425951Z",
     "iopub.status.idle": "2023-06-23T13:54:33.927927Z",
     "shell.execute_reply": "2023-06-23T13:54:33.926887Z"
    },
    "papermill": {
     "duration": 8.505984,
     "end_time": "2023-06-23T13:54:33.930598",
     "exception": false,
     "start_time": "2023-06-23T13:54:25.424614",
     "status": "completed"
    },
    "tags": []
   },
   "outputs": [],
   "source": [
    "# read test dataset\n",
    "df_test = pd.read_csv('/kaggle/input/alphabet/test.csv')"
   ]
  },
  {
   "cell_type": "code",
   "execution_count": 25,
   "id": "9e48d515",
   "metadata": {
    "execution": {
     "iopub.execute_input": "2023-06-23T13:54:37.862166Z",
     "iopub.status.busy": "2023-06-23T13:54:37.861820Z",
     "iopub.status.idle": "2023-06-23T13:54:37.867513Z",
     "shell.execute_reply": "2023-06-23T13:54:37.866639Z"
    },
    "papermill": {
     "duration": 2.050441,
     "end_time": "2023-06-23T13:54:37.869489",
     "exception": false,
     "start_time": "2023-06-23T13:54:35.819048",
     "status": "completed"
    },
    "tags": []
   },
   "outputs": [
    {
     "data": {
      "text/plain": [
       "(74490, 785)"
      ]
     },
     "execution_count": 25,
     "metadata": {},
     "output_type": "execute_result"
    }
   ],
   "source": [
    "# Test dataset properties\n",
    "df_test.shape"
   ]
  },
  {
   "cell_type": "code",
   "execution_count": 26,
   "id": "2f21af25",
   "metadata": {
    "execution": {
     "iopub.execute_input": "2023-06-23T13:54:41.767245Z",
     "iopub.status.busy": "2023-06-23T13:54:41.766883Z",
     "iopub.status.idle": "2023-06-23T13:54:41.787458Z",
     "shell.execute_reply": "2023-06-23T13:54:41.786534Z"
    },
    "papermill": {
     "duration": 1.972966,
     "end_time": "2023-06-23T13:54:41.789564",
     "exception": false,
     "start_time": "2023-06-23T13:54:39.816598",
     "status": "completed"
    },
    "tags": []
   },
   "outputs": [
    {
     "data": {
      "text/html": [
       "<div>\n",
       "<style scoped>\n",
       "    .dataframe tbody tr th:only-of-type {\n",
       "        vertical-align: middle;\n",
       "    }\n",
       "\n",
       "    .dataframe tbody tr th {\n",
       "        vertical-align: top;\n",
       "    }\n",
       "\n",
       "    .dataframe thead th {\n",
       "        text-align: right;\n",
       "    }\n",
       "</style>\n",
       "<table border=\"1\" class=\"dataframe\">\n",
       "  <thead>\n",
       "    <tr style=\"text-align: right;\">\n",
       "      <th></th>\n",
       "      <th>Unnamed: 0</th>\n",
       "      <th>0.1</th>\n",
       "      <th>0.2</th>\n",
       "      <th>0.3</th>\n",
       "      <th>0.4</th>\n",
       "      <th>0.5</th>\n",
       "      <th>0.6</th>\n",
       "      <th>0.7</th>\n",
       "      <th>0.8</th>\n",
       "      <th>0.9</th>\n",
       "      <th>...</th>\n",
       "      <th>0.639</th>\n",
       "      <th>0.640</th>\n",
       "      <th>0.641</th>\n",
       "      <th>0.642</th>\n",
       "      <th>0.643</th>\n",
       "      <th>0.644</th>\n",
       "      <th>0.645</th>\n",
       "      <th>0.646</th>\n",
       "      <th>0.647</th>\n",
       "      <th>0.648</th>\n",
       "    </tr>\n",
       "  </thead>\n",
       "  <tbody>\n",
       "    <tr>\n",
       "      <th>0</th>\n",
       "      <td>0</td>\n",
       "      <td>0</td>\n",
       "      <td>0</td>\n",
       "      <td>0</td>\n",
       "      <td>0</td>\n",
       "      <td>0</td>\n",
       "      <td>0</td>\n",
       "      <td>0</td>\n",
       "      <td>0</td>\n",
       "      <td>0</td>\n",
       "      <td>...</td>\n",
       "      <td>0</td>\n",
       "      <td>0</td>\n",
       "      <td>0</td>\n",
       "      <td>0</td>\n",
       "      <td>0</td>\n",
       "      <td>0</td>\n",
       "      <td>0</td>\n",
       "      <td>0</td>\n",
       "      <td>0</td>\n",
       "      <td>0</td>\n",
       "    </tr>\n",
       "    <tr>\n",
       "      <th>1</th>\n",
       "      <td>1</td>\n",
       "      <td>0</td>\n",
       "      <td>0</td>\n",
       "      <td>0</td>\n",
       "      <td>0</td>\n",
       "      <td>0</td>\n",
       "      <td>0</td>\n",
       "      <td>0</td>\n",
       "      <td>0</td>\n",
       "      <td>0</td>\n",
       "      <td>...</td>\n",
       "      <td>0</td>\n",
       "      <td>0</td>\n",
       "      <td>0</td>\n",
       "      <td>0</td>\n",
       "      <td>0</td>\n",
       "      <td>0</td>\n",
       "      <td>0</td>\n",
       "      <td>0</td>\n",
       "      <td>0</td>\n",
       "      <td>0</td>\n",
       "    </tr>\n",
       "    <tr>\n",
       "      <th>2</th>\n",
       "      <td>2</td>\n",
       "      <td>0</td>\n",
       "      <td>0</td>\n",
       "      <td>0</td>\n",
       "      <td>0</td>\n",
       "      <td>0</td>\n",
       "      <td>0</td>\n",
       "      <td>0</td>\n",
       "      <td>0</td>\n",
       "      <td>0</td>\n",
       "      <td>...</td>\n",
       "      <td>0</td>\n",
       "      <td>0</td>\n",
       "      <td>0</td>\n",
       "      <td>0</td>\n",
       "      <td>0</td>\n",
       "      <td>0</td>\n",
       "      <td>0</td>\n",
       "      <td>0</td>\n",
       "      <td>0</td>\n",
       "      <td>0</td>\n",
       "    </tr>\n",
       "    <tr>\n",
       "      <th>3</th>\n",
       "      <td>3</td>\n",
       "      <td>0</td>\n",
       "      <td>0</td>\n",
       "      <td>0</td>\n",
       "      <td>0</td>\n",
       "      <td>0</td>\n",
       "      <td>0</td>\n",
       "      <td>0</td>\n",
       "      <td>0</td>\n",
       "      <td>0</td>\n",
       "      <td>...</td>\n",
       "      <td>0</td>\n",
       "      <td>0</td>\n",
       "      <td>0</td>\n",
       "      <td>0</td>\n",
       "      <td>0</td>\n",
       "      <td>0</td>\n",
       "      <td>0</td>\n",
       "      <td>0</td>\n",
       "      <td>0</td>\n",
       "      <td>0</td>\n",
       "    </tr>\n",
       "    <tr>\n",
       "      <th>4</th>\n",
       "      <td>4</td>\n",
       "      <td>0</td>\n",
       "      <td>0</td>\n",
       "      <td>0</td>\n",
       "      <td>0</td>\n",
       "      <td>0</td>\n",
       "      <td>0</td>\n",
       "      <td>0</td>\n",
       "      <td>0</td>\n",
       "      <td>0</td>\n",
       "      <td>...</td>\n",
       "      <td>0</td>\n",
       "      <td>0</td>\n",
       "      <td>0</td>\n",
       "      <td>0</td>\n",
       "      <td>0</td>\n",
       "      <td>0</td>\n",
       "      <td>0</td>\n",
       "      <td>0</td>\n",
       "      <td>0</td>\n",
       "      <td>0</td>\n",
       "    </tr>\n",
       "    <tr>\n",
       "      <th>5</th>\n",
       "      <td>5</td>\n",
       "      <td>0</td>\n",
       "      <td>0</td>\n",
       "      <td>0</td>\n",
       "      <td>0</td>\n",
       "      <td>0</td>\n",
       "      <td>0</td>\n",
       "      <td>0</td>\n",
       "      <td>0</td>\n",
       "      <td>0</td>\n",
       "      <td>...</td>\n",
       "      <td>0</td>\n",
       "      <td>0</td>\n",
       "      <td>0</td>\n",
       "      <td>0</td>\n",
       "      <td>0</td>\n",
       "      <td>0</td>\n",
       "      <td>0</td>\n",
       "      <td>0</td>\n",
       "      <td>0</td>\n",
       "      <td>0</td>\n",
       "    </tr>\n",
       "    <tr>\n",
       "      <th>6</th>\n",
       "      <td>6</td>\n",
       "      <td>0</td>\n",
       "      <td>0</td>\n",
       "      <td>0</td>\n",
       "      <td>0</td>\n",
       "      <td>0</td>\n",
       "      <td>0</td>\n",
       "      <td>0</td>\n",
       "      <td>0</td>\n",
       "      <td>0</td>\n",
       "      <td>...</td>\n",
       "      <td>0</td>\n",
       "      <td>0</td>\n",
       "      <td>0</td>\n",
       "      <td>0</td>\n",
       "      <td>0</td>\n",
       "      <td>0</td>\n",
       "      <td>0</td>\n",
       "      <td>0</td>\n",
       "      <td>0</td>\n",
       "      <td>0</td>\n",
       "    </tr>\n",
       "    <tr>\n",
       "      <th>7</th>\n",
       "      <td>7</td>\n",
       "      <td>0</td>\n",
       "      <td>0</td>\n",
       "      <td>0</td>\n",
       "      <td>0</td>\n",
       "      <td>0</td>\n",
       "      <td>0</td>\n",
       "      <td>0</td>\n",
       "      <td>0</td>\n",
       "      <td>0</td>\n",
       "      <td>...</td>\n",
       "      <td>0</td>\n",
       "      <td>0</td>\n",
       "      <td>0</td>\n",
       "      <td>0</td>\n",
       "      <td>0</td>\n",
       "      <td>0</td>\n",
       "      <td>0</td>\n",
       "      <td>0</td>\n",
       "      <td>0</td>\n",
       "      <td>0</td>\n",
       "    </tr>\n",
       "    <tr>\n",
       "      <th>8</th>\n",
       "      <td>8</td>\n",
       "      <td>0</td>\n",
       "      <td>0</td>\n",
       "      <td>0</td>\n",
       "      <td>0</td>\n",
       "      <td>0</td>\n",
       "      <td>0</td>\n",
       "      <td>0</td>\n",
       "      <td>0</td>\n",
       "      <td>0</td>\n",
       "      <td>...</td>\n",
       "      <td>0</td>\n",
       "      <td>0</td>\n",
       "      <td>0</td>\n",
       "      <td>0</td>\n",
       "      <td>0</td>\n",
       "      <td>0</td>\n",
       "      <td>0</td>\n",
       "      <td>0</td>\n",
       "      <td>0</td>\n",
       "      <td>0</td>\n",
       "    </tr>\n",
       "    <tr>\n",
       "      <th>9</th>\n",
       "      <td>9</td>\n",
       "      <td>0</td>\n",
       "      <td>0</td>\n",
       "      <td>0</td>\n",
       "      <td>0</td>\n",
       "      <td>0</td>\n",
       "      <td>0</td>\n",
       "      <td>0</td>\n",
       "      <td>0</td>\n",
       "      <td>0</td>\n",
       "      <td>...</td>\n",
       "      <td>0</td>\n",
       "      <td>0</td>\n",
       "      <td>0</td>\n",
       "      <td>0</td>\n",
       "      <td>0</td>\n",
       "      <td>0</td>\n",
       "      <td>0</td>\n",
       "      <td>0</td>\n",
       "      <td>0</td>\n",
       "      <td>0</td>\n",
       "    </tr>\n",
       "  </tbody>\n",
       "</table>\n",
       "<p>10 rows × 785 columns</p>\n",
       "</div>"
      ],
      "text/plain": [
       "   Unnamed: 0  0.1  0.2  0.3  0.4  0.5  0.6  0.7  0.8  0.9  ...  0.639  0.640  \\\n",
       "0           0    0    0    0    0    0    0    0    0    0  ...      0      0   \n",
       "1           1    0    0    0    0    0    0    0    0    0  ...      0      0   \n",
       "2           2    0    0    0    0    0    0    0    0    0  ...      0      0   \n",
       "3           3    0    0    0    0    0    0    0    0    0  ...      0      0   \n",
       "4           4    0    0    0    0    0    0    0    0    0  ...      0      0   \n",
       "5           5    0    0    0    0    0    0    0    0    0  ...      0      0   \n",
       "6           6    0    0    0    0    0    0    0    0    0  ...      0      0   \n",
       "7           7    0    0    0    0    0    0    0    0    0  ...      0      0   \n",
       "8           8    0    0    0    0    0    0    0    0    0  ...      0      0   \n",
       "9           9    0    0    0    0    0    0    0    0    0  ...      0      0   \n",
       "\n",
       "   0.641  0.642  0.643  0.644  0.645  0.646  0.647  0.648  \n",
       "0      0      0      0      0      0      0      0      0  \n",
       "1      0      0      0      0      0      0      0      0  \n",
       "2      0      0      0      0      0      0      0      0  \n",
       "3      0      0      0      0      0      0      0      0  \n",
       "4      0      0      0      0      0      0      0      0  \n",
       "5      0      0      0      0      0      0      0      0  \n",
       "6      0      0      0      0      0      0      0      0  \n",
       "7      0      0      0      0      0      0      0      0  \n",
       "8      0      0      0      0      0      0      0      0  \n",
       "9      0      0      0      0      0      0      0      0  \n",
       "\n",
       "[10 rows x 785 columns]"
      ]
     },
     "execution_count": 26,
     "metadata": {},
     "output_type": "execute_result"
    }
   ],
   "source": [
    "# Explore test dataset\n",
    "df_test.head(10)"
   ]
  },
  {
   "cell_type": "code",
   "execution_count": 27,
   "id": "8226d45d",
   "metadata": {
    "execution": {
     "iopub.execute_input": "2023-06-23T13:54:45.750428Z",
     "iopub.status.busy": "2023-06-23T13:54:45.750021Z",
     "iopub.status.idle": "2023-06-23T13:54:45.758120Z",
     "shell.execute_reply": "2023-06-23T13:54:45.757127Z"
    },
    "papermill": {
     "duration": 1.974911,
     "end_time": "2023-06-23T13:54:45.760216",
     "exception": false,
     "start_time": "2023-06-23T13:54:43.785305",
     "status": "completed"
    },
    "tags": []
   },
   "outputs": [
    {
     "data": {
      "text/plain": [
       "Index(['Unnamed: 0', '0.1', '0.2', '0.3', '0.4', '0.5', '0.6', '0.7', '0.8',\n",
       "       '0.9',\n",
       "       ...\n",
       "       '0.639', '0.640', '0.641', '0.642', '0.643', '0.644', '0.645', '0.646',\n",
       "       '0.647', '0.648'],\n",
       "      dtype='object', length=785)"
      ]
     },
     "execution_count": 27,
     "metadata": {},
     "output_type": "execute_result"
    }
   ],
   "source": [
    "#find the rows x columns\n",
    "df_test.columns"
   ]
  },
  {
   "cell_type": "code",
   "execution_count": 28,
   "id": "5e7c6902",
   "metadata": {
    "execution": {
     "iopub.execute_input": "2023-06-23T13:54:49.863170Z",
     "iopub.status.busy": "2023-06-23T13:54:49.862814Z",
     "iopub.status.idle": "2023-06-23T13:54:49.867387Z",
     "shell.execute_reply": "2023-06-23T13:54:49.866402Z"
    },
    "papermill": {
     "duration": 2.029928,
     "end_time": "2023-06-23T13:54:49.869736",
     "exception": false,
     "start_time": "2023-06-23T13:54:47.839808",
     "status": "completed"
    },
    "tags": []
   },
   "outputs": [],
   "source": [
    "#check if the first column is target variable?\n",
    "y_test = df_test['Unnamed: 0']"
   ]
  },
  {
   "cell_type": "code",
   "execution_count": 29,
   "id": "b1b63f03",
   "metadata": {
    "execution": {
     "iopub.execute_input": "2023-06-23T13:54:53.726535Z",
     "iopub.status.busy": "2023-06-23T13:54:53.726130Z",
     "iopub.status.idle": "2023-06-23T13:54:53.735365Z",
     "shell.execute_reply": "2023-06-23T13:54:53.734298Z"
    },
    "papermill": {
     "duration": 1.984589,
     "end_time": "2023-06-23T13:54:53.737945",
     "exception": false,
     "start_time": "2023-06-23T13:54:51.753356",
     "status": "completed"
    },
    "tags": []
   },
   "outputs": [
    {
     "data": {
      "text/plain": [
       "array([    0,     1,     2, ..., 74487, 74488, 74489])"
      ]
     },
     "execution_count": 29,
     "metadata": {},
     "output_type": "execute_result"
    }
   ],
   "source": [
    "#first column is not representing the alphabet  and so in the test data set there is target variable column\n",
    "#we can safely ignore this variable!\n",
    "y_test.unique()"
   ]
  },
  {
   "cell_type": "code",
   "execution_count": 30,
   "id": "640705e5",
   "metadata": {
    "execution": {
     "iopub.execute_input": "2023-06-23T13:54:57.723614Z",
     "iopub.status.busy": "2023-06-23T13:54:57.723241Z",
     "iopub.status.idle": "2023-06-23T13:54:57.730708Z",
     "shell.execute_reply": "2023-06-23T13:54:57.729921Z"
    },
    "papermill": {
     "duration": 2.022616,
     "end_time": "2023-06-23T13:54:57.732585",
     "exception": false,
     "start_time": "2023-06-23T13:54:55.709969",
     "status": "completed"
    },
    "tags": []
   },
   "outputs": [],
   "source": [
    "# Create the pandas DataFrame\n",
    "#df_result = pd.DataFrame(data, columns=['ID', 'Prediction'])\n",
    "#df_result['ID']= df_test['Unnamed: 0']\n",
    "\n",
    "#remove first column from df_test\n",
    "del df_test['Unnamed: 0'] "
   ]
  },
  {
   "cell_type": "code",
   "execution_count": 31,
   "id": "bba6241c",
   "metadata": {
    "execution": {
     "iopub.execute_input": "2023-06-23T13:55:02.186330Z",
     "iopub.status.busy": "2023-06-23T13:55:02.185977Z",
     "iopub.status.idle": "2023-06-23T13:55:02.604705Z",
     "shell.execute_reply": "2023-06-23T13:55:02.603590Z"
    },
    "papermill": {
     "duration": 2.760795,
     "end_time": "2023-06-23T13:55:02.607411",
     "exception": false,
     "start_time": "2023-06-23T13:54:59.846616",
     "status": "completed"
    },
    "tags": []
   },
   "outputs": [
    {
     "data": {
      "text/plain": [
       "0"
      ]
     },
     "execution_count": 31,
     "metadata": {},
     "output_type": "execute_result"
    }
   ],
   "source": [
    "#normalization - ADHARSH to test different techniques\n",
    "X_test_data = df_test / 255\n",
    "X_test_data\n",
    "\n",
    "#del X_train_data to save memory\n",
    "del df_test\n",
    "gc.collect()"
   ]
  },
  {
   "cell_type": "code",
   "execution_count": 32,
   "id": "3ca203f3",
   "metadata": {
    "execution": {
     "iopub.execute_input": "2023-06-23T13:55:06.476458Z",
     "iopub.status.busy": "2023-06-23T13:55:06.476090Z",
     "iopub.status.idle": "2023-06-23T13:55:11.986155Z",
     "shell.execute_reply": "2023-06-23T13:55:11.985306Z"
    },
    "papermill": {
     "duration": 7.479948,
     "end_time": "2023-06-23T13:55:11.988110",
     "exception": false,
     "start_time": "2023-06-23T13:55:04.508162",
     "status": "completed"
    },
    "tags": []
   },
   "outputs": [
    {
     "data": {
      "image/png": "[encoded data removed]",
      "text/plain": [
       "<Figure size 1000x1000 with 25 Axes>"
      ]
     },
     "metadata": {},
     "output_type": "display_data"
    }
   ],
   "source": [
    "#convert to numpy array\n",
    "X_test_data = np.array(X_test_data)\n",
    "X_test_data = X_test_data.reshape(-1,28,28,1)\n",
    "# Showing few images\n",
    "f, ax = plt.subplots(5,5)\n",
    "f.set_size_inches(10,10)\n",
    "k = 0\n",
    "for i in range(5):\n",
    "    for j in range(5):\n",
    "        ax[i,j].imshow(X_test_data[k].reshape(28,28), cmap='gray')\n",
    "        k += 1\n",
    "    plt.tight_layout()"
   ]
  },
  {
   "cell_type": "code",
   "execution_count": 33,
   "id": "43b72d9d",
   "metadata": {
    "execution": {
     "iopub.execute_input": "2023-06-23T13:55:15.882439Z",
     "iopub.status.busy": "2023-06-23T13:55:15.882067Z",
     "iopub.status.idle": "2023-06-23T13:55:21.958467Z",
     "shell.execute_reply": "2023-06-23T13:55:21.957447Z"
    },
    "papermill": {
     "duration": 8.027505,
     "end_time": "2023-06-23T13:55:21.961128",
     "exception": false,
     "start_time": "2023-06-23T13:55:13.933623",
     "status": "completed"
    },
    "tags": []
   },
   "outputs": [
    {
     "name": "stdout",
     "output_type": "stream",
     "text": [
      "2328/2328 [==============================] - 4s 2ms/step\n"
     ]
    }
   ],
   "source": [
    "#predict target variable (alphabet) using the CNN model\n",
    "y_pred=cnn_model.predict(X_test_data)"
   ]
  },
  {
   "cell_type": "code",
   "execution_count": 34,
   "id": "f9444f6a",
   "metadata": {
    "execution": {
     "iopub.execute_input": "2023-06-23T13:55:25.930963Z",
     "iopub.status.busy": "2023-06-23T13:55:25.930602Z",
     "iopub.status.idle": "2023-06-23T13:55:25.936768Z",
     "shell.execute_reply": "2023-06-23T13:55:25.935911Z"
    },
    "papermill": {
     "duration": 2.02845,
     "end_time": "2023-06-23T13:55:25.938659",
     "exception": false,
     "start_time": "2023-06-23T13:55:23.910209",
     "status": "completed"
    },
    "tags": []
   },
   "outputs": [
    {
     "data": {
      "text/plain": [
       "(74490, 26)"
      ]
     },
     "execution_count": 34,
     "metadata": {},
     "output_type": "execute_result"
    }
   ],
   "source": [
    "#check prediction shape\n",
    "y_pred.shape"
   ]
  },
  {
   "cell_type": "markdown",
   "id": "3c3af340",
   "metadata": {
    "papermill": {
     "duration": 1.987533,
     "end_time": "2023-06-23T13:55:29.860369",
     "exception": false,
     "start_time": "2023-06-23T13:55:27.872836",
     "status": "completed"
    },
    "tags": []
   },
   "source": [
    "y_pred has 26 columns for all the rows; each column represents the probability of a letter for that row. The next line of code find the the column that has the max value and then puts that column as  value into the predictions variable I think. Adharsh to validate!"
   ]
  },
  {
   "cell_type": "code",
   "execution_count": 35,
   "id": "4dde98d7",
   "metadata": {
    "execution": {
     "iopub.execute_input": "2023-06-23T13:55:34.235460Z",
     "iopub.status.busy": "2023-06-23T13:55:34.234941Z",
     "iopub.status.idle": "2023-06-23T13:55:34.245236Z",
     "shell.execute_reply": "2023-06-23T13:55:34.244412Z"
    },
    "papermill": {
     "duration": 2.021533,
     "end_time": "2023-06-23T13:55:34.247333",
     "exception": false,
     "start_time": "2023-06-23T13:55:32.225800",
     "status": "completed"
    },
    "tags": []
   },
   "outputs": [],
   "source": [
    "#creating our predictions using the pixel values; #\n",
    "# taking the largest number column value as the result from\n",
    "predictions = np.argmax(y_pred,axis = 1)"
   ]
  },
  {
   "cell_type": "code",
   "execution_count": 36,
   "id": "d170e7e4",
   "metadata": {
    "execution": {
     "iopub.execute_input": "2023-06-23T13:55:38.312861Z",
     "iopub.status.busy": "2023-06-23T13:55:38.312502Z",
     "iopub.status.idle": "2023-06-23T13:55:38.318311Z",
     "shell.execute_reply": "2023-06-23T13:55:38.317454Z"
    },
    "papermill": {
     "duration": 2.047181,
     "end_time": "2023-06-23T13:55:38.320652",
     "exception": false,
     "start_time": "2023-06-23T13:55:36.273471",
     "status": "completed"
    },
    "tags": []
   },
   "outputs": [
    {
     "data": {
      "text/plain": [
       "(74490,)"
      ]
     },
     "execution_count": 36,
     "metadata": {},
     "output_type": "execute_result"
    }
   ],
   "source": [
    "#validate the shape of the predictions\n",
    "predictions.shape"
   ]
  },
  {
   "cell_type": "code",
   "execution_count": 37,
   "id": "7c7051ac",
   "metadata": {
    "execution": {
     "iopub.execute_input": "2023-06-23T13:55:42.237604Z",
     "iopub.status.busy": "2023-06-23T13:55:42.237212Z",
     "iopub.status.idle": "2023-06-23T13:55:42.242304Z",
     "shell.execute_reply": "2023-06-23T13:55:42.241367Z"
    },
    "papermill": {
     "duration": 1.972262,
     "end_time": "2023-06-23T13:55:42.244350",
     "exception": false,
     "start_time": "2023-06-23T13:55:40.272088",
     "status": "completed"
    },
    "tags": []
   },
   "outputs": [],
   "source": [
    "#convert numpy array to dataframe\n",
    "df_predictions = pd.DataFrame(predictions, columns = ['alphabet'])"
   ]
  },
  {
   "cell_type": "code",
   "execution_count": 38,
   "id": "6a5d600d",
   "metadata": {
    "execution": {
     "iopub.execute_input": "2023-06-23T13:55:46.170181Z",
     "iopub.status.busy": "2023-06-23T13:55:46.169836Z",
     "iopub.status.idle": "2023-06-23T13:55:46.198222Z",
     "shell.execute_reply": "2023-06-23T13:55:46.197357Z"
    },
    "papermill": {
     "duration": 1.998167,
     "end_time": "2023-06-23T13:55:46.200323",
     "exception": false,
     "start_time": "2023-06-23T13:55:44.202156",
     "status": "completed"
    },
    "tags": []
   },
   "outputs": [],
   "source": [
    "#replace numbers with alphabet\n",
    "alphabet_y_test = df_predictions.replace([0,1,2,3,4,5,6,7,8,9,10,11,12,13,14,15,16,17,18,19,20,21,22,23,24,25], ['A', 'B', 'C', 'D', 'E', 'F', 'G', 'H', 'I', 'J', 'K', 'L', 'M',\n",
    "'N', 'O', 'P', 'Q', 'R', 'S', 'T', 'U', 'V', 'W', 'X', 'Y', 'Z'])"
   ]
  },
  {
   "cell_type": "code",
   "execution_count": 39,
   "id": "9b01092b",
   "metadata": {
    "execution": {
     "iopub.execute_input": "2023-06-23T13:55:50.119593Z",
     "iopub.status.busy": "2023-06-23T13:55:50.119184Z",
     "iopub.status.idle": "2023-06-23T13:55:50.130099Z",
     "shell.execute_reply": "2023-06-23T13:55:50.129085Z"
    },
    "papermill": {
     "duration": 1.888829,
     "end_time": "2023-06-23T13:55:50.132498",
     "exception": false,
     "start_time": "2023-06-23T13:55:48.243669",
     "status": "completed"
    },
    "tags": []
   },
   "outputs": [
    {
     "data": {
      "text/html": [
       "<div>\n",
       "<style scoped>\n",
       "    .dataframe tbody tr th:only-of-type {\n",
       "        vertical-align: middle;\n",
       "    }\n",
       "\n",
       "    .dataframe tbody tr th {\n",
       "        vertical-align: top;\n",
       "    }\n",
       "\n",
       "    .dataframe thead th {\n",
       "        text-align: right;\n",
       "    }\n",
       "</style>\n",
       "<table border=\"1\" class=\"dataframe\">\n",
       "  <thead>\n",
       "    <tr style=\"text-align: right;\">\n",
       "      <th></th>\n",
       "      <th>alphabet</th>\n",
       "    </tr>\n",
       "  </thead>\n",
       "  <tbody>\n",
       "    <tr>\n",
       "      <th>0</th>\n",
       "      <td>M</td>\n",
       "    </tr>\n",
       "    <tr>\n",
       "      <th>1</th>\n",
       "      <td>S</td>\n",
       "    </tr>\n",
       "    <tr>\n",
       "      <th>2</th>\n",
       "      <td>C</td>\n",
       "    </tr>\n",
       "    <tr>\n",
       "      <th>3</th>\n",
       "      <td>O</td>\n",
       "    </tr>\n",
       "    <tr>\n",
       "      <th>4</th>\n",
       "      <td>A</td>\n",
       "    </tr>\n",
       "    <tr>\n",
       "      <th>...</th>\n",
       "      <td>...</td>\n",
       "    </tr>\n",
       "    <tr>\n",
       "      <th>74485</th>\n",
       "      <td>N</td>\n",
       "    </tr>\n",
       "    <tr>\n",
       "      <th>74486</th>\n",
       "      <td>O</td>\n",
       "    </tr>\n",
       "    <tr>\n",
       "      <th>74487</th>\n",
       "      <td>J</td>\n",
       "    </tr>\n",
       "    <tr>\n",
       "      <th>74488</th>\n",
       "      <td>M</td>\n",
       "    </tr>\n",
       "    <tr>\n",
       "      <th>74489</th>\n",
       "      <td>S</td>\n",
       "    </tr>\n",
       "  </tbody>\n",
       "</table>\n",
       "<p>74490 rows × 1 columns</p>\n",
       "</div>"
      ],
      "text/plain": [
       "      alphabet\n",
       "0            M\n",
       "1            S\n",
       "2            C\n",
       "3            O\n",
       "4            A\n",
       "...        ...\n",
       "74485        N\n",
       "74486        O\n",
       "74487        J\n",
       "74488        M\n",
       "74489        S\n",
       "\n",
       "[74490 rows x 1 columns]"
      ]
     },
     "execution_count": 39,
     "metadata": {},
     "output_type": "execute_result"
    }
   ],
   "source": [
    "#view the predictions\n",
    "alphabet_y_test"
   ]
  },
  {
   "cell_type": "markdown",
   "id": "8573046b",
   "metadata": {
    "papermill": {
     "duration": 1.974306,
     "end_time": "2023-06-23T13:55:54.112113",
     "exception": false,
     "start_time": "2023-06-23T13:55:52.137807",
     "status": "completed"
    },
    "tags": []
   },
   "source": [
    "### Saving the output prediction file"
   ]
  },
  {
   "cell_type": "code",
   "execution_count": 40,
   "id": "b45a1e9c",
   "metadata": {
    "execution": {
     "iopub.execute_input": "2023-06-23T13:55:58.068030Z",
     "iopub.status.busy": "2023-06-23T13:55:58.067337Z",
     "iopub.status.idle": "2023-06-23T13:55:58.237958Z",
     "shell.execute_reply": "2023-06-23T13:55:58.236995Z"
    },
    "papermill": {
     "duration": 2.17633,
     "end_time": "2023-06-23T13:55:58.240339",
     "exception": false,
     "start_time": "2023-06-23T13:55:56.064009",
     "status": "completed"
    },
    "tags": []
   },
   "outputs": [],
   "source": [
    "#save to CSV Result\n",
    "alphabet_y_test.to_csv('TestDataset_Prediction.csv')"
   ]
  }
 ],
 "metadata": {
  "kernelspec": {
   "display_name": "Python 3",
   "language": "python",
   "name": "python3"
  },
  "language_info": {
   "codemirror_mode": {
    "name": "ipython",
    "version": 3
   },
   "file_extension": ".py",
   "mimetype": "text/x-python",
   "name": "python",
   "nbconvert_exporter": "python",
   "pygments_lexer": "ipython3",
   "version": "3.10.10"
  },
  "papermill": {
   "default_parameters": {},
   "duration": 1644.282655,
   "end_time": "2023-06-23T13:56:04.113786",
   "environment_variables": {},
   "exception": null,
   "input_path": "__notebook__.ipynb",
   "output_path": "__notebook__.ipynb",
   "parameters": {},
   "start_time": "2023-06-23T13:28:39.831131",
   "version": "2.4.0"
  }
 },
 "nbformat": 4,
 "nbformat_minor": 5
}
